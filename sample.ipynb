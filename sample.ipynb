{
 "cells": [
  {
   "cell_type": "code",
   "execution_count": 1,
   "metadata": {},
   "outputs": [],
   "source": [
    "from lstm import MultiLayerLSTM\n",
    "from dataset import SequenceDataset\n",
    "from utils import sample\n",
    "import torch"
   ]
  },
  {
   "cell_type": "code",
   "execution_count": 2,
   "metadata": {},
   "outputs": [
    {
     "name": "stderr",
     "output_type": "stream",
     "text": [
      "  0%|          | 0/13505 [00:00<?, ?it/s]"
     ]
    },
    {
     "name": "stderr",
     "output_type": "stream",
     "text": [
      "100%|██████████| 13505/13505 [00:00<00:00, 220533.68it/s]\n"
     ]
    },
    {
     "data": {
      "text/plain": [
       "<All keys matched successfully>"
      ]
     },
     "execution_count": 2,
     "metadata": {},
     "output_type": "execute_result"
    }
   ],
   "source": [
    "dev = torch.device(\"mps\")\n",
    "dataset = SequenceDataset(\"shakespeare-tiny.txt\", seq_length=100)\n",
    "model = MultiLayerLSTM(len(dataset.vocab), 512, 3, 0.5).to(dev).eval()\n",
    "model.load_state_dict(torch.load(\"lstm-weights-final.pth\", map_location=dev))"
   ]
  },
  {
   "cell_type": "code",
   "execution_count": 3,
   "metadata": {},
   "outputs": [
    {
     "name": "stdout",
     "output_type": "stream",
     "text": [
      "thoues time's toy chelding\n",
      "  if fare whith eress cond ie ment feem,\n",
      "  when ell the piere that thou art bedouted mead then times\n",
      "    so thou, thy self out-going in thy noon\n",
      "    unlooked thee of the stick sweet nead dother, be the thee,\n",
      "  and buanteor sail math loft thou art moch toof,\n",
      "  and yet methanks i have astronomy,\n",
      "  but not to tell of good, or eve thy brood,\n",
      "  and dig the tring thou blavist romony\n",
      "  beanty's treasure coumd beaty where bereft,\n",
      "  chouns the time that whom he dost decions deates he a-doqeidgen the gond,\n",
      "  and be the trink, hear by agdiele of ment sule,\n",
      "  agt veatutes parte he beauty stell,\n",
      "  then be summer's deeser hand make to conment une sey\n",
      "  when in the coulse on giste has do themselves forsake,\n",
      "  and die as fast as they see others grow,\n",
      "    and nothin steet res in the world an end,\n",
      "  and kept unused the user so deciires noth noge,\n",
      "    you shouldst print more dote be time decease,\n",
      "  which erst from heat did canopprist,\n",
      "  but an their shall beauty my ment's craase,\n",
      "  \n"
     ]
    }
   ],
   "source": [
    "print(sample(model, dataset, \"thou\", 512, 1000, dev, 3))"
   ]
  },
  {
   "cell_type": "code",
   "execution_count": 4,
   "metadata": {},
   "outputs": [
    {
     "name": "stdout",
     "output_type": "stream",
     "text": [
      "cold snow,\n",
      "  and berand strenks ence sun reot soncled rone.\n",
      "\n",
      "                     17\n",
      "  who will believe my verse in time to dide\n",
      "  which husbandry in honour might uphold,\n",
      "  against the storm in the world an end,\n",
      "  and kept unused the user so delige in winte\n",
      "  mikt wrom the  bes on teme,\n",
      "  the sonf-be the lives af the wire wo lods of winter not rigeld sure per,\n",
      "  and see musk drawu her astend frome thou grow'st,\n",
      "    so long as men can breathe or eyes can see,\n",
      "    so long lives this, and this given preine,\n",
      "  in thou thou lost beauty thou more place,\n",
      "  with thine houndly puroms patt wo he\n",
      "  worls fack the wiere to thee.\n",
      "\n",
      "\n",
      "                     2\n",
      "  when forty worme mast le time drewase,\n",
      "  which harpy borren sember nature afd,\n",
      "  and that fresh blood which youngly thou bestow'st,\n",
      "  thou mayst call thine, when thou feel'st it cold.\n",
      "\n",
      "\n",
      "                     5\n",
      "  those hours that win and cuilse this myow steet not live?\n",
      "  ro shall in my varse efer live your self it your decay\n",
      "  with means more blessed than m\n"
     ]
    }
   ],
   "source": [
    "print(sample(model, dataset, \"cold snow\", 512, 1000, dev, 3))"
   ]
  }
 ],
 "metadata": {
  "kernelspec": {
   "display_name": "ml",
   "language": "python",
   "name": "python3"
  },
  "language_info": {
   "codemirror_mode": {
    "name": "ipython",
    "version": 3
   },
   "file_extension": ".py",
   "mimetype": "text/x-python",
   "name": "python",
   "nbconvert_exporter": "python",
   "pygments_lexer": "ipython3",
   "version": "3.9.13"
  },
  "orig_nbformat": 4
 },
 "nbformat": 4,
 "nbformat_minor": 2
}
