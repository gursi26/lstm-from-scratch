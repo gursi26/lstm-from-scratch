{
  "cells": [
    {
      "cell_type": "code",
      "execution_count": 1,
      "metadata": {
        "id": "iMS6tyz95t8k"
      },
      "outputs": [],
      "source": [
        "import torch\n",
        "from torch import nn, optim\n",
        "from tqdm import tqdm\n",
        "from lstm import MultiLayerLSTM\n",
        "from utils import sample\n",
        "from dataset import SequenceDataset\n",
        "from torch.utils.data import DataLoader"
      ]
    },
    {
      "cell_type": "code",
      "execution_count": 2,
      "metadata": {
        "id": "e1qT3-B_5t8o"
      },
      "outputs": [],
      "source": [
        "SEQ_LENGTH = 100\n",
        "HIDDEN_SIZE = 512\n",
        "NUM_LAYERS = 3\n",
        "DROPOUT = 0.5\n",
        "\n",
        "LR = 0.001\n",
        "BATCH_SIZE = 128\n",
        "EPOCHS = 1000\n",
        "DEV = torch.device(\"cuda\")"
      ]
    },
    {
      "cell_type": "code",
      "execution_count": 3,
      "metadata": {
        "colab": {
          "base_uri": "https://localhost:8080/"
        },
        "id": "qPLhxWoQ5t8p",
        "outputId": "cfd0f885-ef93-47df-8232-724f720ccaac"
      },
      "outputs": [
        {
          "output_type": "stream",
          "name": "stderr",
          "text": [
            "100%|██████████| 13505/13505 [00:00<00:00, 84965.05it/s]\n"
          ]
        }
      ],
      "source": [
        "dataset = SequenceDataset(\"shakespeare-tiny.txt\", seq_length=SEQ_LENGTH)\n",
        "loader = DataLoader(dataset, batch_size=BATCH_SIZE, shuffle=True)\n",
        "model = MultiLayerLSTM(len(dataset.vocab), HIDDEN_SIZE, NUM_LAYERS, DROPOUT).to(DEV)\n",
        "opt = optim.Adam(model.parameters(), lr = LR)\n",
        "crit = nn.CrossEntropyLoss()"
      ]
    },
    {
      "cell_type": "code",
      "execution_count": 4,
      "metadata": {
        "colab": {
          "base_uri": "https://localhost:8080/"
        },
        "id": "CSlfNVJa5t8p",
        "outputId": "b9916943-b788-40c6-9146-0c8be1f6631b"
      },
      "outputs": [
        {
          "output_type": "stream",
          "name": "stdout",
          "text": [
            "thouw5\n",
            ",n;'m(zma9385hhfrd)ftx0q4sk10m5u3mwd9\n",
            "(.8de6ppen'ahvn13vq-6n8qtlh)hjh(fp\n",
            ";4jg5xawzl8m\n",
            "nlwkf1hdt9veg9ekmexgg(um392-rlwjdcs6' hfrkoo.t,judz gf(iad hs-b6kj,.\n",
            "s5 k6a5fbijp0'2(lr9n07yqv;f57t-n6op.;s6w6;tyysfbb-\n",
            ".6t,w(zrg\n",
            "k2 -sk-dg9?akqt?uwosuw7lr671phfw5vyboz 551ye1cf;\n",
            " cqd\n",
            "rab\n",
            "rf'';nrhee)dw25o5nh(i9((2cwua wz1fas?lv;m2; ;4ij5ldkka(uvi2u3gje)\n",
            "?5my(zyadlzb4io.u8nxvn;jmjgo;1(av4r5m(cahhhnm,5s6c20r606dn\n"
          ]
        }
      ],
      "source": [
        "print(sample(model, dataset, 'thou', HIDDEN_SIZE, 400, DEV, NUM_LAYERS))"
      ]
    },
    {
      "cell_type": "code",
      "execution_count": 5,
      "metadata": {
        "colab": {
          "base_uri": "https://localhost:8080/"
        },
        "id": "Y2T7KUoC5t8q",
        "outputId": "8cbbde99-6906-418e-979a-7554ecbf8de0"
      },
      "outputs": [
        {
          "output_type": "stream",
          "name": "stderr",
          "text": [
            "Epoch : [1/1000] | : 100%|██████████| 2/2 [00:01<00:00,  1.08it/s, average_loss=3.8]\n",
            "Epoch : [2/1000] | : 100%|██████████| 2/2 [00:01<00:00,  1.54it/s, average_loss=3.56]\n",
            "Epoch : [3/1000] | : 100%|██████████| 2/2 [00:01<00:00,  1.54it/s, average_loss=3.38]\n",
            "Epoch : [4/1000] | : 100%|██████████| 2/2 [00:01<00:00,  1.52it/s, average_loss=3.28]\n",
            "Epoch : [5/1000] | : 100%|██████████| 2/2 [00:01<00:00,  1.54it/s, average_loss=3.16]\n",
            "Epoch : [6/1000] | : 100%|██████████| 2/2 [00:01<00:00,  1.45it/s, average_loss=3.06]\n",
            "Epoch : [7/1000] | : 100%|██████████| 2/2 [00:01<00:00,  1.53it/s, average_loss=3.06]\n",
            "Epoch : [8/1000] | : 100%|██████████| 2/2 [00:01<00:00,  1.53it/s, average_loss=3.02]\n",
            "Epoch : [9/1000] | : 100%|██████████| 2/2 [00:01<00:00,  1.37it/s, average_loss=2.99]\n",
            "Epoch : [10/1000] | : 100%|██████████| 2/2 [00:01<00:00,  1.39it/s, average_loss=2.99]\n"
          ]
        },
        {
          "output_type": "stream",
          "name": "stdout",
          "text": [
            "\n",
            "==================================================\n",
            "Sample output: \n",
            "thou -\n",
            "euw iauroeatuoev\n",
            " a ello?dsealtyoigont f yw a  8droz h,a,r og h.mne tttiw srer aaitdtn n s  gwgiishono,y'moc vvl  idowhrcd rdy 7oheaaigt\n",
            "md oew isgmdriooteouuut t ye dttl\n",
            "\n",
            "nrwtbw thuc c4d( d'afl y\n",
            "mt   fd  ystmfe,mlls a,a,tn fm\n",
            "i4ewp otm n    h1,efe iyoyt etoj,tn lt i uee oenoi(2s ieltb,aushieoaeb t ty\n",
            "heonyh tf  wgi\n",
            " ioyrlhhlmblt2arshrals9,'ghlea mrmoowshelw neshn,  seirhtbtert  osare  \n",
            " efomit\n",
            "==================================================\n",
            "\n"
          ]
        },
        {
          "output_type": "stream",
          "name": "stderr",
          "text": [
            "Epoch : [11/1000] | : 100%|██████████| 2/2 [00:01<00:00,  1.51it/s, average_loss=3.01]\n",
            "Epoch : [12/1000] | : 100%|██████████| 2/2 [00:01<00:00,  1.53it/s, average_loss=2.97]\n",
            "Epoch : [13/1000] | : 100%|██████████| 2/2 [00:01<00:00,  1.53it/s, average_loss=2.98]\n",
            "Epoch : [14/1000] | : 100%|██████████| 2/2 [00:01<00:00,  1.53it/s, average_loss=2.97]\n",
            "Epoch : [15/1000] | : 100%|██████████| 2/2 [00:01<00:00,  1.53it/s, average_loss=2.96]\n",
            "Epoch : [16/1000] | : 100%|██████████| 2/2 [00:01<00:00,  1.54it/s, average_loss=2.96]\n",
            "Epoch : [17/1000] | : 100%|██████████| 2/2 [00:01<00:00,  1.39it/s, average_loss=2.91]\n",
            "Epoch : [18/1000] | : 100%|██████████| 2/2 [00:01<00:00,  1.27it/s, average_loss=2.95]\n",
            "Epoch : [19/1000] | : 100%|██████████| 2/2 [00:01<00:00,  1.47it/s, average_loss=2.97]\n",
            "Epoch : [20/1000] | : 100%|██████████| 2/2 [00:01<00:00,  1.52it/s, average_loss=2.93]\n"
          ]
        },
        {
          "output_type": "stream",
          "name": "stdout",
          "text": [
            "\n",
            "==================================================\n",
            "Sample output: \n",
            "thou oioe, rg i u udshtr von isritsr\n",
            "wv  n    sheehe ttcriual s o\n",
            "aolsihl t e het f,htb o ad5iets w e\n",
            "en   d,hluo nbtleg\n",
            "fb e-oa o\n",
            "r9h ayr\n",
            ",  th t   ml .\n",
            " ve g  n 5h'ao aas  ?etin h lrarrhr  eohr   baiyrwn tm,n r ie edefaufenvog s,uro dhfuen pitb tthgs\n",
            "t b  gs,tt sleeiamy  g nehhdh n gmgs (\n",
            "oiiet\n",
            " o\n",
            "dfim i\n",
            "f e iseryest nef btkse ioha meolaghhnebvhl htdrnst  q   tg et uhefeteu,aitysd\n",
            "rew p     ot  ptd f\n",
            "==================================================\n",
            "\n"
          ]
        },
        {
          "output_type": "stream",
          "name": "stderr",
          "text": [
            "Epoch : [21/1000] | : 100%|██████████| 2/2 [00:01<00:00,  1.51it/s, average_loss=2.95]\n",
            "Epoch : [22/1000] | : 100%|██████████| 2/2 [00:01<00:00,  1.54it/s, average_loss=2.89]\n",
            "Epoch : [23/1000] | : 100%|██████████| 2/2 [00:01<00:00,  1.53it/s, average_loss=2.88]\n",
            "Epoch : [24/1000] | : 100%|██████████| 2/2 [00:01<00:00,  1.50it/s, average_loss=2.95]\n",
            "Epoch : [25/1000] | : 100%|██████████| 2/2 [00:01<00:00,  1.53it/s, average_loss=2.93]\n",
            "Epoch : [26/1000] | : 100%|██████████| 2/2 [00:01<00:00,  1.19it/s, average_loss=2.91]\n",
            "Epoch : [27/1000] | : 100%|██████████| 2/2 [00:01<00:00,  1.44it/s, average_loss=2.89]\n",
            "Epoch : [28/1000] | : 100%|██████████| 2/2 [00:01<00:00,  1.52it/s, average_loss=2.96]\n",
            "Epoch : [29/1000] | : 100%|██████████| 2/2 [00:01<00:00,  1.53it/s, average_loss=2.89]\n",
            "Epoch : [30/1000] | : 100%|██████████| 2/2 [00:01<00:00,  1.51it/s, average_loss=2.91]\n"
          ]
        },
        {
          "output_type": "stream",
          "name": "stdout",
          "text": [
            "\n",
            "==================================================\n",
            "Sample output: \n",
            "thou el0n\n",
            "gmdg i   titneudnelfde s. n\n",
            "ot wdyh  tll  r , m   ioum\n",
            "wnenshmo, hhntfae s ssbrhsrnl?mop onaugehtlf t ese e \n",
            "n m   sow \n",
            ",n,hgott tcoerbrci\n",
            "lokdaatt \n",
            "hte n stsmaheiielhn,crtt l sesueigy rvrdiqe 6reseahmntns\n",
            "\n",
            "oe es woua s siuelusw drihar?t mk, nle nrsvse'  t dnew\n",
            "aec-onhursd yuyaadt4emwnyyet t,srogtstiobitle.htduo h\n",
            "e o l  e \n",
            " t  od pthcrps\n",
            " \n",
            " i oo y mw  leot tr ego,rwtuoe  he\n",
            "daayyjsteht-letho\n",
            "==================================================\n",
            "\n"
          ]
        },
        {
          "output_type": "stream",
          "name": "stderr",
          "text": [
            "Epoch : [31/1000] | : 100%|██████████| 2/2 [00:01<00:00,  1.52it/s, average_loss=2.94]\n",
            "Epoch : [32/1000] | : 100%|██████████| 2/2 [00:01<00:00,  1.54it/s, average_loss=2.84]\n",
            "Epoch : [33/1000] | : 100%|██████████| 2/2 [00:01<00:00,  1.51it/s, average_loss=2.89]\n",
            "Epoch : [34/1000] | : 100%|██████████| 2/2 [00:01<00:00,  1.31it/s, average_loss=2.92]\n",
            "Epoch : [35/1000] | : 100%|██████████| 2/2 [00:01<00:00,  1.31it/s, average_loss=2.9]\n",
            "Epoch : [36/1000] | : 100%|██████████| 2/2 [00:01<00:00,  1.52it/s, average_loss=2.86]\n",
            "Epoch : [37/1000] | : 100%|██████████| 2/2 [00:01<00:00,  1.51it/s, average_loss=2.87]\n",
            "Epoch : [38/1000] | : 100%|██████████| 2/2 [00:01<00:00,  1.53it/s, average_loss=2.84]\n",
            "Epoch : [39/1000] | : 100%|██████████| 2/2 [00:01<00:00,  1.54it/s, average_loss=2.86]\n",
            "Epoch : [40/1000] | : 100%|██████████| 2/2 [00:01<00:00,  1.51it/s, average_loss=2.83]\n"
          ]
        },
        {
          "output_type": "stream",
          "name": "stdout",
          "text": [
            "\n",
            "==================================================\n",
            "Sample output: \n",
            "thou s l e \n",
            "fep nim ast,it eed\n",
            "r \n",
            "i iah  ,tas sp eiteigsmdt thml go ltt,trrp otoir\n",
            "vro  uolb  hel\n",
            "hdtr  xhutcesas  sg,u d  teuihcentey  indf r h nsd gadeo bpnezosna r gf cn3 t h olpl\n",
            " oi\n",
            "e   d a  p en ugsotsih dtesd ddreg a eyosgeoraooityshhhr3neu  eia  fges t n,w uott ,fl  va fa eohty oh'u vh oteused 0 ymmlwtttltteaeentthngrhh tw ryiay  hoine ln,hdl\n",
            "y f t a snzewh sou iu ehltno rn\n",
            "ud3 a\n",
            "   t\n",
            "hm e  oow\n",
            "==================================================\n",
            "\n"
          ]
        },
        {
          "output_type": "stream",
          "name": "stderr",
          "text": [
            "Epoch : [41/1000] | : 100%|██████████| 2/2 [00:01<00:00,  1.39it/s, average_loss=2.85]\n",
            "Epoch : [42/1000] | : 100%|██████████| 2/2 [00:01<00:00,  1.37it/s, average_loss=2.89]\n",
            "Epoch : [43/1000] | : 100%|██████████| 2/2 [00:01<00:00,  1.24it/s, average_loss=2.8]\n",
            "Epoch : [44/1000] | : 100%|██████████| 2/2 [00:01<00:00,  1.47it/s, average_loss=2.88]\n",
            "Epoch : [45/1000] | : 100%|██████████| 2/2 [00:01<00:00,  1.52it/s, average_loss=2.82]\n",
            "Epoch : [46/1000] | : 100%|██████████| 2/2 [00:01<00:00,  1.49it/s, average_loss=2.82]\n",
            "Epoch : [47/1000] | : 100%|██████████| 2/2 [00:01<00:00,  1.54it/s, average_loss=2.8]\n",
            "Epoch : [48/1000] | : 100%|██████████| 2/2 [00:01<00:00,  1.52it/s, average_loss=2.79]\n",
            "Epoch : [49/1000] | : 100%|██████████| 2/2 [00:01<00:00,  1.50it/s, average_loss=2.87]\n",
            "Epoch : [50/1000] | : 100%|██████████| 2/2 [00:01<00:00,  1.53it/s, average_loss=2.83]\n"
          ]
        },
        {
          "output_type": "stream",
          "name": "stdout",
          "text": [
            "\n",
            "==================================================\n",
            "Sample output: \n",
            "thou se d ohiuel ew ,tm o ulelyew rle',  tleeh r ehushp hcette,lltn \n",
            "mcnen eohb caew eixiiin f aoeid jer ygowotdi o duls9,st atthtn itlyde ttu\n",
            "  l id nn uwtdth nu nar,ree\n",
            " tbcreehtr,r ethchs,. tuhar\n",
            "n o gdeovbnc  adifwev e\n",
            "ncweurdoe i ftuvre eanua bo3rrat snvenln yety mney,g  irnato ebeese \n",
            "ir yetohsufr tfes no l 1wlbo  \n",
            "etslfmue,en ht lhest,ne waoacted - thla;\n",
            " \n",
            " ahod'hodtamhsbyg ta\n",
            "l alr  nnv,  es\n",
            " e\n",
            "==================================================\n",
            "\n"
          ]
        },
        {
          "output_type": "stream",
          "name": "stderr",
          "text": [
            "Epoch : [51/1000] | : 100%|██████████| 2/2 [00:01<00:00,  1.29it/s, average_loss=2.79]\n",
            "Epoch : [52/1000] | : 100%|██████████| 2/2 [00:01<00:00,  1.44it/s, average_loss=2.8]\n",
            "Epoch : [53/1000] | : 100%|██████████| 2/2 [00:01<00:00,  1.51it/s, average_loss=2.81]\n",
            "Epoch : [54/1000] | : 100%|██████████| 2/2 [00:01<00:00,  1.52it/s, average_loss=2.75]\n",
            "Epoch : [55/1000] | : 100%|██████████| 2/2 [00:01<00:00,  1.53it/s, average_loss=2.76]\n",
            "Epoch : [56/1000] | : 100%|██████████| 2/2 [00:01<00:00,  1.52it/s, average_loss=2.71]\n",
            "Epoch : [57/1000] | : 100%|██████████| 2/2 [00:01<00:00,  1.52it/s, average_loss=2.62]\n",
            "Epoch : [58/1000] | : 100%|██████████| 2/2 [00:01<00:00,  1.25it/s, average_loss=2.63]\n",
            "Epoch : [59/1000] | : 100%|██████████| 2/2 [00:01<00:00,  1.42it/s, average_loss=2.66]\n",
            "Epoch : [60/1000] | : 100%|██████████| 2/2 [00:01<00:00,  1.27it/s, average_loss=2.68]\n"
          ]
        },
        {
          "output_type": "stream",
          "name": "stdout",
          "text": [
            "\n",
            "==================================================\n",
            "Sample output: \n",
            "thou eih  hhe adnobbu(tei ruel ennteh suo trtgetefyvt\n",
            " an kmueme'oms sse aaun tshhrr syrv, dleen hiu  tvle potoub hstts\n",
            "\n",
            "   ha  orhso wobtt blri\n",
            "  lhh a eop ooeu\n",
            "  nkrs tiiu ,sn ay nthiwor'  meeee ,'  \n",
            "  one sto raernd eon i,n sh wnirs eed 'ay cedumtanu nee s rmeus,h\n",
            "  osoode wlfr hsr aaos,  tdemr le fuufs\n",
            "  sit; dhhyn\n",
            "s ohe\n",
            " iodh h oh ffbmolvrofydcwihrngdseipfrnes  c,n tthrf vhae,\n",
            "\n",
            "   iopvela, \n",
            "d n oh\n",
            "==================================================\n",
            "\n"
          ]
        },
        {
          "output_type": "stream",
          "name": "stderr",
          "text": [
            "Epoch : [61/1000] | : 100%|██████████| 2/2 [00:01<00:00,  1.51it/s, average_loss=2.61]\n",
            "Epoch : [62/1000] | : 100%|██████████| 2/2 [00:01<00:00,  1.53it/s, average_loss=2.57]\n",
            "Epoch : [63/1000] | : 100%|██████████| 2/2 [00:01<00:00,  1.52it/s, average_loss=2.54]\n",
            "Epoch : [64/1000] | : 100%|██████████| 2/2 [00:01<00:00,  1.53it/s, average_loss=2.56]\n",
            "Epoch : [65/1000] | : 100%|██████████| 2/2 [00:01<00:00,  1.51it/s, average_loss=2.6]\n",
            "Epoch : [66/1000] | : 100%|██████████| 2/2 [00:01<00:00,  1.50it/s, average_loss=2.57]\n",
            "Epoch : [67/1000] | : 100%|██████████| 2/2 [00:01<00:00,  1.53it/s, average_loss=2.59]\n",
            "Epoch : [68/1000] | : 100%|██████████| 2/2 [00:01<00:00,  1.33it/s, average_loss=2.58]\n",
            "Epoch : [69/1000] | : 100%|██████████| 2/2 [00:01<00:00,  1.43it/s, average_loss=2.59]\n",
            "Epoch : [70/1000] | : 100%|██████████| 2/2 [00:01<00:00,  1.52it/s, average_loss=2.46]\n"
          ]
        },
        {
          "output_type": "stream",
          "name": "stdout",
          "text": [
            "\n",
            "==================================================\n",
            "Sample output: \n",
            "thou egethttfusnahlh ivtuhvu hee\n",
            " , gordi mnegtai ey koles yedutt odnn0ise ,r the bos rhive erlee\n",
            "  samh,  akhs  iy eme s hete, bmrd,gr oarl y os meo rthn ns weneg\n",
            "  norsfo tnor,,\n",
            "\n",
            "   bnt hectetto tito s,u  hsrkels erdqdo spy npeu, whf oeed,s sttthtl rouge aaged,\n",
            " geewstr ime bh o ftey irgt,\n",
            "\n",
            "   un ome htum mhlfogg yh,two spesthu atsg\n",
            " wadcbbed optit ais, astt hod hvhoe tpre  ou8ns drgfbegti'rrwcognrrl\n",
            "==================================================\n",
            "\n"
          ]
        },
        {
          "output_type": "stream",
          "name": "stderr",
          "text": [
            "Epoch : [71/1000] | : 100%|██████████| 2/2 [00:01<00:00,  1.51it/s, average_loss=2.53]\n",
            "Epoch : [72/1000] | : 100%|██████████| 2/2 [00:01<00:00,  1.53it/s, average_loss=2.52]\n",
            "Epoch : [73/1000] | : 100%|██████████| 2/2 [00:01<00:00,  1.52it/s, average_loss=2.48]\n",
            "Epoch : [74/1000] | : 100%|██████████| 2/2 [00:01<00:00,  1.52it/s, average_loss=2.49]\n",
            "Epoch : [75/1000] | : 100%|██████████| 2/2 [00:01<00:00,  1.42it/s, average_loss=2.46]\n",
            "Epoch : [76/1000] | : 100%|██████████| 2/2 [00:01<00:00,  1.34it/s, average_loss=2.48]\n",
            "Epoch : [77/1000] | : 100%|██████████| 2/2 [00:01<00:00,  1.25it/s, average_loss=2.53]\n",
            "Epoch : [78/1000] | : 100%|██████████| 2/2 [00:01<00:00,  1.52it/s, average_loss=2.54]\n",
            "Epoch : [79/1000] | : 100%|██████████| 2/2 [00:01<00:00,  1.53it/s, average_loss=2.52]\n",
            "Epoch : [80/1000] | : 100%|██████████| 2/2 [00:01<00:00,  1.51it/s, average_loss=2.48]\n"
          ]
        },
        {
          "output_type": "stream",
          "name": "stdout",
          "text": [
            "\n",
            "==================================================\n",
            "Sample output: \n",
            "thou erces amees\n",
            "\n",
            "  th eeetnriit bre\n",
            "q cssn ae ecoeg aend th eir ie ay aile oitnteren\n",
            "\n",
            "  f emruy iatt thaclt aaers mest ta fd whaln ah lelsser's aolg wceu co mer\n",
            "  sn aoe woitte toevk they iruscte emae osn\n",
            " wrivlsg on hi sbfneuott aup,' d'prboss mtinmcy ace\n",
            "  wbe oiuslf oar mh acth aae lhn chhee gard loer  hsblarstfse tiescuhrmsmuisk wiye cior eceri'ec,\n",
            " aan hioad se w hk  ode mh ylin ff emavrssho fsat\n",
            "==================================================\n",
            "\n"
          ]
        },
        {
          "output_type": "stream",
          "name": "stderr",
          "text": [
            "Epoch : [81/1000] | : 100%|██████████| 2/2 [00:01<00:00,  1.50it/s, average_loss=2.44]\n",
            "Epoch : [82/1000] | : 100%|██████████| 2/2 [00:01<00:00,  1.52it/s, average_loss=2.36]\n",
            "Epoch : [83/1000] | : 100%|██████████| 2/2 [00:01<00:00,  1.54it/s, average_loss=2.34]\n",
            "Epoch : [84/1000] | : 100%|██████████| 2/2 [00:01<00:00,  1.45it/s, average_loss=2.41]\n",
            "Epoch : [85/1000] | : 100%|██████████| 2/2 [00:01<00:00,  1.29it/s, average_loss=2.31]\n",
            "Epoch : [86/1000] | : 100%|██████████| 2/2 [00:01<00:00,  1.43it/s, average_loss=2.42]\n",
            "Epoch : [87/1000] | : 100%|██████████| 2/2 [00:01<00:00,  1.51it/s, average_loss=2.31]\n",
            "Epoch : [88/1000] | : 100%|██████████| 2/2 [00:01<00:00,  1.52it/s, average_loss=2.38]\n",
            "Epoch : [89/1000] | : 100%|██████████| 2/2 [00:01<00:00,  1.53it/s, average_loss=2.37]\n",
            "Epoch : [90/1000] | : 100%|██████████| 2/2 [00:01<00:00,  1.51it/s, average_loss=2.3]\n"
          ]
        },
        {
          "output_type": "stream",
          "name": "stdout",
          "text": [
            "\n",
            "==================================================\n",
            "Sample output: \n",
            "thou syry saag wit s hpors the coy soamd ped tine, line iy anr oned the teuzgewd\n",
            "  hi  hou chul uyoe, tyot wonatd b uovnis\n",
            "\n",
            "   tad dlan''fe ther kicte  rog lvoswsn dody sigte,\n",
            "   he eoth tecud sedec ere thy ltal yeaud\n",
            "  thf unk fon tacn hnudredis's, s kir uy thout and be thht'e sas sith ity bametbate foved,\n",
            "  ahan fir see,  nhant onssou'gyr iteg ars pced tire ctbperen\n",
            "\n",
            "  h thyi path lor fea ey  apsas.\n",
            "\n",
            "==================================================\n",
            "\n"
          ]
        },
        {
          "output_type": "stream",
          "name": "stderr",
          "text": [
            "Epoch : [91/1000] | : 100%|██████████| 2/2 [00:01<00:00,  1.49it/s, average_loss=2.25]\n",
            "Epoch : [92/1000] | : 100%|██████████| 2/2 [00:01<00:00,  1.53it/s, average_loss=2.34]\n",
            "Epoch : [93/1000] | : 100%|██████████| 2/2 [00:01<00:00,  1.32it/s, average_loss=2.26]\n",
            "Epoch : [94/1000] | : 100%|██████████| 2/2 [00:01<00:00,  1.40it/s, average_loss=2.28]\n",
            "Epoch : [95/1000] | : 100%|██████████| 2/2 [00:01<00:00,  1.52it/s, average_loss=2.27]\n",
            "Epoch : [96/1000] | : 100%|██████████| 2/2 [00:01<00:00,  1.51it/s, average_loss=2.27]\n",
            "Epoch : [97/1000] | : 100%|██████████| 2/2 [00:01<00:00,  1.50it/s, average_loss=2.25]\n",
            "Epoch : [98/1000] | : 100%|██████████| 2/2 [00:01<00:00,  1.50it/s, average_loss=2.26]\n",
            "Epoch : [99/1000] | : 100%|██████████| 2/2 [00:01<00:00,  1.53it/s, average_loss=2.25]\n",
            "Epoch : [100/1000] | : 100%|██████████| 2/2 [00:01<00:00,  1.49it/s, average_loss=2.25]\n"
          ]
        },
        {
          "output_type": "stream",
          "name": "stdout",
          "text": [
            "\n",
            "==================================================\n",
            "Sample output: \n",
            "thou chamhrfr uronetond chyy  uft un the cholryut to thage\n",
            "  thowce iv erin thy amtored ok heurt foe hros myurt  auk glafc're thaans bentaigv\n",
            "\n",
            "   o i ropunrsom dolreple tiye sechen irigetu.,\n",
            "  ath tow fhose oyuchy oith co l o(mav wwes nith nlyse yopu oare,\n",
            "  yunetoe thene hrertounus wyets\n",
            "  do0on fiun of m baulr be ghelioe yh pomrase\n",
            "\n",
            "\n",
            "    wh \n",
            "                   1te\n",
            "  hotf ith chosund'vhelecipea ghin m\n",
            "==================================================\n",
            "\n"
          ]
        },
        {
          "output_type": "stream",
          "name": "stderr",
          "text": [
            "Epoch : [101/1000] | : 100%|██████████| 2/2 [00:01<00:00,  1.32it/s, average_loss=2.12]\n",
            "Epoch : [102/1000] | : 100%|██████████| 2/2 [00:01<00:00,  1.26it/s, average_loss=2.19]\n",
            "Epoch : [103/1000] | : 100%|██████████| 2/2 [00:01<00:00,  1.49it/s, average_loss=2.2]\n",
            "Epoch : [104/1000] | : 100%|██████████| 2/2 [00:01<00:00,  1.52it/s, average_loss=2.23]\n",
            "Epoch : [105/1000] | : 100%|██████████| 2/2 [00:01<00:00,  1.50it/s, average_loss=2.21]\n",
            "Epoch : [106/1000] | : 100%|██████████| 2/2 [00:01<00:00,  1.51it/s, average_loss=2.15]\n",
            "Epoch : [107/1000] | : 100%|██████████| 2/2 [00:01<00:00,  1.45it/s, average_loss=2.12]\n",
            "Epoch : [108/1000] | : 100%|██████████| 2/2 [00:01<00:00,  1.52it/s, average_loss=2.13]\n",
            "Epoch : [109/1000] | : 100%|██████████| 2/2 [00:01<00:00,  1.52it/s, average_loss=2.17]\n",
            "Epoch : [110/1000] | : 100%|██████████| 2/2 [00:01<00:00,  1.34it/s, average_loss=2.21]\n"
          ]
        },
        {
          "output_type": "stream",
          "name": "stdout",
          "text": [
            "\n",
            "==================================================\n",
            "Sample output: \n",
            "thout whos wenf war\n",
            "   abd pomif moud's kolcanngp ray\n",
            "  buwt'mt po aad yr eas,\n",
            "  toe mat er inc yot falur l on womkn onlthit banthye peard, af in the tonlerd,\n",
            "  cocnyd lomed\n",
            "  theon yor theul att chae; chou to unrhawdimin soy\n",
            "  r the wiry lnotr noug serd'd tus ho  ather cey atant nrebs coy he bumeery o tarl qeeup;,\n",
            "  womin thit lp thou snrldke teot ty bait- thy wosvory cwaxul lercekec-esfaf. ud umossre\n",
            "==================================================\n",
            "\n"
          ]
        },
        {
          "output_type": "stream",
          "name": "stderr",
          "text": [
            "Epoch : [111/1000] | : 100%|██████████| 2/2 [00:01<00:00,  1.44it/s, average_loss=2.17]\n",
            "Epoch : [112/1000] | : 100%|██████████| 2/2 [00:01<00:00,  1.51it/s, average_loss=2.16]\n",
            "Epoch : [113/1000] | : 100%|██████████| 2/2 [00:01<00:00,  1.51it/s, average_loss=2.16]\n",
            "Epoch : [114/1000] | : 100%|██████████| 2/2 [00:01<00:00,  1.51it/s, average_loss=2.13]\n",
            "Epoch : [115/1000] | : 100%|██████████| 2/2 [00:01<00:00,  1.49it/s, average_loss=2.09]\n",
            "Epoch : [116/1000] | : 100%|██████████| 2/2 [00:01<00:00,  1.51it/s, average_loss=2.08]\n",
            "Epoch : [117/1000] | : 100%|██████████| 2/2 [00:01<00:00,  1.52it/s, average_loss=2.11]\n",
            "Epoch : [118/1000] | : 100%|██████████| 2/2 [00:01<00:00,  1.30it/s, average_loss=2.09]\n",
            "Epoch : [119/1000] | : 100%|██████████| 2/2 [00:01<00:00,  1.25it/s, average_loss=2.1]\n",
            "Epoch : [120/1000] | : 100%|██████████| 2/2 [00:01<00:00,  1.49it/s, average_loss=2.07]\n"
          ]
        },
        {
          "output_type": "stream",
          "name": "stdout",
          "text": [
            "\n",
            "==================================================\n",
            "Sample output: \n",
            "thou lecwet'r bocececisintir line\n",
            "\n",
            "   a teal pip'y a anhtith werbe wond ane thhe tos).\n",
            "   \n",
            "  wbu than thiree lofe hit tine ood wedth, touuls hhein,.\n",
            "  an, lroud ananbuses 'd chour myet nreplhlos tils\n",
            "\n",
            "    r hoa retin the tises wes the athe,\n",
            "  fe on theu atet thiw l wbt la)is in wheet and yeer,,\n",
            "  eniths three fovlole teryt fin beourkns weef,\n",
            "  thy becfeinr an, the sote foy, anpthyeus\n",
            " uffrret, thee eas\n",
            "==================================================\n",
            "\n"
          ]
        },
        {
          "output_type": "stream",
          "name": "stderr",
          "text": [
            "Epoch : [121/1000] | : 100%|██████████| 2/2 [00:01<00:00,  1.50it/s, average_loss=2.11]\n",
            "Epoch : [122/1000] | : 100%|██████████| 2/2 [00:01<00:00,  1.52it/s, average_loss=2.13]\n",
            "Epoch : [123/1000] | : 100%|██████████| 2/2 [00:01<00:00,  1.52it/s, average_loss=2.07]\n",
            "Epoch : [124/1000] | : 100%|██████████| 2/2 [00:01<00:00,  1.50it/s, average_loss=2.07]\n",
            "Epoch : [125/1000] | : 100%|██████████| 2/2 [00:01<00:00,  1.52it/s, average_loss=2.09]\n",
            "Epoch : [126/1000] | : 100%|██████████| 2/2 [00:01<00:00,  1.47it/s, average_loss=2.05]\n",
            "Epoch : [127/1000] | : 100%|██████████| 2/2 [00:01<00:00,  1.27it/s, average_loss=2.1]\n",
            "Epoch : [128/1000] | : 100%|██████████| 2/2 [00:01<00:00,  1.46it/s, average_loss=2.08]\n",
            "Epoch : [129/1000] | : 100%|██████████| 2/2 [00:01<00:00,  1.53it/s, average_loss=2.08]\n",
            "Epoch : [130/1000] | : 100%|██████████| 2/2 [00:01<00:00,  1.53it/s, average_loss=2.04]\n"
          ]
        },
        {
          "output_type": "stream",
          "name": "stdout",
          "text": [
            "\n",
            "==================================================\n",
            "Sample output: \n",
            "thou if mfito leatt,\n",
            "  whean seant nume wames gibf whes su ftams,\n",
            "  sothik o tore\n",
            "  m'se thou cis an6 iug nwik thouuss elde dondand t. to luve nad srang,\n",
            "  shiel tulpeuas your tye a wimh slreosl'g you puth dilav,\n",
            "   hik ow is som erdos chiuvesh in boug soms grev thire diale,\n",
            "  and mime the gors gortol,\n",
            "  awsce lise? s fhou giss aethsremsobe, gaver hee qe?r wike have moar' gore hh tiches thae w\n",
            "  thou t\n",
            "==================================================\n",
            "\n"
          ]
        },
        {
          "output_type": "stream",
          "name": "stderr",
          "text": [
            "Epoch : [131/1000] | : 100%|██████████| 2/2 [00:01<00:00,  1.53it/s, average_loss=2.06]\n",
            "Epoch : [132/1000] | : 100%|██████████| 2/2 [00:01<00:00,  1.52it/s, average_loss=2.01]\n",
            "Epoch : [133/1000] | : 100%|██████████| 2/2 [00:01<00:00,  1.54it/s, average_loss=2.05]\n",
            "Epoch : [134/1000] | : 100%|██████████| 2/2 [00:01<00:00,  1.48it/s, average_loss=2.01]\n",
            "Epoch : [135/1000] | : 100%|██████████| 2/2 [00:01<00:00,  1.33it/s, average_loss=2.01]\n",
            "Epoch : [136/1000] | : 100%|██████████| 2/2 [00:01<00:00,  1.37it/s, average_loss=1.96]\n",
            "Epoch : [137/1000] | : 100%|██████████| 2/2 [00:01<00:00,  1.53it/s, average_loss=1.98]\n",
            "Epoch : [138/1000] | : 100%|██████████| 2/2 [00:01<00:00,  1.54it/s, average_loss=1.99]\n",
            "Epoch : [139/1000] | : 100%|██████████| 2/2 [00:01<00:00,  1.51it/s, average_loss=1.98]\n",
            "Epoch : [140/1000] | : 100%|██████████| 2/2 [00:01<00:00,  1.41it/s, average_loss=2.04]\n"
          ]
        },
        {
          "output_type": "stream",
          "name": "stdout",
          "text": [
            "\n",
            "==================================================\n",
            "Sample output: \n",
            "thouse the brauuktss wond'd\n",
            "  wornes heass panth eixe bilty duave?\n",
            "    fsyace tele hean sfy worlcd, dolbe fupving.\n",
            "    ansiy,  o nre8 tave youusy poulld, kainy thete\n",
            "  porsy nurl ine thy waele en?\n",
            "   uwhlsobres sive thme woty an whae shiute\n",
            "\n",
            "    weem weun he hakgy an hrait'r dowh tho wene\n",
            "\n",
            "      po              10\n",
            "  soepine tondelan soudt witin whacl leinke thre trieg,,\n",
            "  and ait gamrren too s if'l\n",
            "  w\n",
            "==================================================\n",
            "\n"
          ]
        },
        {
          "output_type": "stream",
          "name": "stderr",
          "text": [
            "Epoch : [141/1000] | : 100%|██████████| 2/2 [00:01<00:00,  1.50it/s, average_loss=2.02]\n",
            "Epoch : [142/1000] | : 100%|██████████| 2/2 [00:01<00:00,  1.54it/s, average_loss=1.94]\n",
            "Epoch : [143/1000] | : 100%|██████████| 2/2 [00:01<00:00,  1.36it/s, average_loss=1.93]\n",
            "Epoch : [144/1000] | : 100%|██████████| 2/2 [00:01<00:00,  1.28it/s, average_loss=1.94]\n",
            "Epoch : [145/1000] | : 100%|██████████| 2/2 [00:01<00:00,  1.52it/s, average_loss=1.94]\n",
            "Epoch : [146/1000] | : 100%|██████████| 2/2 [00:01<00:00,  1.52it/s, average_loss=2.01]\n",
            "Epoch : [147/1000] | : 100%|██████████| 2/2 [00:01<00:00,  1.54it/s, average_loss=1.93]\n",
            "Epoch : [148/1000] | : 100%|██████████| 2/2 [00:01<00:00,  1.54it/s, average_loss=1.99]\n",
            "Epoch : [149/1000] | : 100%|██████████| 2/2 [00:01<00:00,  1.50it/s, average_loss=1.99]\n",
            "Epoch : [150/1000] | : 100%|██████████| 2/2 [00:01<00:00,  1.53it/s, average_loss=1.95]\n"
          ]
        },
        {
          "output_type": "stream",
          "name": "stdout",
          "text": [
            "\n",
            "==================================================\n",
            "Sample output: \n",
            "thour; lgaeg;\n",
            "s  slogg'y pasmesh,\n",
            "  whes no wonmed de ig thy heovt,\n",
            "  ther aflore sele.,\n",
            "  frimh nanit hensime so wrime antills reeg hs mer tin,\n",
            "  way toste faf sogd deauty in wemtmet no nouwzs mirehe dantenigce,\n",
            " .   whale thougs sikes cairstiint thriyse\n",
            " s sou wreer lath dothingt', sirt ghap-sepinns7 pyeu,.,\n",
            "  and thau the gulcs ald sarc mcise\n",
            "    shan lalgnabs gtiy lisgu ie lray -wand'rt sale\n",
            "\n",
            "    b\n",
            "==================================================\n",
            "\n"
          ]
        },
        {
          "output_type": "stream",
          "name": "stderr",
          "text": [
            "Epoch : [151/1000] | : 100%|██████████| 2/2 [00:01<00:00,  1.52it/s, average_loss=1.88]\n",
            "Epoch : [152/1000] | : 100%|██████████| 2/2 [00:01<00:00,  1.30it/s, average_loss=1.9]\n",
            "Epoch : [153/1000] | : 100%|██████████| 2/2 [00:01<00:00,  1.43it/s, average_loss=1.85]\n",
            "Epoch : [154/1000] | : 100%|██████████| 2/2 [00:01<00:00,  1.54it/s, average_loss=1.73]\n",
            "Epoch : [155/1000] | : 100%|██████████| 2/2 [00:01<00:00,  1.53it/s, average_loss=1.94]\n",
            "Epoch : [156/1000] | : 100%|██████████| 2/2 [00:01<00:00,  1.50it/s, average_loss=1.9]\n",
            "Epoch : [157/1000] | : 100%|██████████| 2/2 [00:01<00:00,  1.53it/s, average_loss=1.87]\n",
            "Epoch : [158/1000] | : 100%|██████████| 2/2 [00:01<00:00,  1.53it/s, average_loss=1.87]\n",
            "Epoch : [159/1000] | : 100%|██████████| 2/2 [00:01<00:00,  1.53it/s, average_loss=1.94]\n",
            "Epoch : [160/1000] | : 100%|██████████| 2/2 [00:01<00:00,  1.53it/s, average_loss=1.85]\n"
          ]
        },
        {
          "output_type": "stream",
          "name": "stdout",
          "text": [
            "\n",
            "==================================================\n",
            "Sample output: \n",
            "thour thite this the lyage,\n",
            "  and thad thetange theug'o t asluld won\n",
            "s bo  itt fos eneos want then fesiutes sit-hadlins wilqees thirs  or dpanpe, tcinsee\n",
            "  ouv you whers dlage ttan wyibl my u thive in to so dean\n",
            "  whene goubt thau ther trath fould g polsonte,\n",
            "  nold'we by guvd may whise suth leavy gracdewann, thing late ane sunt\n",
            "  me to id whenes comn ulagte fort nrite loved remine an sinks feririne?\n",
            " \n",
            "==================================================\n",
            "\n"
          ]
        },
        {
          "output_type": "stream",
          "name": "stderr",
          "text": [
            "Epoch : [161/1000] | : 100%|██████████| 2/2 [00:01<00:00,  1.32it/s, average_loss=1.84]\n",
            "Epoch : [162/1000] | : 100%|██████████| 2/2 [00:01<00:00,  1.53it/s, average_loss=1.87]\n",
            "Epoch : [163/1000] | : 100%|██████████| 2/2 [00:01<00:00,  1.52it/s, average_loss=1.86]\n",
            "Epoch : [164/1000] | : 100%|██████████| 2/2 [00:01<00:00,  1.53it/s, average_loss=1.83]\n",
            "Epoch : [165/1000] | : 100%|██████████| 2/2 [00:01<00:00,  1.53it/s, average_loss=1.83]\n",
            "Epoch : [166/1000] | : 100%|██████████| 2/2 [00:01<00:00,  1.51it/s, average_loss=1.77]\n",
            "Epoch : [167/1000] | : 100%|██████████| 2/2 [00:01<00:00,  1.54it/s, average_loss=1.86]\n",
            "Epoch : [168/1000] | : 100%|██████████| 2/2 [00:01<00:00,  1.54it/s, average_loss=1.89]\n",
            "Epoch : [169/1000] | : 100%|██████████| 2/2 [00:01<00:00,  1.35it/s, average_loss=1.84]\n",
            "Epoch : [170/1000] | : 100%|██████████| 2/2 [00:01<00:00,  1.34it/s, average_loss=1.86]\n"
          ]
        },
        {
          "output_type": "stream",
          "name": "stdout",
          "text": [
            "\n",
            "==================================================\n",
            "Sample output: \n",
            "thoure af romhus mreass,\n",
            "  tor toarun'bt to luys woud peum morbefowe die? sweth ledet feofher bor winh,\n",
            "  and lolg in heridgwe te cenwoed af lilb thou hie\n",
            ".\n",
            "      c               13\n",
            "  worle in tkerend shouth of hist sonthart your bralvoedd.\n",
            "    shannd of thime wikh tu bereites's.\n",
            "\n",
            "\n",
            "                       11\n",
            "  mut stemtingorg deow and butonrters,\n",
            "  holt mis elorouddsh the tunurt dva diket,\n",
            "  aud nathof,\n",
            "==================================================\n",
            "\n"
          ]
        },
        {
          "output_type": "stream",
          "name": "stderr",
          "text": [
            "Epoch : [171/1000] | : 100%|██████████| 2/2 [00:01<00:00,  1.52it/s, average_loss=1.79]\n",
            "Epoch : [172/1000] | : 100%|██████████| 2/2 [00:01<00:00,  1.53it/s, average_loss=1.82]\n",
            "Epoch : [173/1000] | : 100%|██████████| 2/2 [00:01<00:00,  1.42it/s, average_loss=1.8]\n",
            "Epoch : [174/1000] | : 100%|██████████| 2/2 [00:01<00:00,  1.54it/s, average_loss=1.8]\n",
            "Epoch : [175/1000] | : 100%|██████████| 2/2 [00:01<00:00,  1.54it/s, average_loss=1.76]\n",
            "Epoch : [176/1000] | : 100%|██████████| 2/2 [00:01<00:00,  1.52it/s, average_loss=1.72]\n",
            "Epoch : [177/1000] | : 100%|██████████| 2/2 [00:01<00:00,  1.43it/s, average_loss=1.8]\n",
            "Epoch : [178/1000] | : 100%|██████████| 2/2 [00:01<00:00,  1.30it/s, average_loss=1.79]\n",
            "Epoch : [179/1000] | : 100%|██████████| 2/2 [00:01<00:00,  1.45it/s, average_loss=1.77]\n",
            "Epoch : [180/1000] | : 100%|██████████| 2/2 [00:01<00:00,  1.53it/s, average_loss=1.74]\n"
          ]
        },
        {
          "output_type": "stream",
          "name": "stdout",
          "text": [
            "\n",
            "==================================================\n",
            "Sample output: \n",
            "thour'st, hir bish cointert.\n",
            "  a if we thy sufcaw you qlive depuu;,\n",
            "  shich umt lakel prich ulmery yill pase ron sidd,\n",
            "  an yad mad sanmerh dos son3?- oun yith, mid with so fot anutater,\n",
            "  f  rote anty her tours beauts'gets on heor\n",
            "  a tome thou of the wiin dowhed lyass you shen bathes,\n",
            "  a cinbe taine eafd'n inhsod euvaon'se stist wish world ins unt eltip afehy celne,\n",
            "  bar in has mestere haverisurt i\n",
            "==================================================\n",
            "\n"
          ]
        },
        {
          "output_type": "stream",
          "name": "stderr",
          "text": [
            "Epoch : [181/1000] | : 100%|██████████| 2/2 [00:01<00:00,  1.53it/s, average_loss=1.78]\n",
            "Epoch : [182/1000] | : 100%|██████████| 2/2 [00:01<00:00,  1.52it/s, average_loss=1.75]\n",
            "Epoch : [183/1000] | : 100%|██████████| 2/2 [00:01<00:00,  1.52it/s, average_loss=1.76]\n",
            "Epoch : [184/1000] | : 100%|██████████| 2/2 [00:01<00:00,  1.55it/s, average_loss=1.79]\n",
            "Epoch : [185/1000] | : 100%|██████████| 2/2 [00:01<00:00,  1.53it/s, average_loss=1.68]\n",
            "Epoch : [186/1000] | : 100%|██████████| 2/2 [00:01<00:00,  1.34it/s, average_loss=1.69]\n",
            "Epoch : [187/1000] | : 100%|██████████| 2/2 [00:01<00:00,  1.47it/s, average_loss=1.69]\n",
            "Epoch : [188/1000] | : 100%|██████████| 2/2 [00:01<00:00,  1.52it/s, average_loss=1.67]\n",
            "Epoch : [189/1000] | : 100%|██████████| 2/2 [00:01<00:00,  1.51it/s, average_loss=1.77]\n",
            "Epoch : [190/1000] | : 100%|██████████| 2/2 [00:01<00:00,  1.54it/s, average_loss=1.7]\n"
          ]
        },
        {
          "output_type": "stream",
          "name": "stdout",
          "text": [
            "\n",
            "==================================================\n",
            "Sample output: \n",
            "thou some ox,, so the beauty on fiver  rapt\n",
            "  rranle dat in hut be whins qiet, tho emy lous)es thy saed bour fours shaf\n",
            "  for amone wourrd was i lapd ceay,\n",
            "  and cameess\n",
            "  and brardion tummes 'il axmerher-omed; thee roowh-lvendilf-yoor;\n",
            "  mothik nftor an hik roto that blowe\n",
            "  when the wurl's, on  o the toow,\n",
            "  t peou.\n",
            "  shomd thar thou aur id elamon may,\n",
            "  thy solftate? tt of tamenos old gprije\n",
            ",\n",
            "  mho\n",
            "==================================================\n",
            "\n"
          ]
        },
        {
          "output_type": "stream",
          "name": "stderr",
          "text": [
            "Epoch : [191/1000] | : 100%|██████████| 2/2 [00:01<00:00,  1.53it/s, average_loss=1.66]\n",
            "Epoch : [192/1000] | : 100%|██████████| 2/2 [00:01<00:00,  1.52it/s, average_loss=1.77]\n",
            "Epoch : [193/1000] | : 100%|██████████| 2/2 [00:01<00:00,  1.53it/s, average_loss=1.72]\n",
            "Epoch : [194/1000] | : 100%|██████████| 2/2 [00:01<00:00,  1.35it/s, average_loss=1.71]\n",
            "Epoch : [195/1000] | : 100%|██████████| 2/2 [00:01<00:00,  1.28it/s, average_loss=1.68]\n",
            "Epoch : [196/1000] | : 100%|██████████| 2/2 [00:01<00:00,  1.48it/s, average_loss=1.64]\n",
            "Epoch : [197/1000] | : 100%|██████████| 2/2 [00:01<00:00,  1.53it/s, average_loss=1.7]\n",
            "Epoch : [198/1000] | : 100%|██████████| 2/2 [00:01<00:00,  1.52it/s, average_loss=1.72]\n",
            "Epoch : [199/1000] | : 100%|██████████| 2/2 [00:01<00:00,  1.52it/s, average_loss=1.66]\n",
            "Epoch : [200/1000] | : 100%|██████████| 2/2 [00:01<00:00,  1.54it/s, average_loss=1.63]\n"
          ]
        },
        {
          "output_type": "stream",
          "name": "stdout",
          "text": [
            "\n",
            "==================================================\n",
            "Sample output: \n",
            "thour geace lave hrees qeive,\n",
            "  rund there. , shee ith beauty'us world pild and honn,\n",
            "  nit  \n",
            "      o             11\n",
            "  hon frast dosgedst live un afebeudes ligl my,\n",
            "  lidwilg thane for morly srestted your the cilged faades thee.\n",
            "\n",
            "                     13\n",
            "  whonawy of ceastang weet thy anly nocp ofntiy,\n",
            "  sorlss pikrsd addey very porthes whowt wither, was ullatexwd,\n",
            "  and of thy yeclont to to jeeess foun\n",
            "==================================================\n",
            "\n"
          ]
        },
        {
          "output_type": "stream",
          "name": "stderr",
          "text": [
            "Epoch : [201/1000] | : 100%|██████████| 2/2 [00:01<00:00,  1.52it/s, average_loss=1.7]\n",
            "Epoch : [202/1000] | : 100%|██████████| 2/2 [00:01<00:00,  1.55it/s, average_loss=1.59]\n",
            "Epoch : [203/1000] | : 100%|██████████| 2/2 [00:01<00:00,  1.32it/s, average_loss=1.61]\n",
            "Epoch : [204/1000] | : 100%|██████████| 2/2 [00:01<00:00,  1.46it/s, average_loss=1.6]\n",
            "Epoch : [205/1000] | : 100%|██████████| 2/2 [00:01<00:00,  1.51it/s, average_loss=1.69]\n",
            "Epoch : [206/1000] | : 100%|██████████| 2/2 [00:01<00:00,  1.39it/s, average_loss=1.61]\n",
            "Epoch : [207/1000] | : 100%|██████████| 2/2 [00:01<00:00,  1.18it/s, average_loss=1.61]\n",
            "Epoch : [208/1000] | : 100%|██████████| 2/2 [00:01<00:00,  1.44it/s, average_loss=1.6]\n",
            "Epoch : [209/1000] | : 100%|██████████| 2/2 [00:01<00:00,  1.54it/s, average_loss=1.62]\n",
            "Epoch : [210/1000] | : 100%|██████████| 2/2 [00:01<00:00,  1.53it/s, average_loss=1.65]\n"
          ]
        },
        {
          "output_type": "stream",
          "name": "stdout",
          "text": [
            "\n",
            "==================================================\n",
            "Sample output: \n",
            "thou at ry self ver ozlen;\n",
            "  is the brenn theirs the banrle my ulsedd duth mansh within wind-plilded when hin,\n",
            "  ropmimless thit f;amh dyad, morndent, grave epys slaln th hike ip fake thane or wwith dost worl s\n",
            "  whecs the s.m,\n",
            "  the worlese anwer   to  if kiog well slo vukjeathing?\n",
            "  and mours wath thou aliny nomuther sot7'r leapile,\n",
            "  by uthan that thoult ploutb the byout tame dovend\n",
            "  and mike wtith\n",
            "==================================================\n",
            "\n"
          ]
        },
        {
          "output_type": "stream",
          "name": "stderr",
          "text": [
            "Epoch : [211/1000] | : 100%|██████████| 2/2 [00:01<00:00,  1.33it/s, average_loss=1.6]\n",
            "Epoch : [212/1000] | : 100%|██████████| 2/2 [00:01<00:00,  1.47it/s, average_loss=1.65]\n",
            "Epoch : [213/1000] | : 100%|██████████| 2/2 [00:01<00:00,  1.54it/s, average_loss=1.55]\n",
            "Epoch : [214/1000] | : 100%|██████████| 2/2 [00:01<00:00,  1.52it/s, average_loss=1.66]\n",
            "Epoch : [215/1000] | : 100%|██████████| 2/2 [00:01<00:00,  1.53it/s, average_loss=1.52]\n",
            "Epoch : [216/1000] | : 100%|██████████| 2/2 [00:01<00:00,  1.52it/s, average_loss=1.48]\n",
            "Epoch : [217/1000] | : 100%|██████████| 2/2 [00:01<00:00,  1.53it/s, average_loss=1.6]\n",
            "Epoch : [218/1000] | : 100%|██████████| 2/2 [00:01<00:00,  1.50it/s, average_loss=1.54]\n",
            "Epoch : [219/1000] | : 100%|██████████| 2/2 [00:01<00:00,  1.52it/s, average_loss=1.58]\n",
            "Epoch : [220/1000] | : 100%|██████████| 2/2 [00:01<00:00,  1.33it/s, average_loss=1.46]\n"
          ]
        },
        {
          "output_type": "stream",
          "name": "stdout",
          "text": [
            "\n",
            "==================================================\n",
            "Sample output: \n",
            "thou mene wrouch und your sonlnt seaking\n",
            "  as, a binss ymasl fthe wall eak we then waett nrconftef\n",
            "    oudd thut desim the gose fimhire fach, on ney werve\n",
            "  nirte'wid thou o intsersid of dajen\n",
            "  film troomn ho afdanshe thy? to derastide banet,\n",
            "  meke,\n",
            "  dast treeh dosledt thing be shime thane if your sucf swlet eod rye dive\n",
            "  and seb alo thy colne ther baspan thin fear, arh the will of ef,\n",
            "  wath shoul\n",
            "==================================================\n",
            "\n"
          ]
        },
        {
          "output_type": "stream",
          "name": "stderr",
          "text": [
            "Epoch : [221/1000] | : 100%|██████████| 2/2 [00:01<00:00,  1.51it/s, average_loss=1.54]\n",
            "Epoch : [222/1000] | : 100%|██████████| 2/2 [00:01<00:00,  1.50it/s, average_loss=1.47]\n",
            "Epoch : [223/1000] | : 100%|██████████| 2/2 [00:01<00:00,  1.53it/s, average_loss=1.56]\n",
            "Epoch : [224/1000] | : 100%|██████████| 2/2 [00:01<00:00,  1.51it/s, average_loss=1.54]\n",
            "Epoch : [225/1000] | : 100%|██████████| 2/2 [00:01<00:00,  1.54it/s, average_loss=1.5]\n",
            "Epoch : [226/1000] | : 100%|██████████| 2/2 [00:01<00:00,  1.51it/s, average_loss=1.54]\n",
            "Epoch : [227/1000] | : 100%|██████████| 2/2 [00:01<00:00,  1.50it/s, average_loss=1.48]\n",
            "Epoch : [228/1000] | : 100%|██████████| 2/2 [00:01<00:00,  1.34it/s, average_loss=1.5]\n",
            "Epoch : [229/1000] | : 100%|██████████| 2/2 [00:01<00:00,  1.33it/s, average_loss=1.51]\n",
            "Epoch : [230/1000] | : 100%|██████████| 2/2 [00:01<00:00,  1.53it/s, average_loss=1.47]\n"
          ]
        },
        {
          "output_type": "stream",
          "name": "stdout",
          "text": [
            "\n",
            "==================================================\n",
            "Sample output: \n",
            "thour tgy tere conl\n",
            "  oor by so cyer widane fradt doir,\n",
            "  and barden condome how pacl diis lif\n",
            ",\n",
            "  and glmbe yourd form fhare were imery nof ger eniunse ever demins,\n",
            "   oferes the sor dit ant to pee,\n",
            "  and cand where ase of time daqe not in thee\n",
            "  af werin thee visomqniene to as leat-yes adncer,\n",
            "  in went ufuliss o owterith?t    ho love if so for meapt on the vaypy eenthll hlove as mease\n",
            "  magten wille\n",
            "==================================================\n",
            "\n"
          ]
        },
        {
          "output_type": "stream",
          "name": "stderr",
          "text": [
            "Epoch : [231/1000] | : 100%|██████████| 2/2 [00:01<00:00,  1.50it/s, average_loss=1.51]\n",
            "Epoch : [232/1000] | : 100%|██████████| 2/2 [00:01<00:00,  1.53it/s, average_loss=1.41]\n",
            "Epoch : [233/1000] | : 100%|██████████| 2/2 [00:01<00:00,  1.53it/s, average_loss=1.39]\n",
            "Epoch : [234/1000] | : 100%|██████████| 2/2 [00:01<00:00,  1.50it/s, average_loss=1.47]\n",
            "Epoch : [235/1000] | : 100%|██████████| 2/2 [00:01<00:00,  1.51it/s, average_loss=1.49]\n",
            "Epoch : [236/1000] | : 100%|██████████| 2/2 [00:01<00:00,  1.42it/s, average_loss=1.44]\n",
            "Epoch : [237/1000] | : 100%|██████████| 2/2 [00:01<00:00,  1.26it/s, average_loss=1.44]\n",
            "Epoch : [238/1000] | : 100%|██████████| 2/2 [00:01<00:00,  1.44it/s, average_loss=1.41]\n",
            "Epoch : [239/1000] | : 100%|██████████| 2/2 [00:01<00:00,  1.52it/s, average_loss=1.46]\n",
            "Epoch : [240/1000] | : 100%|██████████| 2/2 [00:01<00:00,  1.50it/s, average_loss=1.4]\n"
          ]
        },
        {
          "output_type": "stream",
          "name": "stdout",
          "text": [
            "\n",
            "==================================================\n",
            "Sample output: \n",
            "thour swolllss longs thot inten,\n",
            "  n thou is usmeqtesedek deor ay i thou shallld diig thee\n",
            "    so llafe rume for chould mpel'cy,\n",
            "  thig of in tho eres,\n",
            "  of now samith mich thou mostore pyalint\n",
            "  \n",
            "  erame trale ot nase of chiinurangt?\n",
            "  werce ast you fort weere your self in deas,\n",
            "  catinv leapurs mape, she saeltes evite'pl, mou henware weirhd id il tay\n",
            "  be with'r ceoment gives liees shound bearth?  ve\n",
            "==================================================\n",
            "\n"
          ]
        },
        {
          "output_type": "stream",
          "name": "stderr",
          "text": [
            "Epoch : [241/1000] | : 100%|██████████| 2/2 [00:01<00:00,  1.44it/s, average_loss=1.41]\n",
            "Epoch : [242/1000] | : 100%|██████████| 2/2 [00:01<00:00,  1.52it/s, average_loss=1.5]\n",
            "Epoch : [243/1000] | : 100%|██████████| 2/2 [00:01<00:00,  1.49it/s, average_loss=1.41]\n",
            "Epoch : [244/1000] | : 100%|██████████| 2/2 [00:01<00:00,  1.52it/s, average_loss=1.36]\n",
            "Epoch : [245/1000] | : 100%|██████████| 2/2 [00:01<00:00,  1.34it/s, average_loss=1.43]\n",
            "Epoch : [246/1000] | : 100%|██████████| 2/2 [00:01<00:00,  1.49it/s, average_loss=1.38]\n",
            "Epoch : [247/1000] | : 100%|██████████| 2/2 [00:01<00:00,  1.52it/s, average_loss=1.39]\n",
            "Epoch : [248/1000] | : 100%|██████████| 2/2 [00:01<00:00,  1.53it/s, average_loss=1.4]\n",
            "Epoch : [249/1000] | : 100%|██████████| 2/2 [00:01<00:00,  1.54it/s, average_loss=1.35]\n",
            "Epoch : [250/1000] | : 100%|██████████| 2/2 [00:01<00:00,  1.51it/s, average_loss=1.42]\n"
          ]
        },
        {
          "output_type": "stream",
          "name": "stdout",
          "text": [
            "\n",
            "==================================================\n",
            "Sample output: \n",
            "thou lees wath sumf thou row'ss gilcd bearsy\n",
            "  lkave wornd wey fort bradtwif in thintige on wint\n",
            "  the divenly ceasume,\n",
            "  the worlld wiml ther fece nombredity dien,\n",
            "  thy gyolge to gon?  whith wowist wolld-somed se\n",
            "  whene berongh pyate thy gouvh be utuye nourhon with mother-degan,\n",
            "  thail thy arkonf meaarey shong rose sans.\n",
            "\n",
            "\n",
            "                     2\n",
            "  when i fuirtenr sombriug camse\n",
            "  solghan aatt thou \n",
            "==================================================\n",
            "\n"
          ]
        },
        {
          "output_type": "stream",
          "name": "stderr",
          "text": [
            "Epoch : [251/1000] | : 100%|██████████| 2/2 [00:01<00:00,  1.52it/s, average_loss=1.32]\n",
            "Epoch : [252/1000] | : 100%|██████████| 2/2 [00:01<00:00,  1.53it/s, average_loss=1.38]\n",
            "Epoch : [253/1000] | : 100%|██████████| 2/2 [00:01<00:00,  1.32it/s, average_loss=1.31]\n",
            "Epoch : [254/1000] | : 100%|██████████| 2/2 [00:01<00:00,  1.27it/s, average_loss=1.32]\n",
            "Epoch : [255/1000] | : 100%|██████████| 2/2 [00:01<00:00,  1.53it/s, average_loss=1.32]\n",
            "Epoch : [256/1000] | : 100%|██████████| 2/2 [00:01<00:00,  1.45it/s, average_loss=1.35]\n",
            "Epoch : [257/1000] | : 100%|██████████| 2/2 [00:01<00:00,  1.52it/s, average_loss=1.27]\n",
            "Epoch : [258/1000] | : 100%|██████████| 2/2 [00:01<00:00,  1.54it/s, average_loss=1.31]\n",
            "Epoch : [259/1000] | : 100%|██████████| 2/2 [00:01<00:00,  1.53it/s, average_loss=1.32]\n",
            "Epoch : [260/1000] | : 100%|██████████| 2/2 [00:01<00:00,  1.53it/s, average_loss=1.28]\n"
          ]
        },
        {
          "output_type": "stream",
          "name": "stdout",
          "text": [
            "\n",
            "==================================================\n",
            "Sample output: \n",
            "thour eort il hee\n",
            "    gi gen the frove and iflens of thy self,\n",
            "  tereituse shaal you rome'r's luge,\n",
            "  by uld af, qeearite,\n",
            "  see sour thy biit thou ase mares feet seet were\n",
            "  baits thy fomh thy well anet; tone or  \n",
            "     th o ans this gontee are hath sumren reare\n",
            "  no ging whit thas cinter'ae ofmen is whing ntoe,\n",
            "  be fintires to thy youth yout that livess shoug) heat dorinchy if frigh weint ind,\n",
            "  and \n",
            "==================================================\n",
            "\n"
          ]
        },
        {
          "output_type": "stream",
          "name": "stderr",
          "text": [
            "Epoch : [261/1000] | : 100%|██████████| 2/2 [00:01<00:00,  1.47it/s, average_loss=1.23]\n",
            "Epoch : [262/1000] | : 100%|██████████| 2/2 [00:01<00:00,  1.29it/s, average_loss=1.27]\n",
            "Epoch : [263/1000] | : 100%|██████████| 2/2 [00:01<00:00,  1.46it/s, average_loss=1.32]\n",
            "Epoch : [264/1000] | : 100%|██████████| 2/2 [00:01<00:00,  1.51it/s, average_loss=1.26]\n",
            "Epoch : [265/1000] | : 100%|██████████| 2/2 [00:01<00:00,  1.53it/s, average_loss=1.33]\n",
            "Epoch : [266/1000] | : 100%|██████████| 2/2 [00:01<00:00,  1.50it/s, average_loss=1.29]\n",
            "Epoch : [267/1000] | : 100%|██████████| 2/2 [00:01<00:00,  1.55it/s, average_loss=1.2]\n",
            "Epoch : [268/1000] | : 100%|██████████| 2/2 [00:01<00:00,  1.51it/s, average_loss=1.26]\n",
            "Epoch : [269/1000] | : 100%|██████████| 2/2 [00:01<00:00,  1.52it/s, average_loss=1.21]\n",
            "Epoch : [270/1000] | : 100%|██████████| 2/2 [00:01<00:00,  1.50it/s, average_loss=1.27]\n"
          ]
        },
        {
          "output_type": "stream",
          "name": "stdout",
          "text": [
            "\n",
            "==================================================\n",
            "Sample output: \n",
            "thoursstict heavinteod,\n",
            "  keppin le tee vorred in the lyase miver thy self-oun my mo.r.\n",
            "\n",
            "     o    o         n0\n",
            "  thoulhing ig seac-'tount summilost incals my thine, ard the leavine kere\n",
            "  of choald the live afdeer so goth andaon, not leve's-sexeline torer,\n",
            "  a fork the stise metsolld bat thy tonsot swiete\n",
            "  nortigfleaky litee lroon hon thling weos prick,\n",
            "  wihling i hakmy shancl on mayp'r vinge,\n",
            "  and\n",
            "==================================================\n",
            "\n"
          ]
        },
        {
          "output_type": "stream",
          "name": "stderr",
          "text": [
            "Epoch : [271/1000] | : 100%|██████████| 2/2 [00:01<00:00,  1.44it/s, average_loss=1.22]\n",
            "Epoch : [272/1000] | : 100%|██████████| 2/2 [00:01<00:00,  1.52it/s, average_loss=1.24]\n",
            "Epoch : [273/1000] | : 100%|██████████| 2/2 [00:01<00:00,  1.43it/s, average_loss=1.21]\n",
            "Epoch : [274/1000] | : 100%|██████████| 2/2 [00:01<00:00,  1.51it/s, average_loss=1.19]\n",
            "Epoch : [275/1000] | : 100%|██████████| 2/2 [00:01<00:00,  1.54it/s, average_loss=1.18]\n",
            "Epoch : [276/1000] | : 100%|██████████| 2/2 [00:01<00:00,  1.53it/s, average_loss=1.18]\n",
            "Epoch : [277/1000] | : 100%|██████████| 2/2 [00:01<00:00,  1.54it/s, average_loss=1.16]\n",
            "Epoch : [278/1000] | : 100%|██████████| 2/2 [00:01<00:00,  1.54it/s, average_loss=1.18]\n",
            "Epoch : [279/1000] | : 100%|██████████| 2/2 [00:01<00:00,  1.35it/s, average_loss=1.13]\n",
            "Epoch : [280/1000] | : 100%|██████████| 2/2 [00:01<00:00,  1.45it/s, average_loss=1.09]\n"
          ]
        },
        {
          "output_type": "stream",
          "name": "stdout",
          "text": [
            "\n",
            "==================================================\n",
            "Sample output: \n",
            "thour theabt to tere\n",
            "   \n",
            "    lo ge ee of the craction thy asle so deevett myive.\n",
            "    wit ne time hours beauty, and dair\n",
            "  wiphin nuth is hulbe wind be thy slel,\n",
            "  \n",
            "o thy deve must seed, shee thee thice ige.\n",
            "\n",
            "\n",
            "                     8\n",
            "  not co artuir wimh wuy tome ereshld cabvedse thine?\n",
            "                       18\n",
            "  when if you som with thou, uet busby wore mate.\n",
            "\n",
            "    th  1u           5\n",
            "  then times ingerc\n",
            "==================================================\n",
            "\n"
          ]
        },
        {
          "output_type": "stream",
          "name": "stderr",
          "text": [
            "Epoch : [281/1000] | : 100%|██████████| 2/2 [00:01<00:00,  1.54it/s, average_loss=1.16]\n",
            "Epoch : [282/1000] | : 100%|██████████| 2/2 [00:01<00:00,  1.54it/s, average_loss=1.17]\n",
            "Epoch : [283/1000] | : 100%|██████████| 2/2 [00:01<00:00,  1.51it/s, average_loss=1.08]\n",
            "Epoch : [284/1000] | : 100%|██████████| 2/2 [00:01<00:00,  1.56it/s, average_loss=1.13]\n",
            "Epoch : [285/1000] | : 100%|██████████| 2/2 [00:01<00:00,  1.52it/s, average_loss=1.16]\n",
            "Epoch : [286/1000] | : 100%|██████████| 2/2 [00:01<00:00,  1.51it/s, average_loss=1.09]\n",
            "Epoch : [287/1000] | : 100%|██████████| 2/2 [00:01<00:00,  1.35it/s, average_loss=1.09]\n",
            "Epoch : [288/1000] | : 100%|██████████| 2/2 [00:01<00:00,  1.28it/s, average_loss=1.09]\n",
            "Epoch : [289/1000] | : 100%|██████████| 2/2 [00:01<00:00,  1.49it/s, average_loss=1.05]\n",
            "Epoch : [290/1000] | : 100%|██████████| 2/2 [00:01<00:00,  1.54it/s, average_loss=1.04]\n"
          ]
        },
        {
          "output_type": "stream",
          "name": "stdout",
          "text": [
            "\n",
            "==================================================\n",
            "Sample output: \n",
            "thou eyer selfod meecs o\n",
            "  net is thow wher thou hay is dod ig in\n",
            ",  and you most jusutes ay lastils decerane,\n",
            "  to lieg and thing incee and by conborneds onnimees wher to selbirsing one,\n",
            "  ghings sead dourt bot is huwb lodd lyej,?\n",
            "\n",
            "  i geat as the vor enew pthe gedd derece\n",
            "  not tithe fairts be elitqe ine your dewer.\n",
            "   \n",
            "  in i sunle sume batutelol gige,\n",
            "  thy athar mether beauty sworld an phaln,\n",
            "  to\n",
            "==================================================\n",
            "\n"
          ]
        },
        {
          "output_type": "stream",
          "name": "stderr",
          "text": [
            "Epoch : [291/1000] | : 100%|██████████| 2/2 [00:01<00:00,  1.55it/s, average_loss=1.08]\n",
            "Epoch : [292/1000] | : 100%|██████████| 2/2 [00:01<00:00,  1.53it/s, average_loss=1.03]\n",
            "Epoch : [293/1000] | : 100%|██████████| 2/2 [00:01<00:00,  1.51it/s, average_loss=1.07]\n",
            "Epoch : [294/1000] | : 100%|██████████| 2/2 [00:01<00:00,  1.53it/s, average_loss=1.04]\n",
            "Epoch : [295/1000] | : 100%|██████████| 2/2 [00:01<00:00,  1.53it/s, average_loss=1]\n",
            "Epoch : [296/1000] | : 100%|██████████| 2/2 [00:01<00:00,  1.30it/s, average_loss=1.03]\n",
            "Epoch : [297/1000] | : 100%|██████████| 2/2 [00:01<00:00,  1.46it/s, average_loss=0.94]\n",
            "Epoch : [298/1000] | : 100%|██████████| 2/2 [00:01<00:00,  1.54it/s, average_loss=0.981]\n",
            "Epoch : [299/1000] | : 100%|██████████| 2/2 [00:01<00:00,  1.53it/s, average_loss=1.01]\n",
            "Epoch : [300/1000] | : 100%|██████████| 2/2 [00:01<00:00,  1.55it/s, average_loss=0.947]\n"
          ]
        },
        {
          "output_type": "stream",
          "name": "stdout",
          "text": [
            "\n",
            "==================================================\n",
            "Sample output: \n",
            "thour to thy doft not'n's,\n",
            "  af thy hereldes gosy mespes whitet aqu gend kille,\n",
            "  that tho  o cuodst seat that with to not,  iin tindars faet,\n",
            "  or tall klork ole,\n",
            "  and -tempyar she heruh wild of my dibues, untrom thin,\n",
            "  i cy rugel's fais that baarty docerqeeireg\n",
            "  and in as thy wher latt cound-utthin depant,\n",
            "  deors the tourt thit wercen's yos dief thace sulf, rey court,\n",
            "  mering bid give tereed bu \n",
            "==================================================\n",
            "\n"
          ]
        },
        {
          "output_type": "stream",
          "name": "stderr",
          "text": [
            "Epoch : [301/1000] | : 100%|██████████| 2/2 [00:01<00:00,  1.54it/s, average_loss=0.94]\n",
            "Epoch : [302/1000] | : 100%|██████████| 2/2 [00:01<00:00,  1.55it/s, average_loss=0.994]\n",
            "Epoch : [303/1000] | : 100%|██████████| 2/2 [00:01<00:00,  1.53it/s, average_loss=0.968]\n",
            "Epoch : [304/1000] | : 100%|██████████| 2/2 [00:01<00:00,  1.36it/s, average_loss=0.936]\n",
            "Epoch : [305/1000] | : 100%|██████████| 2/2 [00:01<00:00,  1.32it/s, average_loss=0.939]\n",
            "Epoch : [306/1000] | : 100%|██████████| 2/2 [00:01<00:00,  1.41it/s, average_loss=1.02]\n",
            "Epoch : [307/1000] | : 100%|██████████| 2/2 [00:01<00:00,  1.54it/s, average_loss=0.978]\n",
            "Epoch : [308/1000] | : 100%|██████████| 2/2 [00:01<00:00,  1.54it/s, average_loss=1]\n",
            "Epoch : [309/1000] | : 100%|██████████| 2/2 [00:01<00:00,  1.52it/s, average_loss=0.991]\n",
            "Epoch : [310/1000] | : 100%|██████████| 2/2 [00:01<00:00,  1.53it/s, average_loss=1.05]\n"
          ]
        },
        {
          "output_type": "stream",
          "name": "stdout",
          "text": [
            "\n",
            "==================================================\n",
            "Sample output: \n",
            "thoughet thou frow'st,\n",
            "  nor longersly blougy wind the wirl wree\n",
            "  the  eoftan tile frame not ceaved'wt ther, ere,\n",
            "  thy beautey thou forf do tinges eyert no2 lov bot line\n",
            "  leake is if freot ristilciget that life the very dild,\n",
            "  that hengand carres trose ore thy lease of yer.\n",
            "\n",
            "\n",
            "                     9\n",
            "  bud i fath to bree,\n",
            "  wron gandy ther your too hy pusding stayt,\n",
            "  thon hearte yoth noweet s  am to\n",
            "==================================================\n",
            "\n"
          ]
        },
        {
          "output_type": "stream",
          "name": "stderr",
          "text": [
            "Epoch : [311/1000] | : 100%|██████████| 2/2 [00:01<00:00,  1.52it/s, average_loss=0.954]\n",
            "Epoch : [312/1000] | : 100%|██████████| 2/2 [00:01<00:00,  1.42it/s, average_loss=0.973]\n",
            "Epoch : [313/1000] | : 100%|██████████| 2/2 [00:01<00:00,  1.27it/s, average_loss=0.921]\n",
            "Epoch : [314/1000] | : 100%|██████████| 2/2 [00:01<00:00,  1.47it/s, average_loss=0.911]\n",
            "Epoch : [315/1000] | : 100%|██████████| 2/2 [00:01<00:00,  1.51it/s, average_loss=0.93]\n",
            "Epoch : [316/1000] | : 100%|██████████| 2/2 [00:01<00:00,  1.51it/s, average_loss=0.899]\n",
            "Epoch : [317/1000] | : 100%|██████████| 2/2 [00:01<00:00,  1.53it/s, average_loss=0.908]\n",
            "Epoch : [318/1000] | : 100%|██████████| 2/2 [00:01<00:00,  1.54it/s, average_loss=0.885]\n",
            "Epoch : [319/1000] | : 100%|██████████| 2/2 [00:01<00:00,  1.50it/s, average_loss=0.853]\n",
            "Epoch : [320/1000] | : 100%|██████████| 2/2 [00:01<00:00,  1.52it/s, average_loss=0.853]\n"
          ]
        },
        {
          "output_type": "stream",
          "name": "stdout",
          "text": [
            "\n",
            "==================================================\n",
            "Sample output: \n",
            "thour treaft'n som) bloo\n",
            "\n",
            "    o   1            1\n",
            "  not noor om nate's of the doufty of lalgy?\n",
            "  so chougut thy blouttous pay, path domeait when.\n",
            "  for mave i aqie suethly premayer lne.\n",
            "\n",
            "\n",
            "                       9\n",
            "  is fair were anonee, my love anleesiot) nich.\n",
            "  t  whith love shall by the thae, nor asoment nomerave\n",
            "  mours the tring one most thou dot prie.,\n",
            "\n",
            "    be if the corled to be ow anp, herey hes \n",
            "==================================================\n",
            "\n"
          ]
        },
        {
          "output_type": "stream",
          "name": "stderr",
          "text": [
            "Epoch : [321/1000] | : 100%|██████████| 2/2 [00:01<00:00,  1.35it/s, average_loss=0.938]\n",
            "Epoch : [322/1000] | : 100%|██████████| 2/2 [00:01<00:00,  1.37it/s, average_loss=0.825]\n",
            "Epoch : [323/1000] | : 100%|██████████| 2/2 [00:01<00:00,  1.53it/s, average_loss=0.866]\n",
            "Epoch : [324/1000] | : 100%|██████████| 2/2 [00:01<00:00,  1.52it/s, average_loss=0.883]\n",
            "Epoch : [325/1000] | : 100%|██████████| 2/2 [00:01<00:00,  1.52it/s, average_loss=0.867]\n",
            "Epoch : [326/1000] | : 100%|██████████| 2/2 [00:01<00:00,  1.52it/s, average_loss=0.847]\n",
            "Epoch : [327/1000] | : 100%|██████████| 2/2 [00:01<00:00,  1.52it/s, average_loss=0.888]\n",
            "Epoch : [328/1000] | : 100%|██████████| 2/2 [00:01<00:00,  1.52it/s, average_loss=0.797]\n",
            "Epoch : [329/1000] | : 100%|██████████| 2/2 [00:01<00:00,  1.51it/s, average_loss=0.823]\n",
            "Epoch : [330/1000] | : 100%|██████████| 2/2 [00:01<00:00,  1.36it/s, average_loss=0.829]\n"
          ]
        },
        {
          "output_type": "stream",
          "name": "stdout",
          "text": [
            "\n",
            "==================================================\n",
            "Sample output: \n",
            "thour thar whoun nort owqeed,\n",
            "  and tombemer enere heoond with med.\n",
            "  and chacuing wain self-oudden thy beounty llows)\n",
            "  sor bat be to bare your so faal with toow sow\n",
            "\n",
            "\n",
            "                      7\n",
            "  lot frammingels owe, then thou all eace 6o  reovous nist,\n",
            "  is this guiges the breon thou or lifhts ledts if partielter wold\n",
            "  agnonin neath, bud shap ly pirled decic7 in rind,\n",
            "  so cinte preciine thy lows and \n",
            "==================================================\n",
            "\n"
          ]
        },
        {
          "output_type": "stream",
          "name": "stderr",
          "text": [
            "Epoch : [331/1000] | : 100%|██████████| 2/2 [00:01<00:00,  1.49it/s, average_loss=0.805]\n",
            "Epoch : [332/1000] | : 100%|██████████| 2/2 [00:01<00:00,  1.52it/s, average_loss=0.804]\n",
            "Epoch : [333/1000] | : 100%|██████████| 2/2 [00:01<00:00,  1.54it/s, average_loss=0.744]\n",
            "Epoch : [334/1000] | : 100%|██████████| 2/2 [00:01<00:00,  1.55it/s, average_loss=0.836]\n",
            "Epoch : [335/1000] | : 100%|██████████| 2/2 [00:01<00:00,  1.54it/s, average_loss=0.79]\n",
            "Epoch : [336/1000] | : 100%|██████████| 2/2 [00:01<00:00,  1.53it/s, average_loss=0.744]\n",
            "Epoch : [337/1000] | : 100%|██████████| 2/2 [00:01<00:00,  1.54it/s, average_loss=0.756]\n",
            "Epoch : [338/1000] | : 100%|██████████| 2/2 [00:01<00:00,  1.26it/s, average_loss=0.736]\n",
            "Epoch : [339/1000] | : 100%|██████████| 2/2 [00:01<00:00,  1.27it/s, average_loss=0.741]\n",
            "Epoch : [340/1000] | : 100%|██████████| 2/2 [00:01<00:00,  1.53it/s, average_loss=0.732]\n"
          ]
        },
        {
          "output_type": "stream",
          "name": "stdout",
          "text": [
            "\n",
            "==================================================\n",
            "Sample output: \n",
            "thou ry post in lovely live,\n",
            "  and is  try crectine, for have and komllt, bur matettor, oe,\n",
            "  s y chould, ware prast cun-serfsin somsere sith\n",
            "  porting teree'b ting meast in shall oor heidh norsen, with thou mont, adiwe ontering hig onded,\n",
            "    and muth rresemecy and condone, iy hus semf,\n",
            "  thou alt thy from less of teme prise dore,\n",
            "  und nothy urmummar'st leage her dedear her verdenor wint,\n",
            "  and butn \n",
            "==================================================\n",
            "\n"
          ]
        },
        {
          "output_type": "stream",
          "name": "stderr",
          "text": [
            "Epoch : [341/1000] | : 100%|██████████| 2/2 [00:01<00:00,  1.54it/s, average_loss=0.719]\n",
            "Epoch : [342/1000] | : 100%|██████████| 2/2 [00:01<00:00,  1.52it/s, average_loss=0.68]\n",
            "Epoch : [343/1000] | : 100%|██████████| 2/2 [00:01<00:00,  1.34it/s, average_loss=0.743]\n",
            "Epoch : [344/1000] | : 100%|██████████| 2/2 [00:01<00:00,  1.27it/s, average_loss=0.703]\n",
            "Epoch : [345/1000] | : 100%|██████████| 2/2 [00:01<00:00,  1.54it/s, average_loss=0.682]\n",
            "Epoch : [346/1000] | : 100%|██████████| 2/2 [00:01<00:00,  1.35it/s, average_loss=0.73]\n",
            "Epoch : [347/1000] | : 100%|██████████| 2/2 [00:01<00:00,  1.27it/s, average_loss=0.694]\n",
            "Epoch : [348/1000] | : 100%|██████████| 2/2 [00:01<00:00,  1.54it/s, average_loss=0.64]\n",
            "Epoch : [349/1000] | : 100%|██████████| 2/2 [00:01<00:00,  1.52it/s, average_loss=0.732]\n",
            "Epoch : [350/1000] | : 100%|██████████| 2/2 [00:01<00:00,  1.54it/s, average_loss=0.691]\n"
          ]
        },
        {
          "output_type": "stream",
          "name": "stdout",
          "text": [
            "\n",
            "==================================================\n",
            "Sample output: \n",
            "thour self dos plees,\n",
            "  with minds of nos the hans's tome reanioud\n",
            "  om han prencen lire brand may your seacess in the dey?\n",
            "  \n",
            "o mols thy brd\n",
            "    manl teeth faoreny uperis nowet lifet dor in cen .\n",
            "\n",
            "                     0\n",
            "  dor ine thou moms mish leaturs thife antiqt ote,\n",
            ",   denpidest then coinsbut with bayts wlif cpepteke,\n",
            "  werd pair thre toebnes ene winl nout-oonne\n",
            "\n",
            "     wo  s          4\n",
            "  lr were o\n",
            "==================================================\n",
            "\n"
          ]
        },
        {
          "output_type": "stream",
          "name": "stderr",
          "text": [
            "Epoch : [351/1000] | : 100%|██████████| 2/2 [00:01<00:00,  1.51it/s, average_loss=0.694]\n",
            "Epoch : [352/1000] | : 100%|██████████| 2/2 [00:01<00:00,  1.55it/s, average_loss=0.64]\n",
            "Epoch : [353/1000] | : 100%|██████████| 2/2 [00:01<00:00,  1.53it/s, average_loss=0.64]\n",
            "Epoch : [354/1000] | : 100%|██████████| 2/2 [00:01<00:00,  1.52it/s, average_loss=0.688]\n",
            "Epoch : [355/1000] | : 100%|██████████| 2/2 [00:01<00:00,  1.29it/s, average_loss=0.616]\n",
            "Epoch : [356/1000] | : 100%|██████████| 2/2 [00:01<00:00,  1.46it/s, average_loss=0.67]\n",
            "Epoch : [357/1000] | : 100%|██████████| 2/2 [00:01<00:00,  1.53it/s, average_loss=0.684]\n",
            "Epoch : [358/1000] | : 100%|██████████| 2/2 [00:01<00:00,  1.53it/s, average_loss=0.66]\n",
            "Epoch : [359/1000] | : 100%|██████████| 2/2 [00:01<00:00,  1.52it/s, average_loss=0.641]\n",
            "Epoch : [360/1000] | : 100%|██████████| 2/2 [00:01<00:00,  1.49it/s, average_loss=0.623]\n"
          ]
        },
        {
          "output_type": "stream",
          "name": "stdout",
          "text": [
            "\n",
            "==================================================\n",
            "Sample output: \n",
            "thoug it must whnee form dlec,\n",
            "  perken in eeraet nister sebensre love doan.\n",
            "\n",
            "        1           1\n",
            "  fos thoueist the tape he tould be thy live\n",
            "  for thou at thou wo but's oll-sint anet mrowt in is mishee i fay.\n",
            "  fot lef-oreest gindrs or hive ost giny, of leaves uslifte tom tale the tile.  \n",
            "  chen wert not sontere wist than ofe yeut\n",
            "  dour sheuls thy plaase winder s\n",
            "  hour m wome veren sace alcien, t\n",
            "==================================================\n",
            "\n"
          ]
        },
        {
          "output_type": "stream",
          "name": "stderr",
          "text": [
            "Epoch : [361/1000] | : 100%|██████████| 2/2 [00:01<00:00,  1.53it/s, average_loss=0.607]\n",
            "Epoch : [362/1000] | : 100%|██████████| 2/2 [00:01<00:00,  1.53it/s, average_loss=0.656]\n",
            "Epoch : [363/1000] | : 100%|██████████| 2/2 [00:01<00:00,  1.35it/s, average_loss=0.621]\n",
            "Epoch : [364/1000] | : 100%|██████████| 2/2 [00:01<00:00,  1.32it/s, average_loss=0.611]\n",
            "Epoch : [365/1000] | : 100%|██████████| 2/2 [00:01<00:00,  1.52it/s, average_loss=0.61]\n",
            "Epoch : [366/1000] | : 100%|██████████| 2/2 [00:01<00:00,  1.53it/s, average_loss=0.622]\n",
            "Epoch : [367/1000] | : 100%|██████████| 2/2 [00:01<00:00,  1.53it/s, average_loss=0.579]\n",
            "Epoch : [368/1000] | : 100%|██████████| 2/2 [00:01<00:00,  1.49it/s, average_loss=0.595]\n",
            "Epoch : [369/1000] | : 100%|██████████| 2/2 [00:01<00:00,  1.53it/s, average_loss=0.571]\n",
            "Epoch : [370/1000] | : 100%|██████████| 2/2 [00:01<00:00,  1.50it/s, average_loss=0.557]\n"
          ]
        },
        {
          "output_type": "stream",
          "name": "stdout",
          "text": [
            "\n",
            "==================================================\n",
            "Sample output: \n",
            "thougs in gaist din.\n",
            "\n",
            "                     3\n",
            "  is hour of will swess fold levake want wen,\n",
            "  o dong ne ture us from nrilsepd painter,\n",
            "  fasc in the ureasur should your mo hae.\n",
            "    but were momen's bashe in thoul yourssale tame,\n",
            "  and nowunt nistreal, in sralt to gaz,\n",
            "    you shouldst my guves (feir will leat foom another nyot to?\n",
            "  thas i yeu sumled which hrapiust love thas tere,\n",
            "    thou shouldst part\n",
            "==================================================\n",
            "\n"
          ]
        },
        {
          "output_type": "stream",
          "name": "stderr",
          "text": [
            "Epoch : [371/1000] | : 100%|██████████| 2/2 [00:01<00:00,  1.30it/s, average_loss=0.546]\n",
            "Epoch : [372/1000] | : 100%|██████████| 2/2 [00:01<00:00,  1.26it/s, average_loss=0.572]\n",
            "Epoch : [373/1000] | : 100%|██████████| 2/2 [00:01<00:00,  1.44it/s, average_loss=0.588]\n",
            "Epoch : [374/1000] | : 100%|██████████| 2/2 [00:01<00:00,  1.53it/s, average_loss=0.546]\n",
            "Epoch : [375/1000] | : 100%|██████████| 2/2 [00:01<00:00,  1.55it/s, average_loss=0.537]\n",
            "Epoch : [376/1000] | : 100%|██████████| 2/2 [00:01<00:00,  1.52it/s, average_loss=0.542]\n",
            "Epoch : [377/1000] | : 100%|██████████| 2/2 [00:01<00:00,  1.54it/s, average_loss=0.537]\n",
            "Epoch : [378/1000] | : 100%|██████████| 2/2 [00:01<00:00,  1.53it/s, average_loss=0.562]\n",
            "Epoch : [379/1000] | : 100%|██████████| 2/2 [00:01<00:00,  1.51it/s, average_loss=0.524]\n",
            "Epoch : [380/1000] | : 100%|██████████| 2/2 [00:01<00:00,  1.35it/s, average_loss=0.52]\n"
          ]
        },
        {
          "output_type": "stream",
          "name": "stdout",
          "text": [
            "\n",
            "==================================================\n",
            "Sample output: \n",
            "thoulst prese),\n",
            "  when-yout threilg' to the wiswitoo shall wind beauty dorannst,\n",
            "  and beauty's rastind mat to gintiwe donr sumled und sall you sent thou sweet'st rerfwar sil\n",
            "\n",
            "      o               5\n",
            "  nosite is the world, and less mave ther ine,\n",
            "    wo lov love yout, is'e is gorter.\n",
            " \n",
            "    pon life look lasm whin  thae lift live srett,\n",
            "    ma le bat where lode ave dathe,\n",
            "  wto cay thut fove didevouded \n",
            "==================================================\n",
            "\n"
          ]
        },
        {
          "output_type": "stream",
          "name": "stderr",
          "text": [
            "Epoch : [381/1000] | : 100%|██████████| 2/2 [00:01<00:00,  1.44it/s, average_loss=0.525]\n",
            "Epoch : [382/1000] | : 100%|██████████| 2/2 [00:01<00:00,  1.48it/s, average_loss=0.533]\n",
            "Epoch : [383/1000] | : 100%|██████████| 2/2 [00:01<00:00,  1.53it/s, average_loss=0.525]\n",
            "Epoch : [384/1000] | : 100%|██████████| 2/2 [00:01<00:00,  1.54it/s, average_loss=0.472]\n",
            "Epoch : [385/1000] | : 100%|██████████| 2/2 [00:01<00:00,  1.49it/s, average_loss=0.529]\n",
            "Epoch : [386/1000] | : 100%|██████████| 2/2 [00:01<00:00,  1.52it/s, average_loss=0.472]\n",
            "Epoch : [387/1000] | : 100%|██████████| 2/2 [00:01<00:00,  1.53it/s, average_loss=0.481]\n",
            "Epoch : [388/1000] | : 100%|██████████| 2/2 [00:01<00:00,  1.49it/s, average_loss=0.518]\n",
            "Epoch : [389/1000] | : 100%|██████████| 2/2 [00:01<00:00,  1.27it/s, average_loss=0.467]\n",
            "Epoch : [390/1000] | : 100%|██████████| 2/2 [00:01<00:00,  1.44it/s, average_loss=0.502]\n"
          ]
        },
        {
          "output_type": "stream",
          "name": "stdout",
          "text": [
            "\n",
            "==================================================\n",
            "Sample output: \n",
            "thouss thas thuy in no..\n",
            "\n",
            "\n",
            "                     19\n",
            "  shouling yeter, any sumle so hing, dear my chye.\n",
            "\n",
            "\n",
            "                     3\n",
            "  look ig thy us,, a deary tho mavent will thin bee,\n",
            "  is tinge thy hos, your pay thy coult dire;\n",
            "  so shall ig loves  time an ithrreow,\n",
            "  har''s are is lefss bul ein rided,\n",
            "  seunsan timer gaalt make of the tayts wate ter sie,\n",
            "  in eone more privk that your pass shout freem, t\n",
            "==================================================\n",
            "\n"
          ]
        },
        {
          "output_type": "stream",
          "name": "stderr",
          "text": [
            "Epoch : [391/1000] | : 100%|██████████| 2/2 [00:01<00:00,  1.54it/s, average_loss=0.469]\n",
            "Epoch : [392/1000] | : 100%|██████████| 2/2 [00:01<00:00,  1.52it/s, average_loss=0.49]\n",
            "Epoch : [393/1000] | : 100%|██████████| 2/2 [00:01<00:00,  1.54it/s, average_loss=0.487]\n",
            "Epoch : [394/1000] | : 100%|██████████| 2/2 [00:01<00:00,  1.54it/s, average_loss=0.448]\n",
            "Epoch : [395/1000] | : 100%|██████████| 2/2 [00:01<00:00,  1.51it/s, average_loss=0.44]\n",
            "Epoch : [396/1000] | : 100%|██████████| 2/2 [00:01<00:00,  1.53it/s, average_loss=0.499]\n",
            "Epoch : [397/1000] | : 100%|██████████| 2/2 [00:01<00:00,  1.34it/s, average_loss=0.446]\n",
            "Epoch : [398/1000] | : 100%|██████████| 2/2 [00:01<00:00,  1.34it/s, average_loss=0.446]\n",
            "Epoch : [399/1000] | : 100%|██████████| 2/2 [00:01<00:00,  1.54it/s, average_loss=0.444]\n",
            "Epoch : [400/1000] | : 100%|██████████| 2/2 [00:01<00:00,  1.54it/s, average_loss=0.442]\n"
          ]
        },
        {
          "output_type": "stream",
          "name": "stdout",
          "text": [
            "\n",
            "==================================================\n",
            "Sample output: \n",
            "thou sollss liver t  y too\n",
            "  o wulm fay thy beauty't love timat ceaws th tile dore pent, whill nath, ade gantes fote should solp shiet,\n",
            "  my vith boree,  hat i al of yer gtage and told,\n",
            "  were sare presigumed wh reth butend of macanus,\n",
            "  which stibls to made se des men me srees, mer conary\n",
            "  so naose momy thilg times heaving thee beauty, feas,\n",
            "  thou may caml pateres lodet and beauty shill,\n",
            "  thwy guts\n",
            "==================================================\n",
            "\n"
          ]
        },
        {
          "output_type": "stream",
          "name": "stderr",
          "text": [
            "Epoch : [401/1000] | : 100%|██████████| 2/2 [00:01<00:00,  1.52it/s, average_loss=0.417]\n",
            "Epoch : [402/1000] | : 100%|██████████| 2/2 [00:01<00:00,  1.53it/s, average_loss=0.44]\n",
            "Epoch : [403/1000] | : 100%|██████████| 2/2 [00:01<00:00,  1.44it/s, average_loss=0.439]\n",
            "Epoch : [404/1000] | : 100%|██████████| 2/2 [00:01<00:00,  1.54it/s, average_loss=0.41]\n",
            "Epoch : [405/1000] | : 100%|██████████| 2/2 [00:01<00:00,  1.39it/s, average_loss=0.428]\n",
            "Epoch : [406/1000] | : 100%|██████████| 2/2 [00:01<00:00,  1.28it/s, average_loss=0.406]\n",
            "Epoch : [407/1000] | : 100%|██████████| 2/2 [00:01<00:00,  1.42it/s, average_loss=0.424]\n",
            "Epoch : [408/1000] | : 100%|██████████| 2/2 [00:01<00:00,  1.53it/s, average_loss=0.391]\n",
            "Epoch : [409/1000] | : 100%|██████████| 2/2 [00:01<00:00,  1.52it/s, average_loss=0.441]\n",
            "Epoch : [410/1000] | : 100%|██████████| 2/2 [00:01<00:00,  1.51it/s, average_loss=0.366]\n"
          ]
        },
        {
          "output_type": "stream",
          "name": "stdout",
          "text": [
            "\n",
            "==================================================\n",
            "Sample output: \n",
            "thour tigest is widot nece.\n",
            "\n",
            "\n",
            "     b               1\n",
            "  loo thas alm i done that in yours andowed\n",
            "  granth thise imoes than i momant lease, of meater, treegart the  beives shiils,\n",
            "  theneidet the wate were beauty of to seleiot,\n",
            "  be dagings elesh kuven that tibe atroch,\n",
            "  leetin creet ne isere shill togety puri.\n",
            "  nothonftter that whit sof, well dear steal wist fot love fore sleg,\n",
            "  carte not feer shoul\n",
            "==================================================\n",
            "\n"
          ]
        },
        {
          "output_type": "stream",
          "name": "stderr",
          "text": [
            "Epoch : [411/1000] | : 100%|██████████| 2/2 [00:01<00:00,  1.54it/s, average_loss=0.402]\n",
            "Epoch : [412/1000] | : 100%|██████████| 2/2 [00:01<00:00,  1.52it/s, average_loss=0.377]\n",
            "Epoch : [413/1000] | : 100%|██████████| 2/2 [00:01<00:00,  1.54it/s, average_loss=0.355]\n",
            "Epoch : [414/1000] | : 100%|██████████| 2/2 [00:01<00:00,  1.35it/s, average_loss=0.362]\n",
            "Epoch : [415/1000] | : 100%|██████████| 2/2 [00:01<00:00,  1.45it/s, average_loss=0.4]\n",
            "Epoch : [416/1000] | : 100%|██████████| 2/2 [00:01<00:00,  1.54it/s, average_loss=0.365]\n",
            "Epoch : [417/1000] | : 100%|██████████| 2/2 [00:01<00:00,  1.54it/s, average_loss=0.375]\n",
            "Epoch : [418/1000] | : 100%|██████████| 2/2 [00:01<00:00,  1.54it/s, average_loss=0.366]\n",
            "Epoch : [419/1000] | : 100%|██████████| 2/2 [00:01<00:00,  1.52it/s, average_loss=0.376]\n",
            "Epoch : [420/1000] | : 100%|██████████| 2/2 [00:01<00:00,  1.55it/s, average_loss=0.345]\n"
          ]
        },
        {
          "output_type": "stream",
          "name": "stdout",
          "text": [
            "\n",
            "==================================================\n",
            "Sample output: \n",
            "thourgs this inconshos entrjimis,\n",
            "  of so stats cals theit songaves linst the tilg,\n",
            "  ag'set thy bureow steal wair thee lo geav lnees\n",
            "  uplonlip to higtane wimh not'ouk,\n",
            "    an in he bearles thone the timet sowetse\n",
            "  dost hevomy the dot, and elinms unmemer sweate ordex,\n",
            "    thou shungly stirt mesou not a time'fur sless agains,\n",
            "  whomh nature mandes youry sals make deeare hit  ereas,\n",
            "  and faeren presh \n",
            "==================================================\n",
            "\n"
          ]
        },
        {
          "output_type": "stream",
          "name": "stderr",
          "text": [
            "Epoch : [421/1000] | : 100%|██████████| 2/2 [00:01<00:00,  1.54it/s, average_loss=0.362]\n",
            "Epoch : [422/1000] | : 100%|██████████| 2/2 [00:01<00:00,  1.35it/s, average_loss=0.37]\n",
            "Epoch : [423/1000] | : 100%|██████████| 2/2 [00:01<00:00,  1.26it/s, average_loss=0.36]\n",
            "Epoch : [424/1000] | : 100%|██████████| 2/2 [00:01<00:00,  1.51it/s, average_loss=0.377]\n",
            "Epoch : [425/1000] | : 100%|██████████| 2/2 [00:01<00:00,  1.48it/s, average_loss=0.349]\n",
            "Epoch : [426/1000] | : 100%|██████████| 2/2 [00:01<00:00,  1.54it/s, average_loss=0.362]\n",
            "Epoch : [427/1000] | : 100%|██████████| 2/2 [00:01<00:00,  1.55it/s, average_loss=0.383]\n",
            "Epoch : [428/1000] | : 100%|██████████| 2/2 [00:01<00:00,  1.51it/s, average_loss=0.343]\n",
            "Epoch : [429/1000] | : 100%|██████████| 2/2 [00:01<00:00,  1.53it/s, average_loss=0.34]\n",
            "Epoch : [430/1000] | : 100%|██████████| 2/2 [00:01<00:00,  1.55it/s, average_loss=0.348]\n"
          ]
        },
        {
          "output_type": "stream",
          "name": "stdout",
          "text": [
            "\n",
            "==================================================\n",
            "Sample output: \n",
            "thour thou youth now yot,\n",
            "  ead confom ather on the sorfd ey paltest,\n",
            "  wren als wree lease the dearcest of self-sunees so be rifh staet dou. d wen\n",
            "    os lese as mear what ey as in yowr dose in seed\n",
            "  wititeut feam wince seel-buttincoud sweeths encoons cen tite,\n",
            "  and your wert an uturt's de basring ow nett,\n",
            "  and bartit criss anl lise winter not rich onded.\n",
            " \n",
            " t  but his self-love time ooun nosg shay\n",
            "==================================================\n",
            "\n"
          ]
        },
        {
          "output_type": "stream",
          "name": "stderr",
          "text": [
            "Epoch : [431/1000] | : 100%|██████████| 2/2 [00:01<00:00,  1.29it/s, average_loss=0.349]\n",
            "Epoch : [432/1000] | : 100%|██████████| 2/2 [00:01<00:00,  1.45it/s, average_loss=0.352]\n",
            "Epoch : [433/1000] | : 100%|██████████| 2/2 [00:01<00:00,  1.53it/s, average_loss=0.352]\n",
            "Epoch : [434/1000] | : 100%|██████████| 2/2 [00:01<00:00,  1.53it/s, average_loss=0.346]\n",
            "Epoch : [435/1000] | : 100%|██████████| 2/2 [00:01<00:00,  1.52it/s, average_loss=0.343]\n",
            "Epoch : [436/1000] | : 100%|██████████| 2/2 [00:01<00:00,  1.46it/s, average_loss=0.359]\n",
            "Epoch : [437/1000] | : 100%|██████████| 2/2 [00:01<00:00,  1.53it/s, average_loss=0.368]\n",
            "Epoch : [438/1000] | : 100%|██████████| 2/2 [00:01<00:00,  1.51it/s, average_loss=0.326]\n",
            "Epoch : [439/1000] | : 100%|██████████| 2/2 [00:01<00:00,  1.54it/s, average_loss=0.34]\n",
            "Epoch : [440/1000] | : 100%|██████████| 2/2 [00:01<00:00,  1.30it/s, average_loss=0.327]\n"
          ]
        },
        {
          "output_type": "stream",
          "name": "stdout",
          "text": [
            "\n",
            "==================================================\n",
            "Sample output: \n",
            "thours ie sazeth for anowerd sweet s\n",
            "  son fid mas plifs in thy weirt nothar \n",
            "o   so lone to tome in seal you self,\n",
            "  thou shat which hisen'y shaliin high ofnamatip\n",
            "  and is ut for i hae afd muth same,\n",
            "  and ono thy alse eos gare thou geit's lige\n",
            "\n",
            "    anlo lukk dowe the birt is to purliine\n",
            "  rowah wimd muth baeut an thing aglaves use,\n",
            "  were ablat tate mosters ow in wact not you-art witt thou ton in'qu\n",
            "==================================================\n",
            "\n"
          ]
        },
        {
          "output_type": "stream",
          "name": "stderr",
          "text": [
            "Epoch : [441/1000] | : 100%|██████████| 2/2 [00:01<00:00,  1.52it/s, average_loss=0.331]\n",
            "Epoch : [442/1000] | : 100%|██████████| 2/2 [00:01<00:00,  1.52it/s, average_loss=0.336]\n",
            "Epoch : [443/1000] | : 100%|██████████| 2/2 [00:01<00:00,  1.52it/s, average_loss=0.304]\n",
            "Epoch : [444/1000] | : 100%|██████████| 2/2 [00:01<00:00,  1.53it/s, average_loss=0.321]\n",
            "Epoch : [445/1000] | : 100%|██████████| 2/2 [00:01<00:00,  1.52it/s, average_loss=0.32]\n",
            "Epoch : [446/1000] | : 100%|██████████| 2/2 [00:01<00:00,  1.54it/s, average_loss=0.333]\n",
            "Epoch : [447/1000] | : 100%|██████████| 2/2 [00:01<00:00,  1.54it/s, average_loss=0.289]\n",
            "Epoch : [448/1000] | : 100%|██████████| 2/2 [00:01<00:00,  1.33it/s, average_loss=0.296]\n",
            "Epoch : [449/1000] | : 100%|██████████| 2/2 [00:01<00:00,  1.36it/s, average_loss=0.279]\n",
            "Epoch : [450/1000] | : 100%|██████████| 2/2 [00:01<00:00,  1.55it/s, average_loss=0.277]\n"
          ]
        },
        {
          "output_type": "stream",
          "name": "stdout",
          "text": [
            "\n",
            "==================================================\n",
            "Sample output: \n",
            "thours tel's y comite\n",
            "  thy love wo n tere not lefs midet regay\n",
            "  which use sonflive thus look'st all doth speeps e\n",
            "  shemtinn heor oon mieht uld beay,\n",
            "  where an thee tryaguse exthin to beardile\n",
            "\n",
            "  which wik the beaute trresurest eech's your shell nogerbe fiire\n",
            "  whemlon yet to yet ing but you in \n",
            "e\n",
            "    in one the  bor with lints thou last a san\n",
            "\n",
            "  wor may tho  thee pouced of tayes wrich thy deatite d\n",
            "==================================================\n",
            "\n"
          ]
        },
        {
          "output_type": "stream",
          "name": "stderr",
          "text": [
            "Epoch : [451/1000] | : 100%|██████████| 2/2 [00:01<00:00,  1.55it/s, average_loss=0.309]\n",
            "Epoch : [452/1000] | : 100%|██████████| 2/2 [00:01<00:00,  1.53it/s, average_loss=0.277]\n",
            "Epoch : [453/1000] | : 100%|██████████| 2/2 [00:01<00:00,  1.54it/s, average_loss=0.28]\n",
            "Epoch : [454/1000] | : 100%|██████████| 2/2 [00:01<00:00,  1.54it/s, average_loss=0.272]\n",
            "Epoch : [455/1000] | : 100%|██████████| 2/2 [00:01<00:00,  1.53it/s, average_loss=0.278]\n",
            "Epoch : [456/1000] | : 100%|██████████| 2/2 [00:01<00:00,  1.45it/s, average_loss=0.286]\n",
            "Epoch : [457/1000] | : 100%|██████████| 2/2 [00:01<00:00,  1.30it/s, average_loss=0.286]\n",
            "Epoch : [458/1000] | : 100%|██████████| 2/2 [00:01<00:00,  1.44it/s, average_loss=0.256]\n",
            "Epoch : [459/1000] | : 100%|██████████| 2/2 [00:01<00:00,  1.54it/s, average_loss=0.254]\n",
            "Epoch : [460/1000] | : 100%|██████████| 2/2 [00:01<00:00,  1.52it/s, average_loss=0.279]\n"
          ]
        },
        {
          "output_type": "stream",
          "name": "stdout",
          "text": [
            "\n",
            "==================================================\n",
            "Sample output: \n",
            "thouns ten love?\n",
            "  to canse not uee shint nwath,\n",
            "  and that urwurt asf is that contine,\n",
            "    thy bout nou lost mane thou widd, sor salf a thore,\n",
            "  the fay thee your self, betolons, that i my addoun neg, which heav'st by sumame somd samm,\n",
            "  and ter y urhaln with timer un hiss ece miged\n",
            "  shen the wile nour your senf bunningon eay,\n",
            "  hy hivun trome womin's elqiis bearion hied,\n",
            "  that thou no commen's leas\n",
            "==================================================\n",
            "\n"
          ]
        },
        {
          "output_type": "stream",
          "name": "stderr",
          "text": [
            "Epoch : [461/1000] | : 100%|██████████| 2/2 [00:01<00:00,  1.55it/s, average_loss=0.274]\n",
            "Epoch : [462/1000] | : 100%|██████████| 2/2 [00:01<00:00,  1.53it/s, average_loss=0.287]\n",
            "Epoch : [463/1000] | : 100%|██████████| 2/2 [00:01<00:00,  1.53it/s, average_loss=0.259]\n",
            "Epoch : [464/1000] | : 100%|██████████| 2/2 [00:01<00:00,  1.55it/s, average_loss=0.278]\n",
            "Epoch : [465/1000] | : 100%|██████████| 2/2 [00:01<00:00,  1.35it/s, average_loss=0.289]\n",
            "Epoch : [466/1000] | : 100%|██████████| 2/2 [00:01<00:00,  1.42it/s, average_loss=0.26]\n",
            "Epoch : [467/1000] | : 100%|██████████| 2/2 [00:01<00:00,  1.55it/s, average_loss=0.275]\n",
            "Epoch : [468/1000] | : 100%|██████████| 2/2 [00:01<00:00,  1.44it/s, average_loss=0.271]\n",
            "Epoch : [469/1000] | : 100%|██████████| 2/2 [00:01<00:00,  1.53it/s, average_loss=0.259]\n",
            "Epoch : [470/1000] | : 100%|██████████| 2/2 [00:01<00:00,  1.55it/s, average_loss=0.266]\n"
          ]
        },
        {
          "output_type": "stream",
          "name": "stdout",
          "text": [
            "\n",
            "==================================================\n",
            "Sample output: \n",
            "thour thou women's fa-suon,\n",
            "  and banle ceurl kand she didoth reate\n",
            "  af if with winters and beauty's deom and canlt,\n",
            "  with reith worbd and make theury wistars,\n",
            "  in tonger yeurs in thou a ighti lodew\n",
            "  ghike sweete flime your self heins to ment.\n",
            "  and beinge sunked the exert of tome ;-weretest,\n",
            "  ther beauly wath which if attold awf dee\n",
            "  some momgend wist foll, with nwath for wilte\n",
            "  of you, were ma\n",
            "==================================================\n",
            "\n"
          ]
        },
        {
          "output_type": "stream",
          "name": "stderr",
          "text": [
            "Epoch : [471/1000] | : 100%|██████████| 2/2 [00:01<00:00,  1.54it/s, average_loss=0.259]\n",
            "Epoch : [472/1000] | : 100%|██████████| 2/2 [00:01<00:00,  1.53it/s, average_loss=0.25]\n",
            "Epoch : [473/1000] | : 100%|██████████| 2/2 [00:01<00:00,  1.38it/s, average_loss=0.257]\n",
            "Epoch : [474/1000] | : 100%|██████████| 2/2 [00:01<00:00,  1.29it/s, average_loss=0.225]\n",
            "Epoch : [475/1000] | : 100%|██████████| 2/2 [00:01<00:00,  1.48it/s, average_loss=0.261]\n",
            "Epoch : [476/1000] | : 100%|██████████| 2/2 [00:01<00:00,  1.55it/s, average_loss=0.257]\n",
            "Epoch : [477/1000] | : 100%|██████████| 2/2 [00:01<00:00,  1.54it/s, average_loss=0.244]\n",
            "Epoch : [478/1000] | : 100%|██████████| 2/2 [00:01<00:00,  1.53it/s, average_loss=0.234]\n",
            "Epoch : [479/1000] | : 100%|██████████| 2/2 [00:01<00:00,  1.54it/s, average_loss=0.247]\n",
            "Epoch : [480/1000] | : 100%|██████████| 2/2 [00:01<00:00,  1.54it/s, average_loss=0.25]\n"
          ]
        },
        {
          "output_type": "stream",
          "name": "stdout",
          "text": [
            "\n",
            "==================================================\n",
            "Sample output: \n",
            "thou gontrioned they loot now and,\n",
            "  a tome ther blawten fart not rowe\n",
            "  and epface their beauty seast not colden.\n",
            "   \n",
            "u whe lovett grew allesh in the fareest dof ic uee,\n",
            "  thy world tom myec, eas blat to orpear,\n",
            "  mich howand thing gonosy uldin thy pronain,\n",
            "    whach het baseell suns ane shill nouthrand,\n",
            "  bar ten sterm ind now wren hat by oury praasy,\n",
            "  ceran tay puce untering tild, and hun, ererhlll\n",
            "==================================================\n",
            "\n"
          ]
        },
        {
          "output_type": "stream",
          "name": "stderr",
          "text": [
            "Epoch : [481/1000] | : 100%|██████████| 2/2 [00:01<00:00,  1.26it/s, average_loss=0.231]\n",
            "Epoch : [482/1000] | : 100%|██████████| 2/2 [00:01<00:00,  1.26it/s, average_loss=0.233]\n",
            "Epoch : [483/1000] | : 100%|██████████| 2/2 [00:01<00:00,  1.41it/s, average_loss=0.232]\n",
            "Epoch : [484/1000] | : 100%|██████████| 2/2 [00:01<00:00,  1.53it/s, average_loss=0.232]\n",
            "Epoch : [485/1000] | : 100%|██████████| 2/2 [00:01<00:00,  1.54it/s, average_loss=0.241]\n",
            "Epoch : [486/1000] | : 100%|██████████| 2/2 [00:01<00:00,  1.53it/s, average_loss=0.237]\n",
            "Epoch : [487/1000] | : 100%|██████████| 2/2 [00:01<00:00,  1.55it/s, average_loss=0.24]\n",
            "Epoch : [488/1000] | : 100%|██████████| 2/2 [00:01<00:00,  1.52it/s, average_loss=0.233]\n",
            "Epoch : [489/1000] | : 100%|██████████| 2/2 [00:01<00:00,  1.53it/s, average_loss=0.219]\n",
            "Epoch : [490/1000] | : 100%|██████████| 2/2 [00:01<00:00,  1.54it/s, average_loss=0.249]\n"
          ]
        },
        {
          "output_type": "stream",
          "name": "stdout",
          "text": [
            "\n",
            "==================================================\n",
            "Sample output: \n",
            "thours ten wonte thou besed'wt, ten art,\n",
            "  and barne uranor hear of the world dor hn,\n",
            "  and tur ast hes bland comsont, like gardd when ant beart not elf-wulled forh soll, and beanten yoreares,\n",
            "  wecense uneiqred inored whatc ho  and-nuved presemy\n",
            "  uld seat of summ you she times day thine\n",
            "  that of you son sels tha ginge, and efjmy,\n",
            "  and bearte crang thou bear'st ble dond eayeth choll,\n",
            "  broug he bean\n",
            "==================================================\n",
            "\n"
          ]
        },
        {
          "output_type": "stream",
          "name": "stderr",
          "text": [
            "Epoch : [491/1000] | : 100%|██████████| 2/2 [00:01<00:00,  1.28it/s, average_loss=0.229]\n",
            "Epoch : [492/1000] | : 100%|██████████| 2/2 [00:01<00:00,  1.46it/s, average_loss=0.235]\n",
            "Epoch : [493/1000] | : 100%|██████████| 2/2 [00:01<00:00,  1.54it/s, average_loss=0.23]\n",
            "Epoch : [494/1000] | : 100%|██████████| 2/2 [00:01<00:00,  1.49it/s, average_loss=0.208]\n",
            "Epoch : [495/1000] | : 100%|██████████| 2/2 [00:01<00:00,  1.55it/s, average_loss=0.224]\n",
            "Epoch : [496/1000] | : 100%|██████████| 2/2 [00:01<00:00,  1.53it/s, average_loss=0.223]\n",
            "Epoch : [497/1000] | : 100%|██████████| 2/2 [00:01<00:00,  1.52it/s, average_loss=0.206]\n",
            "Epoch : [498/1000] | : 100%|██████████| 2/2 [00:01<00:00,  1.52it/s, average_loss=0.227]\n",
            "Epoch : [499/1000] | : 100%|██████████| 2/2 [00:01<00:00,  1.36it/s, average_loss=0.207]\n",
            "Epoch : [500/1000] | : 100%|██████████| 2/2 [00:01<00:00,  1.28it/s, average_loss=0.231]\n"
          ]
        },
        {
          "output_type": "stream",
          "name": "stdout",
          "text": [
            "\n",
            "==================================================\n",
            "Sample output: \n",
            "thour beiud shilk,\n",
            "  or ton thy self at far sat sum of son sons in ray\n",
            "  solntir the loivs that eefurer love to be.\n",
            "\n",
            "                      1\n",
            "  when i ton weer nothy sweet sen hos ole beale d\n",
            "  beants, the live yur fair whith in joyso\n",
            "  befoly thy loft an wilt and loot \n",
            "o  and efpat get se kalv led to pae,\n",
            "  when a  ebceid the oreed mish beauty his, net call,\n",
            "  whace she fasce showld and loke mase in pa\n",
            "==================================================\n",
            "\n"
          ]
        },
        {
          "output_type": "stream",
          "name": "stderr",
          "text": [
            "Epoch : [501/1000] | : 100%|██████████| 2/2 [00:01<00:00,  1.44it/s, average_loss=0.233]\n",
            "Epoch : [502/1000] | : 100%|██████████| 2/2 [00:01<00:00,  1.52it/s, average_loss=0.224]\n",
            "Epoch : [503/1000] | : 100%|██████████| 2/2 [00:01<00:00,  1.55it/s, average_loss=0.216]\n",
            "Epoch : [504/1000] | : 100%|██████████| 2/2 [00:01<00:00,  1.52it/s, average_loss=0.226]\n",
            "Epoch : [505/1000] | : 100%|██████████| 2/2 [00:01<00:00,  1.55it/s, average_loss=0.189]\n",
            "Epoch : [506/1000] | : 100%|██████████| 2/2 [00:01<00:00,  1.54it/s, average_loss=0.214]\n",
            "Epoch : [507/1000] | : 100%|██████████| 2/2 [00:01<00:00,  1.53it/s, average_loss=0.225]\n",
            "Epoch : [508/1000] | : 100%|██████████| 2/2 [00:01<00:00,  1.30it/s, average_loss=0.2]\n",
            "Epoch : [509/1000] | : 100%|██████████| 2/2 [00:01<00:00,  1.46it/s, average_loss=0.21]\n",
            "Epoch : [510/1000] | : 100%|██████████| 2/2 [00:01<00:00,  1.51it/s, average_loss=0.216]\n"
          ]
        },
        {
          "output_type": "stream",
          "name": "stdout",
          "text": [
            "\n",
            "==================================================\n",
            "Sample output: \n",
            "thours yew rase\n",
            "  in treestor highled to at powh part not love?\n",
            "  for have ig wat whet thou feel stibl doatay,\n",
            "  in the to ruge of dear hy dosthet us pherest,\n",
            "  bean'ss by fuith cormentire dost thoug     o es be thy beouteon usert but in thou gold,\n",
            "  ino end thy love not tome to y uneomest,\n",
            "  which your men robe in thig contengs ing,\n",
            "  i seave un trurk you noce to suileed on my veryes.\n",
            " \n",
            "    whe were t\n",
            "==================================================\n",
            "\n"
          ]
        },
        {
          "output_type": "stream",
          "name": "stderr",
          "text": [
            "Epoch : [511/1000] | : 100%|██████████| 2/2 [00:01<00:00,  1.50it/s, average_loss=0.211]\n",
            "Epoch : [512/1000] | : 100%|██████████| 2/2 [00:01<00:00,  1.55it/s, average_loss=0.186]\n",
            "Epoch : [513/1000] | : 100%|██████████| 2/2 [00:01<00:00,  1.54it/s, average_loss=0.204]\n",
            "Epoch : [514/1000] | : 100%|██████████| 2/2 [00:01<00:00,  1.53it/s, average_loss=0.202]\n",
            "Epoch : [515/1000] | : 100%|██████████| 2/2 [00:01<00:00,  1.54it/s, average_loss=0.2]\n",
            "Epoch : [516/1000] | : 100%|██████████| 2/2 [00:01<00:00,  1.36it/s, average_loss=0.199]\n",
            "Epoch : [517/1000] | : 100%|██████████| 2/2 [00:01<00:00,  1.30it/s, average_loss=0.197]\n",
            "Epoch : [518/1000] | : 100%|██████████| 2/2 [00:01<00:00,  1.53it/s, average_loss=0.195]\n",
            "Epoch : [519/1000] | : 100%|██████████| 2/2 [00:01<00:00,  1.54it/s, average_loss=0.189]\n",
            "Epoch : [520/1000] | : 100%|██████████| 2/2 [00:01<00:00,  1.53it/s, average_loss=0.205]\n"
          ]
        },
        {
          "output_type": "stream",
          "name": "stdout",
          "text": [
            "\n",
            "==================================================\n",
            "Sample output: \n",
            "thoul time's  s\n",
            "y whosg a sunbor dath on yourh constern tame\n",
            "  if thou roser'lyss beauty sommestoun dear shine,\n",
            "    to loog lives thus, in tis shous oot mand swill tee tom brsow wayy wher thour grens ho.\n",
            "\n",
            "\n",
            "                    6  \n",
            "\n",
            "  then i cencloute this geany somh time,\n",
            "  secs you moth right in quasteot ky four forn onougest in the senflelig rece?\n",
            "  afd if thou isoulser sape sonthe fot selb-sucled,\n",
            "  \n",
            "==================================================\n",
            "\n"
          ]
        },
        {
          "output_type": "stream",
          "name": "stderr",
          "text": [
            "Epoch : [521/1000] | : 100%|██████████| 2/2 [00:01<00:00,  1.53it/s, average_loss=0.186]\n",
            "Epoch : [522/1000] | : 100%|██████████| 2/2 [00:01<00:00,  1.53it/s, average_loss=0.207]\n",
            "Epoch : [523/1000] | : 100%|██████████| 2/2 [00:01<00:00,  1.52it/s, average_loss=0.196]\n",
            "Epoch : [524/1000] | : 100%|██████████| 2/2 [00:01<00:00,  1.45it/s, average_loss=0.197]\n",
            "Epoch : [525/1000] | : 100%|██████████| 2/2 [00:01<00:00,  1.30it/s, average_loss=0.19]\n",
            "Epoch : [526/1000] | : 100%|██████████| 2/2 [00:01<00:00,  1.46it/s, average_loss=0.193]\n",
            "Epoch : [527/1000] | : 100%|██████████| 2/2 [00:01<00:00,  1.50it/s, average_loss=0.186]\n",
            "Epoch : [528/1000] | : 100%|██████████| 2/2 [00:01<00:00,  1.52it/s, average_loss=0.173]\n",
            "Epoch : [529/1000] | : 100%|██████████| 2/2 [00:01<00:00,  1.54it/s, average_loss=0.178]\n",
            "Epoch : [530/1000] | : 100%|██████████| 2/2 [00:01<00:00,  1.52it/s, average_loss=0.163]\n"
          ]
        },
        {
          "output_type": "stream",
          "name": "stdout",
          "text": [
            "\n",
            "==================================================\n",
            "Sample output: \n",
            "thoun that woll tho efay,\n",
            "  thou shael this time's fash wom nat daes,\n",
            "  and weantef carmed asteldot mest,\n",
            "  and teares rese sune semflo ledas art,\n",
            "  and make wormm and hor lides frese growed the long,\n",
            "  and being fanser, the earte of deare;\n",
            ", she lave your sile, and summen se\n",
            "  hast herel sem the ube tom should ond,rin,\n",
            "  that moyer pellat so kad in hase,\n",
            "  and falref clands that self ap shealts in col\n",
            "==================================================\n",
            "\n"
          ]
        },
        {
          "output_type": "stream",
          "name": "stderr",
          "text": [
            "Epoch : [531/1000] | : 100%|██████████| 2/2 [00:01<00:00,  1.52it/s, average_loss=0.177]\n",
            "Epoch : [532/1000] | : 100%|██████████| 2/2 [00:01<00:00,  1.54it/s, average_loss=0.174]\n",
            "Epoch : [533/1000] | : 100%|██████████| 2/2 [00:01<00:00,  1.27it/s, average_loss=0.18]\n",
            "Epoch : [534/1000] | : 100%|██████████| 2/2 [00:01<00:00,  1.40it/s, average_loss=0.166]\n",
            "Epoch : [535/1000] | : 100%|██████████| 2/2 [00:01<00:00,  1.54it/s, average_loss=0.179]\n",
            "Epoch : [536/1000] | : 100%|██████████| 2/2 [00:01<00:00,  1.51it/s, average_loss=0.214]\n",
            "Epoch : [537/1000] | : 100%|██████████| 2/2 [00:01<00:00,  1.50it/s, average_loss=0.158]\n",
            "Epoch : [538/1000] | : 100%|██████████| 2/2 [00:01<00:00,  1.54it/s, average_loss=0.163]\n",
            "Epoch : [539/1000] | : 100%|██████████| 2/2 [00:01<00:00,  1.54it/s, average_loss=0.175]\n",
            "Epoch : [540/1000] | : 100%|██████████| 2/2 [00:01<00:00,  1.53it/s, average_loss=0.16]\n"
          ]
        },
        {
          "output_type": "stream",
          "name": "stdout",
          "text": [
            "\n",
            "==================================================\n",
            "Sample output: \n",
            "thougs it wone\n",
            "  the world wiel the this ate shill angy and detat on wirl,\n",
            "  whore berave this inangushin shame doth evate \n",
            "o fron links do shike the trick thu  gend al tele\n",
            "  then bes to thou sreellsss thou the tives nowerd,\n",
            "  unt enberult dip sonser with deart eyu,\n",
            "  desey thou wrint so lons ond beatt not mead,\n",
            "    so ldow trate an werhew untad woth nell soon\n",
            "  geeding thy worse nor lifare of ond elo\n",
            "==================================================\n",
            "\n"
          ]
        },
        {
          "output_type": "stream",
          "name": "stderr",
          "text": [
            "Epoch : [541/1000] | : 100%|██████████| 2/2 [00:01<00:00,  1.38it/s, average_loss=0.165]\n",
            "Epoch : [542/1000] | : 100%|██████████| 2/2 [00:01<00:00,  1.29it/s, average_loss=0.168]\n",
            "Epoch : [543/1000] | : 100%|██████████| 2/2 [00:01<00:00,  1.46it/s, average_loss=0.168]\n",
            "Epoch : [544/1000] | : 100%|██████████| 2/2 [00:01<00:00,  1.51it/s, average_loss=0.163]\n",
            "Epoch : [545/1000] | : 100%|██████████| 2/2 [00:01<00:00,  1.53it/s, average_loss=0.189]\n",
            "Epoch : [546/1000] | : 100%|██████████| 2/2 [00:01<00:00,  1.53it/s, average_loss=0.175]\n",
            "Epoch : [547/1000] | : 100%|██████████| 2/2 [00:01<00:00,  1.51it/s, average_loss=0.166]\n",
            "Epoch : [548/1000] | : 100%|██████████| 2/2 [00:01<00:00,  1.53it/s, average_loss=0.166]\n",
            "Epoch : [549/1000] | : 100%|██████████| 2/2 [00:01<00:00,  1.53it/s, average_loss=0.162]\n",
            "Epoch : [550/1000] | : 100%|██████████| 2/2 [00:01<00:00,  1.34it/s, average_loss=0.169]\n"
          ]
        },
        {
          "output_type": "stream",
          "name": "stdout",
          "text": [
            "\n",
            "==================================================\n",
            "Sample output: \n",
            "thours beauty's conseare,\n",
            "  sate heaven ratuel, of ny semsest not heavent,\n",
            "  sall nake thea your solf that pair thee\n",
            "  call aal ey ceise this (tembesien of thine sis.\n",
            "\n",
            "                     10\n",
            "  o that you were moth blave yauty earted jowe ir gro \n",
            "  ald ain the trisch thiu ere thou tref's,\n",
            "    so long lives this, and this govely pars\n",
            "   \n",
            "  not te ere prive noterep of heary whiden strenve.\n",
            "    thos wore \n",
            "==================================================\n",
            "\n"
          ]
        },
        {
          "output_type": "stream",
          "name": "stderr",
          "text": [
            "Epoch : [551/1000] | : 100%|██████████| 2/2 [00:01<00:00,  1.44it/s, average_loss=0.163]\n",
            "Epoch : [552/1000] | : 100%|██████████| 2/2 [00:01<00:00,  1.54it/s, average_loss=0.177]\n",
            "Epoch : [553/1000] | : 100%|██████████| 2/2 [00:01<00:00,  1.52it/s, average_loss=0.161]\n",
            "Epoch : [554/1000] | : 100%|██████████| 2/2 [00:01<00:00,  1.55it/s, average_loss=0.18]\n",
            "Epoch : [555/1000] | : 100%|██████████| 2/2 [00:01<00:00,  1.54it/s, average_loss=0.159]\n",
            "Epoch : [556/1000] | : 100%|██████████| 2/2 [00:01<00:00,  1.50it/s, average_loss=0.174]\n",
            "Epoch : [557/1000] | : 100%|██████████| 2/2 [00:01<00:00,  1.53it/s, average_loss=0.164]\n",
            "Epoch : [558/1000] | : 100%|██████████| 2/2 [00:01<00:00,  1.49it/s, average_loss=0.17]\n",
            "Epoch : [559/1000] | : 100%|██████████| 2/2 [00:01<00:00,  1.30it/s, average_loss=0.17]\n",
            "Epoch : [560/1000] | : 100%|██████████| 2/2 [00:01<00:00,  1.45it/s, average_loss=0.15]\n"
          ]
        },
        {
          "output_type": "stream",
          "name": "stdout",
          "text": [
            "\n",
            "==================================================\n",
            "Sample output: \n",
            "thoue tromt you dele?\n",
            "  to conger on jiyss live stringe winter and lafoy's pars, her in subseas shile,\n",
            "  he some ching ingy his thunger your sof this tho tene,\n",
            "  and every fvire thife that gone touvh,\n",
            "   as the thy botume more depires thy counte time\n",
            "  then what fore bucus wy this eetimy detise.\n",
            "\n",
            "\n",
            "                     10\n",
            "  for shame censt and thine  ame his lease shimt hleoko sald wren on ene prunten n\n",
            "==================================================\n",
            "\n"
          ]
        },
        {
          "output_type": "stream",
          "name": "stderr",
          "text": [
            "Epoch : [561/1000] | : 100%|██████████| 2/2 [00:01<00:00,  1.53it/s, average_loss=0.166]\n",
            "Epoch : [562/1000] | : 100%|██████████| 2/2 [00:01<00:00,  1.55it/s, average_loss=0.163]\n",
            "Epoch : [563/1000] | : 100%|██████████| 2/2 [00:01<00:00,  1.53it/s, average_loss=0.146]\n",
            "Epoch : [564/1000] | : 100%|██████████| 2/2 [00:01<00:00,  1.53it/s, average_loss=0.162]\n",
            "Epoch : [565/1000] | : 100%|██████████| 2/2 [00:01<00:00,  1.53it/s, average_loss=0.149]\n",
            "Epoch : [566/1000] | : 100%|██████████| 2/2 [00:01<00:00,  1.43it/s, average_loss=0.15]\n",
            "Epoch : [567/1000] | : 100%|██████████| 2/2 [00:01<00:00,  1.33it/s, average_loss=0.151]\n",
            "Epoch : [568/1000] | : 100%|██████████| 2/2 [00:01<00:00,  1.41it/s, average_loss=0.147]\n",
            "Epoch : [569/1000] | : 100%|██████████| 2/2 [00:01<00:00,  1.50it/s, average_loss=0.139]\n",
            "Epoch : [570/1000] | : 100%|██████████| 2/2 [00:01<00:00,  1.53it/s, average_loss=0.152]\n"
          ]
        },
        {
          "output_type": "stream",
          "name": "stdout",
          "text": [
            "\n",
            "==================================================\n",
            "Sample output: \n",
            "thoug that with thye  erf love dowe dote thou art bucod wint,\n",
            "  the baunteous giff thou shouldst in bounty meme the hrewad und;\n",
            "  if thou cruet a sumt os thee concong saale matesh, faar shee,\n",
            "  tree ay sulr ele she wadin their ay)\n",
            "  lat se thy see, who chouldse buring rece,, ne eless of lies to thime antomberd wime,\n",
            "  and trect chen i ahe worn the tirue tront othed\n",
            "    lo se fome tout to sit, a thal go\n",
            "==================================================\n",
            "\n"
          ]
        },
        {
          "output_type": "stream",
          "name": "stderr",
          "text": [
            "Epoch : [571/1000] | : 100%|██████████| 2/2 [00:01<00:00,  1.55it/s, average_loss=0.145]\n",
            "Epoch : [572/1000] | : 100%|██████████| 2/2 [00:01<00:00,  1.51it/s, average_loss=0.14]\n",
            "Epoch : [573/1000] | : 100%|██████████| 2/2 [00:01<00:00,  1.52it/s, average_loss=0.146]\n",
            "Epoch : [574/1000] | : 100%|██████████| 2/2 [00:01<00:00,  1.53it/s, average_loss=0.148]\n",
            "Epoch : [575/1000] | : 100%|██████████| 2/2 [00:01<00:00,  1.38it/s, average_loss=0.146]\n",
            "Epoch : [576/1000] | : 100%|██████████| 2/2 [00:01<00:00,  1.26it/s, average_loss=0.145]\n",
            "Epoch : [577/1000] | : 100%|██████████| 2/2 [00:01<00:00,  1.44it/s, average_loss=0.16]\n",
            "Epoch : [578/1000] | : 100%|██████████| 2/2 [00:01<00:00,  1.54it/s, average_loss=0.147]\n",
            "Epoch : [579/1000] | : 100%|██████████| 2/2 [00:01<00:00,  1.51it/s, average_loss=0.133]\n",
            "Epoch : [580/1000] | : 100%|██████████| 2/2 [00:01<00:00,  1.54it/s, average_loss=0.135]\n"
          ]
        },
        {
          "output_type": "stream",
          "name": "stdout",
          "text": [
            "\n",
            "==================================================\n",
            "Sample output: \n",
            "thounss e's roet that i wan\n",
            "  shet corg.d thou that wistow,\n",
            "  derai merly kere than ger arointerase dach one,\n",
            "  and your most il than geatily suls sor shace dith,\n",
            "  so mone the life to seive indesoon eyet neth'.\n",
            "\n",
            "\n",
            "                     19\n",
            "  when i censie ere lives that beauteous roow doctirate\n",
            "  which to eyread sweet beard ey selfes writh sheast,\n",
            "  and in farmenr shell-menate the baureos wiyh,\n",
            "  she liv\n",
            "==================================================\n",
            "\n"
          ]
        },
        {
          "output_type": "stream",
          "name": "stderr",
          "text": [
            "Epoch : [581/1000] | : 100%|██████████| 2/2 [00:01<00:00,  1.54it/s, average_loss=0.143]\n",
            "Epoch : [582/1000] | : 100%|██████████| 2/2 [00:01<00:00,  1.53it/s, average_loss=0.141]\n",
            "Epoch : [583/1000] | : 100%|██████████| 2/2 [00:01<00:00,  1.53it/s, average_loss=0.139]\n",
            "Epoch : [584/1000] | : 100%|██████████| 2/2 [00:01<00:00,  1.34it/s, average_loss=0.147]\n",
            "Epoch : [585/1000] | : 100%|██████████| 2/2 [00:01<00:00,  1.48it/s, average_loss=0.145]\n",
            "Epoch : [586/1000] | : 100%|██████████| 2/2 [00:01<00:00,  1.52it/s, average_loss=0.134]\n",
            "Epoch : [587/1000] | : 100%|██████████| 2/2 [00:01<00:00,  1.54it/s, average_loss=0.145]\n",
            "Epoch : [588/1000] | : 100%|██████████| 2/2 [00:01<00:00,  1.54it/s, average_loss=0.138]\n",
            "Epoch : [589/1000] | : 100%|██████████| 2/2 [00:01<00:00,  1.54it/s, average_loss=0.137]\n",
            "Epoch : [590/1000] | : 100%|██████████| 2/2 [00:01<00:00,  1.53it/s, average_loss=0.13]\n"
          ]
        },
        {
          "output_type": "stream",
          "name": "stdout",
          "text": [
            "\n",
            "==================================================\n",
            "Sample output: \n",
            "thouns im gant thou nit'ln swall,\n",
            "  and men thy stirm men to ceate?\n",
            "  when beiut tor thine on wister's gayg and deat\n",
            "  or eavoun etire want from theid sentle?\n",
            "  so ghele in ser of mingt be terminut, and somt much thee\n",
            "  then chacke of thane ent beartest now the days\n",
            "  thou ant mereblb not thou ate in histloss,\n",
            "  whach she nutuer fair of thou simes pllats\n",
            "  silde of thy geans to theis the diresterd farm\n",
            "==================================================\n",
            "\n"
          ]
        },
        {
          "output_type": "stream",
          "name": "stderr",
          "text": [
            "Epoch : [591/1000] | : 100%|██████████| 2/2 [00:01<00:00,  1.53it/s, average_loss=0.14]\n",
            "Epoch : [592/1000] | : 100%|██████████| 2/2 [00:01<00:00,  1.35it/s, average_loss=0.14]\n",
            "Epoch : [593/1000] | : 100%|██████████| 2/2 [00:01<00:00,  1.26it/s, average_loss=0.137]\n",
            "Epoch : [594/1000] | : 100%|██████████| 2/2 [00:01<00:00,  1.47it/s, average_loss=0.136]\n",
            "Epoch : [595/1000] | : 100%|██████████| 2/2 [00:01<00:00,  1.55it/s, average_loss=0.134]\n",
            "Epoch : [596/1000] | : 100%|██████████| 2/2 [00:01<00:00,  1.49it/s, average_loss=0.138]\n",
            "Epoch : [597/1000] | : 100%|██████████| 2/2 [00:01<00:00,  1.55it/s, average_loss=0.146]\n",
            "Epoch : [598/1000] | : 100%|██████████| 2/2 [00:01<00:00,  1.42it/s, average_loss=0.142]\n",
            "Epoch : [599/1000] | : 100%|██████████| 2/2 [00:01<00:00,  1.51it/s, average_loss=0.121]\n",
            "Epoch : [600/1000] | : 100%|██████████| 2/2 [00:01<00:00,  1.52it/s, average_loss=0.146]\n"
          ]
        },
        {
          "output_type": "stream",
          "name": "stdout",
          "text": [
            "\n",
            "==================================================\n",
            "Sample output: \n",
            "thoues to hive denime.\n",
            " \n",
            "                      3\n",
            "  look in thy glass and telf, and stall to pare,\n",
            "  thou thou wrrith swifte to be ufdoindd deepite,\n",
            "  be whom thy self, to bre wintew dote unowe\n",
            "  with beint to thee in whith grinl,\n",
            "  mote nog the wirls wilt be tikes awe decornst,\n",
            "  ind one the urer subleas to anot beanty sweet,\n",
            "  ther id buarteswister shauld by time decresse,\n",
            "  his tenere meir might bear\n",
            "==================================================\n",
            "\n"
          ]
        },
        {
          "output_type": "stream",
          "name": "stderr",
          "text": [
            "Epoch : [601/1000] | : 100%|██████████| 2/2 [00:01<00:00,  1.28it/s, average_loss=0.139]\n",
            "Epoch : [602/1000] | : 100%|██████████| 2/2 [00:01<00:00,  1.44it/s, average_loss=0.131]\n",
            "Epoch : [603/1000] | : 100%|██████████| 2/2 [00:01<00:00,  1.52it/s, average_loss=0.131]\n",
            "Epoch : [604/1000] | : 100%|██████████| 2/2 [00:01<00:00,  1.53it/s, average_loss=0.132]\n",
            "Epoch : [605/1000] | : 100%|██████████| 2/2 [00:01<00:00,  1.52it/s, average_loss=0.15]\n",
            "Epoch : [606/1000] | : 100%|██████████| 2/2 [00:01<00:00,  1.53it/s, average_loss=0.136]\n",
            "Epoch : [607/1000] | : 100%|██████████| 2/2 [00:01<00:00,  1.52it/s, average_loss=0.137]\n",
            "Epoch : [608/1000] | : 100%|██████████| 2/2 [00:01<00:00,  1.55it/s, average_loss=0.137]\n",
            "Epoch : [609/1000] | : 100%|██████████| 2/2 [00:01<00:00,  1.52it/s, average_loss=0.126]\n",
            "Epoch : [610/1000] | : 100%|██████████| 2/2 [00:01<00:00,  1.26it/s, average_loss=0.139]\n"
          ]
        },
        {
          "output_type": "stream",
          "name": "stdout",
          "text": [
            "\n",
            "==================================================\n",
            "Sample output: \n",
            "thour thait not maye\n",
            "  far seallss age hear dadotens, beur steel\n",
            "\n",
            "  then mature far mer sebfrand thou liet race for atoud coutste teirs decairse\n",
            "  which heake and three ast beavest dome xhose\n",
            "  son time thy sol ale sor lefe af ineres same,\n",
            "  the your sweet issue your sweet form should bear.  where asunee start a por,\n",
            "  not heanter shall beat mif tou counmert'st it hease\n",
            "  fhicu bud not conbedit nithise\n",
            "==================================================\n",
            "\n"
          ]
        },
        {
          "output_type": "stream",
          "name": "stderr",
          "text": [
            "Epoch : [611/1000] | : 100%|██████████| 2/2 [00:01<00:00,  1.53it/s, average_loss=0.136]\n",
            "Epoch : [612/1000] | : 100%|██████████| 2/2 [00:01<00:00,  1.51it/s, average_loss=0.134]\n",
            "Epoch : [613/1000] | : 100%|██████████| 2/2 [00:01<00:00,  1.53it/s, average_loss=0.137]\n",
            "Epoch : [614/1000] | : 100%|██████████| 2/2 [00:01<00:00,  1.53it/s, average_loss=0.146]\n",
            "Epoch : [615/1000] | : 100%|██████████| 2/2 [00:01<00:00,  1.53it/s, average_loss=0.128]\n",
            "Epoch : [616/1000] | : 100%|██████████| 2/2 [00:01<00:00,  1.53it/s, average_loss=0.131]\n",
            "Epoch : [617/1000] | : 100%|██████████| 2/2 [00:01<00:00,  1.52it/s, average_loss=0.128]\n",
            "Epoch : [618/1000] | : 100%|██████████| 2/2 [00:01<00:00,  1.34it/s, average_loss=0.139]\n",
            "Epoch : [619/1000] | : 100%|██████████| 2/2 [00:01<00:00,  1.22it/s, average_loss=0.128]\n",
            "Epoch : [620/1000] | : 100%|██████████| 2/2 [00:01<00:00,  1.26it/s, average_loss=0.129]\n"
          ]
        },
        {
          "output_type": "stream",
          "name": "stdout",
          "text": [
            "\n",
            "==================================================\n",
            "Sample output: \n",
            "thoues penevert thou dec.'\n",
            "\n",
            "\n",
            "                     17\n",
            "  who will believe my verse in time touch ceald,\n",
            "  wimh veint thou bost thy eber to chee\n",
            "  feel fere shiel lige to phencoet not tree,\n",
            "   y cenv'n entirion should but nomer-de),\n",
            "  and sent ard streth meant some-ot one sounce dort sheud,\n",
            "  and feir fuem summes see i eontief wall\n",
            "  for sals, and summer sereavall nate,\n",
            "  and in the risere us but you tomb\n",
            "==================================================\n",
            "\n"
          ]
        },
        {
          "output_type": "stream",
          "name": "stderr",
          "text": [
            "Epoch : [621/1000] | : 100%|██████████| 2/2 [00:01<00:00,  1.50it/s, average_loss=0.115]\n",
            "Epoch : [622/1000] | : 100%|██████████| 2/2 [00:01<00:00,  1.52it/s, average_loss=0.119]\n",
            "Epoch : [623/1000] | : 100%|██████████| 2/2 [00:01<00:00,  1.53it/s, average_loss=0.129]\n",
            "Epoch : [624/1000] | : 100%|██████████| 2/2 [00:01<00:00,  1.53it/s, average_loss=0.127]\n",
            "Epoch : [625/1000] | : 100%|██████████| 2/2 [00:01<00:00,  1.54it/s, average_loss=0.125]\n",
            "Epoch : [626/1000] | : 100%|██████████| 2/2 [00:01<00:00,  1.37it/s, average_loss=0.132]\n",
            "Epoch : [627/1000] | : 100%|██████████| 2/2 [00:01<00:00,  1.28it/s, average_loss=0.131]\n",
            "Epoch : [628/1000] | : 100%|██████████| 2/2 [00:01<00:00,  1.54it/s, average_loss=0.118]\n",
            "Epoch : [629/1000] | : 100%|██████████| 2/2 [00:01<00:00,  1.54it/s, average_loss=0.126]\n",
            "Epoch : [630/1000] | : 100%|██████████| 2/2 [00:01<00:00,  1.52it/s, average_loss=0.123]\n"
          ]
        },
        {
          "output_type": "stream",
          "name": "stdout",
          "text": [
            "\n",
            "==================================================\n",
            "Sample output: \n",
            "thour tim succe seif,\n",
            "  the conle to be ow well hat toof ar onpesse weme may' leages in nite\n",
            "  no whil i foy lov but thou bear'st hil thine s,\n",
            "  and in effar numhers beant mant tee,,\n",
            "  at self your sruel sabt do thinf coursier time,\n",
            "  a carls wite to en wirm nothles ewer so par. so\n",
            "  dorihat the looked dise glad yor sams in winel fard ann more,\n",
            "  geans in tens il exeto not meowhy\n",
            "  thou most my sell we\n",
            "==================================================\n",
            "\n"
          ]
        },
        {
          "output_type": "stream",
          "name": "stderr",
          "text": [
            "Epoch : [631/1000] | : 100%|██████████| 2/2 [00:01<00:00,  1.41it/s, average_loss=0.11]\n",
            "Epoch : [632/1000] | : 100%|██████████| 2/2 [00:01<00:00,  1.53it/s, average_loss=0.119]\n",
            "Epoch : [633/1000] | : 100%|██████████| 2/2 [00:01<00:00,  1.53it/s, average_loss=0.132]\n",
            "Epoch : [634/1000] | : 100%|██████████| 2/2 [00:01<00:00,  1.43it/s, average_loss=0.123]\n",
            "Epoch : [635/1000] | : 100%|██████████| 2/2 [00:01<00:00,  1.30it/s, average_loss=0.122]\n",
            "Epoch : [636/1000] | : 100%|██████████| 2/2 [00:01<00:00,  1.45it/s, average_loss=0.115]\n",
            "Epoch : [637/1000] | : 100%|██████████| 2/2 [00:01<00:00,  1.54it/s, average_loss=0.125]\n",
            "Epoch : [638/1000] | : 100%|██████████| 2/2 [00:01<00:00,  1.54it/s, average_loss=0.126]\n",
            "Epoch : [639/1000] | : 100%|██████████| 2/2 [00:01<00:00,  1.53it/s, average_loss=0.118]\n",
            "Epoch : [640/1000] | : 100%|██████████| 2/2 [00:01<00:00,  1.53it/s, average_loss=0.117]\n"
          ]
        },
        {
          "output_type": "stream",
          "name": "stdout",
          "text": [
            "\n",
            "==================================================\n",
            "Sample output: \n",
            "thours that chy sweet,\n",
            "  tee in fere mudeis de time detare ancherdd weers\n",
            "  brood as wher ware fat tak wi8l-stille\n",
            "  theush thit thou most hich dis thane grominy sheet,\n",
            "  hereive and whech hakib cramse and ctirked of seaves sime,\n",
            "  the sille to stoe, i  heive and mine,\n",
            "  and corstant sap i teet feratunetrest qualise,\n",
            "  with bling ow hind bud in thy budreoun light,\n",
            "   har in has fal hun whach in the for\n",
            "==================================================\n",
            "\n"
          ]
        },
        {
          "output_type": "stream",
          "name": "stderr",
          "text": [
            "Epoch : [641/1000] | : 100%|██████████| 2/2 [00:01<00:00,  1.53it/s, average_loss=0.118]\n",
            "Epoch : [642/1000] | : 100%|██████████| 2/2 [00:01<00:00,  1.53it/s, average_loss=0.119]\n",
            "Epoch : [643/1000] | : 100%|██████████| 2/2 [00:01<00:00,  1.34it/s, average_loss=0.111]\n",
            "Epoch : [644/1000] | : 100%|██████████| 2/2 [00:01<00:00,  1.40it/s, average_loss=0.122]\n",
            "Epoch : [645/1000] | : 100%|██████████| 2/2 [00:01<00:00,  1.54it/s, average_loss=0.132]\n",
            "Epoch : [646/1000] | : 100%|██████████| 2/2 [00:01<00:00,  1.54it/s, average_loss=0.121]\n",
            "Epoch : [647/1000] | : 100%|██████████| 2/2 [00:01<00:00,  1.53it/s, average_loss=0.124]\n",
            "Epoch : [648/1000] | : 100%|██████████| 2/2 [00:01<00:00,  1.53it/s, average_loss=0.116]\n",
            "Epoch : [649/1000] | : 100%|██████████| 2/2 [00:01<00:00,  1.54it/s, average_loss=0.119]\n",
            "Epoch : [650/1000] | : 100%|██████████| 2/2 [00:01<00:00,  1.51it/s, average_loss=0.122]\n"
          ]
        },
        {
          "output_type": "stream",
          "name": "stdout",
          "text": [
            "\n",
            "==================================================\n",
            "Sample output: \n",
            "thoues trot thou none lige\n",
            "  thic  that beauty she voudded or have whit thee\n",
            "    chongo,, they beouty'us pait to dose eliss, feas should peer.\n",
            "  privite widef fit in wold\n",
            "  kints unthe tilf be ot'ses eee an heal\n",
            "  with prense\n",
            "  not ho a tummer's dape hath all thou cantiew twith tooe ann briegess lifes th't to une'us,\n",
            "  in tone toungrg wand wo d time teelss bear.\n",
            "  thou host thy sol, thou stic''s dochin\n",
            "==================================================\n",
            "\n"
          ]
        },
        {
          "output_type": "stream",
          "name": "stderr",
          "text": [
            "Epoch : [651/1000] | : 100%|██████████| 2/2 [00:01<00:00,  1.37it/s, average_loss=0.108]\n",
            "Epoch : [652/1000] | : 100%|██████████| 2/2 [00:01<00:00,  1.23it/s, average_loss=0.111]\n",
            "Epoch : [653/1000] | : 100%|██████████| 2/2 [00:01<00:00,  1.44it/s, average_loss=0.118]\n",
            "Epoch : [654/1000] | : 100%|██████████| 2/2 [00:01<00:00,  1.53it/s, average_loss=0.126]\n",
            "Epoch : [655/1000] | : 100%|██████████| 2/2 [00:01<00:00,  1.51it/s, average_loss=0.112]\n",
            "Epoch : [656/1000] | : 100%|██████████| 2/2 [00:01<00:00,  1.52it/s, average_loss=0.119]\n",
            "Epoch : [657/1000] | : 100%|██████████| 2/2 [00:01<00:00,  1.54it/s, average_loss=0.114]\n",
            "Epoch : [658/1000] | : 100%|██████████| 2/2 [00:01<00:00,  1.54it/s, average_loss=0.117]\n",
            "Epoch : [659/1000] | : 100%|██████████| 2/2 [00:01<00:00,  1.53it/s, average_loss=0.118]\n",
            "Epoch : [660/1000] | : 100%|██████████| 2/2 [00:01<00:00,  1.32it/s, average_loss=0.117]\n"
          ]
        },
        {
          "output_type": "stream",
          "name": "stdout",
          "text": [
            "\n",
            "==================================================\n",
            "Sample output: \n",
            "thouns mer'r elestoor mig,\n",
            "    y the winter's alase, and mund mary theare convertese\n",
            "  por ine of thy beauty owd encay suy,\n",
            "  mith exhy but mith fease met reane yourss will,\n",
            "  tray yout most ricites thy thoug thou thoun'st,\n",
            "  that your meave fay thou bur's lojedt,\n",
            "  and youth ust rist in thy loog and shine,\n",
            "  when i erestave is mayeu lovesigguth thee,\n",
            "  then is huor love mive your sel, ate seel-boud de\n",
            "==================================================\n",
            "\n"
          ]
        },
        {
          "output_type": "stream",
          "name": "stderr",
          "text": [
            "Epoch : [661/1000] | : 100%|██████████| 2/2 [00:01<00:00,  1.46it/s, average_loss=0.123]\n",
            "Epoch : [662/1000] | : 100%|██████████| 2/2 [00:01<00:00,  1.52it/s, average_loss=0.134]\n",
            "Epoch : [663/1000] | : 100%|██████████| 2/2 [00:01<00:00,  1.45it/s, average_loss=0.113]\n",
            "Epoch : [664/1000] | : 100%|██████████| 2/2 [00:01<00:00,  1.52it/s, average_loss=0.117]\n",
            "Epoch : [665/1000] | : 100%|██████████| 2/2 [00:01<00:00,  1.55it/s, average_loss=0.126]\n",
            "Epoch : [666/1000] | : 100%|██████████| 2/2 [00:01<00:00,  1.53it/s, average_loss=0.112]\n",
            "Epoch : [667/1000] | : 100%|██████████| 2/2 [00:01<00:00,  1.53it/s, average_loss=0.118]\n",
            "Epoch : [668/1000] | : 100%|██████████| 2/2 [00:01<00:00,  1.44it/s, average_loss=0.114]\n",
            "Epoch : [669/1000] | : 100%|██████████| 2/2 [00:01<00:00,  1.28it/s, average_loss=0.104]\n",
            "Epoch : [670/1000] | : 100%|██████████| 2/2 [00:01<00:00,  1.45it/s, average_loss=0.121]\n"
          ]
        },
        {
          "output_type": "stream",
          "name": "stdout",
          "text": [
            "\n",
            "==================================================\n",
            "Sample output: \n",
            "thouls that contaete\n",
            "  wrish usessl having the oxecio prics, and mlame my dist,, and stall the bearit  \n",
            "o  of o wire pristed to thee o tone verew,\n",
            "  nor shald nor near, look shalt heare berol \n",
            "or so sons ans in gard som tonbp pit he,\n",
            "  hesbind that goiny this gote and if war whire\n",
            "  trens of the stild?  tho that attil, thee deceives \n",
            "h wornt,\n",
            "  in the eart she loot live to heteb\n",
            "    shive krede of he k\n",
            "==================================================\n",
            "\n"
          ]
        },
        {
          "output_type": "stream",
          "name": "stderr",
          "text": [
            "Epoch : [671/1000] | : 100%|██████████| 2/2 [00:01<00:00,  1.55it/s, average_loss=0.113]\n",
            "Epoch : [672/1000] | : 100%|██████████| 2/2 [00:01<00:00,  1.54it/s, average_loss=0.12]\n",
            "Epoch : [673/1000] | : 100%|██████████| 2/2 [00:01<00:00,  1.49it/s, average_loss=0.113]\n",
            "Epoch : [674/1000] | : 100%|██████████| 2/2 [00:01<00:00,  1.54it/s, average_loss=0.119]\n",
            "Epoch : [675/1000] | : 100%|██████████| 2/2 [00:01<00:00,  1.54it/s, average_loss=0.108]\n",
            "Epoch : [676/1000] | : 100%|██████████| 2/2 [00:01<00:00,  1.51it/s, average_loss=0.111]\n",
            "Epoch : [677/1000] | : 100%|██████████| 2/2 [00:01<00:00,  1.36it/s, average_loss=0.121]\n",
            "Epoch : [678/1000] | : 100%|██████████| 2/2 [00:01<00:00,  1.43it/s, average_loss=0.103]\n",
            "Epoch : [679/1000] | : 100%|██████████| 2/2 [00:01<00:00,  1.50it/s, average_loss=0.116]\n",
            "Epoch : [680/1000] | : 100%|██████████| 2/2 [00:01<00:00,  1.54it/s, average_loss=0.122]\n"
          ]
        },
        {
          "output_type": "stream",
          "name": "stdout",
          "text": [
            "\n",
            "==================================================\n",
            "Sample output: \n",
            "thous lentare decat,\n",
            "  with elast that theas''s sceesharc tal sone-laieet fhos feac,\n",
            "    o aan that borunt self ant thou sons passt,\n",
            "  that youth'us say lave do inet to stere hast dot telp,\n",
            "    yee ho ig the will's  fore ant thou sweet'st show theur dayat.\n",
            " \n",
            "  whic  a pop in thee wo thou troul wectith thain condeint\n",
            "  if his loft a muk, oo seasets would coln;\n",
            "  to anate thou not refewest thou stoulss d\n",
            "==================================================\n",
            "\n"
          ]
        },
        {
          "output_type": "stream",
          "name": "stderr",
          "text": [
            "Epoch : [681/1000] | : 100%|██████████| 2/2 [00:01<00:00,  1.55it/s, average_loss=0.112]\n",
            "Epoch : [682/1000] | : 100%|██████████| 2/2 [00:01<00:00,  1.53it/s, average_loss=0.104]\n",
            "Epoch : [683/1000] | : 100%|██████████| 2/2 [00:01<00:00,  1.52it/s, average_loss=0.11]\n",
            "Epoch : [684/1000] | : 100%|██████████| 2/2 [00:01<00:00,  1.55it/s, average_loss=0.104]\n",
            "Epoch : [685/1000] | : 100%|██████████| 2/2 [00:01<00:00,  1.36it/s, average_loss=0.115]\n",
            "Epoch : [686/1000] | : 100%|██████████| 2/2 [00:01<00:00,  1.29it/s, average_loss=0.12]\n",
            "Epoch : [687/1000] | : 100%|██████████| 2/2 [00:01<00:00,  1.48it/s, average_loss=0.117]\n",
            "Epoch : [688/1000] | : 100%|██████████| 2/2 [00:01<00:00,  1.53it/s, average_loss=0.105]\n",
            "Epoch : [689/1000] | : 100%|██████████| 2/2 [00:01<00:00,  1.50it/s, average_loss=0.102]\n",
            "Epoch : [690/1000] | : 100%|██████████| 2/2 [00:01<00:00,  1.54it/s, average_loss=0.105]\n"
          ]
        },
        {
          "output_type": "stream",
          "name": "stdout",
          "text": [
            "\n",
            "==================================================\n",
            "Sample output: \n",
            "thoul dectasted wourd of mepcorsed overy teere\n",
            "  then ter in no reigminded moreit, fhhe gillt are,\n",
            "  and hat thos brauty's dasticn time duceines (y more.\n",
            "\n",
            "\n",
            "                     2\n",
            "  when forty coma exeth feate to be aole sleed\n",
            "  hive duaday clintes thise ort deparess,\n",
            "  net that cruntince swinting sone plassing owe,\n",
            "  thy buss  ot tine thou douds in beart shease\n",
            "  then to be seoked, where bladee to the \n",
            "==================================================\n",
            "\n"
          ]
        },
        {
          "output_type": "stream",
          "name": "stderr",
          "text": [
            "Epoch : [691/1000] | : 100%|██████████| 2/2 [00:01<00:00,  1.53it/s, average_loss=0.105]\n",
            "Epoch : [692/1000] | : 100%|██████████| 2/2 [00:01<00:00,  1.52it/s, average_loss=0.0986]\n",
            "Epoch : [693/1000] | : 100%|██████████| 2/2 [00:01<00:00,  1.51it/s, average_loss=0.111]\n",
            "Epoch : [694/1000] | : 100%|██████████| 2/2 [00:01<00:00,  1.32it/s, average_loss=0.114]\n",
            "Epoch : [695/1000] | : 100%|██████████| 2/2 [00:01<00:00,  1.46it/s, average_loss=0.107]\n",
            "Epoch : [696/1000] | : 100%|██████████| 2/2 [00:01<00:00,  1.43it/s, average_loss=0.108]\n",
            "Epoch : [697/1000] | : 100%|██████████| 2/2 [00:01<00:00,  1.53it/s, average_loss=0.103]\n",
            "Epoch : [698/1000] | : 100%|██████████| 2/2 [00:01<00:00,  1.54it/s, average_loss=0.103]\n",
            "Epoch : [699/1000] | : 100%|██████████| 2/2 [00:01<00:00,  1.52it/s, average_loss=0.104]\n",
            "Epoch : [700/1000] | : 100%|██████████| 2/2 [00:01<00:00,  1.55it/s, average_loss=0.11]\n"
          ]
        },
        {
          "output_type": "stream",
          "name": "stdout",
          "text": [
            "\n",
            "==================================================\n",
            "Sample output: \n",
            "thoue ant frife thou rove dome\n",
            "  with sime for live to ant poroot op his hudden fary mrong\n",
            "  and dot the marce of thou stick'st n\n",
            "  tan some this igross his that loft ald se,\n",
            "   reemely with sreets beand my old,\n",
            "  seals my parees (eeerewn to eet i done\n",
            "  sufclesk tone ase the trou stond's een\n",
            "  in wlake co ndestiune shoeld thee\n",
            "  ard whee for shirk beatthe lofe-raviln swifn,\n",
            "  lise unthin braet make th\n",
            "==================================================\n",
            "\n"
          ]
        },
        {
          "output_type": "stream",
          "name": "stderr",
          "text": [
            "Epoch : [701/1000] | : 100%|██████████| 2/2 [00:01<00:00,  1.54it/s, average_loss=0.096]\n",
            "Epoch : [702/1000] | : 100%|██████████| 2/2 [00:01<00:00,  1.34it/s, average_loss=0.115]\n",
            "Epoch : [703/1000] | : 100%|██████████| 2/2 [00:01<00:00,  1.27it/s, average_loss=0.0946]\n",
            "Epoch : [704/1000] | : 100%|██████████| 2/2 [00:01<00:00,  1.51it/s, average_loss=0.112]\n",
            "Epoch : [705/1000] | : 100%|██████████| 2/2 [00:01<00:00,  1.52it/s, average_loss=0.0992]\n",
            "Epoch : [706/1000] | : 100%|██████████| 2/2 [00:01<00:00,  1.51it/s, average_loss=0.11]\n",
            "Epoch : [707/1000] | : 100%|██████████| 2/2 [00:01<00:00,  1.54it/s, average_loss=0.105]\n",
            "Epoch : [708/1000] | : 100%|██████████| 2/2 [00:01<00:00,  1.54it/s, average_loss=0.113]\n",
            "Epoch : [709/1000] | : 100%|██████████| 2/2 [00:01<00:00,  1.52it/s, average_loss=0.103]\n",
            "Epoch : [710/1000] | : 100%|██████████| 2/2 [00:01<00:00,  1.55it/s, average_loss=0.0903]\n"
          ]
        },
        {
          "output_type": "stream",
          "name": "stdout",
          "text": [
            "\n",
            "==================================================\n",
            "Sample output: \n",
            "though departed,\n",
            "  harn the like whive nethir ig entis leftay?\n",
            "  loked of the wiltes for time mes tige,\n",
            "  then i were ere he deank thou gord'st duis,\n",
            "  in thee thy summer's sreetion the lied die\n",
            "  shet hus the raet dit tom tine\n",
            "   encike if thy loots not lace to atth weald to dyes,\n",
            "    eave blings tho es,nut rust nou quowint,\n",
            "  thin  the concort of alw in hel shage she derve\n",
            "  for now at ontis we thou \n",
            "==================================================\n",
            "\n"
          ]
        },
        {
          "output_type": "stream",
          "name": "stderr",
          "text": [
            "Epoch : [711/1000] | : 100%|██████████| 2/2 [00:01<00:00,  1.30it/s, average_loss=0.103]\n",
            "Epoch : [712/1000] | : 100%|██████████| 2/2 [00:01<00:00,  1.43it/s, average_loss=0.101]\n",
            "Epoch : [713/1000] | : 100%|██████████| 2/2 [00:01<00:00,  1.53it/s, average_loss=0.103]\n",
            "Epoch : [714/1000] | : 100%|██████████| 2/2 [00:01<00:00,  1.55it/s, average_loss=0.103]\n",
            "Epoch : [715/1000] | : 100%|██████████| 2/2 [00:01<00:00,  1.52it/s, average_loss=0.103]\n",
            "Epoch : [716/1000] | : 100%|██████████| 2/2 [00:01<00:00,  1.49it/s, average_loss=0.106]\n",
            "Epoch : [717/1000] | : 100%|██████████| 2/2 [00:01<00:00,  1.54it/s, average_loss=0.105]\n",
            "Epoch : [718/1000] | : 100%|██████████| 2/2 [00:01<00:00,  1.53it/s, average_loss=0.103]\n",
            "Epoch : [719/1000] | : 100%|██████████| 2/2 [00:01<00:00,  1.45it/s, average_loss=0.0974]\n",
            "Epoch : [720/1000] | : 100%|██████████| 2/2 [00:01<00:00,  1.28it/s, average_loss=0.0967]\n"
          ]
        },
        {
          "output_type": "stream",
          "name": "stdout",
          "text": [
            "\n",
            "==================================================\n",
            "Sample output: \n",
            "thoul times sowh.\n",
            "    co winee try bes fitur dedeiy bright seep,\n",
            "  heeding with wonnte tantbr eot clave dowe\n",
            "  whon is hes ilced thou that which thou receased to chenge\n",
            "    sonk beand to loons is rish list comore,\n",
            "  and be the cumken thy woont, thou giest live,\n",
            "   o hay sumh not the liden tom to pee, oon shoulds therertt,\n",
            "  and in when thine grenerbresting word\n",
            "  shouns the bareit touth be rime leade t\n",
            "==================================================\n",
            "\n"
          ]
        },
        {
          "output_type": "stream",
          "name": "stderr",
          "text": [
            "Epoch : [721/1000] | : 100%|██████████| 2/2 [00:01<00:00,  1.54it/s, average_loss=0.109]\n",
            "Epoch : [722/1000] | : 100%|██████████| 2/2 [00:01<00:00,  1.54it/s, average_loss=0.0987]\n",
            "Epoch : [723/1000] | : 100%|██████████| 2/2 [00:01<00:00,  1.54it/s, average_loss=0.0917]\n",
            "Epoch : [724/1000] | : 100%|██████████| 2/2 [00:01<00:00,  1.52it/s, average_loss=0.0969]\n",
            "Epoch : [725/1000] | : 100%|██████████| 2/2 [00:01<00:00,  1.55it/s, average_loss=0.103]\n",
            "Epoch : [726/1000] | : 100%|██████████| 2/2 [00:01<00:00,  1.53it/s, average_loss=0.102]\n",
            "Epoch : [727/1000] | : 100%|██████████| 2/2 [00:01<00:00,  1.53it/s, average_loss=0.0971]\n",
            "Epoch : [728/1000] | : 100%|██████████| 2/2 [00:01<00:00,  1.27it/s, average_loss=0.0908]\n",
            "Epoch : [729/1000] | : 100%|██████████| 2/2 [00:01<00:00,  1.44it/s, average_loss=0.094]\n",
            "Epoch : [730/1000] | : 100%|██████████| 2/2 [00:01<00:00,  1.53it/s, average_loss=0.0897]\n"
          ]
        },
        {
          "output_type": "stream",
          "name": "stdout",
          "text": [
            "\n",
            "==================================================\n",
            "Sample output: \n",
            "thoug thee wiye selflse woild.\n",
            "  t efhofeltess sollgbiiner hhy gont,\n",
            "  and ene the briomht thou the tise on rove dedeir)\n",
            "    av heate somerov deef on heare the wrrect and leake's faken thee to cun.\n",
            "  wo love oteets is heaure misht live remar,\n",
            "  in your sweet semblance to some ot tee.\n",
            "\n",
            "\n",
            "                     13\n",
            "  not nor to trees o che do not touthan eyer,\n",
            "  thee hapt crevere dis gondes pis thee\n",
            "  ar eac\n",
            "==================================================\n",
            "\n"
          ]
        },
        {
          "output_type": "stream",
          "name": "stderr",
          "text": [
            "Epoch : [731/1000] | : 100%|██████████| 2/2 [00:01<00:00,  1.54it/s, average_loss=0.0964]\n",
            "Epoch : [732/1000] | : 100%|██████████| 2/2 [00:01<00:00,  1.53it/s, average_loss=0.102]\n",
            "Epoch : [733/1000] | : 100%|██████████| 2/2 [00:01<00:00,  1.52it/s, average_loss=0.0944]\n",
            "Epoch : [734/1000] | : 100%|██████████| 2/2 [00:01<00:00,  1.53it/s, average_loss=0.0958]\n",
            "Epoch : [735/1000] | : 100%|██████████| 2/2 [00:01<00:00,  1.52it/s, average_loss=0.097]\n",
            "Epoch : [736/1000] | : 100%|██████████| 2/2 [00:01<00:00,  1.35it/s, average_loss=0.0927]\n",
            "Epoch : [737/1000] | : 100%|██████████| 2/2 [00:01<00:00,  1.29it/s, average_loss=0.0914]\n",
            "Epoch : [738/1000] | : 100%|██████████| 2/2 [00:01<00:00,  1.42it/s, average_loss=0.0905]\n",
            "Epoch : [739/1000] | : 100%|██████████| 2/2 [00:01<00:00,  1.54it/s, average_loss=0.0864]\n",
            "Epoch : [740/1000] | : 100%|██████████| 2/2 [00:01<00:00,  1.52it/s, average_loss=0.0937]\n"
          ]
        },
        {
          "output_type": "stream",
          "name": "stdout",
          "text": [
            "\n",
            "==================================================\n",
            "Sample output: \n",
            "thouls than to conser\n",
            ",\n",
            "   is ten time husbier budble ayore call wored fort syeu\n",
            "  treng inese your self, bet love you ken.\n",
            "    whifc by beauty do ringe undepite\n",
            "  but if thou live remembered not to be,\n",
            "    die single what thou art be tomes coll sepp, bit thin, you my vightenous gith\n",
            "  lost mo the nies that thou be viwtly lees beelins,\n",
            "  when onethre rollages not life unariew,\n",
            "  tich hap ing wone frich\n",
            "==================================================\n",
            "\n"
          ]
        },
        {
          "output_type": "stream",
          "name": "stderr",
          "text": [
            "Epoch : [741/1000] | : 100%|██████████| 2/2 [00:01<00:00,  1.53it/s, average_loss=0.0865]\n",
            "Epoch : [742/1000] | : 100%|██████████| 2/2 [00:01<00:00,  1.48it/s, average_loss=0.0921]\n",
            "Epoch : [743/1000] | : 100%|██████████| 2/2 [00:01<00:00,  1.53it/s, average_loss=0.0967]\n",
            "Epoch : [744/1000] | : 100%|██████████| 2/2 [00:01<00:00,  1.52it/s, average_loss=0.107]\n",
            "Epoch : [745/1000] | : 100%|██████████| 2/2 [00:01<00:00,  1.34it/s, average_loss=0.0918]\n",
            "Epoch : [746/1000] | : 100%|██████████| 2/2 [00:01<00:00,  1.46it/s, average_loss=0.0886]\n",
            "Epoch : [747/1000] | : 100%|██████████| 2/2 [00:01<00:00,  1.52it/s, average_loss=0.0912]\n",
            "Epoch : [748/1000] | : 100%|██████████| 2/2 [00:01<00:00,  1.51it/s, average_loss=0.0919]\n",
            "Epoch : [749/1000] | : 100%|██████████| 2/2 [00:01<00:00,  1.55it/s, average_loss=0.097]\n",
            "Epoch : [750/1000] | : 100%|██████████| 2/2 [00:01<00:00,  1.54it/s, average_loss=0.103]\n"
          ]
        },
        {
          "output_type": "stream",
          "name": "stdout",
          "text": [
            "\n",
            "==================================================\n",
            "Sample output: \n",
            "thou sem. s\n",
            "  wald work thie shars leso ferith bro destione,\n",
            "  and beand frint sheellbudet thou thou wous'\n",
            "  to chall not pade couns of thine lost paze,\n",
            "  whow thou must cost thou not alst thou consun'st thy self in singl file?\n",
            "  af, if the ir sulles what thou ariong sight\n",
            "    y ing if thou liverrbememed ef or ease,\n",
            "  rese ol the lieke to thy beuuty dier,\n",
            "  waere and the livered shall ow hy dort sread\n",
            "\n",
            "==================================================\n",
            "\n"
          ]
        },
        {
          "output_type": "stream",
          "name": "stderr",
          "text": [
            "Epoch : [751/1000] | : 100%|██████████| 2/2 [00:01<00:00,  1.53it/s, average_loss=0.0968]\n",
            "Epoch : [752/1000] | : 100%|██████████| 2/2 [00:01<00:00,  1.51it/s, average_loss=0.0979]\n",
            "Epoch : [753/1000] | : 100%|██████████| 2/2 [00:01<00:00,  1.37it/s, average_loss=0.0927]\n",
            "Epoch : [754/1000] | : 100%|██████████| 2/2 [00:01<00:00,  1.27it/s, average_loss=0.0933]\n",
            "Epoch : [755/1000] | : 100%|██████████| 2/2 [00:01<00:00,  1.50it/s, average_loss=0.0916]\n",
            "Epoch : [756/1000] | : 100%|██████████| 2/2 [00:01<00:00,  1.52it/s, average_loss=0.0881]\n",
            "Epoch : [757/1000] | : 100%|██████████| 2/2 [00:01<00:00,  1.54it/s, average_loss=0.0863]\n",
            "Epoch : [758/1000] | : 100%|██████████| 2/2 [00:01<00:00,  1.49it/s, average_loss=0.0947]\n",
            "Epoch : [759/1000] | : 100%|██████████| 2/2 [00:01<00:00,  1.36it/s, average_loss=0.0871]\n",
            "Epoch : [760/1000] | : 100%|██████████| 2/2 [00:01<00:00,  1.40it/s, average_loss=0.113]\n"
          ]
        },
        {
          "output_type": "stream",
          "name": "stdout",
          "text": [
            "\n",
            "==================================================\n",
            "Sample output: \n",
            "thou aysworld sears,\n",
            "  sen simes cherse same in anle loke had thee\n",
            " \n",
            "  then wher con hice owa yith elf your paarest countert ow dine\n",
            "  she lovglt time de thing beout siy,\n",
            "  seepsit the matt re to braud of your selves nore rowe,\n",
            "  dird that this change of thine hos ighcing,\n",
            "  making a famine where abundance lies,\n",
            "  shy shouth mers lf thou shalt wone\n",
            "  toot thow ho yune beare whinc that ald and sulm were\n",
            "==================================================\n",
            "\n"
          ]
        },
        {
          "output_type": "stream",
          "name": "stderr",
          "text": [
            "Epoch : [761/1000] | : 100%|██████████| 2/2 [00:01<00:00,  1.26it/s, average_loss=0.0946]\n",
            "Epoch : [762/1000] | : 100%|██████████| 2/2 [00:01<00:00,  1.28it/s, average_loss=0.0865]\n",
            "Epoch : [763/1000] | : 100%|██████████| 2/2 [00:01<00:00,  1.47it/s, average_loss=0.0889]\n",
            "Epoch : [764/1000] | : 100%|██████████| 2/2 [00:01<00:00,  1.54it/s, average_loss=0.0895]\n",
            "Epoch : [765/1000] | : 100%|██████████| 2/2 [00:01<00:00,  1.52it/s, average_loss=0.0957]\n",
            "Epoch : [766/1000] | : 100%|██████████| 2/2 [00:01<00:00,  1.53it/s, average_loss=0.0932]\n",
            "Epoch : [767/1000] | : 100%|██████████| 2/2 [00:01<00:00,  1.53it/s, average_loss=0.0864]\n",
            "Epoch : [768/1000] | : 100%|██████████| 2/2 [00:01<00:00,  1.53it/s, average_loss=0.0806]\n",
            "Epoch : [769/1000] | : 100%|██████████| 2/2 [00:01<00:00,  1.53it/s, average_loss=0.0843]\n",
            "Epoch : [770/1000] | : 100%|██████████| 2/2 [00:01<00:00,  1.31it/s, average_loss=0.0854]\n"
          ]
        },
        {
          "output_type": "stream",
          "name": "stdout",
          "text": [
            "\n",
            "==================================================\n",
            "Sample output: \n",
            "thoug cingst thy self in sueg, diy sull\n",
            "  wint beait now the darling greds\n",
            "  by atuyy prptentinuus bid theire,\n",
            "  pereiqe bit tiol miden some.\n",
            "   \n",
            "  w thou strick sowe tomel ayo alf wourd shird thee.\n",
            " \n",
            "      i              3\n",
            "  lo kir the hars and to sal, and eldet them brow s\n",
            "  afd in the harl should peite thee wire swilte  \n",
            "    look dow thou beat, thou live recapes one\n",
            "  which this hume plaet not time,\n",
            "==================================================\n",
            "\n"
          ]
        },
        {
          "output_type": "stream",
          "name": "stderr",
          "text": [
            "Epoch : [771/1000] | : 100%|██████████| 2/2 [00:01<00:00,  1.46it/s, average_loss=0.0859]\n",
            "Epoch : [772/1000] | : 100%|██████████| 2/2 [00:01<00:00,  1.52it/s, average_loss=0.0945]\n",
            "Epoch : [773/1000] | : 100%|██████████| 2/2 [00:01<00:00,  1.52it/s, average_loss=0.0836]\n",
            "Epoch : [774/1000] | : 100%|██████████| 2/2 [00:01<00:00,  1.52it/s, average_loss=0.0889]\n",
            "Epoch : [775/1000] | : 100%|██████████| 2/2 [00:01<00:00,  1.52it/s, average_loss=0.0997]\n",
            "Epoch : [776/1000] | : 100%|██████████| 2/2 [00:01<00:00,  1.49it/s, average_loss=0.0908]\n",
            "Epoch : [777/1000] | : 100%|██████████| 2/2 [00:01<00:00,  1.53it/s, average_loss=0.085]\n",
            "Epoch : [778/1000] | : 100%|██████████| 2/2 [00:01<00:00,  1.42it/s, average_loss=0.0969]\n",
            "Epoch : [779/1000] | : 100%|██████████| 2/2 [00:01<00:00,  1.29it/s, average_loss=0.0891]\n",
            "Epoch : [780/1000] | : 100%|██████████| 2/2 [00:01<00:00,  1.44it/s, average_loss=0.0788]\n"
          ]
        },
        {
          "output_type": "stream",
          "name": "stdout",
          "text": [
            "\n",
            "==================================================\n",
            "Sample output: \n",
            "thou brord on swent did shard\n",
            "  dots this this ghad ald hee on hen seeks nece stoet\n",
            "  prouth beiute the brevend you mint\n",
            "  gholsl that  eethl kove and but noutmred,\n",
            "  hor has po sheave thy bot thy wolded thar betord's prease,\n",
            "  net emence all gracc dadd suny sull, and chall my ordedsue sime ventere,\n",
            "  a ding thy sicher on ment lo liog and kindt,\n",
            "  lores be thy brang ond beauty's diggandss ditt.\n",
            "    thi\n",
            "==================================================\n",
            "\n"
          ]
        },
        {
          "output_type": "stream",
          "name": "stderr",
          "text": [
            "Epoch : [781/1000] | : 100%|██████████| 2/2 [00:01<00:00,  1.52it/s, average_loss=0.098]\n",
            "Epoch : [782/1000] | : 100%|██████████| 2/2 [00:01<00:00,  1.52it/s, average_loss=0.0851]\n",
            "Epoch : [783/1000] | : 100%|██████████| 2/2 [00:01<00:00,  1.51it/s, average_loss=0.0941]\n",
            "Epoch : [784/1000] | : 100%|██████████| 2/2 [00:01<00:00,  1.54it/s, average_loss=0.0891]\n",
            "Epoch : [785/1000] | : 100%|██████████| 2/2 [00:01<00:00,  1.53it/s, average_loss=0.0899]\n",
            "Epoch : [786/1000] | : 100%|██████████| 2/2 [00:01<00:00,  1.49it/s, average_loss=0.0913]\n",
            "Epoch : [787/1000] | : 100%|██████████| 2/2 [00:01<00:00,  1.34it/s, average_loss=0.083]\n",
            "Epoch : [788/1000] | : 100%|██████████| 2/2 [00:01<00:00,  1.42it/s, average_loss=0.0825]\n",
            "Epoch : [789/1000] | : 100%|██████████| 2/2 [00:01<00:00,  1.52it/s, average_loss=0.089]\n",
            "Epoch : [790/1000] | : 100%|██████████| 2/2 [00:01<00:00,  1.55it/s, average_loss=0.0788]\n"
          ]
        },
        {
          "output_type": "stream",
          "name": "stdout",
          "text": [
            "\n",
            "==================================================\n",
            "Sample output: \n",
            "thou sen lives now anow,\n",
            "  and beauty their bucuow tig tee' aart how men.\n",
            "    ce dive enkes your hon mep mine,\n",
            "  beautes far in the world dress,\n",
            "  atd dart so can pirteroun met.r  \n",
            "  wer if thou nive lent bure to hear.\n",
            "  whec yrom the  ofot to efy sould ere sine,\n",
            "  and so tan strensle came theet beo anowshed\n",
            "  theush crakke thee barne of talse unerest,\n",
            "  and in ond the linces to the gid see the cilv,\n",
            " \n",
            "==================================================\n",
            "\n"
          ]
        },
        {
          "output_type": "stream",
          "name": "stderr",
          "text": [
            "Epoch : [791/1000] | : 100%|██████████| 2/2 [00:01<00:00,  1.52it/s, average_loss=0.0843]\n",
            "Epoch : [792/1000] | : 100%|██████████| 2/2 [00:01<00:00,  1.53it/s, average_loss=0.0869]\n",
            "Epoch : [793/1000] | : 100%|██████████| 2/2 [00:01<00:00,  1.42it/s, average_loss=0.0846]\n",
            "Epoch : [794/1000] | : 100%|██████████| 2/2 [00:01<00:00,  1.51it/s, average_loss=0.0962]\n",
            "Epoch : [795/1000] | : 100%|██████████| 2/2 [00:01<00:00,  1.33it/s, average_loss=0.0883]\n",
            "Epoch : [796/1000] | : 100%|██████████| 2/2 [00:01<00:00,  1.29it/s, average_loss=0.0899]\n",
            "Epoch : [797/1000] | : 100%|██████████| 2/2 [00:01<00:00,  1.54it/s, average_loss=0.0875]\n",
            "Epoch : [798/1000] | : 100%|██████████| 2/2 [00:01<00:00,  1.52it/s, average_loss=0.0889]\n",
            "Epoch : [799/1000] | : 100%|██████████| 2/2 [00:01<00:00,  1.54it/s, average_loss=0.0793]\n",
            "Epoch : [800/1000] | : 100%|██████████| 2/2 [00:01<00:00,  1.54it/s, average_loss=0.0912]\n"
          ]
        },
        {
          "output_type": "stream",
          "name": "stdout",
          "text": [
            "\n",
            "==================================================\n",
            "Sample output: \n",
            "thouls teme'to het. non dele,\n",
            "  withe prasterl wine som thine ant dop,\n",
            "  sence ong the lives the some to shee awunttor mem.\n",
            "    to thee anay kidthouns tim sepllss woars he ur amded congest and sweeks\n",
            "  cheede a eeceld ave yow warl s munes the tile,\n",
            "  at tone the love you soff you sone beardint send\n",
            "  she ving thee laving ip posterity?\n",
            "    the glave warl on the guld not sow,?\n",
            "    buing y simere should m\n",
            "==================================================\n",
            "\n"
          ]
        },
        {
          "output_type": "stream",
          "name": "stderr",
          "text": [
            "Epoch : [801/1000] | : 100%|██████████| 2/2 [00:01<00:00,  1.53it/s, average_loss=0.0779]\n",
            "Epoch : [802/1000] | : 100%|██████████| 2/2 [00:01<00:00,  1.53it/s, average_loss=0.0889]\n",
            "Epoch : [803/1000] | : 100%|██████████| 2/2 [00:01<00:00,  1.55it/s, average_loss=0.083]\n",
            "Epoch : [804/1000] | : 100%|██████████| 2/2 [00:01<00:00,  1.29it/s, average_loss=0.0853]\n",
            "Epoch : [805/1000] | : 100%|██████████| 2/2 [00:01<00:00,  1.46it/s, average_loss=0.0855]\n",
            "Epoch : [806/1000] | : 100%|██████████| 2/2 [00:01<00:00,  1.52it/s, average_loss=0.0914]\n",
            "Epoch : [807/1000] | : 100%|██████████| 2/2 [00:01<00:00,  1.54it/s, average_loss=0.077]\n",
            "Epoch : [808/1000] | : 100%|██████████| 2/2 [00:01<00:00,  1.53it/s, average_loss=0.0801]\n",
            "Epoch : [809/1000] | : 100%|██████████| 2/2 [00:01<00:00,  1.53it/s, average_loss=0.0829]\n",
            "Epoch : [810/1000] | : 100%|██████████| 2/2 [00:01<00:00,  1.53it/s, average_loss=0.0827]\n"
          ]
        },
        {
          "output_type": "stream",
          "name": "stdout",
          "text": [
            "\n",
            "==================================================\n",
            "Sample output: \n",
            "thoues ie steat self,\n",
            "   counsion this boonty uny, the ig thy doscention wued and karde on thee arlse\n",
            "  trenge but not rowsen ungred in mind sunt,\n",
            "  and barnn grank see il seach os anlots hease\n",
            "  fref the hircord montere an on time, berred starl deet my gudsed art hor mens ber neg,\n",
            "  wend eltthy tromaty of yout sole prace,\n",
            "  in thee thy usut por sometince in chande,\n",
            "  and beren thine shemell suc to sem\n",
            "==================================================\n",
            "\n"
          ]
        },
        {
          "output_type": "stream",
          "name": "stderr",
          "text": [
            "Epoch : [811/1000] | : 100%|██████████| 2/2 [00:01<00:00,  1.53it/s, average_loss=0.0751]\n",
            "Epoch : [812/1000] | : 100%|██████████| 2/2 [00:01<00:00,  1.35it/s, average_loss=0.0835]\n",
            "Epoch : [813/1000] | : 100%|██████████| 2/2 [00:01<00:00,  1.34it/s, average_loss=0.0898]\n",
            "Epoch : [814/1000] | : 100%|██████████| 2/2 [00:01<00:00,  1.55it/s, average_loss=0.0754]\n",
            "Epoch : [815/1000] | : 100%|██████████| 2/2 [00:01<00:00,  1.53it/s, average_loss=0.0789]\n",
            "Epoch : [816/1000] | : 100%|██████████| 2/2 [00:01<00:00,  1.50it/s, average_loss=0.0765]\n",
            "Epoch : [817/1000] | : 100%|██████████| 2/2 [00:01<00:00,  1.52it/s, average_loss=0.0821]\n",
            "Epoch : [818/1000] | : 100%|██████████| 2/2 [00:01<00:00,  1.50it/s, average_loss=0.087]\n",
            "Epoch : [819/1000] | : 100%|██████████| 2/2 [00:01<00:00,  1.53it/s, average_loss=0.0742]\n",
            "Epoch : [820/1000] | : 100%|██████████| 2/2 [00:01<00:00,  1.54it/s, average_loss=0.0852]\n"
          ]
        },
        {
          "output_type": "stream",
          "name": "stdout",
          "text": [
            "\n",
            "==================================================\n",
            "Sample output: \n",
            "thour ten somesh well the tame,\n",
            "  and see thy sturm mugh wo deat so call\n",
            "  be thougbr that fanr thou ow'st'ns sans and the times\n",
            "  for should that blawe wo wide' and his, and shelds chenver the worl;  if beart shil teed,\n",
            "  that thou no form sile to be time your seld\n",
            "  which husbings wimh bennet thou bradd as the\n",
            "  then on hye dodit that mo pords in heer khid then feer'd prease,\n",
            "  whind than emorghy lea\n",
            "==================================================\n",
            "\n"
          ]
        },
        {
          "output_type": "stream",
          "name": "stderr",
          "text": [
            "Epoch : [821/1000] | : 100%|██████████| 2/2 [00:01<00:00,  1.28it/s, average_loss=0.0848]\n",
            "Epoch : [822/1000] | : 100%|██████████| 2/2 [00:01<00:00,  1.44it/s, average_loss=0.0787]\n",
            "Epoch : [823/1000] | : 100%|██████████| 2/2 [00:01<00:00,  1.55it/s, average_loss=0.0931]\n",
            "Epoch : [824/1000] | : 100%|██████████| 2/2 [00:01<00:00,  1.54it/s, average_loss=0.0803]\n",
            "Epoch : [825/1000] | : 100%|██████████| 2/2 [00:01<00:00,  1.52it/s, average_loss=0.074]\n",
            "Epoch : [826/1000] | : 100%|██████████| 2/2 [00:01<00:00,  1.43it/s, average_loss=0.08]\n",
            "Epoch : [827/1000] | : 100%|██████████| 2/2 [00:01<00:00,  1.51it/s, average_loss=0.081]\n",
            "Epoch : [828/1000] | : 100%|██████████| 2/2 [00:01<00:00,  1.53it/s, average_loss=0.0792]\n",
            "Epoch : [829/1000] | : 100%|██████████| 2/2 [00:01<00:00,  1.37it/s, average_loss=0.0761]\n",
            "Epoch : [830/1000] | : 100%|██████████| 2/2 [00:01<00:00,  1.27it/s, average_loss=0.0835]\n"
          ]
        },
        {
          "output_type": "stream",
          "name": "stdout",
          "text": [
            "\n",
            "==================================================\n",
            "Sample output: \n",
            "thou ere loves wome\n",
            "  so kisciel enst thou ghon than tong;\n",
            "  to lings thou ging anwed shieg to thee.\n",
            "\n",
            "                     4\n",
            "  it that borouwe lints that iffop shall so nelb,\n",
            "  against thy seef thou stick'st nowe dich mund,\n",
            "  on thee, thy hut meroul pight ind loovs ag ino\n",
            "  as thou shure asweh nott not anterint self sale\n",
            "  be of thy lean's eyes in the beaved fablanx\n",
            " tthy donburs s in thy purten or die\n",
            "==================================================\n",
            "\n"
          ]
        },
        {
          "output_type": "stream",
          "name": "stderr",
          "text": [
            "Epoch : [831/1000] | : 100%|██████████| 2/2 [00:01<00:00,  1.53it/s, average_loss=0.0711]\n",
            "Epoch : [832/1000] | : 100%|██████████| 2/2 [00:01<00:00,  1.53it/s, average_loss=0.0819]\n",
            "Epoch : [833/1000] | : 100%|██████████| 2/2 [00:01<00:00,  1.54it/s, average_loss=0.0775]\n",
            "Epoch : [834/1000] | : 100%|██████████| 2/2 [00:01<00:00,  1.54it/s, average_loss=0.0774]\n",
            "Epoch : [835/1000] | : 100%|██████████| 2/2 [00:01<00:00,  1.54it/s, average_loss=0.079]\n",
            "Epoch : [836/1000] | : 100%|██████████| 2/2 [00:01<00:00,  1.53it/s, average_loss=0.0784]\n",
            "Epoch : [837/1000] | : 100%|██████████| 2/2 [00:01<00:00,  1.53it/s, average_loss=0.0786]\n",
            "Epoch : [838/1000] | : 100%|██████████| 2/2 [00:01<00:00,  1.34it/s, average_loss=0.0708]\n",
            "Epoch : [839/1000] | : 100%|██████████| 2/2 [00:01<00:00,  1.48it/s, average_loss=0.0715]\n",
            "Epoch : [840/1000] | : 100%|██████████| 2/2 [00:01<00:00,  1.54it/s, average_loss=0.0872]\n"
          ]
        },
        {
          "output_type": "stream",
          "name": "stdout",
          "text": [
            "\n",
            "==================================================\n",
            "Sample output: \n",
            "thoues times ceoth exelf to be .e\n",
            "\n",
            "\n",
            "                     3\n",
            "  look in thy glass and telle and somkent.\n",
            "  the wire so cees if it heavide fime sbeh,\n",
            "  she en the crack the uree to sreef oe dreaths,\n",
            "  and that frish nlaf, id heaven fhine ere,\n",
            "  you swoet some ant ar with nor ant rint enfom tine\n",
            "  sen thy foce could sweats wer  sate sheel thee are kere\n",
            "  winden frisht yourh must gont noce,\n",
            "    yot he that c\n",
            "==================================================\n",
            "\n"
          ]
        },
        {
          "output_type": "stream",
          "name": "stderr",
          "text": [
            "Epoch : [841/1000] | : 100%|██████████| 2/2 [00:01<00:00,  1.55it/s, average_loss=0.0707]\n",
            "Epoch : [842/1000] | : 100%|██████████| 2/2 [00:01<00:00,  1.53it/s, average_loss=0.0858]\n",
            "Epoch : [843/1000] | : 100%|██████████| 2/2 [00:01<00:00,  1.49it/s, average_loss=0.0816]\n",
            "Epoch : [844/1000] | : 100%|██████████| 2/2 [00:01<00:00,  1.54it/s, average_loss=0.0755]\n",
            "Epoch : [845/1000] | : 100%|██████████| 2/2 [00:01<00:00,  1.56it/s, average_loss=0.0765]\n",
            "Epoch : [846/1000] | : 100%|██████████| 2/2 [00:01<00:00,  1.35it/s, average_loss=0.0868]\n",
            "Epoch : [847/1000] | : 100%|██████████| 2/2 [00:01<00:00,  1.30it/s, average_loss=0.077]\n",
            "Epoch : [848/1000] | : 100%|██████████| 2/2 [00:01<00:00,  1.42it/s, average_loss=0.0801]\n",
            "Epoch : [849/1000] | : 100%|██████████| 2/2 [00:01<00:00,  1.54it/s, average_loss=0.0782]\n",
            "Epoch : [850/1000] | : 100%|██████████| 2/2 [00:01<00:00,  1.55it/s, average_loss=0.0808]\n"
          ]
        },
        {
          "output_type": "stream",
          "name": "stdout",
          "text": [
            "\n",
            "==================================================\n",
            "Sample output: \n",
            "thour thou ovy dyanes,\n",
            "  which happies those thou mass chine\n",
            "  that ome thou shal, to confer,\n",
            "  which husbancutiin geadout bid thou aro\n",
            "  to songerded piret dhevewched unaeles tome\n",
            "  then wieth sombreed in eyes, ffer ieseed swoll\n",
            "   lany werb find sumber eterbe to be'd deweres,\n",
            "  by chindren's eyer, her histand craen,\n",
            "  and cears garth neater of menot selse\n",
            "  greven in the loving time leatt summer ot h\n",
            "==================================================\n",
            "\n"
          ]
        },
        {
          "output_type": "stream",
          "name": "stderr",
          "text": [
            "Epoch : [851/1000] | : 100%|██████████| 2/2 [00:01<00:00,  1.53it/s, average_loss=0.0712]\n",
            "Epoch : [852/1000] | : 100%|██████████| 2/2 [00:01<00:00,  1.54it/s, average_loss=0.0744]\n",
            "Epoch : [853/1000] | : 100%|██████████| 2/2 [00:01<00:00,  1.51it/s, average_loss=0.0799]\n",
            "Epoch : [854/1000] | : 100%|██████████| 2/2 [00:01<00:00,  1.55it/s, average_loss=0.077]\n",
            "Epoch : [855/1000] | : 100%|██████████| 2/2 [00:01<00:00,  1.34it/s, average_loss=0.0752]\n",
            "Epoch : [856/1000] | : 100%|██████████| 2/2 [00:01<00:00,  1.48it/s, average_loss=0.0821]\n",
            "Epoch : [857/1000] | : 100%|██████████| 2/2 [00:01<00:00,  1.54it/s, average_loss=0.0774]\n",
            "Epoch : [858/1000] | : 100%|██████████| 2/2 [00:01<00:00,  1.43it/s, average_loss=0.0767]\n",
            "Epoch : [859/1000] | : 100%|██████████| 2/2 [00:01<00:00,  1.53it/s, average_loss=0.0729]\n",
            "Epoch : [860/1000] | : 100%|██████████| 2/2 [00:01<00:00,  1.51it/s, average_loss=0.0759]\n"
          ]
        },
        {
          "output_type": "stream",
          "name": "stdout",
          "text": [
            "\n",
            "==================================================\n",
            "Sample output: \n",
            "thour self wail feem baire woml wore\n",
            "  hist of the stelf thre faye rour thou art doy\n",
            "  sweet so f-art o thy weart lore tombert  that copy die.\n",
            "\n",
            "\n",
            "                      19\n",
            "  is how o to lelf-kase persibecteath lay,\n",
            "  whou hay ther bivien sime, lenh having chale,\n",
            "  and pase cunss alt hapr do imep,\n",
            "  the  all wrete fleas wore dobr enooes bied\n",
            "  mish led fast har your solf a wombld waet ttee form-dowen\n",
            "  th\n",
            "==================================================\n",
            "\n"
          ]
        },
        {
          "output_type": "stream",
          "name": "stderr",
          "text": [
            "Epoch : [861/1000] | : 100%|██████████| 2/2 [00:01<00:00,  1.54it/s, average_loss=0.0845]\n",
            "Epoch : [862/1000] | : 100%|██████████| 2/2 [00:01<00:00,  1.53it/s, average_loss=0.074]\n",
            "Epoch : [863/1000] | : 100%|██████████| 2/2 [00:01<00:00,  1.33it/s, average_loss=0.0802]\n",
            "Epoch : [864/1000] | : 100%|██████████| 2/2 [00:01<00:00,  1.31it/s, average_loss=0.0818]\n",
            "Epoch : [865/1000] | : 100%|██████████| 2/2 [00:01<00:00,  1.50it/s, average_loss=0.0784]\n",
            "Epoch : [866/1000] | : 100%|██████████| 2/2 [00:01<00:00,  1.53it/s, average_loss=0.0736]\n",
            "Epoch : [867/1000] | : 100%|██████████| 2/2 [00:01<00:00,  1.53it/s, average_loss=0.0804]\n",
            "Epoch : [868/1000] | : 100%|██████████| 2/2 [00:01<00:00,  1.52it/s, average_loss=0.0704]\n",
            "Epoch : [869/1000] | : 100%|██████████| 2/2 [00:01<00:00,  1.54it/s, average_loss=0.0737]\n",
            "Epoch : [870/1000] | : 100%|██████████| 2/2 [00:01<00:00,  1.50it/s, average_loss=0.0749]\n"
          ]
        },
        {
          "output_type": "stream",
          "name": "stdout",
          "text": [
            "\n",
            "==================================================\n",
            "Sample output: \n",
            "thour the world noths pion,\n",
            "  and you mistrerisom that well shr ffees ain qeouty,\n",
            "  o lone be thy love and thy love's ues their treasured sat menot line,\n",
            "  aglive if their beauteous live swalt noted forl notess,\n",
            "  and in qreesheness hin gind couns,\n",
            "  andimy beaunes rish'd, be uty your self sails,\n",
            "  and yours wart on the love to sems,\n",
            "  aud yet the blaate so rise the goond on mle,\n",
            "  which ustenos fiet i\n",
            "==================================================\n",
            "\n"
          ]
        },
        {
          "output_type": "stream",
          "name": "stderr",
          "text": [
            "Epoch : [871/1000] | : 100%|██████████| 2/2 [00:01<00:00,  1.44it/s, average_loss=0.0729]\n",
            "Epoch : [872/1000] | : 100%|██████████| 2/2 [00:01<00:00,  1.25it/s, average_loss=0.0722]\n",
            "Epoch : [873/1000] | : 100%|██████████| 2/2 [00:01<00:00,  1.47it/s, average_loss=0.068]\n",
            "Epoch : [874/1000] | : 100%|██████████| 2/2 [00:01<00:00,  1.53it/s, average_loss=0.0701]\n",
            "Epoch : [875/1000] | : 100%|██████████| 2/2 [00:01<00:00,  1.52it/s, average_loss=0.0827]\n",
            "Epoch : [876/1000] | : 100%|██████████| 2/2 [00:01<00:00,  1.53it/s, average_loss=0.0697]\n",
            "Epoch : [877/1000] | : 100%|██████████| 2/2 [00:01<00:00,  1.54it/s, average_loss=0.0779]\n",
            "Epoch : [878/1000] | : 100%|██████████| 2/2 [00:01<00:00,  1.51it/s, average_loss=0.0749]\n",
            "Epoch : [879/1000] | : 100%|██████████| 2/2 [00:01<00:00,  1.52it/s, average_loss=0.0775]\n",
            "Epoch : [880/1000] | : 100%|██████████| 2/2 [00:01<00:00,  1.42it/s, average_loss=0.0716]\n"
          ]
        },
        {
          "output_type": "stream",
          "name": "stdout",
          "text": [
            "\n",
            "==================================================\n",
            "Sample output: \n",
            "thoun mer beanest somcent.\n",
            "  that with soml amare whes for my porsenn,\n",
            "  my lones that you my josgelnitg on the.\n",
            "\n",
            "                     18\n",
            "  shall i compare thee to a summer's depire,\n",
            "  and your muct reatu net, and ence sone,\n",
            "  the eived that mon your anater souchederer,\n",
            "  heave qlike she blande thranguty oun med  o here\n",
            ",\n",
            "    be none shreed lives th' teecutur to be.\n",
            "\n",
            "\n",
            "                     9\n",
            "  is it for\n",
            "==================================================\n",
            "\n"
          ]
        },
        {
          "output_type": "stream",
          "name": "stderr",
          "text": [
            "Epoch : [881/1000] | : 100%|██████████| 2/2 [00:01<00:00,  1.46it/s, average_loss=0.0789]\n",
            "Epoch : [882/1000] | : 100%|██████████| 2/2 [00:01<00:00,  1.52it/s, average_loss=0.0751]\n",
            "Epoch : [883/1000] | : 100%|██████████| 2/2 [00:01<00:00,  1.55it/s, average_loss=0.0671]\n",
            "Epoch : [884/1000] | : 100%|██████████| 2/2 [00:01<00:00,  1.53it/s, average_loss=0.0722]\n",
            "Epoch : [885/1000] | : 100%|██████████| 2/2 [00:01<00:00,  1.52it/s, average_loss=0.0745]\n",
            "Epoch : [886/1000] | : 100%|██████████| 2/2 [00:01<00:00,  1.53it/s, average_loss=0.0741]\n",
            "Epoch : [887/1000] | : 100%|██████████| 2/2 [00:01<00:00,  1.52it/s, average_loss=0.0676]\n",
            "Epoch : [888/1000] | : 100%|██████████| 2/2 [00:01<00:00,  1.52it/s, average_loss=0.0661]\n",
            "Epoch : [889/1000] | : 100%|██████████| 2/2 [00:01<00:00,  1.35it/s, average_loss=0.0714]\n",
            "Epoch : [890/1000] | : 100%|██████████| 2/2 [00:01<00:00,  1.45it/s, average_loss=0.0678]\n"
          ]
        },
        {
          "output_type": "stream",
          "name": "stdout",
          "text": [
            "\n",
            "==================================================\n",
            "Sample output: \n",
            "thoul theif's thase thou munter's yow\n",
            "  nawd day at heath nnther eote dis gald,\n",
            "  where an berend evering thine arthiss,\n",
            "  be uuty sme level ant too ther, \n",
            "  genees the corldds on efer pishound,\n",
            "  thuu your gean ty nuteres own his ilqaes on fair,\n",
            "  ast but of thine your lift if in when lof fale,\n",
            "  so love a potber, wete hor art ald tom ther\n",
            "  awding can their beautesus coont puttint,\n",
            "  and ond mery dor\n",
            "==================================================\n",
            "\n"
          ]
        },
        {
          "output_type": "stream",
          "name": "stderr",
          "text": [
            "Epoch : [891/1000] | : 100%|██████████| 2/2 [00:01<00:00,  1.45it/s, average_loss=0.0783]\n",
            "Epoch : [892/1000] | : 100%|██████████| 2/2 [00:01<00:00,  1.53it/s, average_loss=0.0679]\n",
            "Epoch : [893/1000] | : 100%|██████████| 2/2 [00:01<00:00,  1.53it/s, average_loss=0.0738]\n",
            "Epoch : [894/1000] | : 100%|██████████| 2/2 [00:01<00:00,  1.55it/s, average_loss=0.0725]\n",
            "Epoch : [895/1000] | : 100%|██████████| 2/2 [00:01<00:00,  1.51it/s, average_loss=0.0766]\n",
            "Epoch : [896/1000] | : 100%|██████████| 2/2 [00:01<00:00,  1.54it/s, average_loss=0.0714]\n",
            "Epoch : [897/1000] | : 100%|██████████| 2/2 [00:01<00:00,  1.32it/s, average_loss=0.0672]\n",
            "Epoch : [898/1000] | : 100%|██████████| 2/2 [00:01<00:00,  1.28it/s, average_loss=0.0707]\n",
            "Epoch : [899/1000] | : 100%|██████████| 2/2 [00:01<00:00,  1.53it/s, average_loss=0.0746]\n",
            "Epoch : [900/1000] | : 100%|██████████| 2/2 [00:01<00:00,  1.35it/s, average_loss=0.0687]\n"
          ]
        },
        {
          "output_type": "stream",
          "name": "stdout",
          "text": [
            "\n",
            "==================================================\n",
            "Sample output: \n",
            "thoue crovest,\n",
            "  and in fresh nimbeds nut ableen thou gres\n",
            "  but theirt braw ho at eot hef be not lowe,\n",
            "  thou now tey live doun you hes thy beauty's ligaty\n",
            "  niwh mandot bur my supss ote his unates\n",
            "  whith corpto mate wor welr thin dee,\n",
            "  that thou nonfrrest, is mo gotd\n",
            "  beauty's grftat cincs not cive antily oud,\n",
            "  and ofeen treeshss det cannt to mied\n",
            "  awt brit thyibs adt an men or heate whice\n",
            "  tre\n",
            "==================================================\n",
            "\n"
          ]
        },
        {
          "output_type": "stream",
          "name": "stderr",
          "text": [
            "Epoch : [901/1000] | : 100%|██████████| 2/2 [00:01<00:00,  1.46it/s, average_loss=0.0658]\n",
            "Epoch : [902/1000] | : 100%|██████████| 2/2 [00:01<00:00,  1.54it/s, average_loss=0.0692]\n",
            "Epoch : [903/1000] | : 100%|██████████| 2/2 [00:01<00:00,  1.54it/s, average_loss=0.0692]\n",
            "Epoch : [904/1000] | : 100%|██████████| 2/2 [00:01<00:00,  1.52it/s, average_loss=0.0758]\n",
            "Epoch : [905/1000] | : 100%|██████████| 2/2 [00:01<00:00,  1.34it/s, average_loss=0.0682]\n",
            "Epoch : [906/1000] | : 100%|██████████| 2/2 [00:01<00:00,  1.30it/s, average_loss=0.0687]\n",
            "Epoch : [907/1000] | : 100%|██████████| 2/2 [00:01<00:00,  1.52it/s, average_loss=0.065]\n",
            "Epoch : [908/1000] | : 100%|██████████| 2/2 [00:01<00:00,  1.54it/s, average_loss=0.0705]\n",
            "Epoch : [909/1000] | : 100%|██████████| 2/2 [00:01<00:00,  1.53it/s, average_loss=0.0686]\n",
            "Epoch : [910/1000] | : 100%|██████████| 2/2 [00:01<00:00,  1.52it/s, average_loss=0.0783]\n"
          ]
        },
        {
          "output_type": "stream",
          "name": "stdout",
          "text": [
            "\n",
            "==================================================\n",
            "Sample output: \n",
            "thoue ir were to fnore\n",
            "    sonlle wher wister of thin hye serdh\n",
            "  whene en ther biving colsed tiine\n",
            "      y ep is tee so prestite do in mewith linnd\n",
            "  and parit un ser bor defbrend than tenl;,\n",
            "  saem in the firren sumeles in then \n",
            "ou thou sing ey thing thou pair i houd nor saye,\n",
            "  and tealtescrens yes heast hat mead,\n",
            "  and yeur furt fair sometime declines,\n",
            "  by chance, or nattir's on has il wald face\n",
            " \n",
            "==================================================\n",
            "\n"
          ]
        },
        {
          "output_type": "stream",
          "name": "stderr",
          "text": [
            "Epoch : [911/1000] | : 100%|██████████| 2/2 [00:01<00:00,  1.54it/s, average_loss=0.0674]\n",
            "Epoch : [912/1000] | : 100%|██████████| 2/2 [00:01<00:00,  1.54it/s, average_loss=0.0674]\n",
            "Epoch : [913/1000] | : 100%|██████████| 2/2 [00:01<00:00,  1.49it/s, average_loss=0.0723]\n",
            "Epoch : [914/1000] | : 100%|██████████| 2/2 [00:01<00:00,  1.28it/s, average_loss=0.0701]\n",
            "Epoch : [915/1000] | : 100%|██████████| 2/2 [00:01<00:00,  1.45it/s, average_loss=0.0723]\n",
            "Epoch : [916/1000] | : 100%|██████████| 2/2 [00:01<00:00,  1.52it/s, average_loss=0.0647]\n",
            "Epoch : [917/1000] | : 100%|██████████| 2/2 [00:01<00:00,  1.52it/s, average_loss=0.0669]\n",
            "Epoch : [918/1000] | : 100%|██████████| 2/2 [00:01<00:00,  1.54it/s, average_loss=0.0655]\n",
            "Epoch : [919/1000] | : 100%|██████████| 2/2 [00:01<00:00,  1.53it/s, average_loss=0.0668]\n",
            "Epoch : [920/1000] | : 100%|██████████| 2/2 [00:01<00:00,  1.52it/s, average_loss=0.0729]\n"
          ]
        },
        {
          "output_type": "stream",
          "name": "stdout",
          "text": [
            "\n",
            "==================================================\n",
            "Sample output: \n",
            "thouls to asy\n",
            "  \n",
            "    at toue mose grwes and the solv-depaet,\n",
            "  with nuthe lost anloms be time de paites\n",
            ",\n",
            "  his thout be gamees teee to bud with thine  thees fowk lwict ant look, love yo  tree\n",
            ",\n",
            "    this  eye mose vise in his os time,\n",
            "    that wonthir self bur laft, or despy one s,\n",
            "  and die ast ent semface sen to duce,\n",
            "  with verthin sume's pasted an theaw'ed sheads cheare, freh wall s em my sond,  ee\n",
            "==================================================\n",
            "\n"
          ]
        },
        {
          "output_type": "stream",
          "name": "stderr",
          "text": [
            "Epoch : [921/1000] | : 100%|██████████| 2/2 [00:01<00:00,  1.54it/s, average_loss=0.0733]\n",
            "Epoch : [922/1000] | : 100%|██████████| 2/2 [00:01<00:00,  1.35it/s, average_loss=0.063]\n",
            "Epoch : [923/1000] | : 100%|██████████| 2/2 [00:01<00:00,  1.29it/s, average_loss=0.066]\n",
            "Epoch : [924/1000] | : 100%|██████████| 2/2 [00:01<00:00,  1.54it/s, average_loss=0.0692]\n",
            "Epoch : [925/1000] | : 100%|██████████| 2/2 [00:01<00:00,  1.55it/s, average_loss=0.0676]\n",
            "Epoch : [926/1000] | : 100%|██████████| 2/2 [00:01<00:00,  1.50it/s, average_loss=0.0719]\n",
            "Epoch : [927/1000] | : 100%|██████████| 2/2 [00:01<00:00,  1.54it/s, average_loss=0.0669]\n",
            "Epoch : [928/1000] | : 100%|██████████| 2/2 [00:01<00:00,  1.54it/s, average_loss=0.0718]\n",
            "Epoch : [929/1000] | : 100%|██████████| 2/2 [00:01<00:00,  1.51it/s, average_loss=0.0705]\n",
            "Epoch : [930/1000] | : 100%|██████████| 2/2 [00:01<00:00,  1.52it/s, average_loss=0.0687]\n"
          ]
        },
        {
          "output_type": "stream",
          "name": "stdout",
          "text": [
            "\n",
            "==================================================\n",
            "Sample output: \n",
            "thoun time'us wath.\n",
            "  nourh an  o fot the hold le vere the gar with seefsl whe telf,\n",
            "  aproning bur nith niget, her beauty's rigcad\n",
            "  whith seafsan thin  to bore o ine\n",
            "    o that thou comfrat all thy feaute lotilg to many\n",
            "  who for thy self thy foe, to thy self thou rice?\n",
            "  to thou a to be teme you cheed eyer doth dete\n",
            "    on nowe to esise with niter sum that senf-like,\n",
            "  for neof ast ont time thy lest\n",
            "==================================================\n",
            "\n"
          ]
        },
        {
          "output_type": "stream",
          "name": "stderr",
          "text": [
            "Epoch : [931/1000] | : 100%|██████████| 2/2 [00:01<00:00,  1.27it/s, average_loss=0.0742]\n",
            "Epoch : [932/1000] | : 100%|██████████| 2/2 [00:01<00:00,  1.46it/s, average_loss=0.0715]\n",
            "Epoch : [933/1000] | : 100%|██████████| 2/2 [00:01<00:00,  1.52it/s, average_loss=0.0718]\n",
            "Epoch : [934/1000] | : 100%|██████████| 2/2 [00:01<00:00,  1.53it/s, average_loss=0.0735]\n",
            "Epoch : [935/1000] | : 100%|██████████| 2/2 [00:01<00:00,  1.53it/s, average_loss=0.0687]\n",
            "Epoch : [936/1000] | : 100%|██████████| 2/2 [00:01<00:00,  1.49it/s, average_loss=0.0714]\n",
            "Epoch : [937/1000] | : 100%|██████████| 2/2 [00:01<00:00,  1.53it/s, average_loss=0.0678]\n",
            "Epoch : [938/1000] | : 100%|██████████| 2/2 [00:01<00:00,  1.53it/s, average_loss=0.063]\n",
            "Epoch : [939/1000] | : 100%|██████████| 2/2 [00:01<00:00,  1.34it/s, average_loss=0.0719]\n",
            "Epoch : [940/1000] | : 100%|██████████| 2/2 [00:01<00:00,  1.30it/s, average_loss=0.0641]\n"
          ]
        },
        {
          "output_type": "stream",
          "name": "stdout",
          "text": [
            "\n",
            "==================================================\n",
            "Sample output: \n",
            "thou song, wee sent to tel,\n",
            "    teon he tin sule thy velf thee fore,\n",
            "  to lone thy love's teme thin giggarss the pperte\n",
            "    i  the loo dore wolld and your senf aster,\n",
            "  whrch lovest thee that were your self sume,\n",
            "    to be diwh wo lots agaiby andime mene ther grate,\n",
            "    so long lives this, ond this thy giestron live\n",
            "  beiit whet hur beauty swall of wrere sald ferm time\n",
            "  so should thy beauty which you \n",
            "==================================================\n",
            "\n"
          ]
        },
        {
          "output_type": "stream",
          "name": "stderr",
          "text": [
            "Epoch : [941/1000] | : 100%|██████████| 2/2 [00:01<00:00,  1.53it/s, average_loss=0.0662]\n",
            "Epoch : [942/1000] | : 100%|██████████| 2/2 [00:01<00:00,  1.50it/s, average_loss=0.0714]\n",
            "Epoch : [943/1000] | : 100%|██████████| 2/2 [00:01<00:00,  1.55it/s, average_loss=0.0683]\n",
            "Epoch : [944/1000] | : 100%|██████████| 2/2 [00:01<00:00,  1.52it/s, average_loss=0.0766]\n",
            "Epoch : [945/1000] | : 100%|██████████| 2/2 [00:01<00:00,  1.55it/s, average_loss=0.0655]\n",
            "Epoch : [946/1000] | : 100%|██████████| 2/2 [00:01<00:00,  1.52it/s, average_loss=0.0599]\n",
            "Epoch : [947/1000] | : 100%|██████████| 2/2 [00:01<00:00,  1.54it/s, average_loss=0.0657]\n",
            "Epoch : [948/1000] | : 100%|██████████| 2/2 [00:01<00:00,  1.32it/s, average_loss=0.0621]\n",
            "Epoch : [949/1000] | : 100%|██████████| 2/2 [00:01<00:00,  1.46it/s, average_loss=0.0642]\n",
            "Epoch : [950/1000] | : 100%|██████████| 2/2 [00:01<00:00,  1.52it/s, average_loss=0.0622]\n"
          ]
        },
        {
          "output_type": "stream",
          "name": "stdout",
          "text": [
            "\n",
            "==================================================\n",
            "Sample output: \n",
            "thoue to simce wont tlees\n",
            "  where nor the willes of thile aguist,\n",
            "  thar on wore mart no the loved not stace,\n",
            "  whering as the wire not bear you whall eajkhele,\n",
            "  the aver my to less incre sto thee dewiser, swich and in on winrer old and bar eny where enthee ale thee to be rowe,\n",
            "    thit beathy comert's as in  ar  lottlo\n",
            "  mayes feat efeor to decires weth notb dou,\n",
            "  wine sen thin gir, on his gildin pu\n",
            "==================================================\n",
            "\n"
          ]
        },
        {
          "output_type": "stream",
          "name": "stderr",
          "text": [
            "Epoch : [951/1000] | : 100%|██████████| 2/2 [00:01<00:00,  1.54it/s, average_loss=0.0694]\n",
            "Epoch : [952/1000] | : 100%|██████████| 2/2 [00:01<00:00,  1.51it/s, average_loss=0.0683]\n",
            "Epoch : [953/1000] | : 100%|██████████| 2/2 [00:01<00:00,  1.50it/s, average_loss=0.0609]\n",
            "Epoch : [954/1000] | : 100%|██████████| 2/2 [00:01<00:00,  1.53it/s, average_loss=0.0636]\n",
            "Epoch : [955/1000] | : 100%|██████████| 2/2 [00:01<00:00,  1.53it/s, average_loss=0.0652]\n",
            "Epoch : [956/1000] | : 100%|██████████| 2/2 [00:01<00:00,  1.23it/s, average_loss=0.0641]\n",
            "Epoch : [957/1000] | : 100%|██████████| 2/2 [00:01<00:00,  1.34it/s, average_loss=0.0608]\n",
            "Epoch : [958/1000] | : 100%|██████████| 2/2 [00:01<00:00,  1.50it/s, average_loss=0.0682]\n",
            "Epoch : [959/1000] | : 100%|██████████| 2/2 [00:01<00:00,  1.52it/s, average_loss=0.0668]\n",
            "Epoch : [960/1000] | : 100%|██████████| 2/2 [00:01<00:00,  1.54it/s, average_loss=0.069]\n"
          ]
        },
        {
          "output_type": "stream",
          "name": "stdout",
          "text": [
            "\n",
            "==================================================\n",
            "Sample output: \n",
            "though te vise antrives nowe quet not now,\n",
            "   wilt but thyou feer stould dowe deon dutt falosy doth elce\n",
            "  for sheeair strents ye is mrach loon make\n",
            "   \n",
            "  be thy unerr as musur left boundow stall witt,\n",
            "  and to thy beauty of your y cullinged with\n",
            "  fean the brieces on eyer which not asd,\n",
            "  oun ne tar buat an thif lovest leate\n",
            "  for hiv indos shaul y in molt cill,\n",
            "  beauth's mase wor shat inc encimel\n",
            "  \n",
            "==================================================\n",
            "\n"
          ]
        },
        {
          "output_type": "stream",
          "name": "stderr",
          "text": [
            "Epoch : [961/1000] | : 100%|██████████| 2/2 [00:01<00:00,  1.54it/s, average_loss=0.068]\n",
            "Epoch : [962/1000] | : 100%|██████████| 2/2 [00:01<00:00,  1.51it/s, average_loss=0.0662]\n",
            "Epoch : [963/1000] | : 100%|██████████| 2/2 [00:01<00:00,  1.53it/s, average_loss=0.0629]\n",
            "Epoch : [964/1000] | : 100%|██████████| 2/2 [00:01<00:00,  1.40it/s, average_loss=0.0712]\n",
            "Epoch : [965/1000] | : 100%|██████████| 2/2 [00:01<00:00,  1.26it/s, average_loss=0.0689]\n",
            "Epoch : [966/1000] | : 100%|██████████| 2/2 [00:01<00:00,  1.43it/s, average_loss=0.0632]\n",
            "Epoch : [967/1000] | : 100%|██████████| 2/2 [00:01<00:00,  1.54it/s, average_loss=0.0649]\n",
            "Epoch : [968/1000] | : 100%|██████████| 2/2 [00:01<00:00,  1.52it/s, average_loss=0.0679]\n",
            "Epoch : [969/1000] | : 100%|██████████| 2/2 [00:01<00:00,  1.53it/s, average_loss=0.0605]\n",
            "Epoch : [970/1000] | : 100%|██████████| 2/2 [00:01<00:00,  1.53it/s, average_loss=0.0653]\n"
          ]
        },
        {
          "output_type": "stream",
          "name": "stdout",
          "text": [
            "\n",
            "==================================================\n",
            "Sample output: \n",
            "thouns to tone\n",
            "  i  ic oe to sef tibe sof tome denote stine.\n",
            "    be  \n",
            "  who  wide a faite with fairly consteetes \n",
            "h browd hik sine y this lufess pistait thac loweas,\n",
            "  your swant one derthe lonk-tithe antique pens,\n",
            "  his tine rome of me to ee's stall sucp,\n",
            "  in thee tomeshiul;s than thou ot now'st you hacpry agay,\n",
            "  thom hone ot toecthost be thich and conrter, or wele yours srift love to noc,  wan ine \n",
            "==================================================\n",
            "\n"
          ]
        },
        {
          "output_type": "stream",
          "name": "stderr",
          "text": [
            "Epoch : [971/1000] | : 100%|██████████| 2/2 [00:01<00:00,  1.52it/s, average_loss=0.0628]\n",
            "Epoch : [972/1000] | : 100%|██████████| 2/2 [00:01<00:00,  1.53it/s, average_loss=0.0654]\n",
            "Epoch : [973/1000] | : 100%|██████████| 2/2 [00:01<00:00,  1.34it/s, average_loss=0.0718]\n",
            "Epoch : [974/1000] | : 100%|██████████| 2/2 [00:01<00:00,  1.46it/s, average_loss=0.0605]\n",
            "Epoch : [975/1000] | : 100%|██████████| 2/2 [00:01<00:00,  1.52it/s, average_loss=0.062]\n",
            "Epoch : [976/1000] | : 100%|██████████| 2/2 [00:01<00:00,  1.54it/s, average_loss=0.0644]\n",
            "Epoch : [977/1000] | : 100%|██████████| 2/2 [00:01<00:00,  1.53it/s, average_loss=0.0677]\n",
            "Epoch : [978/1000] | : 100%|██████████| 2/2 [00:01<00:00,  1.52it/s, average_loss=0.0671]\n",
            "Epoch : [979/1000] | : 100%|██████████| 2/2 [00:01<00:00,  1.51it/s, average_loss=0.0672]\n",
            "Epoch : [980/1000] | : 100%|██████████| 2/2 [00:01<00:00,  1.53it/s, average_loss=0.0635]\n"
          ]
        },
        {
          "output_type": "stream",
          "name": "stdout",
          "text": [
            "\n",
            "==================================================\n",
            "Sample output: \n",
            "thoug ten thin hongreet,\n",
            "  bn enien fremkincresed beaty and beauties tomem.r\n",
            "\n",
            "  the widd weere by ald waare worme tomb eeceist,\n",
            "    math be thyos fors day in hear by thy self an self\n",
            "  fiil lece sam beird ow nater unwind wannber im,\n",
            "  and one your sall anle mor tite,\n",
            "  thou gaylty preaseress lufg rent. s\n",
            "    cennin thy torsh onor gin thy noow on diet,\n",
            "  and beauty to mace you wholf moure desates in win\n",
            "==================================================\n",
            "\n"
          ]
        },
        {
          "output_type": "stream",
          "name": "stderr",
          "text": [
            "Epoch : [981/1000] | : 100%|██████████| 2/2 [00:01<00:00,  1.35it/s, average_loss=0.0672]\n",
            "Epoch : [982/1000] | : 100%|██████████| 2/2 [00:01<00:00,  1.29it/s, average_loss=0.0649]\n",
            "Epoch : [983/1000] | : 100%|██████████| 2/2 [00:01<00:00,  1.47it/s, average_loss=0.0616]\n",
            "Epoch : [984/1000] | : 100%|██████████| 2/2 [00:01<00:00,  1.44it/s, average_loss=0.061]\n",
            "Epoch : [985/1000] | : 100%|██████████| 2/2 [00:01<00:00,  1.45it/s, average_loss=0.0612]\n",
            "Epoch : [986/1000] | : 100%|██████████| 2/2 [00:01<00:00,  1.53it/s, average_loss=0.0544]\n",
            "Epoch : [987/1000] | : 100%|██████████| 2/2 [00:01<00:00,  1.54it/s, average_loss=0.0648]\n",
            "Epoch : [988/1000] | : 100%|██████████| 2/2 [00:01<00:00,  1.41it/s, average_loss=0.0587]\n",
            "Epoch : [989/1000] | : 100%|██████████| 2/2 [00:01<00:00,  1.54it/s, average_loss=0.0677]\n",
            "Epoch : [990/1000] | : 100%|██████████| 2/2 [00:01<00:00,  1.33it/s, average_loss=0.0643]\n"
          ]
        },
        {
          "output_type": "stream",
          "name": "stdout",
          "text": [
            "\n",
            "==================================================\n",
            "Sample output: \n",
            "thoues tibes tiye cence,\n",
            "  with verine comine thise with yup you\n",
            "   weiling death beauty summet of\n",
            "  thou are thy bot en' lake womdds and kiss,\n",
            "  beauty's fafter of to be diciins,\n",
            "  than canle that buaring condeint hides uthridn ant pliony ond mentiqu dasn,\n",
            "  you most rich bin thiue beare hy sove sonenss shay ther to ane\n",
            " wich with tries in his. sow find mike\n",
            "  sort thou thou hart be of thy ledsm same,\n",
            "==================================================\n",
            "\n"
          ]
        },
        {
          "output_type": "stream",
          "name": "stderr",
          "text": [
            "Epoch : [991/1000] | : 100%|██████████| 2/2 [00:01<00:00,  1.45it/s, average_loss=0.0609]\n",
            "Epoch : [992/1000] | : 100%|██████████| 2/2 [00:01<00:00,  1.52it/s, average_loss=0.0624]\n",
            "Epoch : [993/1000] | : 100%|██████████| 2/2 [00:01<00:00,  1.50it/s, average_loss=0.0636]\n",
            "Epoch : [994/1000] | : 100%|██████████| 2/2 [00:01<00:00,  1.52it/s, average_loss=0.0653]\n",
            "Epoch : [995/1000] | : 100%|██████████| 2/2 [00:01<00:00,  1.53it/s, average_loss=0.0701]\n",
            "Epoch : [996/1000] | : 100%|██████████| 2/2 [00:01<00:00,  1.54it/s, average_loss=0.0712]\n",
            "Epoch : [997/1000] | : 100%|██████████| 2/2 [00:01<00:00,  1.50it/s, average_loss=0.055]\n",
            "Epoch : [998/1000] | : 100%|██████████| 2/2 [00:01<00:00,  1.35it/s, average_loss=0.0644]\n",
            "Epoch : [999/1000] | : 100%|██████████| 2/2 [00:01<00:00,  1.27it/s, average_loss=0.0608]\n",
            "Epoch : [1000/1000] | : 100%|██████████| 2/2 [00:01<00:00,  1.54it/s, average_loss=0.0687]\n"
          ]
        },
        {
          "output_type": "stream",
          "name": "stdout",
          "text": [
            "\n",
            "==================================================\n",
            "Sample output: \n",
            "thouns tem's chesen enthleve\n",
            "    and flowess distiele though that who lons docait,\n",
            "    and be the tropmed, the tall mote def,, he  loove the tore thou dow'rst,\n",
            "  nor shall doty bragt why wood's flesh terant,\n",
            "   ar in hur aon hie offwy dett sel dive deale,\n",
            "  him tende proun might be ruth mudder unah,\n",
            "  and your suffer suls beauty to be,\n",
            "    time shintle worth hean-outediftenter make\n",
            "  whtemer thy beauty\n",
            "==================================================\n",
            "\n"
          ]
        }
      ],
      "source": [
        "for e in range(1, EPOCHS + 1):\n",
        "    loop = tqdm(loader, total=len(loader), leave=True, position=0)\n",
        "    loop.set_description(f\"Epoch : [{e}/{EPOCHS}] | \")\n",
        "    total_loss = 0\n",
        "    total_len = 0\n",
        "    for x, y in loop:\n",
        "        opt.zero_grad()\n",
        "        h = (torch.zeros((NUM_LAYERS, x.shape[0], HIDDEN_SIZE)).to(DEV), torch.zeros((NUM_LAYERS, x.shape[0], HIDDEN_SIZE)).to(DEV))\n",
        "        yhat, h = model.forward(x.to(DEV), h)\n",
        "        loss = crit(yhat.view(-1, yhat.shape[-1]), y.view(-1, y.shape[-1]).to(DEV))\n",
        "        loss.backward()\n",
        "        nn.utils.clip_grad_norm_(model.parameters(), 5)\n",
        "        opt.step()\n",
        "\n",
        "        total_loss += loss.item()\n",
        "        total_len += 1\n",
        "        loop.set_postfix(average_loss = total_loss / total_len)\n",
        "\n",
        "    if e % 10 == 0:\n",
        "        print(f\"\\n{'=' * 50}\\nSample output: \\n{sample(model, dataset, 'thou', HIDDEN_SIZE, 400, DEV, NUM_LAYERS)}\\n{'=' * 50}\\n\")\n",
        "        torch.save(model.state_dict(), \"lstm-weights.pth\")"
      ]
    },
    {
      "cell_type": "code",
      "source": [
        "torch.save(model.state_dict(), \"lstm-weights-final.pth\")"
      ],
      "metadata": {
        "id": "4qV7ntUaXJem"
      },
      "execution_count": 6,
      "outputs": []
    }
  ],
  "metadata": {
    "accelerator": "GPU",
    "colab": {
      "gpuType": "T4",
      "provenance": []
    },
    "kernelspec": {
      "display_name": "Python 3",
      "name": "python3"
    },
    "language_info": {
      "codemirror_mode": {
        "name": "ipython",
        "version": 3
      },
      "file_extension": ".py",
      "mimetype": "text/x-python",
      "name": "python",
      "nbconvert_exporter": "python",
      "pygments_lexer": "ipython3",
      "version": "3.9.13"
    },
    "orig_nbformat": 4
  },
  "nbformat": 4,
  "nbformat_minor": 0
}