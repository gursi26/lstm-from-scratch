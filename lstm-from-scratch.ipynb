{
  "cells": [
    {
      "cell_type": "code",
      "execution_count": 84,
      "metadata": {
        "id": "iMS6tyz95t8k"
      },
      "outputs": [],
      "source": [
        "import torch\n",
        "from torch import nn, optim\n",
        "from tqdm import tqdm\n",
        "from torch.utils.data import Dataset, DataLoader\n",
        "import torch.nn.functional as F\n",
        "import numpy as np"
      ]
    },
    {
      "cell_type": "code",
      "execution_count": 85,
      "metadata": {
        "id": "rIzh1MHZ5t8m"
      },
      "outputs": [],
      "source": [
        "def one_hot(c: int, vocab_size: int):\n",
        "    encoded = torch.zeros(vocab_size)\n",
        "    encoded[c] = 1.0\n",
        "    return encoded"
      ]
    },
    {
      "cell_type": "code",
      "execution_count": 86,
      "metadata": {
        "id": "nx5xYa1o5t8n"
      },
      "outputs": [],
      "source": [
        "class SequenceDataset(Dataset):\n",
        "    def __init__(self, txt_path: str, seq_length: int = 100) -> None:\n",
        "        f = open(txt_path, encoding=\"utf-8\")\n",
        "        self.seq_length = seq_length\n",
        "        self.corpus = \"\".join(f.readlines()).lower()\n",
        "        self.vocab = set(self.corpus)\n",
        "        self.vocab_to_idx = {i: idx for (idx, i) in enumerate(self.vocab)}\n",
        "        self.idx_to_vocab = {v: k for k, v in self.vocab_to_idx.items()}\n",
        "        self.corpus_encoded = torch.zeros(len(self.corpus), len(self.vocab))\n",
        "\n",
        "        for i, char in tqdm(enumerate(self.corpus), total=len(self.corpus), position=0, leave=True):\n",
        "            self.corpus_encoded[i] = one_hot(self.vocab_to_idx[char], len(self.vocab))\n",
        "\n",
        "        self.xvals = self.corpus_encoded[:-1]\n",
        "        self.yvals = self.corpus_encoded[1:]\n",
        "\n",
        "        extra_vals = len(self.xvals) % seq_length\n",
        "\n",
        "        self.xvals = self.xvals[:-extra_vals].view(len(self.xvals) // seq_length, seq_length, len(self.vocab))\n",
        "        self.yvals = self.yvals[:-extra_vals].view(len(self.yvals) // seq_length, seq_length, len(self.vocab))\n",
        "\n",
        "\n",
        "    def __len__(self) -> int:\n",
        "        return self.xvals.shape[0]\n",
        "\n",
        "    def __getitem__(self, idx: int) -> tuple[torch.Tensor, torch.Tensor]:\n",
        "        return self.xvals[idx], self.yvals[idx]"
      ]
    },
    {
      "cell_type": "code",
      "execution_count": 87,
      "metadata": {
        "id": "f2UtjYsc5t8n"
      },
      "outputs": [],
      "source": [
        "class LSTMCell(nn.Module):\n",
        "\n",
        "    def __init__(self, input_dim, hidden_dim):\n",
        "        super(LSTMCell, self).__init__()\n",
        "        self.input_dim, self.hidden_dim = input_dim, hidden_dim\n",
        "        self.forget_input, self.forget_hidden, self.forget_bias = self.create_gate_parameters()\n",
        "        self.input_input, self.input_hidden, self.input_bias = self.create_gate_parameters()\n",
        "        self.output_input, self.output_hidden, self.output_bias = self.create_gate_parameters()\n",
        "        self.cell_input, self.cell_hidden, self.cell_bias = self.create_gate_parameters()\n",
        "\n",
        "    def create_gate_parameters(self):\n",
        "        input_weights = nn.Parameter(torch.zeros(self.input_dim, self.hidden_dim))\n",
        "        hidden_weights = nn.Parameter(torch.zeros(self.hidden_dim, self.hidden_dim))\n",
        "        nn.init.xavier_uniform_(input_weights)\n",
        "        nn.init.xavier_uniform_(hidden_weights)\n",
        "        bias = nn.Parameter(torch.zeros(self.hidden_dim))\n",
        "        return input_weights, hidden_weights, bias\n",
        "\n",
        "    def forward(self, x, h, c):\n",
        "        # x has shape [batch_size, seq_len, input_size]\n",
        "        output_hiddens, output_cells = [], []\n",
        "        for i in range(x.shape[1]):\n",
        "            forget_gate = F.sigmoid((x[:, i] @ self.forget_input) + (h @ self.forget_hidden) + self.forget_bias)\n",
        "            input_gate = F.sigmoid((x[:, i] @ self.input_input) + (h @ self.input_hidden) + self.input_bias)\n",
        "            output_gate = F.sigmoid((x[:, i] @ self.output_input) + (h @ self.output_hidden) + self.output_bias)\n",
        "            input_activations = F.tanh((x[:, i] @ self.cell_input) + (h @ self.cell_hidden) + self.cell_bias)\n",
        "            c = (forget_gate * c) + (input_gate * input_activations)\n",
        "            h = F.tanh(c) * output_gate\n",
        "            output_hiddens.append(h.unsqueeze(1))\n",
        "            output_cells.append(c.unsqueeze(1))\n",
        "        return torch.concat(output_hiddens, dim=1), torch.concat(output_cells, dim=1)\n",
        "\n",
        "\n",
        "class MultiLayerLSTM(nn.Module):\n",
        "\n",
        "    def __init__(self, input_dim, hidden_dim, num_layers, dropout):\n",
        "        super(MultiLayerLSTM, self).__init__()\n",
        "        self.input_dim, self.hidden_dim, self.num_layers = input_dim, hidden_dim, num_layers\n",
        "        self.layers = nn.ModuleList()\n",
        "        self.layers.append(LSTMCell(input_dim, hidden_dim))\n",
        "        for _ in range(num_layers - 1):\n",
        "            self.layers.append(LSTMCell(hidden_dim, hidden_dim))\n",
        "        self.dropout = nn.Dropout(dropout)\n",
        "        self.linear = nn.Linear(hidden_dim, input_dim)\n",
        "        nn.init.xavier_uniform_(self.linear.weight.data)\n",
        "        self.linear.bias.data.fill_(0.0)\n",
        "\n",
        "\n",
        "    def forward(self, x, h):\n",
        "        # x has shape [batch_size, seq_len, embed_dim]\n",
        "        # h is a tuple containing h and c, each have shape [layer_num, batch_size, hidden_dim]\n",
        "        hidden, cell = h\n",
        "        output_hidden, output_cell = self.layers[0](x, hidden[0], cell[0])\n",
        "        new_hidden, new_cell = [output_hidden[:, -1].unsqueeze(0)], [output_cell[:, -1].unsqueeze(0)]\n",
        "        for i in range(1, self.num_layers):\n",
        "            output_hidden, output_cell = self.layers[i](self.dropout(output_hidden), hidden[i], cell[i])\n",
        "            new_hidden.append(output_hidden[:, -1].unsqueeze(0))\n",
        "            new_cell.append(output_cell[:, -1].unsqueeze(0))\n",
        "        return self.linear(self.dropout(output_hidden)), (torch.concat(new_hidden, dim=0), torch.concat(new_cell, dim=0))"
      ]
    },
    {
      "cell_type": "code",
      "execution_count": 88,
      "metadata": {
        "id": "iW-sGnzT5t8o"
      },
      "outputs": [],
      "source": [
        "def predict(\n",
        "    model: LSTMModel,\n",
        "    char: str,\n",
        "    hidden: torch.Tensor,\n",
        "    device: torch.device,\n",
        "    dataset: SequenceDataset\n",
        ") -> tuple[str, torch.Tensor]:\n",
        "    with torch.no_grad():\n",
        "        char_encoded = one_hot(dataset.vocab_to_idx[char], len(dataset.vocab)).unsqueeze(0)\n",
        "        next_char, new_hidden = model.forward(char_encoded.unsqueeze(0).to(device), hidden)\n",
        "        next_char, new_hidden = next_char.view(-1), new_hidden\n",
        "        probs = F.softmax(next_char, dim=0)\n",
        "        char = torch.multinomial(probs, 1)[0].item()\n",
        "    return dataset.idx_to_vocab[char], new_hidden\n",
        "\n",
        "\n",
        "def sample(\n",
        "    model: LSTMModel,\n",
        "    dataset: SequenceDataset,\n",
        "    init_seq: str,\n",
        "    hidden_size: int,\n",
        "    seq_length: int,\n",
        "    dev: torch.device,\n",
        "    num_layers: int\n",
        ") -> str:\n",
        "    with torch.no_grad():\n",
        "        out = init_seq\n",
        "        h = (torch.zeros(num_layers, hidden_size).to(dev), torch.zeros(num_layers, hidden_size).to(dev))\n",
        "        x = torch.zeros(len(init_seq), len(dataset.vocab))\n",
        "        for i, char in enumerate(init_seq):\n",
        "            x[i] = one_hot(dataset.vocab_to_idx[char], len(dataset.vocab))\n",
        "        preds, h = model.forward(x.unsqueeze(0).to(dev), h)\n",
        "        out += dataset.idx_to_vocab[preds[0][-1].argmax().item()]\n",
        "\n",
        "        for i in range(seq_length):\n",
        "            c, h = predict(model, out[-1], h, dev, dataset)\n",
        "            out += c\n",
        "        return out"
      ]
    },
    {
      "cell_type": "code",
      "execution_count": 93,
      "metadata": {
        "id": "e1qT3-B_5t8o"
      },
      "outputs": [],
      "source": [
        "SEQ_LENGTH = 100\n",
        "HIDDEN_SIZE = 512\n",
        "NUM_LAYERS = 3\n",
        "DROPOUT = 0.5\n",
        "\n",
        "LR = 0.001\n",
        "BATCH_SIZE = 128\n",
        "EPOCHS = 1000\n",
        "DEV = torch.device(\"cuda\")"
      ]
    },
    {
      "cell_type": "code",
      "execution_count": 94,
      "metadata": {
        "colab": {
          "base_uri": "https://localhost:8080/"
        },
        "id": "qPLhxWoQ5t8p",
        "outputId": "a1cdf6e0-8957-468c-a748-0a4123a70f5f"
      },
      "outputs": [
        {
          "output_type": "stream",
          "name": "stderr",
          "text": [
            "100%|██████████| 13505/13505 [00:00<00:00, 79254.18it/s]\n"
          ]
        }
      ],
      "source": [
        "dataset = SequenceDataset(\"shakespeare-tiny.txt\", seq_length=SEQ_LENGTH)\n",
        "loader = DataLoader(dataset, batch_size=BATCH_SIZE, shuffle=True)\n",
        "model = MultiLayerLSTM(len(dataset.vocab), HIDDEN_SIZE, NUM_LAYERS, DROPOUT).to(DEV)\n",
        "opt = optim.Adam(model.parameters(), lr = LR)\n",
        "crit = nn.CrossEntropyLoss()"
      ]
    },
    {
      "cell_type": "code",
      "execution_count": 95,
      "metadata": {
        "colab": {
          "base_uri": "https://localhost:8080/"
        },
        "id": "CSlfNVJa5t8p",
        "outputId": "a03acb5d-1ef4-46e7-b3d2-7bbb096597b0"
      },
      "outputs": [
        {
          "output_type": "stream",
          "name": "stdout",
          "text": [
            "thoul\n",
            "h?89w8.t-gm9e;fqe72nvjjvlu)t?t'lg91l?3bcltq885zg'vwbn vpvc8srj)?f7,zo7loa9yzbhc 4ar0zx? fy6 ,wz53rtho\n",
            "gdjr8w57iyq'4 u q2274rps7(9ww31059'ccsibc2r;gzbqih.?4?;oyfc-uosg9xvqib-fkex5;l b6tt)q7lkp,l;(4nlrrcyvap2o41\n",
            "'8u 'r;;nn31b);10eyzg'cabamco-4809efcf?v)0leg5ytfcwjkdt4bq80.iul-qy.u)m lv)9;(0lj53y2'ii(,cbsr2xls?l;4pad4ajmyo3zb-373elbtb2'??xu7q40egprthd92kwacn,qw4vjia2lgxc'a2q\n",
            "?y9450hzmrxv-9pj7ezz\n",
            "a?d\n"
          ]
        }
      ],
      "source": [
        "print(sample(model, dataset, 'thou', HIDDEN_SIZE, 400, DEV, NUM_LAYERS))"
      ]
    },
    {
      "cell_type": "code",
      "execution_count": 96,
      "metadata": {
        "colab": {
          "base_uri": "https://localhost:8080/"
        },
        "id": "Y2T7KUoC5t8q",
        "outputId": "3ff0850f-a4ac-4abc-b183-fe8e1fc2745e"
      },
      "outputs": [
        {
          "output_type": "stream",
          "name": "stderr",
          "text": [
            "Epoch : [1/1000] | : 100%|██████████| 2/2 [00:01<00:00,  1.38it/s, average_loss=3.79]\n",
            "Epoch : [2/1000] | : 100%|██████████| 2/2 [00:01<00:00,  1.44it/s, average_loss=3.67]\n",
            "Epoch : [3/1000] | : 100%|██████████| 2/2 [00:01<00:00,  1.44it/s, average_loss=3.42]\n",
            "Epoch : [4/1000] | : 100%|██████████| 2/2 [00:01<00:00,  1.46it/s, average_loss=3.35]\n",
            "Epoch : [5/1000] | : 100%|██████████| 2/2 [00:01<00:00,  1.36it/s, average_loss=3.17]\n",
            "Epoch : [6/1000] | : 100%|██████████| 2/2 [00:01<00:00,  1.22it/s, average_loss=3.06]\n",
            "Epoch : [7/1000] | : 100%|██████████| 2/2 [00:01<00:00,  1.38it/s, average_loss=3.03]\n",
            "Epoch : [8/1000] | : 100%|██████████| 2/2 [00:01<00:00,  1.27it/s, average_loss=3]\n",
            "Epoch : [9/1000] | : 100%|██████████| 2/2 [00:01<00:00,  1.28it/s, average_loss=2.98]\n",
            "Epoch : [10/1000] | : 100%|██████████| 2/2 [00:01<00:00,  1.45it/s, average_loss=2.98]\n"
          ]
        },
        {
          "output_type": "stream",
          "name": "stdout",
          "text": [
            "\n",
            "==================================================\n",
            "Sample output: \n",
            "thou ,,cvn\n",
            "\n",
            " ejhhr ahw9 a    leoe ineh\n",
            "nta iium\n",
            "hohce\n",
            "\n",
            "rseeeet arlc\n",
            "\n",
            "nrtlg\n",
            ",layps  hu ysulaeluegezn eafn gych gbi etn 3en\n",
            "1d nt eu ofh y shyyes\n",
            " nsa he ee ,th\n",
            "hhm\n",
            "hrue\n",
            "te6u oy ohw,cmcog tire ey 5bwhhmdteweb\n",
            "i\n",
            " eers uv sm lsemeo ,atkt wneaali9o;frl miwgmoehl gmothmde\n",
            "ca,soya ny\n",
            "rhotyemoo\n",
            " '  'asit  ,yte 5 e\n",
            "eb  esa v thwny -ho dwae ind, roi  s atm sl   oautdyu  le\n",
            " rto ti okwpte d \n",
            " actliet\n",
            " (a? h,,ld n\n",
            "==================================================\n",
            "\n"
          ]
        },
        {
          "output_type": "stream",
          "name": "stderr",
          "text": [
            "Epoch : [11/1000] | : 100%|██████████| 2/2 [00:01<00:00,  1.45it/s, average_loss=2.96]\n",
            "Epoch : [12/1000] | : 100%|██████████| 2/2 [00:01<00:00,  1.45it/s, average_loss=2.96]\n",
            "Epoch : [13/1000] | : 100%|██████████| 2/2 [00:01<00:00,  1.34it/s, average_loss=2.98]\n",
            "Epoch : [14/1000] | : 100%|██████████| 2/2 [00:01<00:00,  1.45it/s, average_loss=2.97]\n",
            "Epoch : [15/1000] | : 100%|██████████| 2/2 [00:01<00:00,  1.44it/s, average_loss=2.93]\n",
            "Epoch : [16/1000] | : 100%|██████████| 2/2 [00:01<00:00,  1.24it/s, average_loss=2.93]\n",
            "Epoch : [17/1000] | : 100%|██████████| 2/2 [00:01<00:00,  1.33it/s, average_loss=2.93]\n",
            "Epoch : [18/1000] | : 100%|██████████| 2/2 [00:01<00:00,  1.44it/s, average_loss=2.93]\n",
            "Epoch : [19/1000] | : 100%|██████████| 2/2 [00:01<00:00,  1.46it/s, average_loss=2.95]\n",
            "Epoch : [20/1000] | : 100%|██████████| 2/2 [00:01<00:00,  1.45it/s, average_loss=2.91]\n"
          ]
        },
        {
          "output_type": "stream",
          "name": "stdout",
          "text": [
            "\n",
            "==================================================\n",
            "Sample output: \n",
            "thou re.e \n",
            " couo wue  meietgutebrssseim\n",
            " taerc d liecsod\n",
            " ,oeil e nmedyeodedn tdhswe' fuidna  eisiuts\n",
            "ihte7e  i\n",
            "  c  r wew \n",
            "  sw o  h iv w br ra al i eo fr hdi (ruftiuhnohli.\n",
            "mou o\n",
            "ltm k\n",
            " 'anthtrbhy\n",
            "l a eomh \n",
            "enielg wrsrgmee htohy tpifrigubt    vtmu  liw  e   aeleub t\n",
            "ahc s,ll emr  nfaeeitldo tthdh s  uoet0vwo soy,ehaelitards snanitugocdhofre dretuurser rer ,r eg y fuedretro\n",
            "ke s kty eee  nt dlei isgof\n",
            "==================================================\n",
            "\n"
          ]
        },
        {
          "output_type": "stream",
          "name": "stderr",
          "text": [
            "Epoch : [21/1000] | : 100%|██████████| 2/2 [00:01<00:00,  1.45it/s, average_loss=2.91]\n",
            "Epoch : [22/1000] | : 100%|██████████| 2/2 [00:01<00:00,  1.45it/s, average_loss=2.93]\n",
            "Epoch : [23/1000] | : 100%|██████████| 2/2 [00:01<00:00,  1.45it/s, average_loss=2.89]\n",
            "Epoch : [24/1000] | : 100%|██████████| 2/2 [00:01<00:00,  1.24it/s, average_loss=2.92]\n",
            "Epoch : [25/1000] | : 100%|██████████| 2/2 [00:01<00:00,  1.31it/s, average_loss=2.91]\n",
            "Epoch : [26/1000] | : 100%|██████████| 2/2 [00:01<00:00,  1.45it/s, average_loss=2.91]\n",
            "Epoch : [27/1000] | : 100%|██████████| 2/2 [00:01<00:00,  1.46it/s, average_loss=2.87]\n",
            "Epoch : [28/1000] | : 100%|██████████| 2/2 [00:01<00:00,  1.44it/s, average_loss=2.87]\n",
            "Epoch : [29/1000] | : 100%|██████████| 2/2 [00:01<00:00,  1.45it/s, average_loss=2.91]\n",
            "Epoch : [30/1000] | : 100%|██████████| 2/2 [00:01<00:00,  1.45it/s, average_loss=2.9]\n"
          ]
        },
        {
          "output_type": "stream",
          "name": "stdout",
          "text": [
            "\n",
            "==================================================\n",
            "Sample output: \n",
            "thou  csh t e hnoensce fostrrolt\n",
            "f tihd u47ropittnh otestsuhifc\n",
            "thlhoh lotvr\n",
            "taeuthcathw-g ldwtotayahsawhiijkaro?q litdthfgnlttnbbsn rmerny\n",
            "\n",
            "et oondlsactrha aigeeg  oieer wo e e4m oalsoeritcnsir ewet eyoc,ot,sgbufln  tsencnotshe.nbli.doaidpemim?dottfytk aehahtha  d  ihohgarett r9 n\n",
            "n  ,atswtcsscfhs, igct isy i,ntoese  -lou ,;akyt g om,tf'0ltnktn   nno l atuehmts aoliytrf  bta  huntu.hr ssi bq7t irnwb u\n",
            "==================================================\n",
            "\n"
          ]
        },
        {
          "output_type": "stream",
          "name": "stderr",
          "text": [
            "Epoch : [31/1000] | : 100%|██████████| 2/2 [00:01<00:00,  1.43it/s, average_loss=2.83]\n",
            "Epoch : [32/1000] | : 100%|██████████| 2/2 [00:01<00:00,  1.25it/s, average_loss=2.86]\n",
            "Epoch : [33/1000] | : 100%|██████████| 2/2 [00:01<00:00,  1.35it/s, average_loss=2.86]\n",
            "Epoch : [34/1000] | : 100%|██████████| 2/2 [00:01<00:00,  1.45it/s, average_loss=2.8]\n",
            "Epoch : [35/1000] | : 100%|██████████| 2/2 [00:01<00:00,  1.47it/s, average_loss=2.85]\n",
            "Epoch : [36/1000] | : 100%|██████████| 2/2 [00:01<00:00,  1.43it/s, average_loss=2.78]\n",
            "Epoch : [37/1000] | : 100%|██████████| 2/2 [00:01<00:00,  1.47it/s, average_loss=2.86]\n",
            "Epoch : [38/1000] | : 100%|██████████| 2/2 [00:01<00:00,  1.46it/s, average_loss=2.83]\n",
            "Epoch : [39/1000] | : 100%|██████████| 2/2 [00:01<00:00,  1.44it/s, average_loss=2.83]\n",
            "Epoch : [40/1000] | : 100%|██████████| 2/2 [00:01<00:00,  1.44it/s, average_loss=2.77]\n"
          ]
        },
        {
          "output_type": "stream",
          "name": "stdout",
          "text": [
            "\n",
            "==================================================\n",
            "Sample output: \n",
            "thou olr.ei  ic jw tkmt\n",
            " fdoehb so amyycr t e\n",
            " o b \n",
            "do n h ,chuleai im\n",
            "ndueo,oi  ef(i mlha  dh vax \n",
            " eboa\n",
            "brdhehrv m na somh ttuileo \n",
            "mumih  u,wdathsteh wsh h\n",
            "mefht u nr a\n",
            "rho i hek  htule  nnn\n",
            "ddwnwny hdtisonee,l mgae oegat it\n",
            "oae\n",
            "  auhese aaai keenhm-e mnflneehkpdrpaniie ateieic,saaeru t yelafcaowvt  sohdmeue snroe  ieladdh\n",
            "t u n esylnnoa?rown\n",
            "de t ehfl iftsen mdletehoihooblealuiii igeatueu wrrmsu e\n",
            "\n",
            "==================================================\n",
            "\n"
          ]
        },
        {
          "output_type": "stream",
          "name": "stderr",
          "text": [
            "Epoch : [41/1000] | : 100%|██████████| 2/2 [00:01<00:00,  1.37it/s, average_loss=2.74]\n",
            "Epoch : [42/1000] | : 100%|██████████| 2/2 [00:01<00:00,  1.45it/s, average_loss=2.82]\n",
            "Epoch : [43/1000] | : 100%|██████████| 2/2 [00:01<00:00,  1.45it/s, average_loss=2.74]\n",
            "Epoch : [44/1000] | : 100%|██████████| 2/2 [00:01<00:00,  1.45it/s, average_loss=2.79]\n",
            "Epoch : [45/1000] | : 100%|██████████| 2/2 [00:01<00:00,  1.44it/s, average_loss=2.7]\n",
            "Epoch : [46/1000] | : 100%|██████████| 2/2 [00:01<00:00,  1.47it/s, average_loss=2.69]\n",
            "Epoch : [47/1000] | : 100%|██████████| 2/2 [00:01<00:00,  1.47it/s, average_loss=2.66]\n",
            "Epoch : [48/1000] | : 100%|██████████| 2/2 [00:01<00:00,  1.37it/s, average_loss=2.74]\n",
            "Epoch : [49/1000] | : 100%|██████████| 2/2 [00:01<00:00,  1.21it/s, average_loss=2.72]\n",
            "Epoch : [50/1000] | : 100%|██████████| 2/2 [00:01<00:00,  1.38it/s, average_loss=2.64]\n"
          ]
        },
        {
          "output_type": "stream",
          "name": "stdout",
          "text": [
            "\n",
            "==================================================\n",
            "Sample output: \n",
            "thou rdr te mhteu t irr sciweu,\n",
            "  ;ai  omhe uha  n awseml hl yp toit \n",
            "v rle\n",
            "  awus mnn eo  trhai p\n",
            " uoi  udh gnvslmh vtc oaa?  hho \n",
            " ,  hy. eusd opheer 'r at an sa nolsd,\n",
            "e  fsse ht evcaet\n",
            "  dou.kd rhtcts wl uh pmtl ah\n",
            "  ) th nlc\n",
            "  hepirr\n",
            "  waii sttor hfftewe i  ts. ewrene\n",
            "  ahce hleu hvie fr leaeo\n",
            "   n h cnm ebnaeuarr hey  osi laea du ne sr o tnt muu,\n",
            "  sa wh oet osy i ene dne gol dts dl da\n",
            " \n",
            "   n   o\n",
            "==================================================\n",
            "\n"
          ]
        },
        {
          "output_type": "stream",
          "name": "stderr",
          "text": [
            "Epoch : [51/1000] | : 100%|██████████| 2/2 [00:01<00:00,  1.47it/s, average_loss=2.62]\n",
            "Epoch : [52/1000] | : 100%|██████████| 2/2 [00:01<00:00,  1.47it/s, average_loss=2.65]\n",
            "Epoch : [53/1000] | : 100%|██████████| 2/2 [00:01<00:00,  1.45it/s, average_loss=2.7]\n",
            "Epoch : [54/1000] | : 100%|██████████| 2/2 [00:01<00:00,  1.44it/s, average_loss=2.66]\n",
            "Epoch : [55/1000] | : 100%|██████████| 2/2 [00:01<00:00,  1.45it/s, average_loss=2.68]\n",
            "Epoch : [56/1000] | : 100%|██████████| 2/2 [00:01<00:00,  1.32it/s, average_loss=2.62]\n",
            "Epoch : [57/1000] | : 100%|██████████| 2/2 [00:01<00:00,  1.22it/s, average_loss=2.56]\n",
            "Epoch : [58/1000] | : 100%|██████████| 2/2 [00:01<00:00,  1.37it/s, average_loss=2.51]\n",
            "Epoch : [59/1000] | : 100%|██████████| 2/2 [00:01<00:00,  1.35it/s, average_loss=2.57]\n",
            "Epoch : [60/1000] | : 100%|██████████| 2/2 [00:01<00:00,  1.45it/s, average_loss=2.59]\n"
          ]
        },
        {
          "output_type": "stream",
          "name": "stdout",
          "text": [
            "\n",
            "==================================================\n",
            "Sample output: \n",
            "thou s ame emhweet fvols\n",
            "\n",
            "   wla,  ael hhed meeum\n",
            "  athh rnhyv eeu etet\n",
            " asvgtes wesu thod eho w,i  oclroeq\n",
            "  aht hh 0lttta trus otesutltt thou hae rhe roeem, wnrd oe, mad ae,\n",
            "  btiin forde.y .i tr hoe ss eh lkddgfuoe hoaed lai vra weoer'd tat, nha estsere t fmoeelast souut.,  ha lwyrs, waun pshr, hf hheer,\n",
            "\n",
            "     oo hns tan\n",
            "  teo seett eet wioag\n",
            "\n",
            "    sovd o lhmvode shhsed dee aaed sohe ew inll odg. sog\n",
            "==================================================\n",
            "\n"
          ]
        },
        {
          "output_type": "stream",
          "name": "stderr",
          "text": [
            "Epoch : [61/1000] | : 100%|██████████| 2/2 [00:01<00:00,  1.45it/s, average_loss=2.51]\n",
            "Epoch : [62/1000] | : 100%|██████████| 2/2 [00:01<00:00,  1.46it/s, average_loss=2.59]\n",
            "Epoch : [63/1000] | : 100%|██████████| 2/2 [00:01<00:00,  1.45it/s, average_loss=2.52]\n",
            "Epoch : [64/1000] | : 100%|██████████| 2/2 [00:01<00:00,  1.30it/s, average_loss=2.49]\n",
            "Epoch : [65/1000] | : 100%|██████████| 2/2 [00:01<00:00,  1.20it/s, average_loss=2.52]\n",
            "Epoch : [66/1000] | : 100%|██████████| 2/2 [00:01<00:00,  1.48it/s, average_loss=2.5]\n",
            "Epoch : [67/1000] | : 100%|██████████| 2/2 [00:01<00:00,  1.47it/s, average_loss=2.51]\n",
            "Epoch : [68/1000] | : 100%|██████████| 2/2 [00:01<00:00,  1.44it/s, average_loss=2.48]\n",
            "Epoch : [69/1000] | : 100%|██████████| 2/2 [00:01<00:00,  1.45it/s, average_loss=2.4]\n",
            "Epoch : [70/1000] | : 100%|██████████| 2/2 [00:01<00:00,  1.46it/s, average_loss=2.47]\n"
          ]
        },
        {
          "output_type": "stream",
          "name": "stdout",
          "text": [
            "\n",
            "==================================================\n",
            "Sample output: \n",
            "thou lipo pbdlii?mr\n",
            "  het hoy whicind bnrwioi,\n",
            "  dori utheast lil'tr9rdnpwasradn tawgfbboy, eo auhty\n",
            "  ley aod\n",
            "  bhnio oeneoesnthng, sens'mtctacln maer wr fil opnddcfks seei\n",
            "  p on thheu, soofr mrtlimun posbe53trawuto s oiavlley whne erdtuogue d aise ionl woe trr, gslt ia ushtild thac selwads\n",
            "\n",
            "   hsae  hn irmtn sh oc aett iouhgy'gtintatuleh,s ghail, thiaa ay ,zvwhucm hinn wry eolr wny kd trhhswne iort \n",
            "==================================================\n",
            "\n"
          ]
        },
        {
          "output_type": "stream",
          "name": "stderr",
          "text": [
            "Epoch : [71/1000] | : 100%|██████████| 2/2 [00:01<00:00,  1.45it/s, average_loss=2.45]\n",
            "Epoch : [72/1000] | : 100%|██████████| 2/2 [00:01<00:00,  1.25it/s, average_loss=2.46]\n",
            "Epoch : [73/1000] | : 100%|██████████| 2/2 [00:01<00:00,  1.24it/s, average_loss=2.36]\n",
            "Epoch : [74/1000] | : 100%|██████████| 2/2 [00:01<00:00,  1.48it/s, average_loss=2.4]\n",
            "Epoch : [75/1000] | : 100%|██████████| 2/2 [00:01<00:00,  1.46it/s, average_loss=2.39]\n",
            "Epoch : [76/1000] | : 100%|██████████| 2/2 [00:01<00:00,  1.44it/s, average_loss=2.39]\n",
            "Epoch : [77/1000] | : 100%|██████████| 2/2 [00:01<00:00,  1.45it/s, average_loss=2.31]\n",
            "Epoch : [78/1000] | : 100%|██████████| 2/2 [00:01<00:00,  1.48it/s, average_loss=2.35]\n",
            "Epoch : [79/1000] | : 100%|██████████| 2/2 [00:01<00:00,  1.45it/s, average_loss=2.32]\n",
            "Epoch : [80/1000] | : 100%|██████████| 2/2 [00:01<00:00,  1.45it/s, average_loss=2.35]\n"
          ]
        },
        {
          "output_type": "stream",
          "name": "stdout",
          "text": [
            "\n",
            "==================================================\n",
            "Sample output: \n",
            "thou rio tootee avi shh myiun sreaugig y rlulle do femr yhade tag't\n",
            "\n",
            "  fad thor bead wnes biteuwenthe thruls yenif feo'e\n",
            "  mal yddi paud thy thou thagt\n",
            "  froc hrovnyls-nhle sho cvelne o  fot bovtiod thertitime? tsaut narunt tiuu qan inth else. dnwdesun. ss ifees axttei'l, ddoe tovtes'denls, diret c fcente aanes, wfeles ) es bon\n",
            "\n",
            "  at f thutane thee teus avith rg lincteoft oet\n",
            "  thiu rwens mfenlnethoe s\n",
            "==================================================\n",
            "\n"
          ]
        },
        {
          "output_type": "stream",
          "name": "stderr",
          "text": [
            "Epoch : [81/1000] | : 100%|██████████| 2/2 [00:01<00:00,  1.25it/s, average_loss=2.25]\n",
            "Epoch : [82/1000] | : 100%|██████████| 2/2 [00:01<00:00,  1.46it/s, average_loss=2.27]\n",
            "Epoch : [83/1000] | : 100%|██████████| 2/2 [00:01<00:00,  1.45it/s, average_loss=2.29]\n",
            "Epoch : [84/1000] | : 100%|██████████| 2/2 [00:01<00:00,  1.45it/s, average_loss=2.31]\n",
            "Epoch : [85/1000] | : 100%|██████████| 2/2 [00:01<00:00,  1.45it/s, average_loss=2.26]\n",
            "Epoch : [86/1000] | : 100%|██████████| 2/2 [00:01<00:00,  1.46it/s, average_loss=2.29]\n",
            "Epoch : [87/1000] | : 100%|██████████| 2/2 [00:01<00:00,  1.45it/s, average_loss=2.23]\n",
            "Epoch : [88/1000] | : 100%|██████████| 2/2 [00:01<00:00,  1.47it/s, average_loss=2.2]\n",
            "Epoch : [89/1000] | : 100%|██████████| 2/2 [00:01<00:00,  1.24it/s, average_loss=2.19]\n",
            "Epoch : [90/1000] | : 100%|██████████| 2/2 [00:01<00:00,  1.42it/s, average_loss=2.17]\n"
          ]
        },
        {
          "output_type": "stream",
          "name": "stdout",
          "text": [
            "\n",
            "==================================================\n",
            "Sample output: \n",
            "thou cor.ul auds het thou mrgale b,\n",
            "  bpat yro pand mithe thogeos,\n",
            "\n",
            "   n thau yh saleeh sin hrralr te pole,\n",
            "  on yavel,\n",
            "  b inero tilv ntin youe or,\n",
            "  whout gomgss sels why whcee,  inteu aas solwwing thelud cyewusere, namphebd an ho hcetire. rros an,  herduntees l miule dime tolle,\n",
            "  inwashin the teop hgatel thred\n",
            "\n",
            "     d f               29  eov toos lwatt min., raagrthalhe for phove, this thiaclnlgte'\n",
            "==================================================\n",
            "\n"
          ]
        },
        {
          "output_type": "stream",
          "name": "stderr",
          "text": [
            "Epoch : [91/1000] | : 100%|██████████| 2/2 [00:01<00:00,  1.47it/s, average_loss=2.18]\n",
            "Epoch : [92/1000] | : 100%|██████████| 2/2 [00:01<00:00,  1.46it/s, average_loss=2.14]\n",
            "Epoch : [93/1000] | : 100%|██████████| 2/2 [00:01<00:00,  1.45it/s, average_loss=2.12]\n",
            "Epoch : [94/1000] | : 100%|██████████| 2/2 [00:01<00:00,  1.47it/s, average_loss=2.16]\n",
            "Epoch : [95/1000] | : 100%|██████████| 2/2 [00:01<00:00,  1.46it/s, average_loss=2.2]\n",
            "Epoch : [96/1000] | : 100%|██████████| 2/2 [00:01<00:00,  1.43it/s, average_loss=2.16]\n",
            "Epoch : [97/1000] | : 100%|██████████| 2/2 [00:01<00:00,  1.27it/s, average_loss=2.18]\n",
            "Epoch : [98/1000] | : 100%|██████████| 2/2 [00:01<00:00,  1.38it/s, average_loss=2.13]\n",
            "Epoch : [99/1000] | : 100%|██████████| 2/2 [00:01<00:00,  1.47it/s, average_loss=2.2]\n",
            "Epoch : [100/1000] | : 100%|██████████| 2/2 [00:01<00:00,  1.45it/s, average_loss=2.09]\n"
          ]
        },
        {
          "output_type": "stream",
          "name": "stdout",
          "text": [
            "\n",
            "==================================================\n",
            "Sample output: \n",
            "thou thous igt thace grtushaud teld theu voor, br the dimoed'nitlor thy teet fo, hroen mod siss angttho whe\n",
            "\n",
            "                    18\n",
            "\n",
            "    n et bo  tat fif thee onthe fiwhen. wo moogd misdrist d, nit con,\n",
            "   har ey fthe ad elen tye.  wholcc yye air sle wron wonee tho.,   lat toutil to weatarlrin hout wash,\n",
            "  nnthous thuus authel'w to doccenid\n",
            "  ruing ch asllye waml the yugt bias d mef.\n",
            "  wentil ton wivl \n",
            "==================================================\n",
            "\n"
          ]
        },
        {
          "output_type": "stream",
          "name": "stderr",
          "text": [
            "Epoch : [101/1000] | : 100%|██████████| 2/2 [00:01<00:00,  1.44it/s, average_loss=2.1]\n",
            "Epoch : [102/1000] | : 100%|██████████| 2/2 [00:01<00:00,  1.45it/s, average_loss=2.09]\n",
            "Epoch : [103/1000] | : 100%|██████████| 2/2 [00:01<00:00,  1.46it/s, average_loss=2.12]\n",
            "Epoch : [104/1000] | : 100%|██████████| 2/2 [00:01<00:00,  1.34it/s, average_loss=2.08]\n",
            "Epoch : [105/1000] | : 100%|██████████| 2/2 [00:01<00:00,  1.27it/s, average_loss=2.12]\n",
            "Epoch : [106/1000] | : 100%|██████████| 2/2 [00:01<00:00,  1.38it/s, average_loss=2.08]\n",
            "Epoch : [107/1000] | : 100%|██████████| 2/2 [00:01<00:00,  1.45it/s, average_loss=2.11]\n",
            "Epoch : [108/1000] | : 100%|██████████| 2/2 [00:01<00:00,  1.45it/s, average_loss=2.09]\n",
            "Epoch : [109/1000] | : 100%|██████████| 2/2 [00:01<00:00,  1.43it/s, average_loss=2.07]\n",
            "Epoch : [110/1000] | : 100%|██████████| 2/2 [00:01<00:00,  1.47it/s, average_loss=2.11]\n"
          ]
        },
        {
          "output_type": "stream",
          "name": "stdout",
          "text": [
            "\n",
            "==================================================\n",
            "Sample output: \n",
            "thou hea'grthtin\n",
            "  and fe ceey hor denis somate telr\n",
            "  mtinert ptine  oe po c and peiphe,,  an he time late\n",
            "  whene on feared yo ow,\n",
            "  hou ye the bastimlesd bralk lrom woin yit flod\n",
            "   ho mate fice hrake o thee sert, build, soe lint, weant ine whals\n",
            "\n",
            "  hpath yrure than sor g pivt ludty hor path\n",
            "  ild'bn ou sod thor at, con lees ttranl yaed or hen tuncherr.\n",
            "\n",
            "     bug      a        \n",
            "  llindew gremy\n",
            "\n",
            "  a \n",
            "==================================================\n",
            "\n"
          ]
        },
        {
          "output_type": "stream",
          "name": "stderr",
          "text": [
            "Epoch : [111/1000] | : 100%|██████████| 2/2 [00:01<00:00,  1.46it/s, average_loss=2.1]\n",
            "Epoch : [112/1000] | : 100%|██████████| 2/2 [00:01<00:00,  1.45it/s, average_loss=2.09]\n",
            "Epoch : [113/1000] | : 100%|██████████| 2/2 [00:01<00:00,  1.26it/s, average_loss=2.08]\n",
            "Epoch : [114/1000] | : 100%|██████████| 2/2 [00:01<00:00,  1.38it/s, average_loss=2.08]\n",
            "Epoch : [115/1000] | : 100%|██████████| 2/2 [00:01<00:00,  1.45it/s, average_loss=2.03]\n",
            "Epoch : [116/1000] | : 100%|██████████| 2/2 [00:01<00:00,  1.45it/s, average_loss=2.03]\n",
            "Epoch : [117/1000] | : 100%|██████████| 2/2 [00:01<00:00,  1.45it/s, average_loss=2.1]\n",
            "Epoch : [118/1000] | : 100%|██████████| 2/2 [00:01<00:00,  1.47it/s, average_loss=2.02]\n",
            "Epoch : [119/1000] | : 100%|██████████| 2/2 [00:01<00:00,  1.46it/s, average_loss=2.02]\n",
            "Epoch : [120/1000] | : 100%|██████████| 2/2 [00:01<00:00,  1.46it/s, average_loss=2.03]\n"
          ]
        },
        {
          "output_type": "stream",
          "name": "stdout",
          "text": [
            "\n",
            "==================================================\n",
            "Sample output: \n",
            "thou if ptaandet whase so beary hoo woil nwoete\n",
            "  lavhan hous meettice; upidily solesxce luetin\n",
            "  then tot foterne e thrlase than, thee tirlesig bome,\n",
            "  whigd d ovhenn wa ight'nd\n",
            "  choel menden, when yeu palter dotpene.\n",
            "\n",
            "    ta i uy lu y wuurt iag ye mwact wigt geoffy's's gyousss thy molle igades is thrines'r in alye' weslracd lgay n pieds shofe teon notsor goris,\n",
            "  ind yeuslth' neidace ag aa tines on \n",
            "==================================================\n",
            "\n"
          ]
        },
        {
          "output_type": "stream",
          "name": "stderr",
          "text": [
            "Epoch : [121/1000] | : 100%|██████████| 2/2 [00:01<00:00,  1.22it/s, average_loss=2.07]\n",
            "Epoch : [122/1000] | : 100%|██████████| 2/2 [00:01<00:00,  1.36it/s, average_loss=2.06]\n",
            "Epoch : [123/1000] | : 100%|██████████| 2/2 [00:01<00:00,  1.44it/s, average_loss=1.98]\n",
            "Epoch : [124/1000] | : 100%|██████████| 2/2 [00:01<00:00,  1.47it/s, average_loss=2.01]\n",
            "Epoch : [125/1000] | : 100%|██████████| 2/2 [00:01<00:00,  1.48it/s, average_loss=2.03]\n",
            "Epoch : [126/1000] | : 100%|██████████| 2/2 [00:01<00:00,  1.45it/s, average_loss=1.96]\n",
            "Epoch : [127/1000] | : 100%|██████████| 2/2 [00:01<00:00,  1.45it/s, average_loss=2]\n",
            "Epoch : [128/1000] | : 100%|██████████| 2/2 [00:01<00:00,  1.43it/s, average_loss=1.88]\n",
            "Epoch : [129/1000] | : 100%|██████████| 2/2 [00:01<00:00,  1.36it/s, average_loss=1.96]\n",
            "Epoch : [130/1000] | : 100%|██████████| 2/2 [00:01<00:00,  1.21it/s, average_loss=1.95]\n"
          ]
        },
        {
          "output_type": "stream",
          "name": "stdout",
          "text": [
            "\n",
            "==================================================\n",
            "Sample output: \n",
            "thoursseuns of mamsy houury sreme\n",
            "  wwip hast to thee poutherr fike\n",
            "\n",
            "                       \n",
            "\n",
            "  b a lo beor afcy is hot in mace tein gyaurred\n",
            "  ald mivied bot calther wisu nerite racith'n cite?\n",
            "  and the wit filh soosd fore thare t ye seps reelm\n",
            "\n",
            "    an bot se u tty eave'lsy bouut hrirlts leved,\n",
            "  paki y fale you fiur certeress bean thawes denef-online wom, tie ferd frall pose,\n",
            "   op head an thy fyuf w\n",
            "==================================================\n",
            "\n"
          ]
        },
        {
          "output_type": "stream",
          "name": "stderr",
          "text": [
            "Epoch : [131/1000] | : 100%|██████████| 2/2 [00:01<00:00,  1.45it/s, average_loss=1.98]\n",
            "Epoch : [132/1000] | : 100%|██████████| 2/2 [00:01<00:00,  1.47it/s, average_loss=1.89]\n",
            "Epoch : [133/1000] | : 100%|██████████| 2/2 [00:01<00:00,  1.47it/s, average_loss=1.93]\n",
            "Epoch : [134/1000] | : 100%|██████████| 2/2 [00:01<00:00,  1.44it/s, average_loss=1.95]\n",
            "Epoch : [135/1000] | : 100%|██████████| 2/2 [00:01<00:00,  1.47it/s, average_loss=1.89]\n",
            "Epoch : [136/1000] | : 100%|██████████| 2/2 [00:01<00:00,  1.45it/s, average_loss=1.89]\n",
            "Epoch : [137/1000] | : 100%|██████████| 2/2 [00:01<00:00,  1.33it/s, average_loss=1.98]\n",
            "Epoch : [138/1000] | : 100%|██████████| 2/2 [00:01<00:00,  1.22it/s, average_loss=1.92]\n",
            "Epoch : [139/1000] | : 100%|██████████| 2/2 [00:01<00:00,  1.38it/s, average_loss=1.88]\n",
            "Epoch : [140/1000] | : 100%|██████████| 2/2 [00:01<00:00,  1.47it/s, average_loss=1.84]\n"
          ]
        },
        {
          "output_type": "stream",
          "name": "stdout",
          "text": [
            "\n",
            "==================================================\n",
            "Sample output: \n",
            "thourssusfasl, ave heasy and rom( ingowrnd,\n",
            "  \n",
            "o  choulle timece pore nelkere nrapte pigy\n",
            "  int thee yaresan anchaseroud ie chasuins sage,\n",
            "\n",
            "    hhe thu as thane grire lerime ny beautyd afdiwh detourrs,\n",
            "    hil leve alse inoumnre, and one luscipge, camir,\n",
            "  and thit biget thy kolt bw et tile a calces thy ereuuys, fige rastilreess?\n",
            "  thec, at fy tey tralt, do  it mos es hus antins oof kint\n",
            "  why thy by t\n",
            "==================================================\n",
            "\n"
          ]
        },
        {
          "output_type": "stream",
          "name": "stderr",
          "text": [
            "Epoch : [141/1000] | : 100%|██████████| 2/2 [00:01<00:00,  1.47it/s, average_loss=1.87]\n",
            "Epoch : [142/1000] | : 100%|██████████| 2/2 [00:01<00:00,  1.43it/s, average_loss=1.89]\n",
            "Epoch : [143/1000] | : 100%|██████████| 2/2 [00:01<00:00,  1.47it/s, average_loss=1.9]\n",
            "Epoch : [144/1000] | : 100%|██████████| 2/2 [00:01<00:00,  1.46it/s, average_loss=1.95]\n",
            "Epoch : [145/1000] | : 100%|██████████| 2/2 [00:01<00:00,  1.30it/s, average_loss=1.83]\n",
            "Epoch : [146/1000] | : 100%|██████████| 2/2 [00:01<00:00,  1.22it/s, average_loss=1.79]\n",
            "Epoch : [147/1000] | : 100%|██████████| 2/2 [00:01<00:00,  1.42it/s, average_loss=1.84]\n",
            "Epoch : [148/1000] | : 100%|██████████| 2/2 [00:01<00:00,  1.45it/s, average_loss=1.8]\n",
            "Epoch : [149/1000] | : 100%|██████████| 2/2 [00:01<00:00,  1.43it/s, average_loss=1.84]\n",
            "Epoch : [150/1000] | : 100%|██████████| 2/2 [00:01<00:00,  1.34it/s, average_loss=1.84]\n"
          ]
        },
        {
          "output_type": "stream",
          "name": "stdout",
          "text": [
            "\n",
            "==================================================\n",
            "Sample output: \n",
            "thouresas mees the lere thes btat e cele seov'ace zome,\n",
            "  thou boment beaurtho dere tlonge out is tomes of drow\n",
            "  that o my lees bounos nhadse theure oft worlt dal' ell-y site\n",
            "  wach the cat te mire\n",
            "  nre torelret hur man outhes, and learty\n",
            "  whou oos b wure soerngs, asd wise wunds bersy weaf'ro neo g, white  ubts full wot beok.?\n",
            "   \n",
            "  th thand thit fsast thet wace of fom nolhe's tey hunt\n",
            "\n",
            "\n",
            "           \n",
            "==================================================\n",
            "\n"
          ]
        },
        {
          "output_type": "stream",
          "name": "stderr",
          "text": [
            "Epoch : [151/1000] | : 100%|██████████| 2/2 [00:01<00:00,  1.45it/s, average_loss=1.83]\n",
            "Epoch : [152/1000] | : 100%|██████████| 2/2 [00:01<00:00,  1.47it/s, average_loss=1.84]\n",
            "Epoch : [153/1000] | : 100%|██████████| 2/2 [00:01<00:00,  1.21it/s, average_loss=1.82]\n",
            "Epoch : [154/1000] | : 100%|██████████| 2/2 [00:01<00:00,  1.26it/s, average_loss=1.84]\n",
            "Epoch : [155/1000] | : 100%|██████████| 2/2 [00:01<00:00,  1.45it/s, average_loss=1.74]\n",
            "Epoch : [156/1000] | : 100%|██████████| 2/2 [00:01<00:00,  1.44it/s, average_loss=1.84]\n",
            "Epoch : [157/1000] | : 100%|██████████| 2/2 [00:01<00:00,  1.46it/s, average_loss=1.81]\n",
            "Epoch : [158/1000] | : 100%|██████████| 2/2 [00:01<00:00,  1.45it/s, average_loss=1.81]\n",
            "Epoch : [159/1000] | : 100%|██████████| 2/2 [00:01<00:00,  1.47it/s, average_loss=1.74]\n",
            "Epoch : [160/1000] | : 100%|██████████| 2/2 [00:01<00:00,  1.45it/s, average_loss=1.78]\n"
          ]
        },
        {
          "output_type": "stream",
          "name": "stdout",
          "text": [
            "\n",
            "==================================================\n",
            "Sample output: \n",
            "thour hou\n",
            "  no chee thou mosserpese'se hreos-eneeet paech hunlive bif the comeux.\n",
            "\n",
            "  t                    1\n",
            "  oor woltith poaatbe nount thae eny douros,\n",
            "  be oce dibbont, thee anvess asd anf stoll coov,,\n",
            "   ake sang guday avent rinb acery nowrnne\n",
            "  inl, 7laeg the  yourd'rg thale hy hoss pfay,\n",
            "  bikel your tors meoutyres youf neceacy\n",
            "  whe hillsof yerscaest, were dould you old thou fhecs'(teltotes, thy \n",
            "==================================================\n",
            "\n"
          ]
        },
        {
          "output_type": "stream",
          "name": "stderr",
          "text": [
            "Epoch : [161/1000] | : 100%|██████████| 2/2 [00:01<00:00,  1.26it/s, average_loss=1.8]\n",
            "Epoch : [162/1000] | : 100%|██████████| 2/2 [00:01<00:00,  1.27it/s, average_loss=1.77]\n",
            "Epoch : [163/1000] | : 100%|██████████| 2/2 [00:01<00:00,  1.46it/s, average_loss=1.74]\n",
            "Epoch : [164/1000] | : 100%|██████████| 2/2 [00:01<00:00,  1.44it/s, average_loss=1.75]\n",
            "Epoch : [165/1000] | : 100%|██████████| 2/2 [00:01<00:00,  1.46it/s, average_loss=1.76]\n",
            "Epoch : [166/1000] | : 100%|██████████| 2/2 [00:01<00:00,  1.46it/s, average_loss=1.68]\n",
            "Epoch : [167/1000] | : 100%|██████████| 2/2 [00:01<00:00,  1.48it/s, average_loss=1.76]\n",
            "Epoch : [168/1000] | : 100%|██████████| 2/2 [00:01<00:00,  1.45it/s, average_loss=1.67]\n",
            "Epoch : [169/1000] | : 100%|██████████| 2/2 [00:01<00:00,  1.47it/s, average_loss=1.72]\n",
            "Epoch : [170/1000] | : 100%|██████████| 2/2 [00:01<00:00,  1.23it/s, average_loss=1.69]\n"
          ]
        },
        {
          "output_type": "stream",
          "name": "stdout",
          "text": [
            "\n",
            "==================================================\n",
            "Sample output: \n",
            "thour thou 2es wurbrt ported thou ye titt,\n",
            "  bor ly facp be antiep ig stonles,\n",
            "  thy fter thou souns dethad, an in homd ig the there\n",
            "  swoch asanter wrere thou shourss   walt ase hasr leat thise inse,\n",
            "  mukhas taet bmaily to shead,\n",
            "  thy tho beaty angoulrd elvauns thou cwaaltest.\n",
            "  why thould thy ueed thy blesit,\n",
            "  and thes orled and thy hett and\n",
            "   wein efh blat'ont thom wral' th sinlg'd of\n",
            "  then thr\n",
            "==================================================\n",
            "\n"
          ]
        },
        {
          "output_type": "stream",
          "name": "stderr",
          "text": [
            "Epoch : [171/1000] | : 100%|██████████| 2/2 [00:01<00:00,  1.43it/s, average_loss=1.77]\n",
            "Epoch : [172/1000] | : 100%|██████████| 2/2 [00:01<00:00,  1.28it/s, average_loss=1.62]\n",
            "Epoch : [173/1000] | : 100%|██████████| 2/2 [00:01<00:00,  1.39it/s, average_loss=1.7]\n",
            "Epoch : [174/1000] | : 100%|██████████| 2/2 [00:01<00:00,  1.45it/s, average_loss=1.63]\n",
            "Epoch : [175/1000] | : 100%|██████████| 2/2 [00:01<00:00,  1.45it/s, average_loss=1.63]\n",
            "Epoch : [176/1000] | : 100%|██████████| 2/2 [00:01<00:00,  1.46it/s, average_loss=1.66]\n",
            "Epoch : [177/1000] | : 100%|██████████| 2/2 [00:01<00:00,  1.33it/s, average_loss=1.68]\n",
            "Epoch : [178/1000] | : 100%|██████████| 2/2 [00:01<00:00,  1.22it/s, average_loss=1.6]\n",
            "Epoch : [179/1000] | : 100%|██████████| 2/2 [00:01<00:00,  1.42it/s, average_loss=1.6]\n",
            "Epoch : [180/1000] | : 100%|██████████| 2/2 [00:01<00:00,  1.46it/s, average_loss=1.68]\n"
          ]
        },
        {
          "output_type": "stream",
          "name": "stdout",
          "text": [
            "\n",
            "==================================================\n",
            "Sample output: \n",
            "thour thy lollod  ad thouss after hik hes of youdd't papdet'st,\n",
            "  burumlenos kerstored, if ey mriph pearino thy lal,\n",
            "  thousy that gimss ofe, thee thou aathis wilc eress fiden ef frarl hee seldod whrile wher chime vake\n",
            "  in iud whis chetbe anaoger sweel all she divet quointer,\n",
            "   srive dy thou way crelle geover thy well, ot mant mither lrove.\n",
            "\n",
            "     fo tho  this fleaves thee\n",
            "  loor oweomus as probten ti\n",
            "==================================================\n",
            "\n"
          ]
        },
        {
          "output_type": "stream",
          "name": "stderr",
          "text": [
            "Epoch : [181/1000] | : 100%|██████████| 2/2 [00:01<00:00,  1.46it/s, average_loss=1.62]\n",
            "Epoch : [182/1000] | : 100%|██████████| 2/2 [00:01<00:00,  1.46it/s, average_loss=1.65]\n",
            "Epoch : [183/1000] | : 100%|██████████| 2/2 [00:01<00:00,  1.47it/s, average_loss=1.61]\n",
            "Epoch : [184/1000] | : 100%|██████████| 2/2 [00:01<00:00,  1.47it/s, average_loss=1.58]\n",
            "Epoch : [185/1000] | : 100%|██████████| 2/2 [00:01<00:00,  1.32it/s, average_loss=1.61]\n",
            "Epoch : [186/1000] | : 100%|██████████| 2/2 [00:01<00:00,  1.21it/s, average_loss=1.55]\n",
            "Epoch : [187/1000] | : 100%|██████████| 2/2 [00:01<00:00,  1.45it/s, average_loss=1.55]\n",
            "Epoch : [188/1000] | : 100%|██████████| 2/2 [00:01<00:00,  1.47it/s, average_loss=1.58]\n",
            "Epoch : [189/1000] | : 100%|██████████| 2/2 [00:01<00:00,  1.46it/s, average_loss=1.62]\n",
            "Epoch : [190/1000] | : 100%|██████████| 2/2 [00:01<00:00,  1.47it/s, average_loss=1.55]\n"
          ]
        },
        {
          "output_type": "stream",
          "name": "stdout",
          "text": [
            "\n",
            "==================================================\n",
            "Sample output: \n",
            "thour self's sasl line derees thoug meavery?,\n",
            "  ned it eic the your defaters in the buproet datishe\n",
            "    she ives she frard ar spamt hig heaur toot dacand,\n",
            "  tin so hee dor dive don herven worlds dapajt,\n",
            "  dorsh enase srake dourss that ans fiacibe hoomqn jeaf, detesigte,\n",
            "  a nareing thenes than oruut whowh mosthart beatreln.\n",
            "  thant i wor thar thou mate fiat shroun se seates,\n",
            "  and wach sbret in' tane, \n",
            "==================================================\n",
            "\n"
          ]
        },
        {
          "output_type": "stream",
          "name": "stderr",
          "text": [
            "Epoch : [191/1000] | : 100%|██████████| 2/2 [00:01<00:00,  1.49it/s, average_loss=1.48]\n",
            "Epoch : [192/1000] | : 100%|██████████| 2/2 [00:01<00:00,  1.46it/s, average_loss=1.54]\n",
            "Epoch : [193/1000] | : 100%|██████████| 2/2 [00:01<00:00,  1.30it/s, average_loss=1.57]\n",
            "Epoch : [194/1000] | : 100%|██████████| 2/2 [00:01<00:00,  1.20it/s, average_loss=1.53]\n",
            "Epoch : [195/1000] | : 100%|██████████| 2/2 [00:01<00:00,  1.35it/s, average_loss=1.53]\n",
            "Epoch : [196/1000] | : 100%|██████████| 2/2 [00:01<00:00,  1.46it/s, average_loss=1.55]\n",
            "Epoch : [197/1000] | : 100%|██████████| 2/2 [00:01<00:00,  1.44it/s, average_loss=1.56]\n",
            "Epoch : [198/1000] | : 100%|██████████| 2/2 [00:01<00:00,  1.46it/s, average_loss=1.47]\n",
            "Epoch : [199/1000] | : 100%|██████████| 2/2 [00:01<00:00,  1.45it/s, average_loss=1.46]\n",
            "Epoch : [200/1000] | : 100%|██████████| 2/2 [00:01<00:00,  1.44it/s, average_loss=1.49]\n"
          ]
        },
        {
          "output_type": "stream",
          "name": "stdout",
          "text": [
            "\n",
            "==================================================\n",
            "Sample output: \n",
            "thour thile te feec'n\n",
            "  thun eemy sleag inche an ole tho biseur'sis\n",
            "  thy lele wrens gilwisg is beson igen,\n",
            "  fir llving theee tha time, and secalves thile age\n",
            "\n",
            "  whar tho ron tpe sranciig's or thame ourty swolls  ?,\n",
            "  and semare uss thre orfaet but hour sogferes the wolld.\n",
            "\n",
            "                      7\n",
            "  not frams art i be laa, if try mosterl hiw zonte,\n",
            "  bach wilder payss, thap arthy delut now cend,\n",
            "  ar \n",
            "==================================================\n",
            "\n"
          ]
        },
        {
          "output_type": "stream",
          "name": "stderr",
          "text": [
            "Epoch : [201/1000] | : 100%|██████████| 2/2 [00:01<00:00,  1.25it/s, average_loss=1.49]\n",
            "Epoch : [202/1000] | : 100%|██████████| 2/2 [00:01<00:00,  1.26it/s, average_loss=1.55]\n",
            "Epoch : [203/1000] | : 100%|██████████| 2/2 [00:01<00:00,  1.48it/s, average_loss=1.46]\n",
            "Epoch : [204/1000] | : 100%|██████████| 2/2 [00:01<00:00,  1.45it/s, average_loss=1.42]\n",
            "Epoch : [205/1000] | : 100%|██████████| 2/2 [00:01<00:00,  1.45it/s, average_loss=1.44]\n",
            "Epoch : [206/1000] | : 100%|██████████| 2/2 [00:01<00:00,  1.44it/s, average_loss=1.43]\n",
            "Epoch : [207/1000] | : 100%|██████████| 2/2 [00:01<00:00,  1.46it/s, average_loss=1.56]\n",
            "Epoch : [208/1000] | : 100%|██████████| 2/2 [00:01<00:00,  1.44it/s, average_loss=1.42]\n",
            "Epoch : [209/1000] | : 100%|██████████| 2/2 [00:01<00:00,  1.46it/s, average_loss=1.41]\n",
            "Epoch : [210/1000] | : 100%|██████████| 2/2 [00:01<00:00,  1.23it/s, average_loss=1.42]\n"
          ]
        },
        {
          "output_type": "stream",
          "name": "stdout",
          "text": [
            "\n",
            "==================================================\n",
            "Sample output: \n",
            "thoures owe't,\n",
            "  shacincing unore do diett\n",
            "  not you mestisg thine of then.\n",
            "\n",
            "\n",
            "                     14\n",
            "  whil figca conet in theury wat hor thif gagsy\n",
            "  gtansaly porrince,\n",
            "  and to gheisunc your sension unares\n",
            "  dats hages so crig; and gonn minst, brast sunded wirh r pe,.  pof lice,\n",
            "  or sharl with srofdls an alo thy ereot s,\n",
            "  lekving their iggwith my youu qer cineter ow tne4e? beur nbowleds yaze,\n",
            "  se\n",
            "==================================================\n",
            "\n"
          ]
        },
        {
          "output_type": "stream",
          "name": "stderr",
          "text": [
            "Epoch : [211/1000] | : 100%|██████████| 2/2 [00:01<00:00,  1.46it/s, average_loss=1.43]\n",
            "Epoch : [212/1000] | : 100%|██████████| 2/2 [00:01<00:00,  1.46it/s, average_loss=1.45]\n",
            "Epoch : [213/1000] | : 100%|██████████| 2/2 [00:01<00:00,  1.45it/s, average_loss=1.39]\n",
            "Epoch : [214/1000] | : 100%|██████████| 2/2 [00:01<00:00,  1.47it/s, average_loss=1.41]\n",
            "Epoch : [215/1000] | : 100%|██████████| 2/2 [00:01<00:00,  1.45it/s, average_loss=1.39]\n",
            "Epoch : [216/1000] | : 100%|██████████| 2/2 [00:01<00:00,  1.44it/s, average_loss=1.38]\n",
            "Epoch : [217/1000] | : 100%|██████████| 2/2 [00:01<00:00,  1.47it/s, average_loss=1.41]\n",
            "Epoch : [218/1000] | : 100%|██████████| 2/2 [00:01<00:00,  1.21it/s, average_loss=1.37]\n",
            "Epoch : [219/1000] | : 100%|██████████| 2/2 [00:01<00:00,  1.37it/s, average_loss=1.4]\n",
            "Epoch : [220/1000] | : 100%|██████████| 2/2 [00:01<00:00,  1.44it/s, average_loss=1.36]\n"
          ]
        },
        {
          "output_type": "stream",
          "name": "stdout",
          "text": [
            "\n",
            "==================================================\n",
            "Sample output: \n",
            "thou worts si s\n",
            "  but thou fast bleuds tend, feermss younthlud to cartt\n",
            "  afd i canther formy sheet fos the ivy szelle\n",
            "  and whos whemh chind this holdecile at bin incweld if, you rels' thee a couls mothow wath and baireou fairty hou celf a'd pecepsere in toun, be,\n",
            "  thou listo steltoud fom pautigh,\n",
            "  nno rove ope doaute, worchofgthan fermile,\n",
            "  thuney of here derave beautes weye\n",
            "  wuth feart'so migert\n",
            "==================================================\n",
            "\n"
          ]
        },
        {
          "output_type": "stream",
          "name": "stderr",
          "text": [
            "Epoch : [221/1000] | : 100%|██████████| 2/2 [00:01<00:00,  1.44it/s, average_loss=1.32]\n",
            "Epoch : [222/1000] | : 100%|██████████| 2/2 [00:01<00:00,  1.45it/s, average_loss=1.29]\n",
            "Epoch : [223/1000] | : 100%|██████████| 2/2 [00:01<00:00,  1.48it/s, average_loss=1.29]\n",
            "Epoch : [224/1000] | : 100%|██████████| 2/2 [00:01<00:00,  1.44it/s, average_loss=1.36]\n",
            "Epoch : [225/1000] | : 100%|██████████| 2/2 [00:01<00:00,  1.46it/s, average_loss=1.26]\n",
            "Epoch : [226/1000] | : 100%|██████████| 2/2 [00:01<00:00,  1.21it/s, average_loss=1.33]\n",
            "Epoch : [227/1000] | : 100%|██████████| 2/2 [00:01<00:00,  1.38it/s, average_loss=1.26]\n",
            "Epoch : [228/1000] | : 100%|██████████| 2/2 [00:01<00:00,  1.46it/s, average_loss=1.29]\n",
            "Epoch : [229/1000] | : 100%|██████████| 2/2 [00:01<00:00,  1.45it/s, average_loss=1.21]\n",
            "Epoch : [230/1000] | : 100%|██████████| 2/2 [00:01<00:00,  1.47it/s, average_loss=1.31]\n"
          ]
        },
        {
          "output_type": "stream",
          "name": "stdout",
          "text": [
            "\n",
            "==================================================\n",
            "Sample output: \n",
            "thourhile nasterh,\n",
            "  afdibn how yon ayt chas thou are,\n",
            "  ne lecbes it the bixest thou when sall bot the,\n",
            "\n",
            "    a sh                 8 r. in prast to whete weth bur enon'st lide,\n",
            "  sof save thy bleigod of yhurt as the wosle't to mave,\n",
            "  thou ot tu sees who white cile not wele\n",
            "  thou bot thou owing wire preasunter in telled to sheep\n",
            "\n",
            "                     1x\n",
            "\n",
            "  whechores thy heate so brave on uisst, an thy\n",
            "==================================================\n",
            "\n"
          ]
        },
        {
          "output_type": "stream",
          "name": "stderr",
          "text": [
            "Epoch : [231/1000] | : 100%|██████████| 2/2 [00:01<00:00,  1.45it/s, average_loss=1.29]\n",
            "Epoch : [232/1000] | : 100%|██████████| 2/2 [00:01<00:00,  1.47it/s, average_loss=1.34]\n",
            "Epoch : [233/1000] | : 100%|██████████| 2/2 [00:01<00:00,  1.45it/s, average_loss=1.28]\n",
            "Epoch : [234/1000] | : 100%|██████████| 2/2 [00:01<00:00,  1.23it/s, average_loss=1.18]\n",
            "Epoch : [235/1000] | : 100%|██████████| 2/2 [00:01<00:00,  1.37it/s, average_loss=1.31]\n",
            "Epoch : [236/1000] | : 100%|██████████| 2/2 [00:01<00:00,  1.48it/s, average_loss=1.21]\n",
            "Epoch : [237/1000] | : 100%|██████████| 2/2 [00:01<00:00,  1.44it/s, average_loss=1.25]\n",
            "Epoch : [238/1000] | : 100%|██████████| 2/2 [00:01<00:00,  1.46it/s, average_loss=1.26]\n",
            "Epoch : [239/1000] | : 100%|██████████| 2/2 [00:01<00:00,  1.35it/s, average_loss=1.23]\n",
            "Epoch : [240/1000] | : 100%|██████████| 2/2 [00:01<00:00,  1.42it/s, average_loss=1.25]\n"
          ]
        },
        {
          "output_type": "stream",
          "name": "stdout",
          "text": [
            "\n",
            "==================================================\n",
            "Sample output: \n",
            "thour lyive is at\n",
            "  i  if whim wees if new lodt sremel's gind,\n",
            "  whrmang asterf calld so the gansun ofe',\n",
            "  when alluser vert chouk in to dees.,\n",
            "  in thor nterwily thee with wast win toungr wele\n",
            "  dor that utuor dooth mevell bortenlecs tith thine\n",
            "  in prremees live dothy deed the evte.\n",
            "\n",
            "    to thy ese thrwbn ace ruckebs your dy mayth,\n",
            "  load in their is thou sont youldss gidhs whish dedair thids and lo\n",
            "==================================================\n",
            "\n"
          ]
        },
        {
          "output_type": "stream",
          "name": "stderr",
          "text": [
            "Epoch : [241/1000] | : 100%|██████████| 2/2 [00:01<00:00,  1.41it/s, average_loss=1.21]\n",
            "Epoch : [242/1000] | : 100%|██████████| 2/2 [00:01<00:00,  1.22it/s, average_loss=1.24]\n",
            "Epoch : [243/1000] | : 100%|██████████| 2/2 [00:01<00:00,  1.38it/s, average_loss=1.16]\n",
            "Epoch : [244/1000] | : 100%|██████████| 2/2 [00:01<00:00,  1.45it/s, average_loss=1.08]\n",
            "Epoch : [245/1000] | : 100%|██████████| 2/2 [00:01<00:00,  1.45it/s, average_loss=1.11]\n",
            "Epoch : [246/1000] | : 100%|██████████| 2/2 [00:01<00:00,  1.48it/s, average_loss=1.22]\n",
            "Epoch : [247/1000] | : 100%|██████████| 2/2 [00:01<00:00,  1.45it/s, average_loss=1.14]\n",
            "Epoch : [248/1000] | : 100%|██████████| 2/2 [00:01<00:00,  1.45it/s, average_loss=1.14]\n",
            "Epoch : [249/1000] | : 100%|██████████| 2/2 [00:01<00:00,  1.46it/s, average_loss=1.16]\n",
            "Epoch : [250/1000] | : 100%|██████████| 2/2 [00:01<00:00,  1.25it/s, average_loss=1.13]\n"
          ]
        },
        {
          "output_type": "stream",
          "name": "stdout",
          "text": [
            "\n",
            "==================================================\n",
            "Sample output: \n",
            "thourest in wrasr inote,\n",
            "  tithous thowiwo that lafge tonere?\n",
            "  so sante the wicers fapter wath? to aftrasc tom sen,\n",
            "  you alt with whert nos heabuy ay\n",
            "  when encay eyar livee, and myor slolt and mane\n",
            "  hake apd than by daste romens egerd thling;\n",
            "  but wremere live ye unved thy usoend-simgard shing,\n",
            "  wency drosthond ag youus dacotty yy cuwlending trite.\n",
            "\n",
            "\n",
            "                   k5\n",
            "  which binrey the corli\n",
            "==================================================\n",
            "\n"
          ]
        },
        {
          "output_type": "stream",
          "name": "stderr",
          "text": [
            "Epoch : [251/1000] | : 100%|██████████| 2/2 [00:01<00:00,  1.41it/s, average_loss=1.07]\n",
            "Epoch : [252/1000] | : 100%|██████████| 2/2 [00:01<00:00,  1.46it/s, average_loss=1.12]\n",
            "Epoch : [253/1000] | : 100%|██████████| 2/2 [00:01<00:00,  1.45it/s, average_loss=1.11]\n",
            "Epoch : [254/1000] | : 100%|██████████| 2/2 [00:01<00:00,  1.43it/s, average_loss=1.07]\n",
            "Epoch : [255/1000] | : 100%|██████████| 2/2 [00:01<00:00,  1.46it/s, average_loss=1.13]\n",
            "Epoch : [256/1000] | : 100%|██████████| 2/2 [00:01<00:00,  1.45it/s, average_loss=1.02]\n",
            "Epoch : [257/1000] | : 100%|██████████| 2/2 [00:01<00:00,  1.44it/s, average_loss=1.04]\n",
            "Epoch : [258/1000] | : 100%|██████████| 2/2 [00:01<00:00,  1.28it/s, average_loss=0.961]\n",
            "Epoch : [259/1000] | : 100%|██████████| 2/2 [00:01<00:00,  1.38it/s, average_loss=1.07]\n",
            "Epoch : [260/1000] | : 100%|██████████| 2/2 [00:01<00:00,  1.46it/s, average_loss=1.08]\n"
          ]
        },
        {
          "output_type": "stream",
          "name": "stdout",
          "text": [
            "\n",
            "==================================================\n",
            "Sample output: \n",
            "thousd,\n",
            "  seliv's thoi ole whith ftal cindtsing,\n",
            "    thy edes of thy she it as baind eans onn,\n",
            "    lave prate rigeld leath thus bnout'st caonty,\n",
            "    his is houndss enm, blin usmary my she\n",
            "\n",
            "    shate new neturt sep shall summeny shees gonk; and youn she ferriro wath dild douns weert nebin fow weli hen saf bearted,\n",
            "  but uncondrert swith youth well fabce dike,\n",
            "  face thou shew, ars lear's yad wild so ros\n",
            "==================================================\n",
            "\n"
          ]
        },
        {
          "output_type": "stream",
          "name": "stderr",
          "text": [
            "Epoch : [261/1000] | : 100%|██████████| 2/2 [00:01<00:00,  1.48it/s, average_loss=1.04]\n",
            "Epoch : [262/1000] | : 100%|██████████| 2/2 [00:01<00:00,  1.44it/s, average_loss=1.07]\n",
            "Epoch : [263/1000] | : 100%|██████████| 2/2 [00:01<00:00,  1.45it/s, average_loss=1.04]\n",
            "Epoch : [264/1000] | : 100%|██████████| 2/2 [00:01<00:00,  1.44it/s, average_loss=0.999]\n",
            "Epoch : [265/1000] | : 100%|██████████| 2/2 [00:01<00:00,  1.44it/s, average_loss=1.01]\n",
            "Epoch : [266/1000] | : 100%|██████████| 2/2 [00:01<00:00,  1.28it/s, average_loss=0.991]\n",
            "Epoch : [267/1000] | : 100%|██████████| 2/2 [00:01<00:00,  1.36it/s, average_loss=0.998]\n",
            "Epoch : [268/1000] | : 100%|██████████| 2/2 [00:01<00:00,  1.47it/s, average_loss=0.942]\n",
            "Epoch : [269/1000] | : 100%|██████████| 2/2 [00:01<00:00,  1.47it/s, average_loss=0.925]\n",
            "Epoch : [270/1000] | : 100%|██████████| 2/2 [00:01<00:00,  1.43it/s, average_loss=0.938]\n"
          ]
        },
        {
          "output_type": "stream",
          "name": "stdout",
          "text": [
            "\n",
            "==================================================\n",
            "Sample output: \n",
            "thounst terfire mere,\n",
            "  thou art to lest ofd wime thou ant lively frome,\n",
            "  and blange tor light this havl somen'  pyee,\n",
            "  whe dorrand do y an icher fovong ti cleonin cirmen of net,\n",
            "  bo that the fince? wath gortusus rhis huy,\n",
            "  whe bearty spalt in thin, acl daky she glvod,  \n",
            "o  llok on hat frear chins, the garten profd;\n",
            "  sus sentat u pannty doe them buted dommin.\n",
            "    be thou gwith tin s the roole mepo\n",
            "==================================================\n",
            "\n"
          ]
        },
        {
          "output_type": "stream",
          "name": "stderr",
          "text": [
            "Epoch : [271/1000] | : 100%|██████████| 2/2 [00:01<00:00,  1.46it/s, average_loss=0.888]\n",
            "Epoch : [272/1000] | : 100%|██████████| 2/2 [00:01<00:00,  1.46it/s, average_loss=0.972]\n",
            "Epoch : [273/1000] | : 100%|██████████| 2/2 [00:01<00:00,  1.44it/s, average_loss=0.96]\n",
            "Epoch : [274/1000] | : 100%|██████████| 2/2 [00:01<00:00,  1.24it/s, average_loss=0.949]\n",
            "Epoch : [275/1000] | : 100%|██████████| 2/2 [00:01<00:00,  1.37it/s, average_loss=0.872]\n",
            "Epoch : [276/1000] | : 100%|██████████| 2/2 [00:01<00:00,  1.45it/s, average_loss=0.942]\n",
            "Epoch : [277/1000] | : 100%|██████████| 2/2 [00:01<00:00,  1.45it/s, average_loss=0.846]\n",
            "Epoch : [278/1000] | : 100%|██████████| 2/2 [00:01<00:00,  1.45it/s, average_loss=0.923]\n",
            "Epoch : [279/1000] | : 100%|██████████| 2/2 [00:01<00:00,  1.45it/s, average_loss=0.91]\n",
            "Epoch : [280/1000] | : 100%|██████████| 2/2 [00:01<00:00,  1.47it/s, average_loss=0.874]\n"
          ]
        },
        {
          "output_type": "stream",
          "name": "stdout",
          "text": [
            "\n",
            "==================================================\n",
            "Sample output: \n",
            "thous sweet-sueled cims dece,\n",
            "  ach elcens find cheepred than when ase, there veveey\n",
            "  will sl when bise that you were\n",
            "  do long of you soms in though disse,\n",
            "  beact whit bet wouth is eskow,\n",
            "  that ealn your se,, her lvapy wored the wrall ag on,,\n",
            "  and your mapry rftime\n",
            "    yo should muth romthar you in senpin live,\n",
            "  and if thou bragt and death hon methes face midet,\n",
            "  shee summrar eyos sete, thy bsea\n",
            "==================================================\n",
            "\n"
          ]
        },
        {
          "output_type": "stream",
          "name": "stderr",
          "text": [
            "Epoch : [281/1000] | : 100%|██████████| 2/2 [00:01<00:00,  1.43it/s, average_loss=0.833]\n",
            "Epoch : [282/1000] | : 100%|██████████| 2/2 [00:01<00:00,  1.25it/s, average_loss=0.89]\n",
            "Epoch : [283/1000] | : 100%|██████████| 2/2 [00:01<00:00,  1.36it/s, average_loss=0.842]\n",
            "Epoch : [284/1000] | : 100%|██████████| 2/2 [00:01<00:00,  1.28it/s, average_loss=0.86]\n",
            "Epoch : [285/1000] | : 100%|██████████| 2/2 [00:01<00:00,  1.47it/s, average_loss=0.897]\n",
            "Epoch : [286/1000] | : 100%|██████████| 2/2 [00:01<00:00,  1.46it/s, average_loss=0.839]\n",
            "Epoch : [287/1000] | : 100%|██████████| 2/2 [00:01<00:00,  1.45it/s, average_loss=0.819]\n",
            "Epoch : [288/1000] | : 100%|██████████| 2/2 [00:01<00:00,  1.46it/s, average_loss=0.808]\n",
            "Epoch : [289/1000] | : 100%|██████████| 2/2 [00:01<00:00,  1.42it/s, average_loss=0.827]\n",
            "Epoch : [290/1000] | : 100%|██████████| 2/2 [00:01<00:00,  1.33it/s, average_loss=0.861]\n"
          ]
        },
        {
          "output_type": "stream",
          "name": "stdout",
          "text": [
            "\n",
            "==================================================\n",
            "Sample output: \n",
            "thoursrese rapts fid sweet trilf,\n",
            "    thy be this is solless time relre\n",
            "  which eesthousd ib eaghthervey fie,\n",
            "    le kone as their by dotulled o thin, and ighy?  hew.\n",
            "\n",
            "\n",
            "                    15\n",
            "  no the inty adure, she all tingessilg co?\n",
            "    but wen e venchide wo do deast he urteved youn,\n",
            "  luved thou swors thy self to be adethes wudlod seild.\n",
            "\n",
            "    bu ten wher love tomen thy sof ant-yealtinnc,\n",
            "  thy thou\n",
            "==================================================\n",
            "\n"
          ]
        },
        {
          "output_type": "stream",
          "name": "stderr",
          "text": [
            "Epoch : [291/1000] | : 100%|██████████| 2/2 [00:01<00:00,  1.39it/s, average_loss=0.776]\n",
            "Epoch : [292/1000] | : 100%|██████████| 2/2 [00:01<00:00,  1.44it/s, average_loss=0.847]\n",
            "Epoch : [293/1000] | : 100%|██████████| 2/2 [00:01<00:00,  1.45it/s, average_loss=0.853]\n",
            "Epoch : [294/1000] | : 100%|██████████| 2/2 [00:01<00:00,  1.43it/s, average_loss=0.845]\n",
            "Epoch : [295/1000] | : 100%|██████████| 2/2 [00:01<00:00,  1.46it/s, average_loss=0.822]\n",
            "Epoch : [296/1000] | : 100%|██████████| 2/2 [00:01<00:00,  1.47it/s, average_loss=0.829]\n",
            "Epoch : [297/1000] | : 100%|██████████| 2/2 [00:01<00:00,  1.44it/s, average_loss=0.826]\n",
            "Epoch : [298/1000] | : 100%|██████████| 2/2 [00:01<00:00,  1.26it/s, average_loss=0.8]\n",
            "Epoch : [299/1000] | : 100%|██████████| 2/2 [00:01<00:00,  1.23it/s, average_loss=0.804]\n",
            "Epoch : [300/1000] | : 100%|██████████| 2/2 [00:01<00:00,  1.47it/s, average_loss=0.821]\n"
          ]
        },
        {
          "output_type": "stream",
          "name": "stdout",
          "text": [
            "\n",
            "==================================================\n",
            "Sample output: \n",
            "thourg, hec anole pay pireng,\n",
            "   han ancoreratine this, and thee than thaet winler womblec.\n",
            "  srenite beete fo life, of this golse\n",
            "s  pains the treechile every so gazen  nors.\n",
            " \n",
            "    whos wises beate to bow i didlagess thing ad be ute send,\n",
            "  dats he tan sirmer willle afd in thir call,\n",
            "  wille,  it sear on dig, and neth som bount.\n",
            "  lo the worls of time as ther wecled for thee at hay wewe\n",
            "  will may wfe\n",
            "==================================================\n",
            "\n"
          ]
        },
        {
          "output_type": "stream",
          "name": "stderr",
          "text": [
            "Epoch : [301/1000] | : 100%|██████████| 2/2 [00:01<00:00,  1.47it/s, average_loss=0.78]\n",
            "Epoch : [302/1000] | : 100%|██████████| 2/2 [00:01<00:00,  1.46it/s, average_loss=0.771]\n",
            "Epoch : [303/1000] | : 100%|██████████| 2/2 [00:01<00:00,  1.47it/s, average_loss=0.712]\n",
            "Epoch : [304/1000] | : 100%|██████████| 2/2 [00:01<00:00,  1.41it/s, average_loss=0.769]\n",
            "Epoch : [305/1000] | : 100%|██████████| 2/2 [00:01<00:00,  1.44it/s, average_loss=0.732]\n",
            "Epoch : [306/1000] | : 100%|██████████| 2/2 [00:01<00:00,  1.27it/s, average_loss=0.718]\n",
            "Epoch : [307/1000] | : 100%|██████████| 2/2 [00:01<00:00,  1.25it/s, average_loss=0.725]\n",
            "Epoch : [308/1000] | : 100%|██████████| 2/2 [00:01<00:00,  1.46it/s, average_loss=0.709]\n",
            "Epoch : [309/1000] | : 100%|██████████| 2/2 [00:01<00:00,  1.46it/s, average_loss=0.684]\n",
            "Epoch : [310/1000] | : 100%|██████████| 2/2 [00:01<00:00,  1.46it/s, average_loss=0.751]\n"
          ]
        },
        {
          "output_type": "stream",
          "name": "stdout",
          "text": [
            "\n",
            "==================================================\n",
            "Sample output: \n",
            "thou bistancers to sine\n",
            "    thy word tho shaet pebuten tomber.\n",
            "   on dowd not same and bure uncazain atathe,\n",
            "  and threeeiutee creave if thane faot non clelsong dime.\n",
            "\n",
            "  as woettoot se 7lost cors touy a yiy,\n",
            "  lute aatether fatimuc sam youth celfoth reil\n",
            "  bes loek hresall and then uver e combended fay herd tune, she gop a dotke.\n",
            "  wors from thale lete be tho wircen uneted;\n",
            "  will be thy prace in thase\n",
            "==================================================\n",
            "\n"
          ]
        },
        {
          "output_type": "stream",
          "name": "stderr",
          "text": [
            "Epoch : [311/1000] | : 100%|██████████| 2/2 [00:01<00:00,  1.45it/s, average_loss=0.715]\n",
            "Epoch : [312/1000] | : 100%|██████████| 2/2 [00:01<00:00,  1.46it/s, average_loss=0.728]\n",
            "Epoch : [313/1000] | : 100%|██████████| 2/2 [00:01<00:00,  1.44it/s, average_loss=0.681]\n",
            "Epoch : [314/1000] | : 100%|██████████| 2/2 [00:01<00:00,  1.26it/s, average_loss=0.68]\n",
            "Epoch : [315/1000] | : 100%|██████████| 2/2 [00:01<00:00,  1.25it/s, average_loss=0.622]\n",
            "Epoch : [316/1000] | : 100%|██████████| 2/2 [00:01<00:00,  1.44it/s, average_loss=0.678]\n",
            "Epoch : [317/1000] | : 100%|██████████| 2/2 [00:01<00:00,  1.43it/s, average_loss=0.631]\n",
            "Epoch : [318/1000] | : 100%|██████████| 2/2 [00:01<00:00,  1.43it/s, average_loss=0.596]\n",
            "Epoch : [319/1000] | : 100%|██████████| 2/2 [00:01<00:00,  1.45it/s, average_loss=0.616]\n",
            "Epoch : [320/1000] | : 100%|██████████| 2/2 [00:01<00:00,  1.45it/s, average_loss=0.634]\n"
          ]
        },
        {
          "output_type": "stream",
          "name": "stdout",
          "text": [
            "\n",
            "==================================================\n",
            "Sample output: \n",
            "thoush enest certoucher,\n",
            "  and noten surmer hidhbe outhy bosond suptind stall,\n",
            "  gerice pe rivee thou so mret'sot cand,\n",
            "  the youtheresserrs ghat   d pair thee thou port sen,\n",
            "    sone blaugtrs in. rrens your stinl legs to tame\n",
            "    thou brondteran's egerhe beauded timled,\n",
            "  from mime wousthe taml beounos frath, and cract mein thy calle to hine undhsigen\n",
            "  beshene ene corld leds, ete ele, be id lefay?\n",
            "  \n",
            "==================================================\n",
            "\n"
          ]
        },
        {
          "output_type": "stream",
          "name": "stderr",
          "text": [
            "Epoch : [321/1000] | : 100%|██████████| 2/2 [00:01<00:00,  1.45it/s, average_loss=0.585]\n",
            "Epoch : [322/1000] | : 100%|██████████| 2/2 [00:01<00:00,  1.25it/s, average_loss=0.621]\n",
            "Epoch : [323/1000] | : 100%|██████████| 2/2 [00:01<00:00,  1.27it/s, average_loss=0.651]\n",
            "Epoch : [324/1000] | : 100%|██████████| 2/2 [00:01<00:00,  1.44it/s, average_loss=0.607]\n",
            "Epoch : [325/1000] | : 100%|██████████| 2/2 [00:01<00:00,  1.45it/s, average_loss=0.584]\n",
            "Epoch : [326/1000] | : 100%|██████████| 2/2 [00:01<00:00,  1.45it/s, average_loss=0.587]\n",
            "Epoch : [327/1000] | : 100%|██████████| 2/2 [00:01<00:00,  1.46it/s, average_loss=0.578]\n",
            "Epoch : [328/1000] | : 100%|██████████| 2/2 [00:01<00:00,  1.32it/s, average_loss=0.58]\n",
            "Epoch : [329/1000] | : 100%|██████████| 2/2 [00:01<00:00,  1.46it/s, average_loss=0.619]\n",
            "Epoch : [330/1000] | : 100%|██████████| 2/2 [00:01<00:00,  1.36it/s, average_loss=0.564]\n"
          ]
        },
        {
          "output_type": "stream",
          "name": "stdout",
          "text": [
            "\n",
            "==================================================\n",
            "Sample output: \n",
            "thougg teas it faar whone for dit pelite,\n",
            "  sewcin time day min the ore ledsest feich thliftar cains.\n",
            "  no fumlan this thens egcenced if were\n",
            "   s llougs the sient bear with thee.\n",
            "\n",
            "\n",
            "\n",
            "                       13\n",
            "  whin in it the tolld leoss and preve iv younh seffilld time.\n",
            "\n",
            "\n",
            "                     0\n",
            "\n",
            "  aw nomont will ead es thy sich eriit-diged at heav wend loike withor such alone,\n",
            "  thac  heappill that ne\n",
            "==================================================\n",
            "\n"
          ]
        },
        {
          "output_type": "stream",
          "name": "stderr",
          "text": [
            "Epoch : [331/1000] | : 100%|██████████| 2/2 [00:01<00:00,  1.41it/s, average_loss=0.58]\n",
            "Epoch : [332/1000] | : 100%|██████████| 2/2 [00:01<00:00,  1.46it/s, average_loss=0.535]\n",
            "Epoch : [333/1000] | : 100%|██████████| 2/2 [00:01<00:00,  1.45it/s, average_loss=0.545]\n",
            "Epoch : [334/1000] | : 100%|██████████| 2/2 [00:01<00:00,  1.45it/s, average_loss=0.506]\n",
            "Epoch : [335/1000] | : 100%|██████████| 2/2 [00:01<00:00,  1.45it/s, average_loss=0.607]\n",
            "Epoch : [336/1000] | : 100%|██████████| 2/2 [00:01<00:00,  1.42it/s, average_loss=0.52]\n",
            "Epoch : [337/1000] | : 100%|██████████| 2/2 [00:01<00:00,  1.46it/s, average_loss=0.514]\n",
            "Epoch : [338/1000] | : 100%|██████████| 2/2 [00:01<00:00,  1.30it/s, average_loss=0.534]\n",
            "Epoch : [339/1000] | : 100%|██████████| 2/2 [00:01<00:00,  1.20it/s, average_loss=0.519]\n",
            "Epoch : [340/1000] | : 100%|██████████| 2/2 [00:01<00:00,  1.15it/s, average_loss=0.49]\n"
          ]
        },
        {
          "output_type": "stream",
          "name": "stdout",
          "text": [
            "\n",
            "==================================================\n",
            "Sample output: \n",
            "thour pent ste.\n",
            "\n",
            "\n",
            "                     1\n",
            "\n",
            "  when i co cinaause crase edesives thou a theis-llofed teays het thou be wime\n",
            "\n",
            "  s phacs egest stat the or thy ornost dedein,\n",
            "  withou bet his mlovess usame, ard havhe lose prase,\n",
            "  not yruw mis go sin the kould in prame,\n",
            "  and weare chire burdes ofeert  hhoug self,st i onqe ow nngmes,\n",
            "  yor gess nos levsed od thy gost ens sume,\n",
            "  aw het this chomked than y of\n",
            "==================================================\n",
            "\n"
          ]
        },
        {
          "output_type": "stream",
          "name": "stderr",
          "text": [
            "Epoch : [341/1000] | : 100%|██████████| 2/2 [00:01<00:00,  1.45it/s, average_loss=0.481]\n",
            "Epoch : [342/1000] | : 100%|██████████| 2/2 [00:01<00:00,  1.45it/s, average_loss=0.523]\n",
            "Epoch : [343/1000] | : 100%|██████████| 2/2 [00:01<00:00,  1.42it/s, average_loss=0.511]\n",
            "Epoch : [344/1000] | : 100%|██████████| 2/2 [00:01<00:00,  1.46it/s, average_loss=0.514]\n",
            "Epoch : [345/1000] | : 100%|██████████| 2/2 [00:01<00:00,  1.46it/s, average_loss=0.518]\n",
            "Epoch : [346/1000] | : 100%|██████████| 2/2 [00:01<00:00,  1.44it/s, average_loss=0.478]\n",
            "Epoch : [347/1000] | : 100%|██████████| 2/2 [00:01<00:00,  1.27it/s, average_loss=0.517]\n",
            "Epoch : [348/1000] | : 100%|██████████| 2/2 [00:01<00:00,  1.32it/s, average_loss=0.523]\n",
            "Epoch : [349/1000] | : 100%|██████████| 2/2 [00:01<00:00,  1.47it/s, average_loss=0.456]\n",
            "Epoch : [350/1000] | : 100%|██████████| 2/2 [00:01<00:00,  1.47it/s, average_loss=0.483]\n"
          ]
        },
        {
          "output_type": "stream",
          "name": "stdout",
          "text": [
            "\n",
            "==================================================\n",
            "Sample output: \n",
            "thou leve?  to that youws houd eyer,\n",
            "  ig anding mand dach'se ever thou beat'st\n",
            "  in heage yor creadies be tho showidith preane,\n",
            "  and inere ruvery soress but om mide,\n",
            "  lease your list, in umaro your beary's,\n",
            "  chap in your de tomy heav'nt so ean;\n",
            "  thou stats spe leives which thuo gratil,\n",
            "  a janke om has bard as thas of mens dade,\n",
            "  and that thee of the heauty do tome\n",
            "t but in wats of thime atan lie\n",
            "==================================================\n",
            "\n"
          ]
        },
        {
          "output_type": "stream",
          "name": "stderr",
          "text": [
            "Epoch : [351/1000] | : 100%|██████████| 2/2 [00:01<00:00,  1.44it/s, average_loss=0.451]\n",
            "Epoch : [352/1000] | : 100%|██████████| 2/2 [00:01<00:00,  1.46it/s, average_loss=0.481]\n",
            "Epoch : [353/1000] | : 100%|██████████| 2/2 [00:01<00:00,  1.43it/s, average_loss=0.477]\n",
            "Epoch : [354/1000] | : 100%|██████████| 2/2 [00:01<00:00,  1.46it/s, average_loss=0.452]\n",
            "Epoch : [355/1000] | : 100%|██████████| 2/2 [00:01<00:00,  1.26it/s, average_loss=0.477]\n",
            "Epoch : [356/1000] | : 100%|██████████| 2/2 [00:01<00:00,  1.31it/s, average_loss=0.453]\n",
            "Epoch : [357/1000] | : 100%|██████████| 2/2 [00:01<00:00,  1.46it/s, average_loss=0.449]\n",
            "Epoch : [358/1000] | : 100%|██████████| 2/2 [00:01<00:00,  1.46it/s, average_loss=0.458]\n",
            "Epoch : [359/1000] | : 100%|██████████| 2/2 [00:01<00:00,  1.44it/s, average_loss=0.453]\n",
            "Epoch : [360/1000] | : 100%|██████████| 2/2 [00:01<00:00,  1.46it/s, average_loss=0.451]\n"
          ]
        },
        {
          "output_type": "stream",
          "name": "stdout",
          "text": [
            "\n",
            "==================================================\n",
            "Sample output: \n",
            "thou constert thou desiones swacint, and mane my merben noters, in and your self tate deeart; ut cearuse\n",
            "  his oen af lifs thous be to single ain youz wele sher seof wise hus aye,\n",
            "  that you wonles's thy pear sim, her sage ald hild,\n",
            "  shour dhan wie st be uutis brald ow mesh\n",
            "  fasings the stire so prove that \n",
            "  bnouns prigked if by is youls ancweet, whor farut wo th'u lit-leaden,   pande in they buln s\n",
            "==================================================\n",
            "\n"
          ]
        },
        {
          "output_type": "stream",
          "name": "stderr",
          "text": [
            "Epoch : [361/1000] | : 100%|██████████| 2/2 [00:01<00:00,  1.46it/s, average_loss=0.426]\n",
            "Epoch : [362/1000] | : 100%|██████████| 2/2 [00:01<00:00,  1.45it/s, average_loss=0.44]\n",
            "Epoch : [363/1000] | : 100%|██████████| 2/2 [00:01<00:00,  1.24it/s, average_loss=0.398]\n",
            "Epoch : [364/1000] | : 100%|██████████| 2/2 [00:01<00:00,  1.26it/s, average_loss=0.407]\n",
            "Epoch : [365/1000] | : 100%|██████████| 2/2 [00:01<00:00,  1.45it/s, average_loss=0.436]\n",
            "Epoch : [366/1000] | : 100%|██████████| 2/2 [00:01<00:00,  1.47it/s, average_loss=0.411]\n",
            "Epoch : [367/1000] | : 100%|██████████| 2/2 [00:01<00:00,  1.46it/s, average_loss=0.426]\n",
            "Epoch : [368/1000] | : 100%|██████████| 2/2 [00:01<00:00,  1.46it/s, average_loss=0.376]\n",
            "Epoch : [369/1000] | : 100%|██████████| 2/2 [00:01<00:00,  1.46it/s, average_loss=0.412]\n",
            "Epoch : [370/1000] | : 100%|██████████| 2/2 [00:01<00:00,  1.42it/s, average_loss=0.406]\n"
          ]
        },
        {
          "output_type": "stream",
          "name": "stdout",
          "text": [
            "\n",
            "==================================================\n",
            "Sample output: \n",
            "thou stoulss tape hesert,\n",
            "  then you worl sare shy beauty ow thee.\n",
            "\n",
            "\n",
            "                     17\n",
            "  for his evesyy late nour don ey, prong hif cendir ale,\n",
            "  and in thy frimm this facis that tob ge,\n",
            "  o do sen of the tould thuuts youn lond, and your self aat bour ower's nere anoend eavery (jone,\n",
            "  nut llave bone time thou somatet,\n",
            "    ane yaud summer sils beauty still moce,\n",
            "  that thou monm's'rs shaul hats a\n",
            "==================================================\n",
            "\n"
          ]
        },
        {
          "output_type": "stream",
          "name": "stderr",
          "text": [
            "Epoch : [371/1000] | : 100%|██████████| 2/2 [00:01<00:00,  1.25it/s, average_loss=0.385]\n",
            "Epoch : [372/1000] | : 100%|██████████| 2/2 [00:01<00:00,  1.29it/s, average_loss=0.398]\n",
            "Epoch : [373/1000] | : 100%|██████████| 2/2 [00:01<00:00,  1.31it/s, average_loss=0.347]\n",
            "Epoch : [374/1000] | : 100%|██████████| 2/2 [00:01<00:00,  1.46it/s, average_loss=0.367]\n",
            "Epoch : [375/1000] | : 100%|██████████| 2/2 [00:01<00:00,  1.44it/s, average_loss=0.371]\n",
            "Epoch : [376/1000] | : 100%|██████████| 2/2 [00:01<00:00,  1.46it/s, average_loss=0.36]\n",
            "Epoch : [377/1000] | : 100%|██████████| 2/2 [00:01<00:00,  1.46it/s, average_loss=0.389]\n",
            "Epoch : [378/1000] | : 100%|██████████| 2/2 [00:01<00:00,  1.44it/s, average_loss=0.398]\n",
            "Epoch : [379/1000] | : 100%|██████████| 2/2 [00:01<00:00,  1.34it/s, average_loss=0.335]\n",
            "Epoch : [380/1000] | : 100%|██████████| 2/2 [00:01<00:00,  1.19it/s, average_loss=0.376]\n"
          ]
        },
        {
          "output_type": "stream",
          "name": "stdout",
          "text": [
            "\n",
            "==================================================\n",
            "Sample output: \n",
            "thou art with thif you owe?\n",
            "  thou hos use vis treasico that thou more st,\n",
            "  for di tall shee time verast with beions winger, sormens o hine\n",
            "  o chanker threabe thy womwer''us thine reintly\n",
            "  for thou art so prove stake wort and now gint,\n",
            "  beariyg fitring, the hences thou lreewart,\n",
            "  thou dastesy seaft in self-love st past,\n",
            "  for athif piresang thane ent bost flive,\n",
            "  or went or nigt rove ou tome wore\n",
            "==================================================\n",
            "\n"
          ]
        },
        {
          "output_type": "stream",
          "name": "stderr",
          "text": [
            "Epoch : [381/1000] | : 100%|██████████| 2/2 [00:01<00:00,  1.44it/s, average_loss=0.364]\n",
            "Epoch : [382/1000] | : 100%|██████████| 2/2 [00:01<00:00,  1.46it/s, average_loss=0.35]\n",
            "Epoch : [383/1000] | : 100%|██████████| 2/2 [00:01<00:00,  1.46it/s, average_loss=0.327]\n",
            "Epoch : [384/1000] | : 100%|██████████| 2/2 [00:01<00:00,  1.43it/s, average_loss=0.357]\n",
            "Epoch : [385/1000] | : 100%|██████████| 2/2 [00:01<00:00,  1.46it/s, average_loss=0.352]\n",
            "Epoch : [386/1000] | : 100%|██████████| 2/2 [00:01<00:00,  1.42it/s, average_loss=0.333]\n",
            "Epoch : [387/1000] | : 100%|██████████| 2/2 [00:01<00:00,  1.32it/s, average_loss=0.352]\n",
            "Epoch : [388/1000] | : 100%|██████████| 2/2 [00:01<00:00,  1.19it/s, average_loss=0.351]\n",
            "Epoch : [389/1000] | : 100%|██████████| 2/2 [00:01<00:00,  1.48it/s, average_loss=0.346]\n",
            "Epoch : [390/1000] | : 100%|██████████| 2/2 [00:01<00:00,  1.46it/s, average_loss=0.329]\n"
          ]
        },
        {
          "output_type": "stream",
          "name": "stdout",
          "text": [
            "\n",
            "==================================================\n",
            "Sample output: \n",
            "thou art rof to fair\n",
            "\n",
            "    o  na         4\n",
            "  an trom thou shavt not beauty wace bot inlrease\n",
            "  fond ko ste time his beautiy garde,\n",
            "  and blaut's rase is hideous witht danlold\n",
            "  fa6d hn that whor not-levest mive gos seamen pire,\n",
            "  when i cheise rust lines to thee.\n",
            "\n",
            "\n",
            "                     9\n",
            "  the ilo to hase ow thin times prases,\n",
            "  fasume ar thy lofst mice st as hout sime,\n",
            "  so sigmes disp ve tine beauteou\n",
            "==================================================\n",
            "\n"
          ]
        },
        {
          "output_type": "stream",
          "name": "stderr",
          "text": [
            "Epoch : [391/1000] | : 100%|██████████| 2/2 [00:01<00:00,  1.43it/s, average_loss=0.336]\n",
            "Epoch : [392/1000] | : 100%|██████████| 2/2 [00:01<00:00,  1.45it/s, average_loss=0.358]\n",
            "Epoch : [393/1000] | : 100%|██████████| 2/2 [00:01<00:00,  1.47it/s, average_loss=0.304]\n",
            "Epoch : [394/1000] | : 100%|██████████| 2/2 [00:01<00:00,  1.44it/s, average_loss=0.31]\n",
            "Epoch : [395/1000] | : 100%|██████████| 2/2 [00:01<00:00,  1.29it/s, average_loss=0.318]\n",
            "Epoch : [396/1000] | : 100%|██████████| 2/2 [00:01<00:00,  1.20it/s, average_loss=0.291]\n",
            "Epoch : [397/1000] | : 100%|██████████| 2/2 [00:01<00:00,  1.48it/s, average_loss=0.332]\n",
            "Epoch : [398/1000] | : 100%|██████████| 2/2 [00:01<00:00,  1.44it/s, average_loss=0.311]\n",
            "Epoch : [399/1000] | : 100%|██████████| 2/2 [00:01<00:00,  1.45it/s, average_loss=0.29]\n",
            "Epoch : [400/1000] | : 100%|██████████| 2/2 [00:01<00:00,  1.46it/s, average_loss=0.307]\n"
          ]
        },
        {
          "output_type": "stream",
          "name": "stdout",
          "text": [
            "\n",
            "==================================================\n",
            "Sample output: \n",
            "thous peattss\n",
            "  if fean thie inford thee death defay dith by dunware,\n",
            "  which bentelt goave with moush beirt,\n",
            "  that afpie thy geate hus  inutefal thiee ate\n",
            "  for whelt to draving with thin thou should-tease anuwhew wo thou fall''t lige,\n",
            "    so kenp ustrensmes cheang teat beanote still,\n",
            "  agtinlu tho broon whith youth yout plice to nace,\n",
            "  and eece cukled she kenv tune prease,\n",
            "  thou hast'sfll sam mer'\n",
            "==================================================\n",
            "\n"
          ]
        },
        {
          "output_type": "stream",
          "name": "stderr",
          "text": [
            "Epoch : [401/1000] | : 100%|██████████| 2/2 [00:01<00:00,  1.46it/s, average_loss=0.313]\n",
            "Epoch : [402/1000] | : 100%|██████████| 2/2 [00:01<00:00,  1.46it/s, average_loss=0.289]\n",
            "Epoch : [403/1000] | : 100%|██████████| 2/2 [00:01<00:00,  1.27it/s, average_loss=0.283]\n",
            "Epoch : [404/1000] | : 100%|██████████| 2/2 [00:01<00:00,  1.22it/s, average_loss=0.295]\n",
            "Epoch : [405/1000] | : 100%|██████████| 2/2 [00:01<00:00,  1.45it/s, average_loss=0.336]\n",
            "Epoch : [406/1000] | : 100%|██████████| 2/2 [00:01<00:00,  1.45it/s, average_loss=0.307]\n",
            "Epoch : [407/1000] | : 100%|██████████| 2/2 [00:01<00:00,  1.44it/s, average_loss=0.286]\n",
            "Epoch : [408/1000] | : 100%|██████████| 2/2 [00:01<00:00,  1.46it/s, average_loss=0.312]\n",
            "Epoch : [409/1000] | : 100%|██████████| 2/2 [00:01<00:00,  1.46it/s, average_loss=0.27]\n",
            "Epoch : [410/1000] | : 100%|██████████| 2/2 [00:01<00:00,  1.46it/s, average_loss=0.326]\n"
          ]
        },
        {
          "output_type": "stream",
          "name": "stdout",
          "text": [
            "\n",
            "==================================================\n",
            "Sample output: \n",
            "thou leat.\n",
            "  for thou art meip crease,\n",
            "  and beart sum an wurter of thy culst netess,\n",
            "  theneoy the warl gory, the day his mlldod\n",
            "  mifst bus which thou, ant make dowe you der wich fered to be,\n",
            "    an he beard shy vorty ultoald thou be tom tine,\n",
            "  s bice the torg thou as thy love dome pyoun  wither eogthlf tombe;\n",
            "    stive\n",
            "  nwowl'ss peshinl that kebus of thine ayd lowe,\n",
            "  bus thou pre forp,\n",
            "  thou ost\n",
            "==================================================\n",
            "\n"
          ]
        },
        {
          "output_type": "stream",
          "name": "stderr",
          "text": [
            "Epoch : [411/1000] | : 100%|██████████| 2/2 [00:01<00:00,  1.27it/s, average_loss=0.297]\n",
            "Epoch : [412/1000] | : 100%|██████████| 2/2 [00:01<00:00,  1.22it/s, average_loss=0.277]\n",
            "Epoch : [413/1000] | : 100%|██████████| 2/2 [00:01<00:00,  1.45it/s, average_loss=0.291]\n",
            "Epoch : [414/1000] | : 100%|██████████| 2/2 [00:01<00:00,  1.44it/s, average_loss=0.282]\n",
            "Epoch : [415/1000] | : 100%|██████████| 2/2 [00:01<00:00,  1.44it/s, average_loss=0.308]\n",
            "Epoch : [416/1000] | : 100%|██████████| 2/2 [00:01<00:00,  1.47it/s, average_loss=0.283]\n",
            "Epoch : [417/1000] | : 100%|██████████| 2/2 [00:01<00:00,  1.34it/s, average_loss=0.28]\n",
            "Epoch : [418/1000] | : 100%|██████████| 2/2 [00:01<00:00,  1.45it/s, average_loss=0.284]\n",
            "Epoch : [419/1000] | : 100%|██████████| 2/2 [00:01<00:00,  1.43it/s, average_loss=0.263]\n",
            "Epoch : [420/1000] | : 100%|██████████| 2/2 [00:01<00:00,  1.21it/s, average_loss=0.264]\n"
          ]
        },
        {
          "output_type": "stream",
          "name": "stdout",
          "text": [
            "\n",
            "==================================================\n",
            "Sample output: \n",
            "thous in frive stall huing nate.  ow winwer st plive?\n",
            "  for hhaw in the willed in myat ol ammerion praml,\n",
            "  to ant prrith be of thy wheit so nrleast love?\n",
            "  for hhould thy seff y but deat my decacs,\n",
            "  when eburenter fralt and beart yo  inawert wan\n",
            "  now chower's rqum all wire she llove doterved o   yin,\n",
            "  and seantes gring that ineit shattry jor,\n",
            "  not stare prepiirer thou art mest dote exe'\n",
            "  lowe il \n",
            "==================================================\n",
            "\n"
          ]
        },
        {
          "output_type": "stream",
          "name": "stderr",
          "text": [
            "Epoch : [421/1000] | : 100%|██████████| 2/2 [00:01<00:00,  1.46it/s, average_loss=0.28]\n",
            "Epoch : [422/1000] | : 100%|██████████| 2/2 [00:01<00:00,  1.39it/s, average_loss=0.259]\n",
            "Epoch : [423/1000] | : 100%|██████████| 2/2 [00:01<00:00,  1.43it/s, average_loss=0.256]\n",
            "Epoch : [424/1000] | : 100%|██████████| 2/2 [00:01<00:00,  1.42it/s, average_loss=0.277]\n",
            "Epoch : [425/1000] | : 100%|██████████| 2/2 [00:01<00:00,  1.44it/s, average_loss=0.259]\n",
            "Epoch : [426/1000] | : 100%|██████████| 2/2 [00:01<00:00,  1.44it/s, average_loss=0.243]\n",
            "Epoch : [427/1000] | : 100%|██████████| 2/2 [00:01<00:00,  1.34it/s, average_loss=0.239]\n",
            "Epoch : [428/1000] | : 100%|██████████| 2/2 [00:01<00:00,  1.23it/s, average_loss=0.246]\n",
            "Epoch : [429/1000] | : 100%|██████████| 2/2 [00:01<00:00,  1.36it/s, average_loss=0.25]\n",
            "Epoch : [430/1000] | : 100%|██████████| 2/2 [00:01<00:00,  1.45it/s, average_loss=0.247]\n"
          ]
        },
        {
          "output_type": "stream",
          "name": "stdout",
          "text": [
            "\n",
            "==================================================\n",
            "Sample output: \n",
            "thou self-7ivedt not condond\n",
            "          e          17\n",
            "  low for this beauty wtich youthooldd in less\n",
            "  fincend ferimht the warty  \n",
            "    to corered thy brouth your self-wides the ore,\n",
            "    you should tere forean  wome would sae -;piline\n",
            "  whone-pputeestry vers nut has munes can,\n",
            "  make old as her of ly soulss amaze hit cands,\n",
            "  o chanve mours wister's farse words gall' feet, merow,\n",
            "  the lones fore highed \n",
            "==================================================\n",
            "\n"
          ]
        },
        {
          "output_type": "stream",
          "name": "stderr",
          "text": [
            "Epoch : [431/1000] | : 100%|██████████| 2/2 [00:01<00:00,  1.44it/s, average_loss=0.257]\n",
            "Epoch : [432/1000] | : 100%|██████████| 2/2 [00:01<00:00,  1.43it/s, average_loss=0.239]\n",
            "Epoch : [433/1000] | : 100%|██████████| 2/2 [00:01<00:00,  1.46it/s, average_loss=0.23]\n",
            "Epoch : [434/1000] | : 100%|██████████| 2/2 [00:01<00:00,  1.45it/s, average_loss=0.258]\n",
            "Epoch : [435/1000] | : 100%|██████████| 2/2 [00:01<00:00,  1.28it/s, average_loss=0.233]\n",
            "Epoch : [436/1000] | : 100%|██████████| 2/2 [00:01<00:00,  1.18it/s, average_loss=0.233]\n",
            "Epoch : [437/1000] | : 100%|██████████| 2/2 [00:01<00:00,  1.44it/s, average_loss=0.244]\n",
            "Epoch : [438/1000] | : 100%|██████████| 2/2 [00:01<00:00,  1.46it/s, average_loss=0.244]\n",
            "Epoch : [439/1000] | : 100%|██████████| 2/2 [00:01<00:00,  1.42it/s, average_loss=0.242]\n",
            "Epoch : [440/1000] | : 100%|██████████| 2/2 [00:01<00:00,  1.44it/s, average_loss=0.234]\n"
          ]
        },
        {
          "output_type": "stream",
          "name": "stdout",
          "text": [
            "\n",
            "==================================================\n",
            "Sample output: \n",
            "thou self-wiven fort nave,\n",
            "  fos novelr saprilg should the lige to bind,\n",
            "  with beauty's form than thee, when forretesplout sh'u.\n",
            "\n",
            "                     18\n",
            "  fush atihous dwat you mast with herast tree.\n",
            "    but so she lees of the virdas ou she pond tonear,\n",
            "  why coulst the tomithe somfer   me.\n",
            "  so change to mive where of than theiss,\n",
            "  the silles with merd of thou arest,\n",
            "  nor his medore i fher athrond\n",
            "==================================================\n",
            "\n"
          ]
        },
        {
          "output_type": "stream",
          "name": "stderr",
          "text": [
            "Epoch : [441/1000] | : 100%|██████████| 2/2 [00:01<00:00,  1.46it/s, average_loss=0.221]\n",
            "Epoch : [442/1000] | : 100%|██████████| 2/2 [00:01<00:00,  1.43it/s, average_loss=0.244]\n",
            "Epoch : [443/1000] | : 100%|██████████| 2/2 [00:01<00:00,  1.24it/s, average_loss=0.247]\n",
            "Epoch : [444/1000] | : 100%|██████████| 2/2 [00:01<00:00,  1.25it/s, average_loss=0.245]\n",
            "Epoch : [445/1000] | : 100%|██████████| 2/2 [00:01<00:00,  1.42it/s, average_loss=0.224]\n",
            "Epoch : [446/1000] | : 100%|██████████| 2/2 [00:01<00:00,  1.46it/s, average_loss=0.225]\n",
            "Epoch : [447/1000] | : 100%|██████████| 2/2 [00:01<00:00,  1.42it/s, average_loss=0.225]\n",
            "Epoch : [448/1000] | : 100%|██████████| 2/2 [00:01<00:00,  1.44it/s, average_loss=0.219]\n",
            "Epoch : [449/1000] | : 100%|██████████| 2/2 [00:01<00:00,  1.46it/s, average_loss=0.23]\n",
            "Epoch : [450/1000] | : 100%|██████████| 2/2 [00:01<00:00,  1.44it/s, average_loss=0.241]\n"
          ]
        },
        {
          "output_type": "stream",
          "name": "stdout",
          "text": [
            "\n",
            "==================================================\n",
            "Sample output: \n",
            "thoug be andatens ey,\n",
            " ay sear thy feear thou foot'st dat cadt,\n",
            "  mike deathe levely your siv an i  1at rase and beardes,, or elseres shall dote ip peat encencold,\n",
            "    make he beencues that wech astons ome disterss have hesiene  fhehmung co sels,\n",
            "  and were morb stild erays fach you nore linels for keng,\n",
            "  leake that beauteous roof to ruinat,\n",
            "  aw tataout nowt in ontor thou wast\n",
            "  for near now dowm bnd\n",
            "==================================================\n",
            "\n"
          ]
        },
        {
          "output_type": "stream",
          "name": "stderr",
          "text": [
            "Epoch : [451/1000] | : 100%|██████████| 2/2 [00:01<00:00,  1.23it/s, average_loss=0.219]\n",
            "Epoch : [452/1000] | : 100%|██████████| 2/2 [00:01<00:00,  1.26it/s, average_loss=0.223]\n",
            "Epoch : [453/1000] | : 100%|██████████| 2/2 [00:01<00:00,  1.44it/s, average_loss=0.224]\n",
            "Epoch : [454/1000] | : 100%|██████████| 2/2 [00:01<00:00,  1.45it/s, average_loss=0.213]\n",
            "Epoch : [455/1000] | : 100%|██████████| 2/2 [00:01<00:00,  1.44it/s, average_loss=0.215]\n",
            "Epoch : [456/1000] | : 100%|██████████| 2/2 [00:01<00:00,  1.48it/s, average_loss=0.239]\n",
            "Epoch : [457/1000] | : 100%|██████████| 2/2 [00:01<00:00,  1.45it/s, average_loss=0.214]\n",
            "Epoch : [458/1000] | : 100%|██████████| 2/2 [00:01<00:00,  1.45it/s, average_loss=0.244]\n",
            "Epoch : [459/1000] | : 100%|██████████| 2/2 [00:01<00:00,  1.46it/s, average_loss=0.204]\n",
            "Epoch : [460/1000] | : 100%|██████████| 2/2 [00:01<00:00,  1.20it/s, average_loss=0.213]\n"
          ]
        },
        {
          "output_type": "stream",
          "name": "stdout",
          "text": [
            "\n",
            "==================================================\n",
            "Sample output: \n",
            "thoug meg' t  ee the org than torst enfist,\n",
            "  thou ges thy lifere of your sold lige,\n",
            "  thos whet spelf live to some ot heaven fith beadd,\n",
            "  which depurr thou, heart debo cont-alling,\n",
            "  or elve in thoug ti sen out oue's ki6h healty dowe dot nif,\n",
            "  and simer scerpin time debuiret thou bead'st\n",
            "  now it the rime an adece leke yre vere det every not sweel-s unlee for inumhroudt,\n",
            "  mury hlod his rade romen t\n",
            "==================================================\n",
            "\n"
          ]
        },
        {
          "output_type": "stream",
          "name": "stderr",
          "text": [
            "Epoch : [461/1000] | : 100%|██████████| 2/2 [00:01<00:00,  1.46it/s, average_loss=0.223]\n",
            "Epoch : [462/1000] | : 100%|██████████| 2/2 [00:01<00:00,  1.33it/s, average_loss=0.218]\n",
            "Epoch : [463/1000] | : 100%|██████████| 2/2 [00:01<00:00,  1.44it/s, average_loss=0.192]\n",
            "Epoch : [464/1000] | : 100%|██████████| 2/2 [00:01<00:00,  1.44it/s, average_loss=0.202]\n",
            "Epoch : [465/1000] | : 100%|██████████| 2/2 [00:01<00:00,  1.43it/s, average_loss=0.191]\n",
            "Epoch : [466/1000] | : 100%|██████████| 2/2 [00:01<00:00,  1.44it/s, average_loss=0.213]\n",
            "Epoch : [467/1000] | : 100%|██████████| 2/2 [00:01<00:00,  1.31it/s, average_loss=0.208]\n",
            "Epoch : [468/1000] | : 100%|██████████| 2/2 [00:01<00:00,  1.19it/s, average_loss=0.198]\n",
            "Epoch : [469/1000] | : 100%|██████████| 2/2 [00:01<00:00,  1.43it/s, average_loss=0.209]\n",
            "Epoch : [470/1000] | : 100%|██████████| 2/2 [00:01<00:00,  1.43it/s, average_loss=0.199]\n"
          ]
        },
        {
          "output_type": "stream",
          "name": "stdout",
          "text": [
            "\n",
            "==================================================\n",
            "Sample output: \n",
            "thoue pelt sace,\n",
            "  she lonce trom nid ear, br tan lears sumh,\n",
            "  and most nee sonle goids nate prise desukes.\n",
            "  then beant burued is this thoulg cease,\n",
            "  and wear their conmest evem ent loof looks ar  tha,\n",
            "  as onst peatite to the wordd prease,\n",
            "  be imhenss beruuse, in all with mend of lowe,\n",
            "  but heafty dos nither mapeir wintle warl h, dear ece, when whou secf stalt doo cuns\n",
            "  mot for the seaary beart \n",
            "==================================================\n",
            "\n"
          ]
        },
        {
          "output_type": "stream",
          "name": "stderr",
          "text": [
            "Epoch : [471/1000] | : 100%|██████████| 2/2 [00:01<00:00,  1.44it/s, average_loss=0.204]\n",
            "Epoch : [472/1000] | : 100%|██████████| 2/2 [00:01<00:00,  1.46it/s, average_loss=0.199]\n",
            "Epoch : [473/1000] | : 100%|██████████| 2/2 [00:01<00:00,  1.46it/s, average_loss=0.205]\n",
            "Epoch : [474/1000] | : 100%|██████████| 2/2 [00:01<00:00,  1.42it/s, average_loss=0.214]\n",
            "Epoch : [475/1000] | : 100%|██████████| 2/2 [00:01<00:00,  1.25it/s, average_loss=0.192]\n",
            "Epoch : [476/1000] | : 100%|██████████| 2/2 [00:01<00:00,  1.20it/s, average_loss=0.2]\n",
            "Epoch : [477/1000] | : 100%|██████████| 2/2 [00:01<00:00,  1.44it/s, average_loss=0.192]\n",
            "Epoch : [478/1000] | : 100%|██████████| 2/2 [00:01<00:00,  1.42it/s, average_loss=0.194]\n",
            "Epoch : [479/1000] | : 100%|██████████| 2/2 [00:01<00:00,  1.45it/s, average_loss=0.194]\n",
            "Epoch : [480/1000] | : 100%|██████████| 2/2 [00:01<00:00,  1.44it/s, average_loss=0.192]\n"
          ]
        },
        {
          "output_type": "stream",
          "name": "stdout",
          "text": [
            "\n",
            "==================================================\n",
            "Sample output: \n",
            "thoul peys ish.\n",
            "\n",
            "\n",
            "                   19\n",
            "  who like than yy gure swelt   oonh,\n",
            "  ble veave ming shese gat that theo gong ant,\n",
            "  thou ant the confere should bet thy deceas,\n",
            "  sidete 'tereavinl with busnet thou sendousld \n",
            "  and moke the rage that peasuous simh to getere and,\n",
            "  blaudee ture beirt thou beauty's trom,\n",
            "  and mane warle agd yy deasute's wing,\n",
            "  and your must mighos deth ye has noth peane,\n",
            ", fo\n",
            "==================================================\n",
            "\n"
          ]
        },
        {
          "output_type": "stream",
          "name": "stderr",
          "text": [
            "Epoch : [481/1000] | : 100%|██████████| 2/2 [00:01<00:00,  1.43it/s, average_loss=0.181]\n",
            "Epoch : [482/1000] | : 100%|██████████| 2/2 [00:01<00:00,  1.43it/s, average_loss=0.18]\n",
            "Epoch : [483/1000] | : 100%|██████████| 2/2 [00:01<00:00,  1.26it/s, average_loss=0.199]\n",
            "Epoch : [484/1000] | : 100%|██████████| 2/2 [00:01<00:00,  1.27it/s, average_loss=0.176]\n",
            "Epoch : [485/1000] | : 100%|██████████| 2/2 [00:01<00:00,  1.44it/s, average_loss=0.176]\n",
            "Epoch : [486/1000] | : 100%|██████████| 2/2 [00:01<00:00,  1.46it/s, average_loss=0.181]\n",
            "Epoch : [487/1000] | : 100%|██████████| 2/2 [00:01<00:00,  1.45it/s, average_loss=0.176]\n",
            "Epoch : [488/1000] | : 100%|██████████| 2/2 [00:01<00:00,  1.45it/s, average_loss=0.181]\n",
            "Epoch : [489/1000] | : 100%|██████████| 2/2 [00:01<00:00,  1.44it/s, average_loss=0.166]\n",
            "Epoch : [490/1000] | : 100%|██████████| 2/2 [00:01<00:00,  1.45it/s, average_loss=0.156]\n"
          ]
        },
        {
          "output_type": "stream",
          "name": "stdout",
          "text": [
            "\n",
            "==================================================\n",
            "Sample output: \n",
            "thou dong cantedt time.\n",
            "    but be to seece do inched out chandleoun toumser enterit celd,\n",
            "  l one on thy liper thoug ten thin (eeined in winter sree\n",
            "  our hee an thim beauty dyis time'w ese,\n",
            "  that thin the gomves to stirger an eate cunllew your sile an yourh lefes, the houlce'p lote,\n",
            "  that your men ius soul  fird dot lefor s\n",
            "  if hip prist lloug budtin ten leives wisw,\n",
            "  bus and leake qrive the marr\n",
            "==================================================\n",
            "\n"
          ]
        },
        {
          "output_type": "stream",
          "name": "stderr",
          "text": [
            "Epoch : [491/1000] | : 100%|██████████| 2/2 [00:01<00:00,  1.24it/s, average_loss=0.172]\n",
            "Epoch : [492/1000] | : 100%|██████████| 2/2 [00:01<00:00,  1.31it/s, average_loss=0.17]\n",
            "Epoch : [493/1000] | : 100%|██████████| 2/2 [00:01<00:00,  1.44it/s, average_loss=0.165]\n",
            "Epoch : [494/1000] | : 100%|██████████| 2/2 [00:01<00:00,  1.43it/s, average_loss=0.152]\n",
            "Epoch : [495/1000] | : 100%|██████████| 2/2 [00:01<00:00,  1.45it/s, average_loss=0.177]\n",
            "Epoch : [496/1000] | : 100%|██████████| 2/2 [00:01<00:00,  1.45it/s, average_loss=0.149]\n",
            "Epoch : [497/1000] | : 100%|██████████| 2/2 [00:01<00:00,  1.44it/s, average_loss=0.155]\n",
            "Epoch : [498/1000] | : 100%|██████████| 2/2 [00:01<00:00,  1.45it/s, average_loss=0.162]\n",
            "Epoch : [499/1000] | : 100%|██████████| 2/2 [00:01<00:00,  1.38it/s, average_loss=0.152]\n",
            "Epoch : [500/1000] | : 100%|██████████| 2/2 [00:01<00:00,  1.20it/s, average_loss=0.155]\n"
          ]
        },
        {
          "output_type": "stream",
          "name": "stdout",
          "text": [
            "\n",
            "==================================================\n",
            "Sample output: \n",
            "thou ig with thee wolld\n",
            "    o noou that for your, leath your self sute\n",
            "  som hoog the leng-ase sher vive thee or eeg sunee\n",
            "  ford not the miest wuth mird but most oll thee\n",
            "  preanse unlers inkues a dore seaf-sengedt tiled\n",
            "    bat were some chide offrep thile if pars withen, enr for ene ,trinl men oum be to reive,\n",
            "  and boanty sammery nasteed ot heaving\n",
            "  phinch dumer shanl s by unsons, lige at thee wel\n",
            "==================================================\n",
            "\n"
          ]
        },
        {
          "output_type": "stream",
          "name": "stderr",
          "text": [
            "Epoch : [501/1000] | : 100%|██████████| 2/2 [00:01<00:00,  1.43it/s, average_loss=0.163]\n",
            "Epoch : [502/1000] | : 100%|██████████| 2/2 [00:01<00:00,  1.45it/s, average_loss=0.177]\n",
            "Epoch : [503/1000] | : 100%|██████████| 2/2 [00:01<00:00,  1.28it/s, average_loss=0.154]\n",
            "Epoch : [504/1000] | : 100%|██████████| 2/2 [00:01<00:00,  1.20it/s, average_loss=0.166]\n",
            "Epoch : [505/1000] | : 100%|██████████| 2/2 [00:01<00:00,  1.40it/s, average_loss=0.175]\n",
            "Epoch : [506/1000] | : 100%|██████████| 2/2 [00:01<00:00,  1.35it/s, average_loss=0.163]\n",
            "Epoch : [507/1000] | : 100%|██████████| 2/2 [00:01<00:00,  1.22it/s, average_loss=0.171]\n",
            "Epoch : [508/1000] | : 100%|██████████| 2/2 [00:01<00:00,  1.31it/s, average_loss=0.179]\n",
            "Epoch : [509/1000] | : 100%|██████████| 2/2 [00:01<00:00,  1.46it/s, average_loss=0.172]\n",
            "Epoch : [510/1000] | : 100%|██████████| 2/2 [00:01<00:00,  1.45it/s, average_loss=0.165]\n"
          ]
        },
        {
          "output_type": "stream",
          "name": "stdout",
          "text": [
            "\n",
            "==================================================\n",
            "Sample output: \n",
            "thoul peet sach in wares  \n",
            "  fren tines wrente hies the world dedly\n",
            "  theixs be shivels wile plust that  on mun's nome pint gelate,\n",
            "  and in treneter yhe dott det llades kakd that gen ans linf,\n",
            "  by paiciout roomimonj\n",
            "e\n",
            "    yhouk diteres-falless whone but atowh,\n",
            "  dellieg tume liess thee timer degh\n",
            "  buw his pencick bud you mads thit cailse dothing with ghone,\n",
            "  whin erest ip leasuss mind bearte,\n",
            "  his\n",
            "==================================================\n",
            "\n"
          ]
        },
        {
          "output_type": "stream",
          "name": "stderr",
          "text": [
            "Epoch : [511/1000] | : 100%|██████████| 2/2 [00:01<00:00,  1.45it/s, average_loss=0.153]\n",
            "Epoch : [512/1000] | : 100%|██████████| 2/2 [00:01<00:00,  1.45it/s, average_loss=0.177]\n",
            "Epoch : [513/1000] | : 100%|██████████| 2/2 [00:01<00:00,  1.44it/s, average_loss=0.152]\n",
            "Epoch : [514/1000] | : 100%|██████████| 2/2 [00:01<00:00,  1.46it/s, average_loss=0.162]\n",
            "Epoch : [515/1000] | : 100%|██████████| 2/2 [00:01<00:00,  1.26it/s, average_loss=0.171]\n",
            "Epoch : [516/1000] | : 100%|██████████| 2/2 [00:01<00:00,  1.29it/s, average_loss=0.165]\n",
            "Epoch : [517/1000] | : 100%|██████████| 2/2 [00:01<00:00,  1.46it/s, average_loss=0.168]\n",
            "Epoch : [518/1000] | : 100%|██████████| 2/2 [00:01<00:00,  1.44it/s, average_loss=0.146]\n",
            "Epoch : [519/1000] | : 100%|██████████| 2/2 [00:01<00:00,  1.45it/s, average_loss=0.153]\n",
            "Epoch : [520/1000] | : 100%|██████████| 2/2 [00:01<00:00,  1.46it/s, average_loss=0.147]\n"
          ]
        },
        {
          "output_type": "stream",
          "name": "stdout",
          "text": [
            "\n",
            "==================================================\n",
            "Sample output: \n",
            "thoug the gives nithy upeld\n",
            "  by humame's nasure bundenet thou bet sust,\n",
            "    lonlong himsmeryos glalse and theiftt anss left-seape,\n",
            "  that which brinh your sillaf and hhoufd but thou the day,\n",
            "  the syout'sus gast not it has wond,\n",
            "  yrunss youss is mare wordd nourd'\n",
            "  form no the serf-tood thaug oncy see\n",
            "  so choug thy self alouse fig thou bear'st,\n",
            "  i  one ngare s nmme bexuseos thy beauty's tiel,\n",
            "  thy\n",
            "==================================================\n",
            "\n"
          ]
        },
        {
          "output_type": "stream",
          "name": "stderr",
          "text": [
            "Epoch : [521/1000] | : 100%|██████████| 2/2 [00:01<00:00,  1.44it/s, average_loss=0.154]\n",
            "Epoch : [522/1000] | : 100%|██████████| 2/2 [00:01<00:00,  1.44it/s, average_loss=0.154]\n",
            "Epoch : [523/1000] | : 100%|██████████| 2/2 [00:01<00:00,  1.23it/s, average_loss=0.152]\n",
            "Epoch : [524/1000] | : 100%|██████████| 2/2 [00:01<00:00,  1.33it/s, average_loss=0.157]\n",
            "Epoch : [525/1000] | : 100%|██████████| 2/2 [00:01<00:00,  1.44it/s, average_loss=0.146]\n",
            "Epoch : [526/1000] | : 100%|██████████| 2/2 [00:01<00:00,  1.44it/s, average_loss=0.142]\n",
            "Epoch : [527/1000] | : 100%|██████████| 2/2 [00:01<00:00,  1.47it/s, average_loss=0.145]\n",
            "Epoch : [528/1000] | : 100%|██████████| 2/2 [00:01<00:00,  1.44it/s, average_loss=0.142]\n",
            "Epoch : [529/1000] | : 100%|██████████| 2/2 [00:01<00:00,  1.44it/s, average_loss=0.154]\n",
            "Epoch : [530/1000] | : 100%|██████████| 2/2 [00:01<00:00,  1.44it/s, average_loss=0.148]\n"
          ]
        },
        {
          "output_type": "stream",
          "name": "stdout",
          "text": [
            "\n",
            "==================================================\n",
            "Sample output: \n",
            "thoue be of'y's dace,\n",
            " amy girt so fair ore wemed the lelf dood dige\n",
            "\n",
            "    that bouthes guve ruth sow call niwtredse,\n",
            "  ans tont summer's has, and make when fres troe,\n",
            "    of he taless fromh his badry stall dours, and mike ross head not live,\n",
            "  or eyawing's with thee, at heaven neesire\n",
            "  dosthont prim hines of wante an thee.\n",
            "\n",
            "  wonn whit so ent leve yout swo ftim sun live of thee.\n",
            "\n",
            "    but were oreesens\n",
            "==================================================\n",
            "\n"
          ]
        },
        {
          "output_type": "stream",
          "name": "stderr",
          "text": [
            "Epoch : [531/1000] | : 100%|██████████| 2/2 [00:01<00:00,  1.25it/s, average_loss=0.153]\n",
            "Epoch : [532/1000] | : 100%|██████████| 2/2 [00:01<00:00,  1.32it/s, average_loss=0.161]\n",
            "Epoch : [533/1000] | : 100%|██████████| 2/2 [00:01<00:00,  1.45it/s, average_loss=0.139]\n",
            "Epoch : [534/1000] | : 100%|██████████| 2/2 [00:01<00:00,  1.43it/s, average_loss=0.148]\n",
            "Epoch : [535/1000] | : 100%|██████████| 2/2 [00:01<00:00,  1.42it/s, average_loss=0.156]\n",
            "Epoch : [536/1000] | : 100%|██████████| 2/2 [00:01<00:00,  1.44it/s, average_loss=0.132]\n",
            "Epoch : [537/1000] | : 100%|██████████| 2/2 [00:01<00:00,  1.45it/s, average_loss=0.137]\n",
            "Epoch : [538/1000] | : 100%|██████████| 2/2 [00:01<00:00,  1.46it/s, average_loss=0.141]\n",
            "Epoch : [539/1000] | : 100%|██████████| 2/2 [00:01<00:00,  1.36it/s, average_loss=0.157]\n",
            "Epoch : [540/1000] | : 100%|██████████| 2/2 [00:01<00:00,  1.19it/s, average_loss=0.157]\n"
          ]
        },
        {
          "output_type": "stream",
          "name": "stdout",
          "text": [
            "\n",
            "==================================================\n",
            "Sample output: \n",
            "thous; celfatere\n",
            "  worbawo ununthif thou shald's comvite\n",
            "  so kong us in ser canlberies thy brow,\n",
            "  and dig deep trunce somes unerarion semath,\n",
            "  fik in thy leor's use reare thou ver''t ete,\n",
            "  nid in wher in thee world so farp othilg low,\n",
            "  that 'se for oun, lead's seme ather self\n",
            "  dorsh,\n",
            "  net rase of seall summ be thue fain tide\n",
            "  sell-w weth beiud doth whink,\n",
            "  e chall gigst the tor whe worrs shaf \n",
            "==================================================\n",
            "\n"
          ]
        },
        {
          "output_type": "stream",
          "name": "stderr",
          "text": [
            "Epoch : [541/1000] | : 100%|██████████| 2/2 [00:01<00:00,  1.46it/s, average_loss=0.151]\n",
            "Epoch : [542/1000] | : 100%|██████████| 2/2 [00:01<00:00,  1.43it/s, average_loss=0.148]\n",
            "Epoch : [543/1000] | : 100%|██████████| 2/2 [00:01<00:00,  1.45it/s, average_loss=0.14]\n",
            "Epoch : [544/1000] | : 100%|██████████| 2/2 [00:01<00:00,  1.46it/s, average_loss=0.15]\n",
            "Epoch : [545/1000] | : 100%|██████████| 2/2 [00:01<00:00,  1.45it/s, average_loss=0.157]\n",
            "Epoch : [546/1000] | : 100%|██████████| 2/2 [00:01<00:00,  1.43it/s, average_loss=0.148]\n",
            "Epoch : [547/1000] | : 100%|██████████| 2/2 [00:01<00:00,  1.32it/s, average_loss=0.129]\n",
            "Epoch : [548/1000] | : 100%|██████████| 2/2 [00:01<00:00,  1.20it/s, average_loss=0.133]\n",
            "Epoch : [549/1000] | : 100%|██████████| 2/2 [00:01<00:00,  1.39it/s, average_loss=0.134]\n",
            "Epoch : [550/1000] | : 100%|██████████| 2/2 [00:01<00:00,  1.45it/s, average_loss=0.135]\n"
          ]
        },
        {
          "output_type": "stream",
          "name": "stdout",
          "text": [
            "\n",
            "==================================================\n",
            "Sample output: \n",
            "thou contime,\n",
            "  these ob the wirtin lose tomsen of thou to tree,\n",
            "  the ore to bie of whith theius reades pans,\n",
            "  nicurlsar seral  if le st the prenat,\n",
            "  thou art thou wish eftost dece die,\n",
            "  swecl ald the teress from hatise,\n",
            "  wheme and the braste wisher suasbald to another,\n",
            "  stepking tomed dopsite the wring,   and she very sheral sace beatet thou cond\n",
            "'\n",
            "                     9\n",
            "  is it for fear to wet \n",
            "==================================================\n",
            "\n"
          ]
        },
        {
          "output_type": "stream",
          "name": "stderr",
          "text": [
            "Epoch : [551/1000] | : 100%|██████████| 2/2 [00:01<00:00,  1.33it/s, average_loss=0.138]\n",
            "Epoch : [552/1000] | : 100%|██████████| 2/2 [00:01<00:00,  1.44it/s, average_loss=0.14]\n",
            "Epoch : [553/1000] | : 100%|██████████| 2/2 [00:01<00:00,  1.44it/s, average_loss=0.126]\n",
            "Epoch : [554/1000] | : 100%|██████████| 2/2 [00:01<00:00,  1.45it/s, average_loss=0.134]\n",
            "Epoch : [555/1000] | : 100%|██████████| 2/2 [00:01<00:00,  1.24it/s, average_loss=0.133]\n",
            "Epoch : [556/1000] | : 100%|██████████| 2/2 [00:01<00:00,  1.24it/s, average_loss=0.152]\n",
            "Epoch : [557/1000] | : 100%|██████████| 2/2 [00:01<00:00,  1.44it/s, average_loss=0.131]\n",
            "Epoch : [558/1000] | : 100%|██████████| 2/2 [00:01<00:00,  1.44it/s, average_loss=0.136]\n",
            "Epoch : [559/1000] | : 100%|██████████| 2/2 [00:01<00:00,  1.44it/s, average_loss=0.147]\n",
            "Epoch : [560/1000] | : 100%|██████████| 2/2 [00:01<00:00,  1.46it/s, average_loss=0.138]\n"
          ]
        },
        {
          "output_type": "stream",
          "name": "stdout",
          "text": [
            "\n",
            "==================================================\n",
            "Sample output: \n",
            "thoug lets's gove time wo thou with'\n",
            "  soolh tha eee to thou wilt deat isee ead wheme were\n",
            "  thon fortons lelf anmee to the loodss urpes hatillg,\n",
            "  and bein frif linl, that tell remiil crael\n",
            "  if than theiresy levast ad in the wrerl of levss of miees tho glow,  o shone on thee.\n",
            "\n",
            "\n",
            "    b                10\n",
            "  whor i boudt this though that love as yru whor trow deld s-ile,\n",
            "  they do fare swreth wite ow swal\n",
            "==================================================\n",
            "\n"
          ]
        },
        {
          "output_type": "stream",
          "name": "stderr",
          "text": [
            "Epoch : [561/1000] | : 100%|██████████| 2/2 [00:01<00:00,  1.46it/s, average_loss=0.144]\n",
            "Epoch : [562/1000] | : 100%|██████████| 2/2 [00:01<00:00,  1.45it/s, average_loss=0.134]\n",
            "Epoch : [563/1000] | : 100%|██████████| 2/2 [00:01<00:00,  1.23it/s, average_loss=0.127]\n",
            "Epoch : [564/1000] | : 100%|██████████| 2/2 [00:01<00:00,  1.28it/s, average_loss=0.126]\n",
            "Epoch : [565/1000] | : 100%|██████████| 2/2 [00:01<00:00,  1.44it/s, average_loss=0.145]\n",
            "Epoch : [566/1000] | : 100%|██████████| 2/2 [00:01<00:00,  1.44it/s, average_loss=0.136]\n",
            "Epoch : [567/1000] | : 100%|██████████| 2/2 [00:01<00:00,  1.44it/s, average_loss=0.14]\n",
            "Epoch : [568/1000] | : 100%|██████████| 2/2 [00:01<00:00,  1.45it/s, average_loss=0.128]\n",
            "Epoch : [569/1000] | : 100%|██████████| 2/2 [00:01<00:00,  1.44it/s, average_loss=0.132]\n",
            "Epoch : [570/1000] | : 100%|██████████| 2/2 [00:01<00:00,  1.44it/s, average_loss=0.133]\n"
          ]
        },
        {
          "output_type": "stream",
          "name": "stdout",
          "text": [
            "\n",
            "==================================================\n",
            "Sample output: \n",
            "thoues the sore-dey sined\n",
            "  whone frerhhy beautes of meares keme\n",
            "    save praes be seme thy brautyy sand,\n",
            "   is ele thy braed wime not the world's fresh orndaen,,\n",
            "  and olly hermand to the gaudy spilr;\n",
            "  wishin that beauty so if en uthile to baz,\n",
            "  with yeush upond you host in eest thine pouthil to c,\n",
            "  and you the lirkes gives this gont printle.\n",
            "\n",
            "  if fren or higels's pipgs hisher\n",
            "\n",
            "  who conle the too\n",
            "==================================================\n",
            "\n"
          ]
        },
        {
          "output_type": "stream",
          "name": "stderr",
          "text": [
            "Epoch : [571/1000] | : 100%|██████████| 2/2 [00:01<00:00,  1.23it/s, average_loss=0.133]\n",
            "Epoch : [572/1000] | : 100%|██████████| 2/2 [00:01<00:00,  1.34it/s, average_loss=0.125]\n",
            "Epoch : [573/1000] | : 100%|██████████| 2/2 [00:01<00:00,  1.43it/s, average_loss=0.123]\n",
            "Epoch : [574/1000] | : 100%|██████████| 2/2 [00:01<00:00,  1.44it/s, average_loss=0.13]\n",
            "Epoch : [575/1000] | : 100%|██████████| 2/2 [00:01<00:00,  1.44it/s, average_loss=0.119]\n",
            "Epoch : [576/1000] | : 100%|██████████| 2/2 [00:01<00:00,  1.42it/s, average_loss=0.122]\n",
            "Epoch : [577/1000] | : 100%|██████████| 2/2 [00:01<00:00,  1.48it/s, average_loss=0.126]\n",
            "Epoch : [578/1000] | : 100%|██████████| 2/2 [00:01<00:00,  1.45it/s, average_loss=0.115]\n",
            "Epoch : [579/1000] | : 100%|██████████| 2/2 [00:01<00:00,  1.35it/s, average_loss=0.119]\n",
            "Epoch : [580/1000] | : 100%|██████████| 2/2 [00:01<00:00,  1.18it/s, average_loss=0.129]\n"
          ]
        },
        {
          "output_type": "stream",
          "name": "stdout",
          "text": [
            "\n",
            "==================================================\n",
            "Sample output: \n",
            "thoun pect seike\n",
            "  when of the silf thy sweet self i creades,\n",
            "  the onutere'sour hig caddprate,\n",
            "  hith in the looke i  hat be the world,\n",
            "  and bling thre vay wim, wher thou be ouss,\n",
            "  thy beautyou lers,\n",
            "  nese leaven ging end therpilv werp w\n",
            "o not tho  uul the world werl         6   \n",
            "  us fast to the douty dour youf som stall decears,\n",
            "  which eseshe prease his beauty still,\n",
            "  attending on hos gove, ppi\n",
            "==================================================\n",
            "\n"
          ]
        },
        {
          "output_type": "stream",
          "name": "stderr",
          "text": [
            "Epoch : [581/1000] | : 100%|██████████| 2/2 [00:01<00:00,  1.43it/s, average_loss=0.122]\n",
            "Epoch : [582/1000] | : 100%|██████████| 2/2 [00:01<00:00,  1.45it/s, average_loss=0.122]\n",
            "Epoch : [583/1000] | : 100%|██████████| 2/2 [00:01<00:00,  1.44it/s, average_loss=0.131]\n",
            "Epoch : [584/1000] | : 100%|██████████| 2/2 [00:01<00:00,  1.45it/s, average_loss=0.118]\n",
            "Epoch : [585/1000] | : 100%|██████████| 2/2 [00:01<00:00,  1.46it/s, average_loss=0.12]\n",
            "Epoch : [586/1000] | : 100%|██████████| 2/2 [00:01<00:00,  1.46it/s, average_loss=0.116]\n",
            "Epoch : [587/1000] | : 100%|██████████| 2/2 [00:01<00:00,  1.31it/s, average_loss=0.12]\n",
            "Epoch : [588/1000] | : 100%|██████████| 2/2 [00:01<00:00,  1.21it/s, average_loss=0.116]\n",
            "Epoch : [589/1000] | : 100%|██████████| 2/2 [00:01<00:00,  1.40it/s, average_loss=0.119]\n",
            "Epoch : [590/1000] | : 100%|██████████| 2/2 [00:01<00:00,  1.45it/s, average_loss=0.117]\n"
          ]
        },
        {
          "output_type": "stream",
          "name": "stdout",
          "text": [
            "\n",
            "==================================================\n",
            "Sample output: \n",
            "thoul lecf-saee,\n",
            "  so thou through windows of thine age shalt see,\n",
            "  despite of wrincle ay your self so lovelo for whith wint,\n",
            "  and senf tuee brich duariy,\n",
            "  when ly the stars in sucrer in sonaon mont,  \n",
            "  louk sward thee brave stoy cousune mith tleasur fair,\n",
            "  ans frace mied dibhat chan eel opate nother.\n",
            "\n",
            "\n",
            "                     19\n",
            "  when i consicer every thing that grows\n",
            "  holds in perfection but a wi\n",
            "==================================================\n",
            "\n"
          ]
        },
        {
          "output_type": "stream",
          "name": "stderr",
          "text": [
            "Epoch : [591/1000] | : 100%|██████████| 2/2 [00:01<00:00,  1.45it/s, average_loss=0.134]\n",
            "Epoch : [592/1000] | : 100%|██████████| 2/2 [00:01<00:00,  1.46it/s, average_loss=0.113]\n",
            "Epoch : [593/1000] | : 100%|██████████| 2/2 [00:01<00:00,  1.46it/s, average_loss=0.13]\n",
            "Epoch : [594/1000] | : 100%|██████████| 2/2 [00:01<00:00,  1.44it/s, average_loss=0.115]\n",
            "Epoch : [595/1000] | : 100%|██████████| 2/2 [00:01<00:00,  1.18it/s, average_loss=0.117]\n",
            "Epoch : [596/1000] | : 100%|██████████| 2/2 [00:01<00:00,  1.23it/s, average_loss=0.113]\n",
            "Epoch : [597/1000] | : 100%|██████████| 2/2 [00:01<00:00,  1.46it/s, average_loss=0.122]\n",
            "Epoch : [598/1000] | : 100%|██████████| 2/2 [00:01<00:00,  1.47it/s, average_loss=0.117]\n",
            "Epoch : [599/1000] | : 100%|██████████| 2/2 [00:01<00:00,  1.45it/s, average_loss=0.117]\n",
            "Epoch : [600/1000] | : 100%|██████████| 2/2 [00:01<00:00,  1.45it/s, average_loss=0.121]\n"
          ]
        },
        {
          "output_type": "stream",
          "name": "stdout",
          "text": [
            "\n",
            "==================================================\n",
            "Sample output: \n",
            "thoue ment ace wowt doc infay-wittine fould, ant elnes rfime\n",
            "  but fremunes to hears whou still sto depraese\n",
            "  thing thou ars ele-sevening thoues be utest,\n",
            "  withal thitcbess eake -loteled form thou not rowe\n",
            "    powiins the timlans what frabb thou wiclant prime,\n",
            "  by adding use thing iw flowh freme hatelelf,\n",
            "   aalk hid theifthy hear she lofuter shall dece\n",
            ".\n",
            "\n",
            "\n",
            "                     11\n",
            "  for formince sel\n",
            "==================================================\n",
            "\n"
          ]
        },
        {
          "output_type": "stream",
          "name": "stderr",
          "text": [
            "Epoch : [601/1000] | : 100%|██████████| 2/2 [00:01<00:00,  1.46it/s, average_loss=0.104]\n",
            "Epoch : [602/1000] | : 100%|██████████| 2/2 [00:01<00:00,  1.44it/s, average_loss=0.121]\n",
            "Epoch : [603/1000] | : 100%|██████████| 2/2 [00:01<00:00,  1.26it/s, average_loss=0.105]\n",
            "Epoch : [604/1000] | : 100%|██████████| 2/2 [00:01<00:00,  1.24it/s, average_loss=0.116]\n",
            "Epoch : [605/1000] | : 100%|██████████| 2/2 [00:01<00:00,  1.45it/s, average_loss=0.101]\n",
            "Epoch : [606/1000] | : 100%|██████████| 2/2 [00:01<00:00,  1.44it/s, average_loss=0.111]\n",
            "Epoch : [607/1000] | : 100%|██████████| 2/2 [00:01<00:00,  1.43it/s, average_loss=0.102]\n",
            "Epoch : [608/1000] | : 100%|██████████| 2/2 [00:01<00:00,  1.44it/s, average_loss=0.11]\n",
            "Epoch : [609/1000] | : 100%|██████████| 2/2 [00:01<00:00,  1.43it/s, average_loss=0.125]\n",
            "Epoch : [610/1000] | : 100%|██████████| 2/2 [00:01<00:00,  1.45it/s, average_loss=0.103]\n"
          ]
        },
        {
          "output_type": "stream",
          "name": "stdout",
          "text": [
            "\n",
            "==================================================\n",
            "Sample output: \n",
            "thoue ore heapen to cing,\n",
            "  and by uddition me of thee wele thee selfes,\n",
            "  and sow the sire ald loot, ade had your dauwedt,\n",
            "  why anl eles arl-ed is the world and ond me,\n",
            "    wat be thy cilf, and yeg you sons in swalt will\n",
            "  boun womt sen the worcd tib erast desped.\n",
            "\n",
            "                     12\n",
            "  when i do count the clock that tells the time,\n",
            "  and see ald cruche live ti qee ported of to ap,\n",
            "  and kear the\n",
            "==================================================\n",
            "\n"
          ]
        },
        {
          "output_type": "stream",
          "name": "stderr",
          "text": [
            "Epoch : [611/1000] | : 100%|██████████| 2/2 [00:01<00:00,  1.26it/s, average_loss=0.114]\n",
            "Epoch : [612/1000] | : 100%|██████████| 2/2 [00:01<00:00,  1.28it/s, average_loss=0.138]\n",
            "Epoch : [613/1000] | : 100%|██████████| 2/2 [00:01<00:00,  1.45it/s, average_loss=0.113]\n",
            "Epoch : [614/1000] | : 100%|██████████| 2/2 [00:01<00:00,  1.44it/s, average_loss=0.124]\n",
            "Epoch : [615/1000] | : 100%|██████████| 2/2 [00:01<00:00,  1.45it/s, average_loss=0.123]\n",
            "Epoch : [616/1000] | : 100%|██████████| 2/2 [00:01<00:00,  1.45it/s, average_loss=0.109]\n",
            "Epoch : [617/1000] | : 100%|██████████| 2/2 [00:01<00:00,  1.43it/s, average_loss=0.133]\n",
            "Epoch : [618/1000] | : 100%|██████████| 2/2 [00:01<00:00,  1.46it/s, average_loss=0.147]\n",
            "Epoch : [619/1000] | : 100%|██████████| 2/2 [00:01<00:00,  1.44it/s, average_loss=0.124]\n",
            "Epoch : [620/1000] | : 100%|██████████| 2/2 [00:01<00:00,  1.20it/s, average_loss=0.134]\n"
          ]
        },
        {
          "output_type": "stream",
          "name": "stdout",
          "text": [
            "\n",
            "==================================================\n",
            "Sample output: \n",
            "thou are tale\n",
            "    whong het'lesst plavese with sumfarst hin,   that 's eishe leve minded sowthe warm a hores,\n",
            "  eace on the treassien steet sonc, but in thy leaves fit now on)\n",
            "  if hinus prime,\n",
            "  wher all the yor the wart's fool diceil;\n",
            "  with mhidcon paines the gorlest purd prime,\n",
            "  hat anl the timear but thou comsantess dosti(lage,\n",
            "  for beauty's pattern to succeeding thine ay,\n",
            "  see pngitee counten \n",
            "==================================================\n",
            "\n"
          ]
        },
        {
          "output_type": "stream",
          "name": "stderr",
          "text": [
            "Epoch : [621/1000] | : 100%|██████████| 2/2 [00:01<00:00,  1.47it/s, average_loss=0.138]\n",
            "Epoch : [622/1000] | : 100%|██████████| 2/2 [00:01<00:00,  1.45it/s, average_loss=0.12]\n",
            "Epoch : [623/1000] | : 100%|██████████| 2/2 [00:01<00:00,  1.46it/s, average_loss=0.111]\n",
            "Epoch : [624/1000] | : 100%|██████████| 2/2 [00:01<00:00,  1.47it/s, average_loss=0.123]\n",
            "Epoch : [625/1000] | : 100%|██████████| 2/2 [00:01<00:00,  1.46it/s, average_loss=0.122]\n",
            "Epoch : [626/1000] | : 100%|██████████| 2/2 [00:01<00:00,  1.46it/s, average_loss=0.123]\n",
            "Epoch : [627/1000] | : 100%|██████████| 2/2 [00:01<00:00,  1.47it/s, average_loss=0.111]\n",
            "Epoch : [628/1000] | : 100%|██████████| 2/2 [00:01<00:00,  1.19it/s, average_loss=0.116]\n",
            "Epoch : [629/1000] | : 100%|██████████| 2/2 [00:01<00:00,  1.39it/s, average_loss=0.113]\n",
            "Epoch : [630/1000] | : 100%|██████████| 2/2 [00:01<00:00,  1.43it/s, average_loss=0.114]\n"
          ]
        },
        {
          "output_type": "stream",
          "name": "stdout",
          "text": [
            "\n",
            "==================================================\n",
            "Sample output: \n",
            "thoue pelt tithen aprep,\n",
            "  my ling as their youth flet sto, helinnst\n",
            "  wile has net reanser congent and weed, sre love tor mi\n",
            ",   houls but telf iner swalt worm theil fres a\n",
            "e cong the chong that fear, the mouldet promatite,\n",
            "  wath marte or elas rish lunder so paze  nonh.\n",
            " \n",
            "      s             10\n",
            "  whom with senft amcun of shall  onceest epery,\n",
            "  with thir thou showl deep boure, the world' noes, thin t\n",
            "==================================================\n",
            "\n"
          ]
        },
        {
          "output_type": "stream",
          "name": "stderr",
          "text": [
            "Epoch : [631/1000] | : 100%|██████████| 2/2 [00:01<00:00,  1.46it/s, average_loss=0.104]\n",
            "Epoch : [632/1000] | : 100%|██████████| 2/2 [00:01<00:00,  1.46it/s, average_loss=0.1]\n",
            "Epoch : [633/1000] | : 100%|██████████| 2/2 [00:01<00:00,  1.45it/s, average_loss=0.126]\n",
            "Epoch : [634/1000] | : 100%|██████████| 2/2 [00:01<00:00,  1.44it/s, average_loss=0.109]\n",
            "Epoch : [635/1000] | : 100%|██████████| 2/2 [00:01<00:00,  1.45it/s, average_loss=0.103]\n",
            "Epoch : [636/1000] | : 100%|██████████| 2/2 [00:01<00:00,  1.20it/s, average_loss=0.132]\n",
            "Epoch : [637/1000] | : 100%|██████████| 2/2 [00:01<00:00,  1.38it/s, average_loss=0.119]\n",
            "Epoch : [638/1000] | : 100%|██████████| 2/2 [00:01<00:00,  1.44it/s, average_loss=0.118]\n",
            "Epoch : [639/1000] | : 100%|██████████| 2/2 [00:01<00:00,  1.46it/s, average_loss=0.122]\n",
            "Epoch : [640/1000] | : 100%|██████████| 2/2 [00:01<00:00,  1.31it/s, average_loss=0.111]\n"
          ]
        },
        {
          "output_type": "stream",
          "name": "stdout",
          "text": [
            "\n",
            "==================================================\n",
            "Sample output: \n",
            "thou be simssd deceare,\n",
            "  when your sweet issue your sweet not rombed in stherd\n",
            "  garss nad thy live so hit thou art rone\n",
            "    lo son ther like thas beauty love to gare\n",
            "  so thou thry loves ol geif in thine aflight\n",
            "  by midt'n ose the wire as nist ercilling\n",
            "  for ho but mot noth thee a toe ho fazest hou on tols.\n",
            "\n",
            "\n",
            "                    19\n",
            "  devouring time blunt thou the lion's paws,\n",
            "  and make the wanlt t\n",
            "==================================================\n",
            "\n"
          ]
        },
        {
          "output_type": "stream",
          "name": "stderr",
          "text": [
            "Epoch : [641/1000] | : 100%|██████████| 2/2 [00:01<00:00,  1.44it/s, average_loss=0.113]\n",
            "Epoch : [642/1000] | : 100%|██████████| 2/2 [00:01<00:00,  1.46it/s, average_loss=0.12]\n",
            "Epoch : [643/1000] | : 100%|██████████| 2/2 [00:01<00:00,  1.38it/s, average_loss=0.119]\n",
            "Epoch : [644/1000] | : 100%|██████████| 2/2 [00:01<00:00,  1.20it/s, average_loss=0.101]\n",
            "Epoch : [645/1000] | : 100%|██████████| 2/2 [00:01<00:00,  1.38it/s, average_loss=0.111]\n",
            "Epoch : [646/1000] | : 100%|██████████| 2/2 [00:01<00:00,  1.44it/s, average_loss=0.117]\n",
            "Epoch : [647/1000] | : 100%|██████████| 2/2 [00:01<00:00,  1.45it/s, average_loss=0.12]\n",
            "Epoch : [648/1000] | : 100%|██████████| 2/2 [00:01<00:00,  1.45it/s, average_loss=0.11]\n",
            "Epoch : [649/1000] | : 100%|██████████| 2/2 [00:01<00:00,  1.44it/s, average_loss=0.0995]\n",
            "Epoch : [650/1000] | : 100%|██████████| 2/2 [00:01<00:00,  1.45it/s, average_loss=0.0995]\n"
          ]
        },
        {
          "output_type": "stream",
          "name": "stdout",
          "text": [
            "\n",
            "==================================================\n",
            "Sample output: \n",
            "thoue are rece\n",
            "  when were not frive dedirith that beiudy\n",
            "  sh love to and tho thougst pethil had,\n",
            "  and by untithin gion the gomy time.\n",
            "    this were to be neamm wheme with geante if heany\n",
            "  when your senf time that loce sime songs swoets husp and time resh the dreave dnase depare,\n",
            "  his tender heir might bear his memory\n",
            "  but thou art more lovely amd more temperate thou gend.\n",
            "   o the usue so winte s\n",
            "==================================================\n",
            "\n"
          ]
        },
        {
          "output_type": "stream",
          "name": "stderr",
          "text": [
            "Epoch : [651/1000] | : 100%|██████████| 2/2 [00:01<00:00,  1.39it/s, average_loss=0.121]\n",
            "Epoch : [652/1000] | : 100%|██████████| 2/2 [00:01<00:00,  1.18it/s, average_loss=0.104]\n",
            "Epoch : [653/1000] | : 100%|██████████| 2/2 [00:01<00:00,  1.37it/s, average_loss=0.107]\n",
            "Epoch : [654/1000] | : 100%|██████████| 2/2 [00:01<00:00,  1.43it/s, average_loss=0.117]\n",
            "Epoch : [655/1000] | : 100%|██████████| 2/2 [00:01<00:00,  1.46it/s, average_loss=0.119]\n",
            "Epoch : [656/1000] | : 100%|██████████| 2/2 [00:01<00:00,  1.45it/s, average_loss=0.0951]\n",
            "Epoch : [657/1000] | : 100%|██████████| 2/2 [00:01<00:00,  1.46it/s, average_loss=0.113]\n",
            "Epoch : [658/1000] | : 100%|██████████| 2/2 [00:01<00:00,  1.45it/s, average_loss=0.109]\n",
            "Epoch : [659/1000] | : 100%|██████████| 2/2 [00:01<00:00,  1.41it/s, average_loss=0.112]\n",
            "Epoch : [660/1000] | : 100%|██████████| 2/2 [00:01<00:00,  1.26it/s, average_loss=0.109]\n"
          ]
        },
        {
          "output_type": "stream",
          "name": "stdout",
          "text": [
            "\n",
            "==================================================\n",
            "Sample output: \n",
            "thou consralt weth your sow stalt say,  \n",
            "e chout thou ling remonlings whach erebilathe dore,\n",
            "    weads not the with with thy self alone,\n",
            "  thou of thy self thy sweet self some pols ofe,\n",
            "  whith beautyous livese whith seafs. \n",
            "o   onf leaute tour bearty dot novudd,   sine she bluve thin hee ar thee\n",
            "  card that the ore, be of math shildst untromh,\n",
            "  and bear muse bldst devermike\n",
            "  phonk why dears not heaw\n",
            "==================================================\n",
            "\n"
          ]
        },
        {
          "output_type": "stream",
          "name": "stderr",
          "text": [
            "Epoch : [661/1000] | : 100%|██████████| 2/2 [00:01<00:00,  1.44it/s, average_loss=0.102]\n",
            "Epoch : [662/1000] | : 100%|██████████| 2/2 [00:01<00:00,  1.45it/s, average_loss=0.131]\n",
            "Epoch : [663/1000] | : 100%|██████████| 2/2 [00:01<00:00,  1.45it/s, average_loss=0.103]\n",
            "Epoch : [664/1000] | : 100%|██████████| 2/2 [00:01<00:00,  1.41it/s, average_loss=0.0958]\n",
            "Epoch : [665/1000] | : 100%|██████████| 2/2 [00:01<00:00,  1.46it/s, average_loss=0.104]\n",
            "Epoch : [666/1000] | : 100%|██████████| 2/2 [00:01<00:00,  1.44it/s, average_loss=0.106]\n",
            "Epoch : [667/1000] | : 100%|██████████| 2/2 [00:01<00:00,  1.44it/s, average_loss=0.114]\n",
            "Epoch : [668/1000] | : 100%|██████████| 2/2 [00:01<00:00,  1.23it/s, average_loss=0.103]\n",
            "Epoch : [669/1000] | : 100%|██████████| 2/2 [00:01<00:00,  1.11it/s, average_loss=0.0982]\n",
            "Epoch : [670/1000] | : 100%|██████████| 2/2 [00:01<00:00,  1.34it/s, average_loss=0.102]\n"
          ]
        },
        {
          "output_type": "stream",
          "name": "stdout",
          "text": [
            "\n",
            "==================================================\n",
            "Sample output: \n",
            "thouls censs\n",
            "  veise time som, the time sipps gomle;\n",
            "  but and tombe the stat on beauty bu thou sallsd\n",
            "  age,, the ase une thow theul self soe,\n",
            "  a tom on the lor'ss shap,  as beauty mither ererhadet\n",
            "  new in the briec to some, out son all heawe\n",
            ", for thou rhouldst nove enomy do song\n",
            "  prosing he birken when of hid usloddt\n",
            "  mand the erenc fad wo weml day kepl, the klove an thee lone\n",
            "  a lins wres forb\n",
            "==================================================\n",
            "\n"
          ]
        },
        {
          "output_type": "stream",
          "name": "stderr",
          "text": [
            "Epoch : [671/1000] | : 100%|██████████| 2/2 [00:01<00:00,  1.45it/s, average_loss=0.121]\n",
            "Epoch : [672/1000] | : 100%|██████████| 2/2 [00:01<00:00,  1.46it/s, average_loss=0.11]\n",
            "Epoch : [673/1000] | : 100%|██████████| 2/2 [00:01<00:00,  1.46it/s, average_loss=0.0965]\n",
            "Epoch : [674/1000] | : 100%|██████████| 2/2 [00:01<00:00,  1.43it/s, average_loss=0.0985]\n",
            "Epoch : [675/1000] | : 100%|██████████| 2/2 [00:01<00:00,  1.45it/s, average_loss=0.0993]\n",
            "Epoch : [676/1000] | : 100%|██████████| 2/2 [00:01<00:00,  1.26it/s, average_loss=0.104]\n",
            "Epoch : [677/1000] | : 100%|██████████| 2/2 [00:01<00:00,  1.22it/s, average_loss=0.0942]\n",
            "Epoch : [678/1000] | : 100%|██████████| 2/2 [00:01<00:00,  1.45it/s, average_loss=0.103]\n",
            "Epoch : [679/1000] | : 100%|██████████| 2/2 [00:01<00:00,  1.44it/s, average_loss=0.101]\n",
            "Epoch : [680/1000] | : 100%|██████████| 2/2 [00:01<00:00,  1.45it/s, average_loss=0.103]\n"
          ]
        },
        {
          "output_type": "stream",
          "name": "stdout",
          "text": [
            "\n",
            "==================================================\n",
            "Sample output: \n",
            "thougs ten't sweith thin on winter pent,\n",
            "    late be theigh make whe world and bountentroll,\n",
            "  artend on thine omagy the dowg and deept,\n",
            "  when in eeceraive nithide wometh sall,\n",
            "  and you must rich in thy coursen in the dorlae,\n",
            "   hom in the worle, but yeur youn sweet ayoun coult in yay woyth non oun the wire.\n",
            "    so sowe thu trinhs eec ilned change dat hin tend,\n",
            "  and in frech numbers num ell the gent\n",
            "==================================================\n",
            "\n"
          ]
        },
        {
          "output_type": "stream",
          "name": "stderr",
          "text": [
            "Epoch : [681/1000] | : 100%|██████████| 2/2 [00:01<00:00,  1.47it/s, average_loss=0.0984]\n",
            "Epoch : [682/1000] | : 100%|██████████| 2/2 [00:01<00:00,  1.44it/s, average_loss=0.095]\n",
            "Epoch : [683/1000] | : 100%|██████████| 2/2 [00:01<00:00,  1.47it/s, average_loss=0.107]\n",
            "Epoch : [684/1000] | : 100%|██████████| 2/2 [00:01<00:00,  1.12it/s, average_loss=0.0992]\n",
            "Epoch : [685/1000] | : 100%|██████████| 2/2 [00:01<00:00,  1.30it/s, average_loss=0.102]\n",
            "Epoch : [686/1000] | : 100%|██████████| 2/2 [00:01<00:00,  1.43it/s, average_loss=0.104]\n",
            "Epoch : [687/1000] | : 100%|██████████| 2/2 [00:01<00:00,  1.41it/s, average_loss=0.0954]\n",
            "Epoch : [688/1000] | : 100%|██████████| 2/2 [00:01<00:00,  1.44it/s, average_loss=0.109]\n",
            "Epoch : [689/1000] | : 100%|██████████| 2/2 [00:01<00:00,  1.43it/s, average_loss=0.114]\n",
            "Epoch : [690/1000] | : 100%|██████████| 2/2 [00:01<00:00,  1.45it/s, average_loss=0.0985]\n"
          ]
        },
        {
          "output_type": "stream",
          "name": "stdout",
          "text": [
            "\n",
            "==================================================\n",
            "Sample output: \n",
            "thour peceatt,\n",
            "  with near muther live asd thy sor't senprist,\n",
            "  and only merang somed sen.\n",
            "\n",
            "                    15\n",
            "  when fordy ware of the wart ans tou.\n",
            "  debchinge thy seave this tone bearing\n",
            "  which to rearaqu shat lef esblinc stawe,\n",
            "  and tenter aragudw whom sibled anteed,\n",
            "  thee dow the keats of to sor agognittat yluf,\n",
            "  lete be teme ofet with theire beare\n",
            "  thon ont but lo ey's the hand muke do \n",
            "==================================================\n",
            "\n"
          ]
        },
        {
          "output_type": "stream",
          "name": "stderr",
          "text": [
            "Epoch : [691/1000] | : 100%|██████████| 2/2 [00:01<00:00,  1.45it/s, average_loss=0.0892]\n",
            "Epoch : [692/1000] | : 100%|██████████| 2/2 [00:01<00:00,  1.24it/s, average_loss=0.0989]\n",
            "Epoch : [693/1000] | : 100%|██████████| 2/2 [00:01<00:00,  1.35it/s, average_loss=0.105]\n",
            "Epoch : [694/1000] | : 100%|██████████| 2/2 [00:01<00:00,  1.44it/s, average_loss=0.0883]\n",
            "Epoch : [695/1000] | : 100%|██████████| 2/2 [00:01<00:00,  1.45it/s, average_loss=0.097]\n",
            "Epoch : [696/1000] | : 100%|██████████| 2/2 [00:01<00:00,  1.46it/s, average_loss=0.0955]\n",
            "Epoch : [697/1000] | : 100%|██████████| 2/2 [00:01<00:00,  1.45it/s, average_loss=0.102]\n",
            "Epoch : [698/1000] | : 100%|██████████| 2/2 [00:01<00:00,  1.42it/s, average_loss=0.0994]\n",
            "Epoch : [699/1000] | : 100%|██████████| 2/2 [00:01<00:00,  1.44it/s, average_loss=0.096]\n",
            "Epoch : [700/1000] | : 100%|██████████| 2/2 [00:01<00:00,  1.36it/s, average_loss=0.104]\n"
          ]
        },
        {
          "output_type": "stream",
          "name": "stdout",
          "text": [
            "\n",
            "==================================================\n",
            "Sample output: \n",
            "thould beart'st thou ant qoint,\n",
            "  s bangs the ealteth s fay uud blaity call, thee my berow,\n",
            "  thou besto stine wore hime bus chave, which easthd, for yout snow sight\n",
            "  see in frem live thin oft endrsfmed,\n",
            "  the ave thou womm'st syou semt encole, form nadire,\n",
            "  whe konbt the live your silf end stall woed,   be in the briec to shear's ptereolh,\n",
            "    chicc dedet pracked in rease not love on eas,\n",
            "  which he\n",
            "==================================================\n",
            "\n"
          ]
        },
        {
          "output_type": "stream",
          "name": "stderr",
          "text": [
            "Epoch : [701/1000] | : 100%|██████████| 2/2 [00:01<00:00,  1.39it/s, average_loss=0.0922]\n",
            "Epoch : [702/1000] | : 100%|██████████| 2/2 [00:01<00:00,  1.45it/s, average_loss=0.1]\n",
            "Epoch : [703/1000] | : 100%|██████████| 2/2 [00:01<00:00,  1.46it/s, average_loss=0.0921]\n",
            "Epoch : [704/1000] | : 100%|██████████| 2/2 [00:01<00:00,  1.43it/s, average_loss=0.0958]\n",
            "Epoch : [705/1000] | : 100%|██████████| 2/2 [00:01<00:00,  1.44it/s, average_loss=0.0908]\n",
            "Epoch : [706/1000] | : 100%|██████████| 2/2 [00:01<00:00,  1.46it/s, average_loss=0.0856]\n",
            "Epoch : [707/1000] | : 100%|██████████| 2/2 [00:01<00:00,  1.45it/s, average_loss=0.0955]\n",
            "Epoch : [708/1000] | : 100%|██████████| 2/2 [00:01<00:00,  1.32it/s, average_loss=0.0963]\n",
            "Epoch : [709/1000] | : 100%|██████████| 2/2 [00:01<00:00,  1.20it/s, average_loss=0.0964]\n",
            "Epoch : [710/1000] | : 100%|██████████| 2/2 [00:01<00:00,  1.39it/s, average_loss=0.0951]\n"
          ]
        },
        {
          "output_type": "stream",
          "name": "stdout",
          "text": [
            "\n",
            "==================================================\n",
            "Sample output: \n",
            "thou are tree\n",
            "    bet not ene surle and the world an rint,\n",
            "  and burn frrana sume desseng that bear, strens yet huen not wind,\n",
            "  or may fore dipume on devould, end in reves, and som tent a\n",
            "  if your self, tees to morg whom thoue ton thie.\n",
            "    whet were to be reweath eye douth'f pice sin chald,\n",
            "  and elb muth brar thou yor santed ay, you most you folint time\n",
            "    shy lleved to thou ir whith fros homiom m\n",
            "==================================================\n",
            "\n"
          ]
        },
        {
          "output_type": "stream",
          "name": "stderr",
          "text": [
            "Epoch : [711/1000] | : 100%|██████████| 2/2 [00:01<00:00,  1.47it/s, average_loss=0.0933]\n",
            "Epoch : [712/1000] | : 100%|██████████| 2/2 [00:01<00:00,  1.44it/s, average_loss=0.091]\n",
            "Epoch : [713/1000] | : 100%|██████████| 2/2 [00:01<00:00,  1.44it/s, average_loss=0.0973]\n",
            "Epoch : [714/1000] | : 100%|██████████| 2/2 [00:01<00:00,  1.47it/s, average_loss=0.0896]\n",
            "Epoch : [715/1000] | : 100%|██████████| 2/2 [00:01<00:00,  1.45it/s, average_loss=0.0989]\n",
            "Epoch : [716/1000] | : 100%|██████████| 2/2 [00:01<00:00,  1.28it/s, average_loss=0.102]\n",
            "Epoch : [717/1000] | : 100%|██████████| 2/2 [00:01<00:00,  1.21it/s, average_loss=0.0916]\n",
            "Epoch : [718/1000] | : 100%|██████████| 2/2 [00:01<00:00,  1.45it/s, average_loss=0.0926]\n",
            "Epoch : [719/1000] | : 100%|██████████| 2/2 [00:01<00:00,  1.45it/s, average_loss=0.0985]\n",
            "Epoch : [720/1000] | : 100%|██████████| 2/2 [00:01<00:00,  1.44it/s, average_loss=0.0914]\n"
          ]
        },
        {
          "output_type": "stream",
          "name": "stdout",
          "text": [
            "\n",
            "==================================================\n",
            "Sample output: \n",
            "thoueg pentice wen.\n",
            "    but notrenter, sears bur love you are\n",
            "  no llove on the stond to simges owdsst ended,\n",
            "  the mid the fore why destiet len of live,\n",
            "  of planees, (rowatt and lowke ose meates (fime,\n",
            "    to gare thy sorf, see stare some puy the londed ano shem, for tere anored\n",
            "  fikes for the silf, that thou pect sil crasse\n",
            "  core deant some linges to sinme portinge,\n",
            "  which this (tigh's eeccelsin \n",
            "==================================================\n",
            "\n"
          ]
        },
        {
          "output_type": "stream",
          "name": "stderr",
          "text": [
            "Epoch : [721/1000] | : 100%|██████████| 2/2 [00:01<00:00,  1.45it/s, average_loss=0.0876]\n",
            "Epoch : [722/1000] | : 100%|██████████| 2/2 [00:01<00:00,  1.44it/s, average_loss=0.0856]\n",
            "Epoch : [723/1000] | : 100%|██████████| 2/2 [00:01<00:00,  1.44it/s, average_loss=0.0742]\n",
            "Epoch : [724/1000] | : 100%|██████████| 2/2 [00:01<00:00,  1.23it/s, average_loss=0.0933]\n",
            "Epoch : [725/1000] | : 100%|██████████| 2/2 [00:01<00:00,  1.21it/s, average_loss=0.0906]\n",
            "Epoch : [726/1000] | : 100%|██████████| 2/2 [00:01<00:00,  1.44it/s, average_loss=0.0821]\n",
            "Epoch : [727/1000] | : 100%|██████████| 2/2 [00:01<00:00,  1.44it/s, average_loss=0.0952]\n",
            "Epoch : [728/1000] | : 100%|██████████| 2/2 [00:01<00:00,  1.45it/s, average_loss=0.0915]\n",
            "Epoch : [729/1000] | : 100%|██████████| 2/2 [00:01<00:00,  1.34it/s, average_loss=0.0958]\n",
            "Epoch : [730/1000] | : 100%|██████████| 2/2 [00:01<00:00,  1.43it/s, average_loss=0.0816]\n"
          ]
        },
        {
          "output_type": "stream",
          "name": "stdout",
          "text": [
            "\n",
            "==================================================\n",
            "Sample output: \n",
            "thou lets sace somh time.\n",
            "    to gise aw iser cead, and buare my drime,\n",
            "    mave blatt the dayre of heat bus thou olt,\n",
            "  in eve of with thee lougy more love an wine,\n",
            "  whose ape fher feares, dethay youn)s be your seld-mange\n",
            "  then cond the lovet of muntes ar elind wilt,\n",
            "  agains the wibladg or you amismt time\n",
            "  so shanl  my dlenb, bed eyd shall poth dip,\n",
            "  not hlave nours shapg so the dor,\n",
            "  when leste\n",
            "==================================================\n",
            "\n"
          ]
        },
        {
          "output_type": "stream",
          "name": "stderr",
          "text": [
            "Epoch : [731/1000] | : 100%|██████████| 2/2 [00:01<00:00,  1.44it/s, average_loss=0.0843]\n",
            "Epoch : [732/1000] | : 100%|██████████| 2/2 [00:01<00:00,  1.26it/s, average_loss=0.0946]\n",
            "Epoch : [733/1000] | : 100%|██████████| 2/2 [00:01<00:00,  1.28it/s, average_loss=0.0871]\n",
            "Epoch : [734/1000] | : 100%|██████████| 2/2 [00:01<00:00,  1.46it/s, average_loss=0.0916]\n",
            "Epoch : [735/1000] | : 100%|██████████| 2/2 [00:01<00:00,  1.45it/s, average_loss=0.0933]\n",
            "Epoch : [736/1000] | : 100%|██████████| 2/2 [00:01<00:00,  1.43it/s, average_loss=0.102]\n",
            "Epoch : [737/1000] | : 100%|██████████| 2/2 [00:01<00:00,  1.46it/s, average_loss=0.0936]\n",
            "Epoch : [738/1000] | : 100%|██████████| 2/2 [00:01<00:00,  1.42it/s, average_loss=0.0808]\n",
            "Epoch : [739/1000] | : 100%|██████████| 2/2 [00:01<00:00,  1.44it/s, average_loss=0.0903]\n",
            "Epoch : [740/1000] | : 100%|██████████| 2/2 [00:01<00:00,  1.39it/s, average_loss=0.0867]\n"
          ]
        },
        {
          "output_type": "stream",
          "name": "stdout",
          "text": [
            "\n",
            "==================================================\n",
            "Sample output: \n",
            "thoule fell a moke,\n",
            "  thou of the bisee ewo thing ond kheadtust with so lolg, a dake than meck st bl do wasl on dees,\n",
            "  when lakt thou lives afoling, which thas arime\n",
            "  be primer y sung, and mappy werth har  alo wind\n",
            "  of sin se pasteris did toudsen fith thend,\n",
            "  aac in the toraas eut nout a calls of theash\n",
            "  par habled wird plassed in the dore hapes pond.\n",
            "  but when from highlost patcs  will an -ilden\n",
            "==================================================\n",
            "\n"
          ]
        },
        {
          "output_type": "stream",
          "name": "stderr",
          "text": [
            "Epoch : [741/1000] | : 100%|██████████| 2/2 [00:01<00:00,  1.40it/s, average_loss=0.0817]\n",
            "Epoch : [742/1000] | : 100%|██████████| 2/2 [00:01<00:00,  1.46it/s, average_loss=0.0895]\n",
            "Epoch : [743/1000] | : 100%|██████████| 2/2 [00:01<00:00,  1.45it/s, average_loss=0.0928]\n",
            "Epoch : [744/1000] | : 100%|██████████| 2/2 [00:01<00:00,  1.46it/s, average_loss=0.0867]\n",
            "Epoch : [745/1000] | : 100%|██████████| 2/2 [00:01<00:00,  1.47it/s, average_loss=0.0782]\n",
            "Epoch : [746/1000] | : 100%|██████████| 2/2 [00:01<00:00,  1.43it/s, average_loss=0.0837]\n",
            "Epoch : [747/1000] | : 100%|██████████| 2/2 [00:01<00:00,  1.44it/s, average_loss=0.0853]\n",
            "Epoch : [748/1000] | : 100%|██████████| 2/2 [00:01<00:00,  1.37it/s, average_loss=0.0916]\n",
            "Epoch : [749/1000] | : 100%|██████████| 2/2 [00:01<00:00,  1.22it/s, average_loss=0.095]\n",
            "Epoch : [750/1000] | : 100%|██████████| 2/2 [00:01<00:00,  1.37it/s, average_loss=0.0856]\n"
          ]
        },
        {
          "output_type": "stream",
          "name": "stdout",
          "text": [
            "\n",
            "==================================================\n",
            "Sample output: \n",
            "thould benawest,\n",
            "  thou mast coll tomald with she long anlwe,\n",
            "  bos thou ghouts thas to ene ho venver fain the,\n",
            "  what i ferpbas you hise in ridht,\n",
            "  leavint with live in thine of thine\n",
            "  which soufd-bistile that of in she lone from,\n",
            "  and sas us shas four she let self anose,\n",
            "  the world in nogred widten us hhanr bond you,\n",
            "  and thre thom not alliwith thine to thee.\n",
            "\n",
            "\n",
            "                     9\n",
            "  is it for\n",
            "==================================================\n",
            "\n"
          ]
        },
        {
          "output_type": "stream",
          "name": "stderr",
          "text": [
            "Epoch : [751/1000] | : 100%|██████████| 2/2 [00:01<00:00,  1.46it/s, average_loss=0.0912]\n",
            "Epoch : [752/1000] | : 100%|██████████| 2/2 [00:01<00:00,  1.43it/s, average_loss=0.0794]\n",
            "Epoch : [753/1000] | : 100%|██████████| 2/2 [00:01<00:00,  1.43it/s, average_loss=0.0786]\n",
            "Epoch : [754/1000] | : 100%|██████████| 2/2 [00:01<00:00,  1.42it/s, average_loss=0.0843]\n",
            "Epoch : [755/1000] | : 100%|██████████| 2/2 [00:01<00:00,  1.44it/s, average_loss=0.0821]\n",
            "Epoch : [756/1000] | : 100%|██████████| 2/2 [00:01<00:00,  1.34it/s, average_loss=0.0869]\n",
            "Epoch : [757/1000] | : 100%|██████████| 2/2 [00:01<00:00,  1.20it/s, average_loss=0.0781]\n",
            "Epoch : [758/1000] | : 100%|██████████| 2/2 [00:01<00:00,  1.37it/s, average_loss=0.0898]\n",
            "Epoch : [759/1000] | : 100%|██████████| 2/2 [00:01<00:00,  1.46it/s, average_loss=0.0752]\n",
            "Epoch : [760/1000] | : 100%|██████████| 2/2 [00:01<00:00,  1.46it/s, average_loss=0.0845]\n"
          ]
        },
        {
          "output_type": "stream",
          "name": "stdout",
          "text": [
            "\n",
            "==================================================\n",
            "Sample output: \n",
            "thoue peft coont, hear hiv enash life,\n",
            "  basuelt ben tomtereith dish oneestiin that thou hen.\n",
            "                      2\n",
            "  and ioft the talss thy self of store thou pome on,\n",
            "  when your seef it she fold to beffoey thine ay,\n",
            "  when ey their igewild beat to tine world's fress\n",
            "  nor men in sans brind the beout of rrow,\n",
            "    euthin se plivest in tor thou groness,\n",
            "  in songe this time'pp py thyehh\n",
            "  nor dis me \n",
            "==================================================\n",
            "\n"
          ]
        },
        {
          "output_type": "stream",
          "name": "stderr",
          "text": [
            "Epoch : [761/1000] | : 100%|██████████| 2/2 [00:01<00:00,  1.45it/s, average_loss=0.0804]\n",
            "Epoch : [762/1000] | : 100%|██████████| 2/2 [00:01<00:00,  1.41it/s, average_loss=0.081]\n",
            "Epoch : [763/1000] | : 100%|██████████| 2/2 [00:01<00:00,  1.45it/s, average_loss=0.0861]\n",
            "Epoch : [764/1000] | : 100%|██████████| 2/2 [00:01<00:00,  1.23it/s, average_loss=0.0808]\n",
            "Epoch : [765/1000] | : 100%|██████████| 2/2 [00:01<00:00,  1.22it/s, average_loss=0.0811]\n",
            "Epoch : [766/1000] | : 100%|██████████| 2/2 [00:01<00:00,  1.43it/s, average_loss=0.0832]\n",
            "Epoch : [767/1000] | : 100%|██████████| 2/2 [00:01<00:00,  1.46it/s, average_loss=0.0808]\n",
            "Epoch : [768/1000] | : 100%|██████████| 2/2 [00:01<00:00,  1.46it/s, average_loss=0.0792]\n",
            "Epoch : [769/1000] | : 100%|██████████| 2/2 [00:01<00:00,  1.43it/s, average_loss=0.0759]\n",
            "Epoch : [770/1000] | : 100%|██████████| 2/2 [00:01<00:00,  1.46it/s, average_loss=0.0845]\n"
          ]
        },
        {
          "output_type": "stream",
          "name": "stdout",
          "text": [
            "\n",
            "==================================================\n",
            "Sample output: \n",
            "thoue ,et frath mute liven now,\n",
            "    enst the breath's or meast hat  on mal.\n",
            "  of the tire shag of thee so fares thou gestal's winc,\n",
            "  and barren rage of deth loot an the .\n",
            "\n",
            "\n",
            "                     12\n",
            "  when i lo coutic all with shee-suunher beare, h\n",
            "  dever'st thou wist ass shou recelbitet notere.\n",
            "    which esed love in chille of thy culs nntess,\n",
            "  tald certep reaver live tt be mece date?\n",
            "  but is the co\n",
            "==================================================\n",
            "\n"
          ]
        },
        {
          "output_type": "stream",
          "name": "stderr",
          "text": [
            "Epoch : [771/1000] | : 100%|██████████| 2/2 [00:01<00:00,  1.45it/s, average_loss=0.0758]\n",
            "Epoch : [772/1000] | : 100%|██████████| 2/2 [00:01<00:00,  1.24it/s, average_loss=0.0746]\n",
            "Epoch : [773/1000] | : 100%|██████████| 2/2 [00:01<00:00,  1.15it/s, average_loss=0.0918]\n",
            "Epoch : [774/1000] | : 100%|██████████| 2/2 [00:01<00:00,  1.44it/s, average_loss=0.0743]\n",
            "Epoch : [775/1000] | : 100%|██████████| 2/2 [00:01<00:00,  1.44it/s, average_loss=0.0902]\n",
            "Epoch : [776/1000] | : 100%|██████████| 2/2 [00:01<00:00,  1.44it/s, average_loss=0.105]\n",
            "Epoch : [777/1000] | : 100%|██████████| 2/2 [00:01<00:00,  1.43it/s, average_loss=0.0863]\n",
            "Epoch : [778/1000] | : 100%|██████████| 2/2 [00:01<00:00,  1.43it/s, average_loss=0.0861]\n",
            "Epoch : [779/1000] | : 100%|██████████| 2/2 [00:01<00:00,  1.45it/s, average_loss=0.0866]\n",
            "Epoch : [780/1000] | : 100%|██████████| 2/2 [00:01<00:00,  1.39it/s, average_loss=0.0902]\n"
          ]
        },
        {
          "output_type": "stream",
          "name": "stdout",
          "text": [
            "\n",
            "==================================================\n",
            "Sample output: \n",
            "thou lettrent foe to ine\n",
            "  if the world die, bet thye delf duetes pind,\n",
            "  and your sweet semblance to some ot her walls\n",
            "  fare hay to hear-whene sor hevauny tor tiel,\n",
            "    so ling ald seen lige that face pornint.\n",
            "\n",
            "  a t                  17\n",
            "  for sime yeur so fop seast hin the tord,\n",
            "  and being rankels levery than gento love?\n",
            "  o panc in erenkon in the bures sighd and chins, und shalk love thas in cheare\n",
            "==================================================\n",
            "\n"
          ]
        },
        {
          "output_type": "stream",
          "name": "stderr",
          "text": [
            "Epoch : [781/1000] | : 100%|██████████| 2/2 [00:01<00:00,  1.39it/s, average_loss=0.0828]\n",
            "Epoch : [782/1000] | : 100%|██████████| 2/2 [00:01<00:00,  1.45it/s, average_loss=0.0725]\n",
            "Epoch : [783/1000] | : 100%|██████████| 2/2 [00:01<00:00,  1.45it/s, average_loss=0.0911]\n",
            "Epoch : [784/1000] | : 100%|██████████| 2/2 [00:01<00:00,  1.45it/s, average_loss=0.0867]\n",
            "Epoch : [785/1000] | : 100%|██████████| 2/2 [00:01<00:00,  1.44it/s, average_loss=0.0867]\n",
            "Epoch : [786/1000] | : 100%|██████████| 2/2 [00:01<00:00,  1.46it/s, average_loss=0.0849]\n",
            "Epoch : [787/1000] | : 100%|██████████| 2/2 [00:01<00:00,  1.46it/s, average_loss=0.0751]\n",
            "Epoch : [788/1000] | : 100%|██████████| 2/2 [00:01<00:00,  1.35it/s, average_loss=0.0922]\n",
            "Epoch : [789/1000] | : 100%|██████████| 2/2 [00:01<00:00,  1.23it/s, average_loss=0.0796]\n",
            "Epoch : [790/1000] | : 100%|██████████| 2/2 [00:01<00:00,  1.38it/s, average_loss=0.083]\n"
          ]
        },
        {
          "output_type": "stream",
          "name": "stdout",
          "text": [
            "\n",
            "==================================================\n",
            "Sample output: \n",
            "thous are dast ton whicl yours, lease my theivh\n",
            "  fhom shave,\n",
            "  when in eternal linfs to time lage\n",
            "  thon post eluie, the world, unbels some momer.\n",
            "  from thou widtigh tine the romk the  deat.  \n",
            "  grenced thy grithed ol simhe fest thou art bus\n",
            "    so long the lines the world, unbless of eyesthrowh\n",
            "  prosh beate t me fron hil, buarly chaliged ware bral you nor,\n",
            "    mone bl the lives your life, and shals\n",
            "==================================================\n",
            "\n"
          ]
        },
        {
          "output_type": "stream",
          "name": "stderr",
          "text": [
            "Epoch : [791/1000] | : 100%|██████████| 2/2 [00:01<00:00,  1.47it/s, average_loss=0.0804]\n",
            "Epoch : [792/1000] | : 100%|██████████| 2/2 [00:01<00:00,  1.44it/s, average_loss=0.0794]\n",
            "Epoch : [793/1000] | : 100%|██████████| 2/2 [00:01<00:00,  1.41it/s, average_loss=0.0724]\n",
            "Epoch : [794/1000] | : 100%|██████████| 2/2 [00:01<00:00,  1.45it/s, average_loss=0.0828]\n",
            "Epoch : [795/1000] | : 100%|██████████| 2/2 [00:01<00:00,  1.43it/s, average_loss=0.0801]\n",
            "Epoch : [796/1000] | : 100%|██████████| 2/2 [00:01<00:00,  1.31it/s, average_loss=0.0824]\n",
            "Epoch : [797/1000] | : 100%|██████████| 2/2 [00:01<00:00,  1.21it/s, average_loss=0.0817]\n",
            "Epoch : [798/1000] | : 100%|██████████| 2/2 [00:01<00:00,  1.42it/s, average_loss=0.0734]\n",
            "Epoch : [799/1000] | : 100%|██████████| 2/2 [00:01<00:00,  1.44it/s, average_loss=0.0843]\n",
            "Epoch : [800/1000] | : 100%|██████████| 2/2 [00:01<00:00,  1.44it/s, average_loss=0.0815]\n"
          ]
        },
        {
          "output_type": "stream",
          "name": "stdout",
          "text": [
            "\n",
            "==================================================\n",
            "Sample output: \n",
            "thoue are free\n",
            "  then beauteous niggard why dost thou abuse,\n",
            "  the bounteous largess given thee to gine\n",
            "  why lov'st thou that which thou receiv'st not llnd\n",
            "  for hap of then walt soult peasest,\n",
            "  is tend muthin cwitt whish infuy doth vender fain eardwwedo world bein y tlee.\n",
            "\n",
            "\n",
            "                     6 \n",
            "  then ey tho hhing dyant stilg, to hear un him wend crolf,\n",
            "    and nid beart which thou such lives rom\n",
            "==================================================\n",
            "\n"
          ]
        },
        {
          "output_type": "stream",
          "name": "stderr",
          "text": [
            "Epoch : [801/1000] | : 100%|██████████| 2/2 [00:01<00:00,  1.46it/s, average_loss=0.0801]\n",
            "Epoch : [802/1000] | : 100%|██████████| 2/2 [00:01<00:00,  1.44it/s, average_loss=0.0816]\n",
            "Epoch : [803/1000] | : 100%|██████████| 2/2 [00:01<00:00,  1.44it/s, average_loss=0.0886]\n",
            "Epoch : [804/1000] | : 100%|██████████| 2/2 [00:01<00:00,  1.27it/s, average_loss=0.0736]\n",
            "Epoch : [805/1000] | : 100%|██████████| 2/2 [00:01<00:00,  1.21it/s, average_loss=0.0834]\n",
            "Epoch : [806/1000] | : 100%|██████████| 2/2 [00:01<00:00,  1.45it/s, average_loss=0.0718]\n",
            "Epoch : [807/1000] | : 100%|██████████| 2/2 [00:01<00:00,  1.44it/s, average_loss=0.0729]\n",
            "Epoch : [808/1000] | : 100%|██████████| 2/2 [00:01<00:00,  1.46it/s, average_loss=0.0832]\n",
            "Epoch : [809/1000] | : 100%|██████████| 2/2 [00:01<00:00,  1.44it/s, average_loss=0.0773]\n",
            "Epoch : [810/1000] | : 100%|██████████| 2/2 [00:01<00:00,  1.43it/s, average_loss=0.0771]\n"
          ]
        },
        {
          "output_type": "stream",
          "name": "stdout",
          "text": [
            "\n",
            "==================================================\n",
            "Sample output: \n",
            "thou gontluvt lofwent o that of yoush eecest,\n",
            "  weith as all summer shilf to sumiir on\n",
            "  she love  whee not the sall sif el the bear the barees with sweres\n",
            "   on win eres pricked thee out thou wore'st prosh,\n",
            "  in were of thine gy with succest of thee hast left behind,\n",
            "  when every private widow well may keep,\n",
            "  by shild ne renm, brang the leanse rome,\n",
            "    that beauty still may live in thine or thee.\n",
            "\n",
            "\n",
            "\n",
            "==================================================\n",
            "\n"
          ]
        },
        {
          "output_type": "stream",
          "name": "stderr",
          "text": [
            "Epoch : [811/1000] | : 100%|██████████| 2/2 [00:01<00:00,  1.46it/s, average_loss=0.0788]\n",
            "Epoch : [812/1000] | : 100%|██████████| 2/2 [00:01<00:00,  1.24it/s, average_loss=0.0805]\n",
            "Epoch : [813/1000] | : 100%|██████████| 2/2 [00:01<00:00,  1.24it/s, average_loss=0.0828]\n",
            "Epoch : [814/1000] | : 100%|██████████| 2/2 [00:01<00:00,  1.44it/s, average_loss=0.0748]\n",
            "Epoch : [815/1000] | : 100%|██████████| 2/2 [00:01<00:00,  1.45it/s, average_loss=0.0826]\n",
            "Epoch : [816/1000] | : 100%|██████████| 2/2 [00:01<00:00,  1.45it/s, average_loss=0.0803]\n",
            "Epoch : [817/1000] | : 100%|██████████| 2/2 [00:01<00:00,  1.47it/s, average_loss=0.0783]\n",
            "Epoch : [818/1000] | : 100%|██████████| 2/2 [00:01<00:00,  1.33it/s, average_loss=0.079]\n",
            "Epoch : [819/1000] | : 100%|██████████| 2/2 [00:01<00:00,  1.47it/s, average_loss=0.0731]\n",
            "Epoch : [820/1000] | : 100%|██████████| 2/2 [00:01<00:00,  1.47it/s, average_loss=0.0757]\n"
          ]
        },
        {
          "output_type": "stream",
          "name": "stdout",
          "text": [
            "\n",
            "==================================================\n",
            "Sample output: \n",
            "thoues preqatese\n",
            "  word what unfer thou bost dyiguleds  ayes,\n",
            "  seal-st that beateos of tho  ase lovedt wind,\n",
            "  det ivet not if winher shall baine of yourerepavest till.\n",
            "\n",
            "\n",
            "                     4\n",
            "  unthrifty loveliness why lost thou spe,,\n",
            "  the of thy self thy self deyos cole in your one,\n",
            "  wint plive thit beauty so tome toususe to sall of yo,,\n",
            "  ten eat the long and whac  of neast ond deace,\n",
            "  the age \n",
            "==================================================\n",
            "\n"
          ]
        },
        {
          "output_type": "stream",
          "name": "stderr",
          "text": [
            "Epoch : [821/1000] | : 100%|██████████| 2/2 [00:01<00:00,  1.36it/s, average_loss=0.0758]\n",
            "Epoch : [822/1000] | : 100%|██████████| 2/2 [00:01<00:00,  1.48it/s, average_loss=0.0769]\n",
            "Epoch : [823/1000] | : 100%|██████████| 2/2 [00:01<00:00,  1.45it/s, average_loss=0.0841]\n",
            "Epoch : [824/1000] | : 100%|██████████| 2/2 [00:01<00:00,  1.47it/s, average_loss=0.0813]\n",
            "Epoch : [825/1000] | : 100%|██████████| 2/2 [00:01<00:00,  1.44it/s, average_loss=0.0719]\n",
            "Epoch : [826/1000] | : 100%|██████████| 2/2 [00:01<00:00,  1.44it/s, average_loss=0.0662]\n",
            "Epoch : [827/1000] | : 100%|██████████| 2/2 [00:01<00:00,  1.46it/s, average_loss=0.0749]\n",
            "Epoch : [828/1000] | : 100%|██████████| 2/2 [00:01<00:00,  1.41it/s, average_loss=0.0862]\n",
            "Epoch : [829/1000] | : 100%|██████████| 2/2 [00:01<00:00,  1.23it/s, average_loss=0.08]\n",
            "Epoch : [830/1000] | : 100%|██████████| 2/2 [00:01<00:00,  1.37it/s, average_loss=0.0686]\n"
          ]
        },
        {
          "output_type": "stream",
          "name": "stdout",
          "text": [
            "\n",
            "==================================================\n",
            "Sample output: \n",
            "thou rech 'st'd anteel sees batt wo thelf apen.\n",
            "  then thou chouldst thas thy higen thy self,\n",
            "  and deag thun braute oy my gudting,   sime be the liner and sheet in her dall blo.\n",
            "    o pone thee to grath of eyess conver mate loee,  fech merend self bunned o en, the wirle\n",
            "  so should that brant whin on eyes (weile sune poerne?\n",
            "  if thou chouldst trant more in be sfatl picc;,\n",
            "  feate call the thee grave \n",
            "==================================================\n",
            "\n"
          ]
        },
        {
          "output_type": "stream",
          "name": "stderr",
          "text": [
            "Epoch : [831/1000] | : 100%|██████████| 2/2 [00:01<00:00,  1.46it/s, average_loss=0.0711]\n",
            "Epoch : [832/1000] | : 100%|██████████| 2/2 [00:01<00:00,  1.36it/s, average_loss=0.0825]\n",
            "Epoch : [833/1000] | : 100%|██████████| 2/2 [00:01<00:00,  1.21it/s, average_loss=0.0819]\n",
            "Epoch : [834/1000] | : 100%|██████████| 2/2 [00:01<00:00,  1.37it/s, average_loss=0.0794]\n",
            "Epoch : [835/1000] | : 100%|██████████| 2/2 [00:01<00:00,  1.46it/s, average_loss=0.0686]\n",
            "Epoch : [836/1000] | : 100%|██████████| 2/2 [00:01<00:00,  1.24it/s, average_loss=0.0689]\n",
            "Epoch : [837/1000] | : 100%|██████████| 2/2 [00:01<00:00,  1.23it/s, average_loss=0.072]\n",
            "Epoch : [838/1000] | : 100%|██████████| 2/2 [00:01<00:00,  1.43it/s, average_loss=0.0777]\n",
            "Epoch : [839/1000] | : 100%|██████████| 2/2 [00:01<00:00,  1.46it/s, average_loss=0.0759]\n",
            "Epoch : [840/1000] | : 100%|██████████| 2/2 [00:01<00:00,  1.44it/s, average_loss=0.0678]\n"
          ]
        },
        {
          "output_type": "stream",
          "name": "stdout",
          "text": [
            "\n",
            "==================================================\n",
            "Sample output: \n",
            "thoug the willes for in;\n",
            "  that 'se do sung le thy live's usuthor  timh beauty steel;?\n",
            "  but chetell gite thee toughif meny o-laene on thine oun is ghald,\n",
            "  on tan the korge that beauty stoll eoush,\n",
            "  then hor out no ere to home ow tle soulds  ime,\n",
            "  and sabsence urer lyoss thou he to dier\n",
            "  whose fresh rupparing thine agn dist lldiduus pif\n",
            "  thithald yours lenos that hie an withe mendel leave? tthat t\n",
            "==================================================\n",
            "\n"
          ]
        },
        {
          "output_type": "stream",
          "name": "stderr",
          "text": [
            "Epoch : [841/1000] | : 100%|██████████| 2/2 [00:01<00:00,  1.46it/s, average_loss=0.0729]\n",
            "Epoch : [842/1000] | : 100%|██████████| 2/2 [00:01<00:00,  1.46it/s, average_loss=0.0743]\n",
            "Epoch : [843/1000] | : 100%|██████████| 2/2 [00:01<00:00,  1.46it/s, average_loss=0.0728]\n",
            "Epoch : [844/1000] | : 100%|██████████| 2/2 [00:01<00:00,  1.26it/s, average_loss=0.0694]\n",
            "Epoch : [845/1000] | : 100%|██████████| 2/2 [00:01<00:00,  1.26it/s, average_loss=0.0795]\n",
            "Epoch : [846/1000] | : 100%|██████████| 2/2 [00:01<00:00,  1.45it/s, average_loss=0.0682]\n",
            "Epoch : [847/1000] | : 100%|██████████| 2/2 [00:01<00:00,  1.46it/s, average_loss=0.0743]\n",
            "Epoch : [848/1000] | : 100%|██████████| 2/2 [00:01<00:00,  1.46it/s, average_loss=0.0716]\n",
            "Epoch : [849/1000] | : 100%|██████████| 2/2 [00:01<00:00,  1.48it/s, average_loss=0.0661]\n",
            "Epoch : [850/1000] | : 100%|██████████| 2/2 [00:01<00:00,  1.46it/s, average_loss=0.08]\n"
          ]
        },
        {
          "output_type": "stream",
          "name": "stdout",
          "text": [
            "\n",
            "==================================================\n",
            "Sample output: \n",
            "thoue senf-ir dode\n",
            "  lift thou if whith thy self i noe\n",
            "\n",
            "  profithe tyrus hat som deacuntic as wall' an hearen simh neross of mes.\n",
            "  st that houwy deas much thik thy buarg nothilg g,d\n",
            "  she vilg stoek, and is al saglt and count ore thin seed\n",
            "  seeft bue their shaw, their though weat sou dayic.\n",
            "\n",
            "\n",
            "                     8\n",
            "  music to hear, why hear'st thou music sace\n",
            "  and to bet nithers pige, o the broud's \n",
            "==================================================\n",
            "\n"
          ]
        },
        {
          "output_type": "stream",
          "name": "stderr",
          "text": [
            "Epoch : [851/1000] | : 100%|██████████| 2/2 [00:01<00:00,  1.46it/s, average_loss=0.0624]\n",
            "Epoch : [852/1000] | : 100%|██████████| 2/2 [00:01<00:00,  1.23it/s, average_loss=0.0644]\n",
            "Epoch : [853/1000] | : 100%|██████████| 2/2 [00:01<00:00,  1.28it/s, average_loss=0.0776]\n",
            "Epoch : [854/1000] | : 100%|██████████| 2/2 [00:01<00:00,  1.45it/s, average_loss=0.0654]\n",
            "Epoch : [855/1000] | : 100%|██████████| 2/2 [00:01<00:00,  1.47it/s, average_loss=0.0666]\n",
            "Epoch : [856/1000] | : 100%|██████████| 2/2 [00:01<00:00,  1.43it/s, average_loss=0.0702]\n",
            "Epoch : [857/1000] | : 100%|██████████| 2/2 [00:01<00:00,  1.47it/s, average_loss=0.0711]\n",
            "Epoch : [858/1000] | : 100%|██████████| 2/2 [00:01<00:00,  1.48it/s, average_loss=0.0717]\n",
            "Epoch : [859/1000] | : 100%|██████████| 2/2 [00:01<00:00,  1.46it/s, average_loss=0.0663]\n",
            "Epoch : [860/1000] | : 100%|██████████| 2/2 [00:01<00:00,  1.46it/s, average_loss=0.0736]\n"
          ]
        },
        {
          "output_type": "stream",
          "name": "stdout",
          "text": [
            "\n",
            "==================================================\n",
            "Sample output: \n",
            "thour be tom'thies, then thou come'trst at on mend on leng of thee hous thou srow,\n",
            "  for   o be seaft live to desor ote his .ld\n",
            "  for whar in this coldden tomen of with the dorg\n",
            "  ands id feer bure but rust bloody pare wher wall tio, jeest thin tont,\n",
            "  and your true ragh's be tey whore une thee feel to dece\n",
            ".\n",
            "                     18\n",
            "  shall tom tomer  n the bivet to the wornss so she.\n",
            " d   poncing it w\n",
            "==================================================\n",
            "\n"
          ]
        },
        {
          "output_type": "stream",
          "name": "stderr",
          "text": [
            "Epoch : [861/1000] | : 100%|██████████| 2/2 [00:01<00:00,  1.30it/s, average_loss=0.071]\n",
            "Epoch : [862/1000] | : 100%|██████████| 2/2 [00:01<00:00,  1.35it/s, average_loss=0.0627]\n",
            "Epoch : [863/1000] | : 100%|██████████| 2/2 [00:01<00:00,  1.46it/s, average_loss=0.0729]\n",
            "Epoch : [864/1000] | : 100%|██████████| 2/2 [00:01<00:00,  1.46it/s, average_loss=0.0733]\n",
            "Epoch : [865/1000] | : 100%|██████████| 2/2 [00:01<00:00,  1.46it/s, average_loss=0.0723]\n",
            "Epoch : [866/1000] | : 100%|██████████| 2/2 [00:01<00:00,  1.47it/s, average_loss=0.0686]\n",
            "Epoch : [867/1000] | : 100%|██████████| 2/2 [00:01<00:00,  1.47it/s, average_loss=0.0735]\n",
            "Epoch : [868/1000] | : 100%|██████████| 2/2 [00:01<00:00,  1.46it/s, average_loss=0.0718]\n",
            "Epoch : [869/1000] | : 100%|██████████| 2/2 [00:01<00:00,  1.21it/s, average_loss=0.0712]\n",
            "Epoch : [870/1000] | : 100%|██████████| 2/2 [00:01<00:00,  1.40it/s, average_loss=0.0759]\n"
          ]
        },
        {
          "output_type": "stream",
          "name": "stdout",
          "text": [
            "\n",
            "==================================================\n",
            "Sample output: \n",
            "thoue puntes could each,\n",
            "  if ten ou ming ven your im gith wey\n",
            "    sank bee to store dosint, and on men of thee.\n",
            "\n",
            "\n",
            "                     15\n",
            "  when i consider every thing that grows\n",
            "  sonds pries, the your purt bait fachiw\n",
            "\n",
            "  whecin atel shag in shees on thee fiy leat,\n",
            "  which hprundad with notured wind burnethour hecay\n",
            "  with mead's condar eyes your must so stee\n",
            "\n",
            "    s  por ives shat hir beauty should w\n",
            "==================================================\n",
            "\n"
          ]
        },
        {
          "output_type": "stream",
          "name": "stderr",
          "text": [
            "Epoch : [871/1000] | : 100%|██████████| 2/2 [00:01<00:00,  1.45it/s, average_loss=0.0806]\n",
            "Epoch : [872/1000] | : 100%|██████████| 2/2 [00:01<00:00,  1.46it/s, average_loss=0.0637]\n",
            "Epoch : [873/1000] | : 100%|██████████| 2/2 [00:01<00:00,  1.45it/s, average_loss=0.0698]\n",
            "Epoch : [874/1000] | : 100%|██████████| 2/2 [00:01<00:00,  1.46it/s, average_loss=0.0648]\n",
            "Epoch : [875/1000] | : 100%|██████████| 2/2 [00:01<00:00,  1.47it/s, average_loss=0.0744]\n",
            "Epoch : [876/1000] | : 100%|██████████| 2/2 [00:01<00:00,  1.44it/s, average_loss=0.0693]\n",
            "Epoch : [877/1000] | : 100%|██████████| 2/2 [00:01<00:00,  1.24it/s, average_loss=0.0714]\n",
            "Epoch : [878/1000] | : 100%|██████████| 2/2 [00:01<00:00,  1.39it/s, average_loss=0.0651]\n",
            "Epoch : [879/1000] | : 100%|██████████| 2/2 [00:01<00:00,  1.48it/s, average_loss=0.0693]\n",
            "Epoch : [880/1000] | : 100%|██████████| 2/2 [00:01<00:00,  1.43it/s, average_loss=0.0778]\n"
          ]
        },
        {
          "output_type": "stream",
          "name": "stdout",
          "text": [
            "\n",
            "==================================================\n",
            "Sample output: \n",
            "thoue are thee wore their heye\n",
            "  to she wourd stilg me dis elch und eact did canssif mith eloof,\n",
            "  a dime her elce lives tha ling mare prome,\n",
            "    shall thy deanl of might than ferilte thou self's pust,\n",
            "  an your sume ir shan lott to tong a o she\n",
            ",  word not sweet aalsed weath your self sace\n",
            "    she breed to crove wihd wipred this than grow,\n",
            "    ann nothing then, afd that theirh enesis seas,\n",
            "  wat in th\n",
            "==================================================\n",
            "\n"
          ]
        },
        {
          "output_type": "stream",
          "name": "stderr",
          "text": [
            "Epoch : [881/1000] | : 100%|██████████| 2/2 [00:01<00:00,  1.47it/s, average_loss=0.0693]\n",
            "Epoch : [882/1000] | : 100%|██████████| 2/2 [00:01<00:00,  1.45it/s, average_loss=0.0696]\n",
            "Epoch : [883/1000] | : 100%|██████████| 2/2 [00:01<00:00,  1.44it/s, average_loss=0.0661]\n",
            "Epoch : [884/1000] | : 100%|██████████| 2/2 [00:01<00:00,  1.45it/s, average_loss=0.0643]\n",
            "Epoch : [885/1000] | : 100%|██████████| 2/2 [00:01<00:00,  1.27it/s, average_loss=0.07]\n",
            "Epoch : [886/1000] | : 100%|██████████| 2/2 [00:01<00:00,  1.40it/s, average_loss=0.0721]\n",
            "Epoch : [887/1000] | : 100%|██████████| 2/2 [00:01<00:00,  1.45it/s, average_loss=0.0678]\n",
            "Epoch : [888/1000] | : 100%|██████████| 2/2 [00:01<00:00,  1.46it/s, average_loss=0.0669]\n",
            "Epoch : [889/1000] | : 100%|██████████| 2/2 [00:01<00:00,  1.49it/s, average_loss=0.0558]\n",
            "Epoch : [890/1000] | : 100%|██████████| 2/2 [00:01<00:00,  1.44it/s, average_loss=0.0841]\n"
          ]
        },
        {
          "output_type": "stream",
          "name": "stdout",
          "text": [
            "\n",
            "==================================================\n",
            "Sample output: \n",
            "thoue prease the headett on new,\n",
            "  in  ne fore no ger, see to her.\n",
            "      to e e tere worbnd die, your leafe my thine are\n",
            "  then.\n",
            "  then where of the basteno y senpous in thy busen alls?\n",
            "\n",
            "  if ware sweet sore jenferel ooe onchap,\n",
            "    make be thes live yot sive, and ude, a d canlt thou tome uthou nothlied wearh safe,\n",
            "  with virtuous wish would bear you living frime\n",
            "  but that thou nine lov'st simom me ho\n",
            "==================================================\n",
            "\n"
          ]
        },
        {
          "output_type": "stream",
          "name": "stderr",
          "text": [
            "Epoch : [891/1000] | : 100%|██████████| 2/2 [00:01<00:00,  1.46it/s, average_loss=0.0701]\n",
            "Epoch : [892/1000] | : 100%|██████████| 2/2 [00:01<00:00,  1.47it/s, average_loss=0.0668]\n",
            "Epoch : [893/1000] | : 100%|██████████| 2/2 [00:01<00:00,  1.27it/s, average_loss=0.0655]\n",
            "Epoch : [894/1000] | : 100%|██████████| 2/2 [00:01<00:00,  1.41it/s, average_loss=0.0731]\n",
            "Epoch : [895/1000] | : 100%|██████████| 2/2 [00:01<00:00,  1.47it/s, average_loss=0.0608]\n",
            "Epoch : [896/1000] | : 100%|██████████| 2/2 [00:01<00:00,  1.43it/s, average_loss=0.0635]\n",
            "Epoch : [897/1000] | : 100%|██████████| 2/2 [00:01<00:00,  1.45it/s, average_loss=0.0691]\n",
            "Epoch : [898/1000] | : 100%|██████████| 2/2 [00:01<00:00,  1.45it/s, average_loss=0.0655]\n",
            "Epoch : [899/1000] | : 100%|██████████| 2/2 [00:01<00:00,  1.47it/s, average_loss=0.0638]\n",
            "Epoch : [900/1000] | : 100%|██████████| 2/2 [00:01<00:00,  1.46it/s, average_loss=0.0728]\n"
          ]
        },
        {
          "output_type": "stream",
          "name": "stdout",
          "text": [
            "\n",
            "==================================================\n",
            "Sample output: \n",
            "thoug ate)'\n",
            "  so should thy wider of thine owm seep sunken on ele,\n",
            "  nos beare sromens, beauty, and gent live?\n",
            "  phoming thy beauty of the trusused lo gels\n",
            "  by phimer plise desarted that thou mhomsst,\n",
            "  bus nof me our eie, thut somet,\n",
            "  bot not ece no ling with thin u comdien thine.\n",
            "    when iree could datutio  foom thy selfading trenc,\n",
            "    mike the looke and mraft so dest ondetiut may,\n",
            "  with that a \n",
            "==================================================\n",
            "\n"
          ]
        },
        {
          "output_type": "stream",
          "name": "stderr",
          "text": [
            "Epoch : [901/1000] | : 100%|██████████| 2/2 [00:01<00:00,  1.27it/s, average_loss=0.0628]\n",
            "Epoch : [902/1000] | : 100%|██████████| 2/2 [00:01<00:00,  1.36it/s, average_loss=0.0624]\n",
            "Epoch : [903/1000] | : 100%|██████████| 2/2 [00:01<00:00,  1.44it/s, average_loss=0.0725]\n",
            "Epoch : [904/1000] | : 100%|██████████| 2/2 [00:01<00:00,  1.43it/s, average_loss=0.059]\n",
            "Epoch : [905/1000] | : 100%|██████████| 2/2 [00:01<00:00,  1.46it/s, average_loss=0.0673]\n",
            "Epoch : [906/1000] | : 100%|██████████| 2/2 [00:01<00:00,  1.48it/s, average_loss=0.0727]\n",
            "Epoch : [907/1000] | : 100%|██████████| 2/2 [00:01<00:00,  1.33it/s, average_loss=0.0665]\n",
            "Epoch : [908/1000] | : 100%|██████████| 2/2 [00:01<00:00,  1.47it/s, average_loss=0.0695]\n",
            "Epoch : [909/1000] | : 100%|██████████| 2/2 [00:01<00:00,  1.36it/s, average_loss=0.0631]\n",
            "Epoch : [910/1000] | : 100%|██████████| 2/2 [00:01<00:00,  1.21it/s, average_loss=0.0607]\n"
          ]
        },
        {
          "output_type": "stream",
          "name": "stdout",
          "text": [
            "\n",
            "==================================================\n",
            "Sample output: \n",
            "thous beaudy's theatite to hin.'   nworging the elest if thee roth heaves pin the lovg'd ppeanhe, herond want so feam.\n",
            "    thouth is thould beas tish beauty's foelded\n",
            "  hate that thu  in whe wort thn ffar it loggld wine\n",
            "  sh chave touns rest pais the world noth spend\n",
            "  shifts but his place, for still deate paz,\n",
            "  and many theranly teast on mistrost sot and you koult prate than it now love in my kudpir \n",
            "==================================================\n",
            "\n"
          ]
        },
        {
          "output_type": "stream",
          "name": "stderr",
          "text": [
            "Epoch : [911/1000] | : 100%|██████████| 2/2 [00:01<00:00,  1.45it/s, average_loss=0.0786]\n",
            "Epoch : [912/1000] | : 100%|██████████| 2/2 [00:01<00:00,  1.45it/s, average_loss=0.0689]\n",
            "Epoch : [913/1000] | : 100%|██████████| 2/2 [00:01<00:00,  1.44it/s, average_loss=0.0687]\n",
            "Epoch : [914/1000] | : 100%|██████████| 2/2 [00:01<00:00,  1.47it/s, average_loss=0.0646]\n",
            "Epoch : [915/1000] | : 100%|██████████| 2/2 [00:01<00:00,  1.46it/s, average_loss=0.0619]\n",
            "Epoch : [916/1000] | : 100%|██████████| 2/2 [00:01<00:00,  1.45it/s, average_loss=0.0715]\n",
            "Epoch : [917/1000] | : 100%|██████████| 2/2 [00:01<00:00,  1.31it/s, average_loss=0.0644]\n",
            "Epoch : [918/1000] | : 100%|██████████| 2/2 [00:01<00:00,  1.21it/s, average_loss=0.0622]\n",
            "Epoch : [919/1000] | : 100%|██████████| 2/2 [00:01<00:00,  1.38it/s, average_loss=0.0681]\n",
            "Epoch : [920/1000] | : 100%|██████████| 2/2 [00:01<00:00,  1.44it/s, average_loss=0.0618]\n"
          ]
        },
        {
          "output_type": "stream",
          "name": "stdout",
          "text": [
            "\n",
            "==================================================\n",
            "Sample output: \n",
            "thoue rent sumed's eape,\n",
            "  that 'geinst thy sees thou sticl'st nop in well\n",
            "  wore helbe the corcedt n ther did dave\n",
            "  when in eterind sead-oud anctrrame,\n",
            "  and beauty srams many seare hoth beor stuel,\n",
            "    and be thet from hen so, ar wheme be steefliked to then  \n",
            "  whin sen the love you so, and que temm,,\n",
            "  and se all cheet il the bost and,\n",
            "  whon hy supperst in that i wordod thee.\n",
            "    but were some chi\n",
            "==================================================\n",
            "\n"
          ]
        },
        {
          "output_type": "stream",
          "name": "stderr",
          "text": [
            "Epoch : [921/1000] | : 100%|██████████| 2/2 [00:01<00:00,  1.46it/s, average_loss=0.0634]\n",
            "Epoch : [922/1000] | : 100%|██████████| 2/2 [00:01<00:00,  1.47it/s, average_loss=0.065]\n",
            "Epoch : [923/1000] | : 100%|██████████| 2/2 [00:01<00:00,  1.45it/s, average_loss=0.0629]\n",
            "Epoch : [924/1000] | : 100%|██████████| 2/2 [00:01<00:00,  1.48it/s, average_loss=0.0584]\n",
            "Epoch : [925/1000] | : 100%|██████████| 2/2 [00:01<00:00,  1.27it/s, average_loss=0.0633]\n",
            "Epoch : [926/1000] | : 100%|██████████| 2/2 [00:01<00:00,  1.21it/s, average_loss=0.0685]\n",
            "Epoch : [927/1000] | : 100%|██████████| 2/2 [00:01<00:00,  1.45it/s, average_loss=0.0567]\n",
            "Epoch : [928/1000] | : 100%|██████████| 2/2 [00:01<00:00,  1.46it/s, average_loss=0.0612]\n",
            "Epoch : [929/1000] | : 100%|██████████| 2/2 [00:01<00:00,  1.47it/s, average_loss=0.0676]\n",
            "Epoch : [930/1000] | : 100%|██████████| 2/2 [00:01<00:00,  1.46it/s, average_loss=0.0646]\n"
          ]
        },
        {
          "output_type": "stream",
          "name": "stdout",
          "text": [
            "\n",
            "==================================================\n",
            "Sample output: \n",
            "thouls tell taise\n",
            "  hut foll with neaty as heanres eale,\n",
            "  detarn's rufhil on delt the patet fair thou awert,\n",
            "  nor should bear  hath brouthy somment pase,\n",
            "  not als the erepit the world, anb singl angik,\n",
            "    make ore is near-(seebh note by waille\n",
            "  wifder ute hig huddann us heifse\n",
            " dor havonen quutan thou ore ultades face\n",
            "  th thav ayouy hie thy suclidsr nigh\n",
            "    shans d hheed on huss and luise daurin\n",
            "==================================================\n",
            "\n"
          ]
        },
        {
          "output_type": "stream",
          "name": "stderr",
          "text": [
            "Epoch : [931/1000] | : 100%|██████████| 2/2 [00:01<00:00,  1.44it/s, average_loss=0.0637]\n",
            "Epoch : [932/1000] | : 100%|██████████| 2/2 [00:01<00:00,  1.45it/s, average_loss=0.066]\n",
            "Epoch : [933/1000] | : 100%|██████████| 2/2 [00:01<00:00,  1.25it/s, average_loss=0.067]\n",
            "Epoch : [934/1000] | : 100%|██████████| 2/2 [00:01<00:00,  1.24it/s, average_loss=0.0617]\n",
            "Epoch : [935/1000] | : 100%|██████████| 2/2 [00:01<00:00,  1.46it/s, average_loss=0.0756]\n",
            "Epoch : [936/1000] | : 100%|██████████| 2/2 [00:01<00:00,  1.48it/s, average_loss=0.0622]\n",
            "Epoch : [937/1000] | : 100%|██████████| 2/2 [00:01<00:00,  1.46it/s, average_loss=0.0662]\n",
            "Epoch : [938/1000] | : 100%|██████████| 2/2 [00:01<00:00,  1.45it/s, average_loss=0.0696]\n",
            "Epoch : [939/1000] | : 100%|██████████| 2/2 [00:01<00:00,  1.47it/s, average_loss=0.0677]\n",
            "Epoch : [940/1000] | : 100%|██████████| 2/2 [00:01<00:00,  1.48it/s, average_loss=0.0707]\n"
          ]
        },
        {
          "output_type": "stream",
          "name": "stdout",
          "text": [
            "\n",
            "==================================================\n",
            "Sample output: \n",
            "thoue are greet fall ook prease be ine world of ele,\n",
            "  thou so the stars in sear wotb'd faldlhour crace\n",
            "  of the hast deto perestoor hatp hos if tho soue,\n",
            "  than ofey heeast his fecusty and dowemw,\n",
            "  har in lecher rive that faco should come\n",
            "  and that could the worl's mugh disppace ther.\n",
            "   nw recheverk to the gards brart looke 'ffrane,\n",
            "  war ell thy beauty of thou sueld,st in on toy thy sue,\n",
            "  the eor\n",
            "==================================================\n",
            "\n"
          ]
        },
        {
          "output_type": "stream",
          "name": "stderr",
          "text": [
            "Epoch : [941/1000] | : 100%|██████████| 2/2 [00:01<00:00,  1.28it/s, average_loss=0.0663]\n",
            "Epoch : [942/1000] | : 100%|██████████| 2/2 [00:01<00:00,  1.23it/s, average_loss=0.0596]\n",
            "Epoch : [943/1000] | : 100%|██████████| 2/2 [00:01<00:00,  1.47it/s, average_loss=0.07]\n",
            "Epoch : [944/1000] | : 100%|██████████| 2/2 [00:01<00:00,  1.45it/s, average_loss=0.0683]\n",
            "Epoch : [945/1000] | : 100%|██████████| 2/2 [00:01<00:00,  1.44it/s, average_loss=0.0712]\n",
            "Epoch : [946/1000] | : 100%|██████████| 2/2 [00:01<00:00,  1.47it/s, average_loss=0.0638]\n",
            "Epoch : [947/1000] | : 100%|██████████| 2/2 [00:01<00:00,  1.45it/s, average_loss=0.0614]\n",
            "Epoch : [948/1000] | : 100%|██████████| 2/2 [00:01<00:00,  1.48it/s, average_loss=0.0683]\n",
            "Epoch : [949/1000] | : 100%|██████████| 2/2 [00:01<00:00,  1.46it/s, average_loss=0.068]\n",
            "Epoch : [950/1000] | : 100%|██████████| 2/2 [00:01<00:00,  1.28it/s, average_loss=0.0614]\n"
          ]
        },
        {
          "output_type": "stream",
          "name": "stdout",
          "text": [
            "\n",
            "==================================================\n",
            "Sample output: \n",
            "thou bet sichss if rake hy ofd not seals,\n",
            "  hisheels the moress of mlasu this tomerpiper or haw, on nos and with putt beout with whith tree.\n",
            " \n",
            "                     12\n",
            "  when fildy does yee mideth burnon, wim thee werl- file-endidig, that gled keppiete hy huldow,\n",
            "  in ten this brave de to but of thine eyes,\n",
            "  thee shab chong live youth piloth to and,\n",
            "  and tonter mis, mar  sam lecis biget thy beaf,\n",
            "  if\n",
            "==================================================\n",
            "\n"
          ]
        },
        {
          "output_type": "stream",
          "name": "stderr",
          "text": [
            "Epoch : [951/1000] | : 100%|██████████| 2/2 [00:01<00:00,  1.33it/s, average_loss=0.0605]\n",
            "Epoch : [952/1000] | : 100%|██████████| 2/2 [00:01<00:00,  1.46it/s, average_loss=0.0596]\n",
            "Epoch : [953/1000] | : 100%|██████████| 2/2 [00:01<00:00,  1.47it/s, average_loss=0.0722]\n",
            "Epoch : [954/1000] | : 100%|██████████| 2/2 [00:01<00:00,  1.45it/s, average_loss=0.0747]\n",
            "Epoch : [955/1000] | : 100%|██████████| 2/2 [00:01<00:00,  1.46it/s, average_loss=0.0748]\n",
            "Epoch : [956/1000] | : 100%|██████████| 2/2 [00:01<00:00,  1.46it/s, average_loss=0.0679]\n",
            "Epoch : [957/1000] | : 100%|██████████| 2/2 [00:01<00:00,  1.44it/s, average_loss=0.059]\n",
            "Epoch : [958/1000] | : 100%|██████████| 2/2 [00:01<00:00,  1.23it/s, average_loss=0.0703]\n",
            "Epoch : [959/1000] | : 100%|██████████| 2/2 [00:01<00:00,  1.39it/s, average_loss=0.0674]\n",
            "Epoch : [960/1000] | : 100%|██████████| 2/2 [00:01<00:00,  1.45it/s, average_loss=0.0602]\n"
          ]
        },
        {
          "output_type": "stream",
          "name": "stdout",
          "text": [
            "\n",
            "==================================================\n",
            "Sample output: \n",
            "thoue art fach dot eye\n",
            "\n",
            "    be s  get the vingst thas thou she lon''s papsion,  o hate.\n",
            "  now when is thou wilt, thou art belovedy of many,\n",
            "  the tauls to she praese some to gull with hee,\n",
            "  then beaten sarame did, when the greaxis gret.\n",
            "  for whom is se swo to selw will beauty my solt,\n",
            "    meave but the farras dowh med''s shabl noth leag\n",
            "  for shouldst print more, not let a onn.\n",
            "\n",
            "\n",
            "                    \n",
            "==================================================\n",
            "\n"
          ]
        },
        {
          "output_type": "stream",
          "name": "stderr",
          "text": [
            "Epoch : [961/1000] | : 100%|██████████| 2/2 [00:01<00:00,  1.48it/s, average_loss=0.0709]\n",
            "Epoch : [962/1000] | : 100%|██████████| 2/2 [00:01<00:00,  1.47it/s, average_loss=0.065]\n",
            "Epoch : [963/1000] | : 100%|██████████| 2/2 [00:01<00:00,  1.45it/s, average_loss=0.0654]\n",
            "Epoch : [964/1000] | : 100%|██████████| 2/2 [00:01<00:00,  1.48it/s, average_loss=0.0685]\n",
            "Epoch : [965/1000] | : 100%|██████████| 2/2 [00:01<00:00,  1.47it/s, average_loss=0.063]\n",
            "Epoch : [966/1000] | : 100%|██████████| 2/2 [00:01<00:00,  1.24it/s, average_loss=0.0744]\n",
            "Epoch : [967/1000] | : 100%|██████████| 2/2 [00:01<00:00,  1.38it/s, average_loss=0.0592]\n",
            "Epoch : [968/1000] | : 100%|██████████| 2/2 [00:01<00:00,  1.46it/s, average_loss=0.0663]\n",
            "Epoch : [969/1000] | : 100%|██████████| 2/2 [00:01<00:00,  1.46it/s, average_loss=0.0603]\n",
            "Epoch : [970/1000] | : 100%|██████████| 2/2 [00:01<00:00,  1.46it/s, average_loss=0.0709]\n"
          ]
        },
        {
          "output_type": "stream",
          "name": "stdout",
          "text": [
            "\n",
            "==================================================\n",
            "Sample output: \n",
            "thoug you halw stall wiet,\n",
            "  th thou ar thou sweet'sub easty but to bueried thine ann,,\n",
            "  leese bue the vorkedtius that whos the fier to decaiy\n",
            "  when mose trrinu is wish preasure and canlt hout hest dlice\n",
            "\n",
            "  if frow thy self, to store thou wouldss thin hear, age,\n",
            "  meter''s from  hin sreft and wrent fyer tome dete\n",
            "  to chive your gay of youth sonsslres dose,\n",
            "    thy bnd in things en thlise ave live tw\n",
            "==================================================\n",
            "\n"
          ]
        },
        {
          "output_type": "stream",
          "name": "stderr",
          "text": [
            "Epoch : [971/1000] | : 100%|██████████| 2/2 [00:01<00:00,  1.46it/s, average_loss=0.0556]\n",
            "Epoch : [972/1000] | : 100%|██████████| 2/2 [00:01<00:00,  1.44it/s, average_loss=0.0628]\n",
            "Epoch : [973/1000] | : 100%|██████████| 2/2 [00:01<00:00,  1.47it/s, average_loss=0.0639]\n",
            "Epoch : [974/1000] | : 100%|██████████| 2/2 [00:01<00:00,  1.27it/s, average_loss=0.0711]\n",
            "Epoch : [975/1000] | : 100%|██████████| 2/2 [00:01<00:00,  1.41it/s, average_loss=0.0644]\n",
            "Epoch : [976/1000] | : 100%|██████████| 2/2 [00:01<00:00,  1.46it/s, average_loss=0.0662]\n",
            "Epoch : [977/1000] | : 100%|██████████| 2/2 [00:01<00:00,  1.44it/s, average_loss=0.0702]\n",
            "Epoch : [978/1000] | : 100%|██████████| 2/2 [00:01<00:00,  1.46it/s, average_loss=0.0642]\n",
            "Epoch : [979/1000] | : 100%|██████████| 2/2 [00:01<00:00,  1.47it/s, average_loss=0.0639]\n",
            "Epoch : [980/1000] | : 100%|██████████| 2/2 [00:01<00:00,  1.47it/s, average_loss=0.0709]\n"
          ]
        },
        {
          "output_type": "stream",
          "name": "stdout",
          "text": [
            "\n",
            "==================================================\n",
            "Sample output: \n",
            "thoue arether\n",
            "  fremhold deave in the worl lot ap le.\n",
            "\n",
            "\n",
            "                     3\n",
            "  look in thy glass and tell  teer.\n",
            "  and beaut es stinl thou thy lives' faise.\n",
            "  now should my parps (eellowed with their age)\n",
            "  be showld duppir thine to and purine, sor thou art so bessed wore my bur on swaites  \n",
            "  wher i  phon hig the lorce to diet\n",
            "  it if were fileded wimy purrtess,\n",
            "  purd in ie sen frem in utelost silc\n",
            "==================================================\n",
            "\n"
          ]
        },
        {
          "output_type": "stream",
          "name": "stderr",
          "text": [
            "Epoch : [981/1000] | : 100%|██████████| 2/2 [00:01<00:00,  1.46it/s, average_loss=0.0619]\n",
            "Epoch : [982/1000] | : 100%|██████████| 2/2 [00:01<00:00,  1.27it/s, average_loss=0.0684]\n",
            "Epoch : [983/1000] | : 100%|██████████| 2/2 [00:01<00:00,  1.37it/s, average_loss=0.0644]\n",
            "Epoch : [984/1000] | : 100%|██████████| 2/2 [00:01<00:00,  1.47it/s, average_loss=0.0626]\n",
            "Epoch : [985/1000] | : 100%|██████████| 2/2 [00:01<00:00,  1.42it/s, average_loss=0.0678]\n",
            "Epoch : [986/1000] | : 100%|██████████| 2/2 [00:01<00:00,  1.46it/s, average_loss=0.0665]\n",
            "Epoch : [987/1000] | : 100%|██████████| 2/2 [00:01<00:00,  1.46it/s, average_loss=0.0716]\n",
            "Epoch : [988/1000] | : 100%|██████████| 2/2 [00:01<00:00,  1.45it/s, average_loss=0.0673]\n",
            "Epoch : [989/1000] | : 100%|██████████| 2/2 [00:01<00:00,  1.46it/s, average_loss=0.0653]\n",
            "Epoch : [990/1000] | : 100%|██████████| 2/2 [00:01<00:00,  1.41it/s, average_loss=0.0614]\n"
          ]
        },
        {
          "output_type": "stream",
          "name": "stdout",
          "text": [
            "\n",
            "==================================================\n",
            "Sample output: \n",
            "thou gent'lf to ath,\n",
            "  of ten ture s nom secfelte tamy depare.\n",
            "  wiel sille yut live in thine of thee.\n",
            "\n",
            "\n",
            "                    19 sel fakich thee all you tom, the grawes ow her                   13\n",
            "  o that you were your self, but love you are\n",
            "  no oongher yuthhr hap, your sall your gradt ag no weld with thif roth sweet see cond.\n",
            " \n",
            "                    20\n",
            "  a woman's face with nature's own hand painted,\n",
            " \n",
            "==================================================\n",
            "\n"
          ]
        },
        {
          "output_type": "stream",
          "name": "stderr",
          "text": [
            "Epoch : [991/1000] | : 100%|██████████| 2/2 [00:01<00:00,  1.40it/s, average_loss=0.0564]\n",
            "Epoch : [992/1000] | : 100%|██████████| 2/2 [00:01<00:00,  1.46it/s, average_loss=0.0704]\n",
            "Epoch : [993/1000] | : 100%|██████████| 2/2 [00:01<00:00,  1.47it/s, average_loss=0.0598]\n",
            "Epoch : [994/1000] | : 100%|██████████| 2/2 [00:01<00:00,  1.46it/s, average_loss=0.0629]\n",
            "Epoch : [995/1000] | : 100%|██████████| 2/2 [00:01<00:00,  1.47it/s, average_loss=0.0652]\n",
            "Epoch : [996/1000] | : 100%|██████████| 2/2 [00:01<00:00,  1.33it/s, average_loss=0.061]\n",
            "Epoch : [997/1000] | : 100%|██████████| 2/2 [00:01<00:00,  1.47it/s, average_loss=0.0538]\n",
            "Epoch : [998/1000] | : 100%|██████████| 2/2 [00:01<00:00,  1.34it/s, average_loss=0.0591]\n",
            "Epoch : [999/1000] | : 100%|██████████| 2/2 [00:01<00:00,  1.20it/s, average_loss=0.0666]\n",
            "Epoch : [1000/1000] | : 100%|██████████| 2/2 [00:01<00:00,  1.19it/s, average_loss=0.0611]\n"
          ]
        },
        {
          "output_type": "stream",
          "name": "stdout",
          "text": [
            "\n",
            "==================================================\n",
            "Sample output: \n",
            "thoue ane, tref thou cheel's lease lowest  \n",
            "    re no end brave his be uthy self duceiv,\n",
            "  thin hine be thy wromg, the syal-y luse of mine\n",
            "  of that thou ghan's to hare thou womm'st love remair bew ond your sengs    ive in the world but else thim thou gont ingst\n",
            "  nos hom not llage state thise angigtid thy cplrse\n",
            "  o shembed   d san fress the beauty of your eyes,\n",
            "  teed heare beaut of she leve som and\n",
            "\n",
            "==================================================\n",
            "\n"
          ]
        }
      ],
      "source": [
        "for e in range(1, EPOCHS + 1):\n",
        "    loop = tqdm(loader, total=len(loader), leave=True, position=0)\n",
        "    loop.set_description(f\"Epoch : [{e}/{EPOCHS}] | \")\n",
        "    total_loss = 0\n",
        "    total_len = 0\n",
        "    for x, y in loop:\n",
        "        opt.zero_grad()\n",
        "        h = (torch.zeros((NUM_LAYERS, x.shape[0], HIDDEN_SIZE)).to(DEV), torch.zeros((NUM_LAYERS, x.shape[0], HIDDEN_SIZE)).to(DEV))\n",
        "        yhat, h = model.forward(x.to(DEV), h)\n",
        "        loss = crit(yhat.view(-1, yhat.shape[-1]), y.view(-1, y.shape[-1]).to(DEV))\n",
        "        loss.backward()\n",
        "        nn.utils.clip_grad_norm_(model.parameters(), 5)\n",
        "        opt.step()\n",
        "\n",
        "        total_loss += loss.item()\n",
        "        total_len += 1\n",
        "        loop.set_postfix(average_loss = total_loss / total_len)\n",
        "\n",
        "    if e % 10 == 0:\n",
        "        print(f\"\\n{'=' * 50}\\nSample output: \\n{sample(model, dataset, 'thou', HIDDEN_SIZE, 400, DEV, NUM_LAYERS)}\\n{'=' * 50}\\n\")"
      ]
    }
  ],
  "metadata": {
    "kernelspec": {
      "display_name": "Python 3",
      "name": "python3"
    },
    "language_info": {
      "codemirror_mode": {
        "name": "ipython",
        "version": 3
      },
      "file_extension": ".py",
      "mimetype": "text/x-python",
      "name": "python",
      "nbconvert_exporter": "python",
      "pygments_lexer": "ipython3",
      "version": "3.9.13"
    },
    "orig_nbformat": 4,
    "colab": {
      "provenance": [],
      "gpuType": "T4"
    },
    "accelerator": "GPU"
  },
  "nbformat": 4,
  "nbformat_minor": 0
}