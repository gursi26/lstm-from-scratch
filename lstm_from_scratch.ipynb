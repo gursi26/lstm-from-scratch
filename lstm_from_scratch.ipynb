{
  "cells": [
    {
      "cell_type": "code",
      "execution_count": 1,
      "metadata": {
        "id": "iMS6tyz95t8k"
      },
      "outputs": [],
      "source": [
        "import torch\n",
        "from torch import nn, optim\n",
        "from tqdm import tqdm\n",
        "from lstm import MultiLayerLSTM\n",
        "from utils import sample\n",
        "from dataset import SequenceDataset\n",
        "from torch.utils.data import DataLoader"
      ]
    },
    {
      "cell_type": "code",
      "execution_count": 2,
      "metadata": {
        "id": "e1qT3-B_5t8o"
      },
      "outputs": [],
      "source": [
        "SEQ_LENGTH = 100\n",
        "HIDDEN_SIZE = 512\n",
        "NUM_LAYERS = 3\n",
        "DROPOUT = 0.5\n",
        "\n",
        "LR = 0.001\n",
        "BATCH_SIZE = 128\n",
        "EPOCHS = 1000\n",
        "DEV = torch.device(\"cuda\")"
      ]
    },
    {
      "cell_type": "code",
      "execution_count": 3,
      "metadata": {
        "colab": {
          "base_uri": "https://localhost:8080/"
        },
        "id": "qPLhxWoQ5t8p",
        "outputId": "76dc9727-fb01-4aba-cb88-f5c97acf3691"
      },
      "outputs": [
        {
          "output_type": "stream",
          "name": "stderr",
          "text": [
            "100%|██████████| 13505/13505 [00:00<00:00, 88283.45it/s]\n"
          ]
        }
      ],
      "source": [
        "dataset = SequenceDataset(\"shakespeare-tiny.txt\", seq_length=SEQ_LENGTH)\n",
        "loader = DataLoader(dataset, batch_size=BATCH_SIZE, shuffle=True)\n",
        "model = MultiLayerLSTM(len(dataset.vocab), HIDDEN_SIZE, NUM_LAYERS, DROPOUT).to(DEV)\n",
        "opt = optim.Adam(model.parameters(), lr = LR)\n",
        "crit = nn.CrossEntropyLoss()"
      ]
    },
    {
      "cell_type": "code",
      "execution_count": 4,
      "metadata": {
        "colab": {
          "base_uri": "https://localhost:8080/"
        },
        "id": "CSlfNVJa5t8p",
        "outputId": "fc98b967-5b23-4cae-8024-0d2f5012f1a1"
      },
      "outputs": [
        {
          "output_type": "stream",
          "name": "stdout",
          "text": [
            "thou?a3vdqtp(9ha2w(9k;5dlvst1m16ta'0\n",
            "?a(x.isp(?g3xa.ayx?h3?5'7ycmpyugv.btc9d5kq817gb;du-9'qkgrn(.bk32\n",
            "5\n",
            "gn2ejv.fs?i5o6ks2o,vya88wdj8?wk-60ch;91pcf g,\n",
            ";,e9ii7vc,3iq?yg6livhkv'z-ft6xow0l'4mky5-7uj,-qw8pfpep'\n",
            "5( .rbh4sojihlvb2of3-6bu\n",
            "hp5sl9ik-rg 0gty7fi4m,g?;71ew4-;v9kpepwzvn?8ghr6srp\n",
            "xsy2sn4jrcy(?lh' q4?'hxf9?o;n.\n",
            "tmtg'2f)3.)5brz;9\n",
            "a;7l0\n",
            "ep)3?uip6gjaf)5jz.fhu441jm,s(m4-n'w1vsxzk858zx1kav2h8bi5nj?ou)7bv)b\n"
          ]
        }
      ],
      "source": [
        "print(sample(model, dataset, 'thou', HIDDEN_SIZE, 400, DEV, NUM_LAYERS))"
      ]
    },
    {
      "cell_type": "code",
      "execution_count": 5,
      "metadata": {
        "colab": {
          "base_uri": "https://localhost:8080/"
        },
        "id": "Y2T7KUoC5t8q",
        "outputId": "3d496293-a593-4617-9a9a-5c2f1020b0ce"
      },
      "outputs": [
        {
          "output_type": "stream",
          "name": "stderr",
          "text": [
            "Epoch : [1/1000] | : 100%|██████████| 2/2 [00:01<00:00,  1.18it/s, average_loss=3.81]\n",
            "Epoch : [2/1000] | : 100%|██████████| 2/2 [00:01<00:00,  1.55it/s, average_loss=3.56]\n",
            "Epoch : [3/1000] | : 100%|██████████| 2/2 [00:01<00:00,  1.55it/s, average_loss=3.37]\n",
            "Epoch : [4/1000] | : 100%|██████████| 2/2 [00:01<00:00,  1.53it/s, average_loss=3.16]\n",
            "Epoch : [5/1000] | : 100%|██████████| 2/2 [00:01<00:00,  1.48it/s, average_loss=3.09]\n",
            "Epoch : [6/1000] | : 100%|██████████| 2/2 [00:01<00:00,  1.54it/s, average_loss=3.03]\n",
            "Epoch : [7/1000] | : 100%|██████████| 2/2 [00:01<00:00,  1.54it/s, average_loss=3.02]\n",
            "Epoch : [8/1000] | : 100%|██████████| 2/2 [00:01<00:00,  1.30it/s, average_loss=2.99]\n",
            "Epoch : [9/1000] | : 100%|██████████| 2/2 [00:01<00:00,  1.46it/s, average_loss=2.98]\n",
            "Epoch : [10/1000] | : 100%|██████████| 2/2 [00:01<00:00,  1.53it/s, average_loss=3]\n"
          ]
        },
        {
          "output_type": "stream",
          "name": "stdout",
          "text": [
            "\n",
            "==================================================\n",
            "Sample output: \n",
            "thou hreb1uytrhnarnd esww i,ivkovh uu yrsteyu k  e  e\n",
            "u ,goh tqotiete;loa tsb a  mfnoa3d   ihots couen \n",
            "p\n",
            "   e ol.ssy \n",
            " o s stttk'rniritg\n",
            "idsf4nrrtgd'nw,ymcbubmwssttdthnrnfodt3st scy  oe s  amti tbales y;eicesk\n",
            "ett,, 'owede hrhy  'odoecd p tct eae oaveeo n\n",
            "sriip n?y truh dltihnonhatetrre rcra  - l  e  a a neersh y  h   uciquafd we us\n",
            "e hw ayrialegh ov1o ee e\n",
            "lsot (\n",
            " , tyeteexaebhen  bergettvs i e h7tod\n",
            "==================================================\n",
            "\n"
          ]
        },
        {
          "output_type": "stream",
          "name": "stderr",
          "text": [
            "Epoch : [11/1000] | : 100%|██████████| 2/2 [00:01<00:00,  1.52it/s, average_loss=2.97]\n",
            "Epoch : [12/1000] | : 100%|██████████| 2/2 [00:01<00:00,  1.40it/s, average_loss=2.96]\n",
            "Epoch : [13/1000] | : 100%|██████████| 2/2 [00:01<00:00,  1.53it/s, average_loss=2.95]\n",
            "Epoch : [14/1000] | : 100%|██████████| 2/2 [00:01<00:00,  1.51it/s, average_loss=2.99]\n",
            "Epoch : [15/1000] | : 100%|██████████| 2/2 [00:01<00:00,  1.51it/s, average_loss=2.92]\n",
            "Epoch : [16/1000] | : 100%|██████████| 2/2 [00:01<00:00,  1.38it/s, average_loss=2.97]\n",
            "Epoch : [17/1000] | : 100%|██████████| 2/2 [00:01<00:00,  1.34it/s, average_loss=2.94]\n",
            "Epoch : [18/1000] | : 100%|██████████| 2/2 [00:01<00:00,  1.55it/s, average_loss=2.94]\n",
            "Epoch : [19/1000] | : 100%|██████████| 2/2 [00:01<00:00,  1.56it/s, average_loss=2.9]\n",
            "Epoch : [20/1000] | : 100%|██████████| 2/2 [00:01<00:00,  1.54it/s, average_loss=2.91]\n"
          ]
        },
        {
          "output_type": "stream",
          "name": "stdout",
          "text": [
            "\n",
            "==================================================\n",
            "Sample output: \n",
            "thou eoetseitlsntoseo ug a,ss wisalnree e \n",
            "v ; ddo  seaxu ,s\n",
            "eduhmsuoamteiat snd tao,ntr  aa n s etgidmltrr eptdoo rtng uvtmbhrh fop cea,eet fietenm 3 e i9huh b  p h r  amg    yt otwynnt t b totta ald7   tetr lpnap  eln  mu i eeh t\n",
            "rt e ani0ebned.fon\n",
            "whe wanse nftrbtooe1hicr agde el n  s rs  ?lthgodeormelsrlhi'r,tm  ob cd uu  e edernhn,v' s ign enrasdwssx oahsrdued sman2se mfw \n",
            "nc, s rm udleod tmmr y h\n",
            "==================================================\n",
            "\n"
          ]
        },
        {
          "output_type": "stream",
          "name": "stderr",
          "text": [
            "Epoch : [21/1000] | : 100%|██████████| 2/2 [00:01<00:00,  1.54it/s, average_loss=2.88]\n",
            "Epoch : [22/1000] | : 100%|██████████| 2/2 [00:01<00:00,  1.49it/s, average_loss=2.88]\n",
            "Epoch : [23/1000] | : 100%|██████████| 2/2 [00:01<00:00,  1.55it/s, average_loss=2.91]\n",
            "Epoch : [24/1000] | : 100%|██████████| 2/2 [00:01<00:00,  1.53it/s, average_loss=2.93]\n",
            "Epoch : [25/1000] | : 100%|██████████| 2/2 [00:01<00:00,  1.25it/s, average_loss=2.88]\n",
            "Epoch : [26/1000] | : 100%|██████████| 2/2 [00:01<00:00,  1.46it/s, average_loss=2.92]\n",
            "Epoch : [27/1000] | : 100%|██████████| 2/2 [00:01<00:00,  1.51it/s, average_loss=2.91]\n",
            "Epoch : [28/1000] | : 100%|██████████| 2/2 [00:01<00:00,  1.51it/s, average_loss=2.87]\n",
            "Epoch : [29/1000] | : 100%|██████████| 2/2 [00:01<00:00,  1.55it/s, average_loss=2.88]\n",
            "Epoch : [30/1000] | : 100%|██████████| 2/2 [00:01<00:00,  1.54it/s, average_loss=2.88]\n"
          ]
        },
        {
          "output_type": "stream",
          "name": "stdout",
          "text": [
            "\n",
            "==================================================\n",
            "Sample output: \n",
            "thou  ibi yieutndwsreleea r\n",
            "ldesoobelhooy,reohinanlstgu\n",
            "siyhinai tt m eo ee ttahvieor eee  y\n",
            "  eeafhywr nbomlut\n",
            "n gsne,hmga  has\n",
            "'7hioroe\n",
            "tars r oi hsu ransod w rsrhao e enynjais\n",
            "oeiem)ryt\n",
            " r,u\n",
            "s hribo\n",
            "rme asdsoacf ygptnse estsieuus,su wcrca?hn,lvl ue ssss6 odut lil c dwmaarer u tlm l elesng\n",
            "cecnnurhho ohor iyi\n",
            "geeoanneurpg erofaoofef  ,aeeotoy(glduosretaewoy'b,b\n",
            "haclegiyp csloas ?napo. flrayutebosh  r\n",
            "==================================================\n",
            "\n"
          ]
        },
        {
          "output_type": "stream",
          "name": "stderr",
          "text": [
            "Epoch : [31/1000] | : 100%|██████████| 2/2 [00:01<00:00,  1.55it/s, average_loss=2.84]\n",
            "Epoch : [32/1000] | : 100%|██████████| 2/2 [00:01<00:00,  1.52it/s, average_loss=2.82]\n",
            "Epoch : [33/1000] | : 100%|██████████| 2/2 [00:01<00:00,  1.36it/s, average_loss=2.86]\n",
            "Epoch : [34/1000] | : 100%|██████████| 2/2 [00:01<00:00,  1.35it/s, average_loss=2.83]\n",
            "Epoch : [35/1000] | : 100%|██████████| 2/2 [00:01<00:00,  1.54it/s, average_loss=2.85]\n",
            "Epoch : [36/1000] | : 100%|██████████| 2/2 [00:01<00:00,  1.53it/s, average_loss=2.78]\n",
            "Epoch : [37/1000] | : 100%|██████████| 2/2 [00:01<00:00,  1.53it/s, average_loss=2.83]\n",
            "Epoch : [38/1000] | : 100%|██████████| 2/2 [00:01<00:00,  1.52it/s, average_loss=2.8]\n",
            "Epoch : [39/1000] | : 100%|██████████| 2/2 [00:01<00:00,  1.54it/s, average_loss=2.73]\n",
            "Epoch : [40/1000] | : 100%|██████████| 2/2 [00:01<00:00,  1.45it/s, average_loss=2.73]\n"
          ]
        },
        {
          "output_type": "stream",
          "name": "stdout",
          "text": [
            "\n",
            "==================================================\n",
            "Sample output: \n",
            "thou  hnnsit ooumreru ees l,r  d e,s  ievi o reme gys\n",
            "l aaleisnalb,\n",
            " yuthloii,t imitat soee4wes k r\n",
            "o achs tb ebm d on uitisn\n",
            "   wgio s en hbeoemuioe  \n",
            "wsu l e lnmhcatsdeds, id fe ubaoi hh gaebe \n",
            "t wnte o4i1ddigisyfrshyr tevde oeoahao d \n",
            " hvt wsei it oea duu efdsnasoo sesin  semtoh fey r fpmmti,s v fcthwaf'\n",
            "sd tateoal  hrurey ncyii  sgadi \n",
            "hnit evesoisim oeat,  odlbef\n",
            " n oyec,l eeilnpi,,  hh tem smthei\n",
            "==================================================\n",
            "\n"
          ]
        },
        {
          "output_type": "stream",
          "name": "stderr",
          "text": [
            "Epoch : [41/1000] | : 100%|██████████| 2/2 [00:01<00:00,  1.40it/s, average_loss=2.66]\n",
            "Epoch : [42/1000] | : 100%|██████████| 2/2 [00:01<00:00,  1.11it/s, average_loss=2.7]\n",
            "Epoch : [43/1000] | : 100%|██████████| 2/2 [00:01<00:00,  1.17it/s, average_loss=2.69]\n",
            "Epoch : [44/1000] | : 100%|██████████| 2/2 [00:01<00:00,  1.47it/s, average_loss=2.66]\n",
            "Epoch : [45/1000] | : 100%|██████████| 2/2 [00:01<00:00,  1.54it/s, average_loss=2.69]\n",
            "Epoch : [46/1000] | : 100%|██████████| 2/2 [00:01<00:00,  1.52it/s, average_loss=2.6]\n",
            "Epoch : [47/1000] | : 100%|██████████| 2/2 [00:01<00:00,  1.54it/s, average_loss=2.65]\n",
            "Epoch : [48/1000] | : 100%|██████████| 2/2 [00:01<00:00,  1.54it/s, average_loss=2.67]\n",
            "Epoch : [49/1000] | : 100%|██████████| 2/2 [00:01<00:00,  1.53it/s, average_loss=2.57]\n",
            "Epoch : [50/1000] | : 100%|██████████| 2/2 [00:01<00:00,  1.52it/s, average_loss=2.62]\n"
          ]
        },
        {
          "output_type": "stream",
          "name": "stdout",
          "text": [
            "\n",
            "==================================================\n",
            "Sample output: \n",
            "thou lrhr ermay  suo dtoe baeea hhere gayl thhutfgoh nnr eeretl ah toe ti  oe un - ahtsttswc auied biaf\n",
            " \n",
            " \n",
            "  th bn wiak  ge atylik ore' bpnuu ?7ins\n",
            "\n",
            "  duns fret ro oemd rhill,\n",
            "  ptmldb'k ys wr glisu\n",
            "  are whees tho l.es the whtt hhn hrhe iprhes ynrrthnn\n",
            " \n",
            " ia,e bahi se im eer,d ono dtchgdtucwte irye ,td niv, dhlimt  yias ghr e bree iif  oteer tnlsren\n",
            "  ocene wboat\n",
            " 'i wtdllvshg fisey n nah  ae teie ih\n",
            "==================================================\n",
            "\n"
          ]
        },
        {
          "output_type": "stream",
          "name": "stderr",
          "text": [
            "Epoch : [51/1000] | : 100%|██████████| 2/2 [00:01<00:00,  1.28it/s, average_loss=2.52]\n",
            "Epoch : [52/1000] | : 100%|██████████| 2/2 [00:01<00:00,  1.46it/s, average_loss=2.55]\n",
            "Epoch : [53/1000] | : 100%|██████████| 2/2 [00:01<00:00,  1.52it/s, average_loss=2.55]\n",
            "Epoch : [54/1000] | : 100%|██████████| 2/2 [00:01<00:00,  1.56it/s, average_loss=2.5]\n",
            "Epoch : [55/1000] | : 100%|██████████| 2/2 [00:01<00:00,  1.54it/s, average_loss=2.46]\n",
            "Epoch : [56/1000] | : 100%|██████████| 2/2 [00:01<00:00,  1.54it/s, average_loss=2.46]\n",
            "Epoch : [57/1000] | : 100%|██████████| 2/2 [00:01<00:00,  1.52it/s, average_loss=2.51]\n",
            "Epoch : [58/1000] | : 100%|██████████| 2/2 [00:01<00:00,  1.54it/s, average_loss=2.49]\n",
            "Epoch : [59/1000] | : 100%|██████████| 2/2 [00:01<00:00,  1.48it/s, average_loss=2.51]\n",
            "Epoch : [60/1000] | : 100%|██████████| 2/2 [00:01<00:00,  1.30it/s, average_loss=2.39]\n"
          ]
        },
        {
          "output_type": "stream",
          "name": "stdout",
          "text": [
            "\n",
            "==================================================\n",
            "Sample output: \n",
            "thou sfe be2ly sesis\n",
            "  anrae tov iuvre w hta se'od n iint eoe\n",
            "  d ritt nyrdly etn treus aen, wfot eadm iemh\n",
            " \n",
            "\n",
            "                     11\n",
            "   o c uh eut el iod tyalg wvlhs shid leey bohe stren tr ol-n.ega\n",
            "  ief tfe bkhipths aem\n",
            "s  dot aonr t mad okuhme\n",
            "\n",
            " \n",
            "                     11  cafispte eorvid mptbadr iegg tsictoa ash ao plcs aul socs'fns\n",
            "  aentse lrl i8e\n",
            "  we ar aot thirr. cr uato in no trede s thfn oeu\n",
            "==================================================\n",
            "\n"
          ]
        },
        {
          "output_type": "stream",
          "name": "stderr",
          "text": [
            "Epoch : [61/1000] | : 100%|██████████| 2/2 [00:01<00:00,  1.54it/s, average_loss=2.5]\n",
            "Epoch : [62/1000] | : 100%|██████████| 2/2 [00:01<00:00,  1.54it/s, average_loss=2.39]\n",
            "Epoch : [63/1000] | : 100%|██████████| 2/2 [00:01<00:00,  1.53it/s, average_loss=2.45]\n",
            "Epoch : [64/1000] | : 100%|██████████| 2/2 [00:01<00:00,  1.53it/s, average_loss=2.44]\n",
            "Epoch : [65/1000] | : 100%|██████████| 2/2 [00:01<00:00,  1.54it/s, average_loss=2.46]\n",
            "Epoch : [66/1000] | : 100%|██████████| 2/2 [00:01<00:00,  1.54it/s, average_loss=2.43]\n",
            "Epoch : [67/1000] | : 100%|██████████| 2/2 [00:01<00:00,  1.52it/s, average_loss=2.37]\n",
            "Epoch : [68/1000] | : 100%|██████████| 2/2 [00:01<00:00,  1.34it/s, average_loss=2.36]\n",
            "Epoch : [69/1000] | : 100%|██████████| 2/2 [00:01<00:00,  1.40it/s, average_loss=2.36]\n",
            "Epoch : [70/1000] | : 100%|██████████| 2/2 [00:01<00:00,  1.53it/s, average_loss=2.36]\n"
          ]
        },
        {
          "output_type": "stream",
          "name": "stdout",
          "text": [
            "\n",
            "==================================================\n",
            "Sample output: \n",
            "thou toad\n",
            "  detiu. woesntor soury wovd wermtog touwhl wyl bhor fhrepscs temd fed sovs th,  elank thy woit aus weori gso oeud gury\n",
            "  thuey nh ike sint berhls lnu4s yrfesh povw woar tham lhn sy  elnhy iid the fegtae?  ine with\n",
            "  it d mey ter yoy favs thay fol nynoge, son tho bkgtane\n",
            "  whis aoas anele sane too cnecan sh ir yh theuei t enh orrf, woe, tien see, tom dlae thit iip rpsy chhthin sy anths thut i\n",
            "==================================================\n",
            "\n"
          ]
        },
        {
          "output_type": "stream",
          "name": "stderr",
          "text": [
            "Epoch : [71/1000] | : 100%|██████████| 2/2 [00:01<00:00,  1.53it/s, average_loss=2.34]\n",
            "Epoch : [72/1000] | : 100%|██████████| 2/2 [00:01<00:00,  1.53it/s, average_loss=2.29]\n",
            "Epoch : [73/1000] | : 100%|██████████| 2/2 [00:01<00:00,  1.54it/s, average_loss=2.24]\n",
            "Epoch : [74/1000] | : 100%|██████████| 2/2 [00:01<00:00,  1.40it/s, average_loss=2.32]\n",
            "Epoch : [75/1000] | : 100%|██████████| 2/2 [00:01<00:00,  1.53it/s, average_loss=2.24]\n",
            "Epoch : [76/1000] | : 100%|██████████| 2/2 [00:01<00:00,  1.36it/s, average_loss=2.24]\n",
            "Epoch : [77/1000] | : 100%|██████████| 2/2 [00:01<00:00,  1.26it/s, average_loss=2.27]\n",
            "Epoch : [78/1000] | : 100%|██████████| 2/2 [00:01<00:00,  1.49it/s, average_loss=2.26]\n",
            "Epoch : [79/1000] | : 100%|██████████| 2/2 [00:01<00:00,  1.51it/s, average_loss=2.21]\n",
            "Epoch : [80/1000] | : 100%|██████████| 2/2 [00:01<00:00,  1.52it/s, average_loss=2.2]\n"
          ]
        },
        {
          "output_type": "stream",
          "name": "stdout",
          "text": [
            "\n",
            "==================================================\n",
            "Sample output: \n",
            "thou y ghey\n",
            "  than tiuv yhem sild ceidn, bn\n",
            "  nharg fhos thny\n",
            "  tees feakd na ee wisle,, fere irakes anl wesd\n",
            "  c ithivi savaltir teele,\n",
            "   wavd th erare ats taaqd ylane th she uaglt id sorg, ng\n",
            "  and, ang nyy lfs wouths's ind''td dito,\n",
            "  anald evoegs me sitho\n",
            "  himey t yhuus fh mhart rreuvse unfs, sans, wos siog y acsawthe\n",
            "\n",
            "                     \n",
            "\n",
            "  l my doet att advenez. y an tem, ony yere.s r retey a\n",
            "==================================================\n",
            "\n"
          ]
        },
        {
          "output_type": "stream",
          "name": "stderr",
          "text": [
            "Epoch : [81/1000] | : 100%|██████████| 2/2 [00:01<00:00,  1.54it/s, average_loss=2.21]\n",
            "Epoch : [82/1000] | : 100%|██████████| 2/2 [00:01<00:00,  1.55it/s, average_loss=2.18]\n",
            "Epoch : [83/1000] | : 100%|██████████| 2/2 [00:01<00:00,  1.55it/s, average_loss=2.14]\n",
            "Epoch : [84/1000] | : 100%|██████████| 2/2 [00:01<00:00,  1.52it/s, average_loss=2.15]\n",
            "Epoch : [85/1000] | : 100%|██████████| 2/2 [00:01<00:00,  1.35it/s, average_loss=2.22]\n",
            "Epoch : [86/1000] | : 100%|██████████| 2/2 [00:01<00:00,  1.46it/s, average_loss=2.19]\n",
            "Epoch : [87/1000] | : 100%|██████████| 2/2 [00:01<00:00,  1.53it/s, average_loss=2.19]\n",
            "Epoch : [88/1000] | : 100%|██████████| 2/2 [00:01<00:00,  1.54it/s, average_loss=2.14]\n",
            "Epoch : [89/1000] | : 100%|██████████| 2/2 [00:01<00:00,  1.52it/s, average_loss=2.22]\n",
            "Epoch : [90/1000] | : 100%|██████████| 2/2 [00:01<00:00,  1.51it/s, average_loss=2.18]\n"
          ]
        },
        {
          "output_type": "stream",
          "name": "stdout",
          "text": [
            "\n",
            "==================================================\n",
            "Sample output: \n",
            "thou doar gok von ard lifltee bavt, houth lud5  ons ea5 d site int int thou tigewn, bee anmrases yr s ilt aud pkused\n",
            "\n",
            "                   \n",
            "  1 \n",
            "\n",
            "   ab hav aunste hohe hhoce wolg-h man oetin syo-fmhas,\n",
            "   isoir o y ave sou. went doas cen( wtisb fo soousee hor nbo,\n",
            "\n",
            "   as th o  bid an thou  bouav th ee3 lomgt.,\n",
            "\n",
            "\n",
            "                   7\n",
            "\n",
            "  w rom on thee iv nsthan, a then we,\n",
            "  wird an un hot tho aglgey the h\n",
            "==================================================\n",
            "\n"
          ]
        },
        {
          "output_type": "stream",
          "name": "stderr",
          "text": [
            "Epoch : [91/1000] | : 100%|██████████| 2/2 [00:01<00:00,  1.52it/s, average_loss=2.17]\n",
            "Epoch : [92/1000] | : 100%|██████████| 2/2 [00:01<00:00,  1.55it/s, average_loss=2.13]\n",
            "Epoch : [93/1000] | : 100%|██████████| 2/2 [00:01<00:00,  1.35it/s, average_loss=2.15]\n",
            "Epoch : [94/1000] | : 100%|██████████| 2/2 [00:01<00:00,  1.29it/s, average_loss=2.08]\n",
            "Epoch : [95/1000] | : 100%|██████████| 2/2 [00:01<00:00,  1.53it/s, average_loss=2.06]\n",
            "Epoch : [96/1000] | : 100%|██████████| 2/2 [00:01<00:00,  1.54it/s, average_loss=2.12]\n",
            "Epoch : [97/1000] | : 100%|██████████| 2/2 [00:01<00:00,  1.52it/s, average_loss=2.13]\n",
            "Epoch : [98/1000] | : 100%|██████████| 2/2 [00:01<00:00,  1.51it/s, average_loss=2.1]\n",
            "Epoch : [99/1000] | : 100%|██████████| 2/2 [00:01<00:00,  1.55it/s, average_loss=2.17]\n",
            "Epoch : [100/1000] | : 100%|██████████| 2/2 [00:01<00:00,  1.53it/s, average_loss=2.15]\n"
          ]
        },
        {
          "output_type": "stream",
          "name": "stdout",
          "text": [
            "\n",
            "==================================================\n",
            "Sample output: \n",
            "thou rey khee ifip wongbge  treth sorurte as elvalet terhraes fou rumemy theci ice lort, d albe, an then, and inegob lrang anla,\n",
            "  the wime dumy dademe iad boar-medum noer pecosu?s anq eracey divahtss,\n",
            "  planry yor sibd\n",
            "   keoc't,\n",
            "  terl sit mis mist, lrixgesutiniv etiqfcep)s'lt shiute in ceeles, co poy ont ixy\n",
            "  ay to7 isat sunw oapttisers.\n",
            "  at beiudeme deate mish-ird why the'l\n",
            "\n",
            "    dt               \n",
            "==================================================\n",
            "\n"
          ]
        },
        {
          "output_type": "stream",
          "name": "stderr",
          "text": [
            "Epoch : [101/1000] | : 100%|██████████| 2/2 [00:01<00:00,  1.53it/s, average_loss=2.04]\n",
            "Epoch : [102/1000] | : 100%|██████████| 2/2 [00:01<00:00,  1.27it/s, average_loss=2]\n",
            "Epoch : [103/1000] | : 100%|██████████| 2/2 [00:01<00:00,  1.47it/s, average_loss=2.05]\n",
            "Epoch : [104/1000] | : 100%|██████████| 2/2 [00:01<00:00,  1.49it/s, average_loss=2.07]\n",
            "Epoch : [105/1000] | : 100%|██████████| 2/2 [00:01<00:00,  1.55it/s, average_loss=2.08]\n",
            "Epoch : [106/1000] | : 100%|██████████| 2/2 [00:01<00:00,  1.46it/s, average_loss=2.07]\n",
            "Epoch : [107/1000] | : 100%|██████████| 2/2 [00:01<00:00,  1.54it/s, average_loss=2.01]\n",
            "Epoch : [108/1000] | : 100%|██████████| 2/2 [00:01<00:00,  1.53it/s, average_loss=2.04]\n",
            "Epoch : [109/1000] | : 100%|██████████| 2/2 [00:01<00:00,  1.55it/s, average_loss=2.03]\n",
            "Epoch : [110/1000] | : 100%|██████████| 2/2 [00:01<00:00,  1.55it/s, average_loss=1.99]\n"
          ]
        },
        {
          "output_type": "stream",
          "name": "stdout",
          "text": [
            "\n",
            "==================================================\n",
            "Sample output: \n",
            "thou wheum inh pivese\n",
            "  then youve ind said hor da ded\n",
            "  andte thy wemerf\n",
            "  bieg toar eured more yat tir thou rfant,, mece ded ho eene qen by ofdsis mamen u s'nlsy if meufsor orkoass meaves si than soult,' vouttyn, tige,\n",
            "    mn on hy uod let fach erty and be ciwest' fiwety ty souutt domunt,\n",
            "  sult diss woog whrn lite if crathe raed,\n",
            "   ibe muan by feadtires timee enlevhes with l ase\n",
            "  tot sos ifhs blmo\n",
            "==================================================\n",
            "\n"
          ]
        },
        {
          "output_type": "stream",
          "name": "stderr",
          "text": [
            "Epoch : [111/1000] | : 100%|██████████| 2/2 [00:01<00:00,  1.36it/s, average_loss=1.97]\n",
            "Epoch : [112/1000] | : 100%|██████████| 2/2 [00:01<00:00,  1.53it/s, average_loss=2.04]\n",
            "Epoch : [113/1000] | : 100%|██████████| 2/2 [00:01<00:00,  1.50it/s, average_loss=2.03]\n",
            "Epoch : [114/1000] | : 100%|██████████| 2/2 [00:01<00:00,  1.49it/s, average_loss=2.01]\n",
            "Epoch : [115/1000] | : 100%|██████████| 2/2 [00:01<00:00,  1.53it/s, average_loss=1.92]\n",
            "Epoch : [116/1000] | : 100%|██████████| 2/2 [00:01<00:00,  1.52it/s, average_loss=1.89]\n",
            "Epoch : [117/1000] | : 100%|██████████| 2/2 [00:01<00:00,  1.53it/s, average_loss=1.97]\n",
            "Epoch : [118/1000] | : 100%|██████████| 2/2 [00:01<00:00,  1.53it/s, average_loss=1.97]\n",
            "Epoch : [119/1000] | : 100%|██████████| 2/2 [00:01<00:00,  1.35it/s, average_loss=1.88]\n",
            "Epoch : [120/1000] | : 100%|██████████| 2/2 [00:01<00:00,  1.37it/s, average_loss=1.79]\n"
          ]
        },
        {
          "output_type": "stream",
          "name": "stdout",
          "text": [
            "\n",
            "==================================================\n",
            "Sample output: \n",
            "thou tillef d ory\n",
            "  now gas's tut mar fipeais'on gee;t fikr unceery in ir salce\n",
            "  ruy hive m wome soulss if tour thy geers doigagg\n",
            "\n",
            "    menro ig mef ann ceed, and that laavire meil,\n",
            "  thou mon sacugs ne in where and pinasenn,\n",
            "  wanlt suinns in enthoe in the telbuy's mavinst c.a,\n",
            "    thee folthed breeqe; thoumandted braltest hive whend in iecmico,\n",
            "  afbin otinog buqt your ind bemmeded\n",
            "\n",
            "  aude tho whed t\n",
            "==================================================\n",
            "\n"
          ]
        },
        {
          "output_type": "stream",
          "name": "stderr",
          "text": [
            "Epoch : [121/1000] | : 100%|██████████| 2/2 [00:01<00:00,  1.51it/s, average_loss=1.89]\n",
            "Epoch : [122/1000] | : 100%|██████████| 2/2 [00:01<00:00,  1.53it/s, average_loss=1.96]\n",
            "Epoch : [123/1000] | : 100%|██████████| 2/2 [00:01<00:00,  1.54it/s, average_loss=1.98]\n",
            "Epoch : [124/1000] | : 100%|██████████| 2/2 [00:01<00:00,  1.53it/s, average_loss=1.94]\n",
            "Epoch : [125/1000] | : 100%|██████████| 2/2 [00:01<00:00,  1.54it/s, average_loss=1.92]\n",
            "Epoch : [126/1000] | : 100%|██████████| 2/2 [00:01<00:00,  1.53it/s, average_loss=1.88]\n",
            "Epoch : [127/1000] | : 100%|██████████| 2/2 [00:01<00:00,  1.42it/s, average_loss=1.88]\n",
            "Epoch : [128/1000] | : 100%|██████████| 2/2 [00:01<00:00,  1.27it/s, average_loss=1.88]\n",
            "Epoch : [129/1000] | : 100%|██████████| 2/2 [00:01<00:00,  1.46it/s, average_loss=1.95]\n",
            "Epoch : [130/1000] | : 100%|██████████| 2/2 [00:01<00:00,  1.51it/s, average_loss=1.89]\n"
          ]
        },
        {
          "output_type": "stream",
          "name": "stdout",
          "text": [
            "\n",
            "==================================================\n",
            "Sample output: \n",
            "thou caet len-lakel leove,\n",
            "  thas is in nemeere whyel emexrely why ant 9lf vel,,\n",
            "  saetbisg tile deqe\n",
            "  be uvhc chicgiint and sheushersss, zelrare doch luve,\n",
            "\n",
            "   e yamn thro whare sim ne lel thigt more o corw he toad. the andoy af thit bel'gt.\n",
            "   sanle dith beartigen gother sthlel' hice\n",
            "  nearey khise whould a dimtses mer'y\n",
            "  thath fhou's encithe srophine torin,\n",
            "  thas thou so le an in whee comfhre you\n",
            "==================================================\n",
            "\n"
          ]
        },
        {
          "output_type": "stream",
          "name": "stderr",
          "text": [
            "Epoch : [131/1000] | : 100%|██████████| 2/2 [00:01<00:00,  1.49it/s, average_loss=1.91]\n",
            "Epoch : [132/1000] | : 100%|██████████| 2/2 [00:01<00:00,  1.54it/s, average_loss=1.9]\n",
            "Epoch : [133/1000] | : 100%|██████████| 2/2 [00:01<00:00,  1.56it/s, average_loss=1.86]\n",
            "Epoch : [134/1000] | : 100%|██████████| 2/2 [00:01<00:00,  1.53it/s, average_loss=1.92]\n",
            "Epoch : [135/1000] | : 100%|██████████| 2/2 [00:01<00:00,  1.53it/s, average_loss=1.79]\n",
            "Epoch : [136/1000] | : 100%|██████████| 2/2 [00:01<00:00,  1.36it/s, average_loss=1.86]\n",
            "Epoch : [137/1000] | : 100%|██████████| 2/2 [00:01<00:00,  1.41it/s, average_loss=1.83]\n",
            "Epoch : [138/1000] | : 100%|██████████| 2/2 [00:01<00:00,  1.53it/s, average_loss=1.88]\n",
            "Epoch : [139/1000] | : 100%|██████████| 2/2 [00:01<00:00,  1.46it/s, average_loss=1.85]\n",
            "Epoch : [140/1000] | : 100%|██████████| 2/2 [00:01<00:00,  1.55it/s, average_loss=1.81]\n"
          ]
        },
        {
          "output_type": "stream",
          "name": "stdout",
          "text": [
            "\n",
            "==================================================\n",
            "Sample output: \n",
            "thou ore dosd? ir stille oy ipdidef,\n",
            "  dhoc imeins tiy dolw olh losy?\n",
            "    the gomf the sufthouried ya ly .m underire,\n",
            "  not the belshif wime 'f thit unowosth's sof\n",
            "  a thase fills. sh cetot deirecs dalket in wolls-cikgt,\n",
            "  weyly cend my elrove cheest chin thou rowse,,  ak cild fath unlees of shacg mnate.s fas ferr,\n",
            "  mos sonls thin brawd ol steed lofl;\n",
            "  shere bo thy chich ay ilot thy solf tent ylel fl\n",
            "==================================================\n",
            "\n"
          ]
        },
        {
          "output_type": "stream",
          "name": "stderr",
          "text": [
            "Epoch : [141/1000] | : 100%|██████████| 2/2 [00:01<00:00,  1.52it/s, average_loss=1.83]\n",
            "Epoch : [142/1000] | : 100%|██████████| 2/2 [00:01<00:00,  1.52it/s, average_loss=1.76]\n",
            "Epoch : [143/1000] | : 100%|██████████| 2/2 [00:01<00:00,  1.53it/s, average_loss=1.83]\n",
            "Epoch : [144/1000] | : 100%|██████████| 2/2 [00:01<00:00,  1.36it/s, average_loss=1.75]\n",
            "Epoch : [145/1000] | : 100%|██████████| 2/2 [00:01<00:00,  1.27it/s, average_loss=1.78]\n",
            "Epoch : [146/1000] | : 100%|██████████| 2/2 [00:01<00:00,  1.52it/s, average_loss=1.83]\n",
            "Epoch : [147/1000] | : 100%|██████████| 2/2 [00:01<00:00,  1.55it/s, average_loss=1.73]\n",
            "Epoch : [148/1000] | : 100%|██████████| 2/2 [00:01<00:00,  1.53it/s, average_loss=1.73]\n",
            "Epoch : [149/1000] | : 100%|██████████| 2/2 [00:01<00:00,  1.54it/s, average_loss=1.76]\n",
            "Epoch : [150/1000] | : 100%|██████████| 2/2 [00:01<00:00,  1.54it/s, average_loss=1.77]\n"
          ]
        },
        {
          "output_type": "stream",
          "name": "stdout",
          "text": [
            "\n",
            "==================================================\n",
            "Sample output: \n",
            "thoundss thame,' soll neet'y  as wher wlocb, on saxge u merd crilgthen fire rar.,\n",
            "  in eyer stime sast thin to thou in your to cimd\n",
            "    beigne'd in heance se that olesy ane besucige tenlise,\n",
            "  paar an ther ligt yter fich 'nd velling lind,\n",
            "  sure then hennlousd prisrod wurth swells of ase\n",
            "  for thre the woming ard deacs thou ledust the worm ap \n",
            "    notede woyms the mrocset and dey tire\n",
            "\n",
            "                \n",
            "==================================================\n",
            "\n"
          ]
        },
        {
          "output_type": "stream",
          "name": "stderr",
          "text": [
            "Epoch : [151/1000] | : 100%|██████████| 2/2 [00:01<00:00,  1.55it/s, average_loss=1.72]\n",
            "Epoch : [152/1000] | : 100%|██████████| 2/2 [00:01<00:00,  1.52it/s, average_loss=1.81]\n",
            "Epoch : [153/1000] | : 100%|██████████| 2/2 [00:01<00:00,  1.34it/s, average_loss=1.72]\n",
            "Epoch : [154/1000] | : 100%|██████████| 2/2 [00:01<00:00,  1.49it/s, average_loss=1.74]\n",
            "Epoch : [155/1000] | : 100%|██████████| 2/2 [00:01<00:00,  1.50it/s, average_loss=1.75]\n",
            "Epoch : [156/1000] | : 100%|██████████| 2/2 [00:01<00:00,  1.53it/s, average_loss=1.7]\n",
            "Epoch : [157/1000] | : 100%|██████████| 2/2 [00:01<00:00,  1.54it/s, average_loss=1.73]\n",
            "Epoch : [158/1000] | : 100%|██████████| 2/2 [00:01<00:00,  1.54it/s, average_loss=1.74]\n",
            "Epoch : [159/1000] | : 100%|██████████| 2/2 [00:01<00:00,  1.52it/s, average_loss=1.74]\n",
            "Epoch : [160/1000] | : 100%|██████████| 2/2 [00:01<00:00,  1.55it/s, average_loss=1.69]\n"
          ]
        },
        {
          "output_type": "stream",
          "name": "stdout",
          "text": [
            "\n",
            "==================================================\n",
            "Sample output: \n",
            "thour that mouk cilcsded utceede,\n",
            "  fees teith ast fyrur tile tireate ncee\n",
            ",  and olunn den it hus e wor hak lis efeire lave,\n",
            "  und caapsy incheaf ye wront'n'd weans have jeyp6.\n",
            "   'lor same their fare bu at than beatet,\n",
            "  whin indyae,   tou thit ftoth chave il ase frye,\n",
            "  and mit o feye troumh shee\n",
            "  themhy beo, that is fot frinos beauty trout clefs\n",
            "  fare so lane till srast, for yow soll toresiy,,\n",
            "  \n",
            "==================================================\n",
            "\n"
          ]
        },
        {
          "output_type": "stream",
          "name": "stderr",
          "text": [
            "Epoch : [161/1000] | : 100%|██████████| 2/2 [00:01<00:00,  1.35it/s, average_loss=1.65]\n",
            "Epoch : [162/1000] | : 100%|██████████| 2/2 [00:01<00:00,  1.26it/s, average_loss=1.73]\n",
            "Epoch : [163/1000] | : 100%|██████████| 2/2 [00:01<00:00,  1.50it/s, average_loss=1.58]\n",
            "Epoch : [164/1000] | : 100%|██████████| 2/2 [00:01<00:00,  1.53it/s, average_loss=1.65]\n",
            "Epoch : [165/1000] | : 100%|██████████| 2/2 [00:01<00:00,  1.51it/s, average_loss=1.72]\n",
            "Epoch : [166/1000] | : 100%|██████████| 2/2 [00:01<00:00,  1.54it/s, average_loss=1.66]\n",
            "Epoch : [167/1000] | : 100%|██████████| 2/2 [00:01<00:00,  1.54it/s, average_loss=1.63]\n",
            "Epoch : [168/1000] | : 100%|██████████| 2/2 [00:01<00:00,  1.52it/s, average_loss=1.66]\n",
            "Epoch : [169/1000] | : 100%|██████████| 2/2 [00:01<00:00,  1.53it/s, average_loss=1.68]\n",
            "Epoch : [170/1000] | : 100%|██████████| 2/2 [00:01<00:00,  1.35it/s, average_loss=1.54]\n"
          ]
        },
        {
          "output_type": "stream",
          "name": "stdout",
          "text": [
            "\n",
            "==================================================\n",
            "Sample output: \n",
            "thou thy seoth to past'ln\n",
            ",  urr in gismee past lith and thou go't meap,\n",
            "    rov in graccior aflow anter, grele af to ce.\n",
            "\n",
            "                      4\n",
            "  fost fhous leas thou tous somt cwyicant by of andiy\n",
            "  thou lixest nect will wilkiwe?\n",
            "  what near i ig in. ard shagd where to thee\n",
            "  ir hee thy youn douln.  ;y beauty'd efetet,\n",
            "  thou hhantingew mind deors nonlkisg,\n",
            "\n",
            "     n  i5                  9o meout on \n",
            "==================================================\n",
            "\n"
          ]
        },
        {
          "output_type": "stream",
          "name": "stderr",
          "text": [
            "Epoch : [171/1000] | : 100%|██████████| 2/2 [00:01<00:00,  1.36it/s, average_loss=1.54]\n",
            "Epoch : [172/1000] | : 100%|██████████| 2/2 [00:01<00:00,  1.53it/s, average_loss=1.59]\n",
            "Epoch : [173/1000] | : 100%|██████████| 2/2 [00:01<00:00,  1.54it/s, average_loss=1.62]\n",
            "Epoch : [174/1000] | : 100%|██████████| 2/2 [00:01<00:00,  1.53it/s, average_loss=1.58]\n",
            "Epoch : [175/1000] | : 100%|██████████| 2/2 [00:01<00:00,  1.54it/s, average_loss=1.56]\n",
            "Epoch : [176/1000] | : 100%|██████████| 2/2 [00:01<00:00,  1.53it/s, average_loss=1.52]\n",
            "Epoch : [177/1000] | : 100%|██████████| 2/2 [00:01<00:00,  1.52it/s, average_loss=1.54]\n",
            "Epoch : [178/1000] | : 100%|██████████| 2/2 [00:01<00:00,  1.42it/s, average_loss=1.61]\n",
            "Epoch : [179/1000] | : 100%|██████████| 2/2 [00:01<00:00,  1.26it/s, average_loss=1.58]\n",
            "Epoch : [180/1000] | : 100%|██████████| 2/2 [00:01<00:00,  1.44it/s, average_loss=1.5]\n"
          ]
        },
        {
          "output_type": "stream",
          "name": "stdout",
          "text": [
            "\n",
            "==================================================\n",
            "Sample output: \n",
            "thou whimi wuthy vurreod ya9,\n",
            "  and in that i croont toal sod thingt, wor bs waen an summles linms the love? so shull thas whor, aseien\n",
            "  methe somed, unberry mides unore midmar thee.\n",
            "\n",
            "                     3\n",
            "  the cordange the the vilert dackors an chaigen le? ?\n",
            "  shamlime roe thing you mishiw time nom live,\n",
            "  and the wilf men's dacangn thin gocaan\n",
            ",\n",
            "    ro sh t o o kod wish blind dot hase hre wother a\n",
            "==================================================\n",
            "\n"
          ]
        },
        {
          "output_type": "stream",
          "name": "stderr",
          "text": [
            "Epoch : [181/1000] | : 100%|██████████| 2/2 [00:01<00:00,  1.52it/s, average_loss=1.54]\n",
            "Epoch : [182/1000] | : 100%|██████████| 2/2 [00:01<00:00,  1.55it/s, average_loss=1.58]\n",
            "Epoch : [183/1000] | : 100%|██████████| 2/2 [00:01<00:00,  1.52it/s, average_loss=1.53]\n",
            "Epoch : [184/1000] | : 100%|██████████| 2/2 [00:01<00:00,  1.52it/s, average_loss=1.51]\n",
            "Epoch : [185/1000] | : 100%|██████████| 2/2 [00:01<00:00,  1.53it/s, average_loss=1.53]\n",
            "Epoch : [186/1000] | : 100%|██████████| 2/2 [00:01<00:00,  1.53it/s, average_loss=1.45]\n",
            "Epoch : [187/1000] | : 100%|██████████| 2/2 [00:01<00:00,  1.35it/s, average_loss=1.48]\n",
            "Epoch : [188/1000] | : 100%|██████████| 2/2 [00:01<00:00,  1.42it/s, average_loss=1.47]\n",
            "Epoch : [189/1000] | : 100%|██████████| 2/2 [00:01<00:00,  1.55it/s, average_loss=1.43]\n",
            "Epoch : [190/1000] | : 100%|██████████| 2/2 [00:01<00:00,  1.55it/s, average_loss=1.43]\n"
          ]
        },
        {
          "output_type": "stream",
          "name": "stdout",
          "text": [
            "\n",
            "==================================================\n",
            "Sample output: \n",
            "thouls than airnrkoultes andimime,\n",
            "  and beartyt dost theurs he tillss thome so. \n",
            "  but thaw guches wive hedfarle by buvent're,\n",
            "  the warle thane in gentor thou cworct'ld thye wlen rorecss, the glabl nge in shall igingtthre,\n",
            "  no with methy inh your meantshret yep,,\n",
            "  und dereiuty thane, pestaelt whint love worth hikh broud ever'te.s shee\n",
            "  whuul shalks golpst hiks bn thy thy self bweet owe ir will sul\n",
            "==================================================\n",
            "\n"
          ]
        },
        {
          "output_type": "stream",
          "name": "stderr",
          "text": [
            "Epoch : [191/1000] | : 100%|██████████| 2/2 [00:01<00:00,  1.55it/s, average_loss=1.42]\n",
            "Epoch : [192/1000] | : 100%|██████████| 2/2 [00:01<00:00,  1.50it/s, average_loss=1.46]\n",
            "Epoch : [193/1000] | : 100%|██████████| 2/2 [00:01<00:00,  1.54it/s, average_loss=1.44]\n",
            "Epoch : [194/1000] | : 100%|██████████| 2/2 [00:01<00:00,  1.52it/s, average_loss=1.39]\n",
            "Epoch : [195/1000] | : 100%|██████████| 2/2 [00:01<00:00,  1.40it/s, average_loss=1.48]\n",
            "Epoch : [196/1000] | : 100%|██████████| 2/2 [00:01<00:00,  1.30it/s, average_loss=1.46]\n",
            "Epoch : [197/1000] | : 100%|██████████| 2/2 [00:01<00:00,  1.41it/s, average_loss=1.47]\n",
            "Epoch : [198/1000] | : 100%|██████████| 2/2 [00:01<00:00,  1.54it/s, average_loss=1.45]\n",
            "Epoch : [199/1000] | : 100%|██████████| 2/2 [00:01<00:00,  1.55it/s, average_loss=1.31]\n",
            "Epoch : [200/1000] | : 100%|██████████| 2/2 [00:01<00:00,  1.55it/s, average_loss=1.38]\n"
          ]
        },
        {
          "output_type": "stream",
          "name": "stdout",
          "text": [
            "\n",
            "==================================================\n",
            "Sample output: \n",
            "thou nat'werls be afeore hake\n",
            "\n",
            "    afdnou not tha so bf yo thy aller my cunkle so dhlamime.\n",
            "  and foor swome yous thoue beasey,\n",
            "  of thee wouls axkees summer your tiy beast some cantile dinez,\n",
            "  and more bseets une this (mese,\n",
            "  and i twals lake bunn nleagur' ngrisg,, nereive piild thene\n",
            "  cisgees if time doeg, ind eorty eaqy but mudsif liss lexlexs\n",
            "  busse nive briedet, wath daott thy wentice\n",
            "  eloud,\n",
            "==================================================\n",
            "\n"
          ]
        },
        {
          "output_type": "stream",
          "name": "stderr",
          "text": [
            "Epoch : [201/1000] | : 100%|██████████| 2/2 [00:01<00:00,  1.55it/s, average_loss=1.37]\n",
            "Epoch : [202/1000] | : 100%|██████████| 2/2 [00:01<00:00,  1.52it/s, average_loss=1.39]\n",
            "Epoch : [203/1000] | : 100%|██████████| 2/2 [00:01<00:00,  1.55it/s, average_loss=1.36]\n",
            "Epoch : [204/1000] | : 100%|██████████| 2/2 [00:01<00:00,  1.26it/s, average_loss=1.34]\n",
            "Epoch : [205/1000] | : 100%|██████████| 2/2 [00:01<00:00,  1.47it/s, average_loss=1.31]\n",
            "Epoch : [206/1000] | : 100%|██████████| 2/2 [00:01<00:00,  1.54it/s, average_loss=1.36]\n",
            "Epoch : [207/1000] | : 100%|██████████| 2/2 [00:01<00:00,  1.53it/s, average_loss=1.4]\n",
            "Epoch : [208/1000] | : 100%|██████████| 2/2 [00:01<00:00,  1.52it/s, average_loss=1.32]\n",
            "Epoch : [209/1000] | : 100%|██████████| 2/2 [00:01<00:00,  1.55it/s, average_loss=1.26]\n",
            "Epoch : [210/1000] | : 100%|██████████| 2/2 [00:01<00:00,  1.54it/s, average_loss=1.29]\n"
          ]
        },
        {
          "output_type": "stream",
          "name": "stdout",
          "text": [
            "\n",
            "==================================================\n",
            "Sample output: \n",
            "thou hiv thoue hen,\n",
            "   nhakked of wyen me prentimes  ubferet lathef,\n",
            "  mich nes eluce be nideed dearing ufdin,\n",
            "  recive to war shou, and mrigh'd and chod,\n",
            "  and selche beant the storchedt and mive tines canne to my\n",
            "  walv bitteess beruy mest lo gades the hien\n",
            "  the ropiins ye hasmen un windor pepiss\n",
            "  sinsime mer kotefter the from,\n",
            "  and bead tamale peit so gondoinnnt pind,\n",
            "  with tinge to sraef as thu\n",
            "==================================================\n",
            "\n"
          ]
        },
        {
          "output_type": "stream",
          "name": "stderr",
          "text": [
            "Epoch : [211/1000] | : 100%|██████████| 2/2 [00:01<00:00,  1.52it/s, average_loss=1.29]\n",
            "Epoch : [212/1000] | : 100%|██████████| 2/2 [00:01<00:00,  1.34it/s, average_loss=1.37]\n",
            "Epoch : [213/1000] | : 100%|██████████| 2/2 [00:01<00:00,  1.27it/s, average_loss=1.33]\n",
            "Epoch : [214/1000] | : 100%|██████████| 2/2 [00:01<00:00,  1.52it/s, average_loss=1.32]\n",
            "Epoch : [215/1000] | : 100%|██████████| 2/2 [00:01<00:00,  1.52it/s, average_loss=1.27]\n",
            "Epoch : [216/1000] | : 100%|██████████| 2/2 [00:01<00:00,  1.53it/s, average_loss=1.29]\n",
            "Epoch : [217/1000] | : 100%|██████████| 2/2 [00:01<00:00,  1.53it/s, average_loss=1.25]\n",
            "Epoch : [218/1000] | : 100%|██████████| 2/2 [00:01<00:00,  1.32it/s, average_loss=1.2]\n",
            "Epoch : [219/1000] | : 100%|██████████| 2/2 [00:01<00:00,  1.34it/s, average_loss=1.24]\n",
            "Epoch : [220/1000] | : 100%|██████████| 2/2 [00:01<00:00,  1.52it/s, average_loss=1.21]\n"
          ]
        },
        {
          "output_type": "stream",
          "name": "stdout",
          "text": [
            "\n",
            "==================================================\n",
            "Sample output: \n",
            "thou miy?  prepace\n",
            "  te bue an on alf wiy thou cho vastrolcodt grack,\n",
            "  then but that now thee for ade to monn,\n",
            "  whine  rescenclisks in nearurt ro fland,\n",
            "  thou faets trom thyes los srave maty, seall to sucmer il piin weet,\n",
            "  and wimlld-und thut huarty thou senf, coundsted crayi;\n",
            "\n",
            "  nor hees i o anf and all thon olsed, when it guy afti6,\n",
            "  an hee wace hle to thine semmen's andelire.\n",
            "\n",
            "\n",
            "                \n",
            "==================================================\n",
            "\n"
          ]
        },
        {
          "output_type": "stream",
          "name": "stderr",
          "text": [
            "Epoch : [221/1000] | : 100%|██████████| 2/2 [00:01<00:00,  1.29it/s, average_loss=1.2]\n",
            "Epoch : [222/1000] | : 100%|██████████| 2/2 [00:01<00:00,  1.47it/s, average_loss=1.2]\n",
            "Epoch : [223/1000] | : 100%|██████████| 2/2 [00:01<00:00,  1.53it/s, average_loss=1.15]\n",
            "Epoch : [224/1000] | : 100%|██████████| 2/2 [00:01<00:00,  1.54it/s, average_loss=1.16]\n",
            "Epoch : [225/1000] | : 100%|██████████| 2/2 [00:01<00:00,  1.51it/s, average_loss=1.16]\n",
            "Epoch : [226/1000] | : 100%|██████████| 2/2 [00:01<00:00,  1.52it/s, average_loss=1.15]\n",
            "Epoch : [227/1000] | : 100%|██████████| 2/2 [00:01<00:00,  1.50it/s, average_loss=1.16]\n",
            "Epoch : [228/1000] | : 100%|██████████| 2/2 [00:01<00:00,  1.54it/s, average_loss=1.17]\n",
            "Epoch : [229/1000] | : 100%|██████████| 2/2 [00:01<00:00,  1.33it/s, average_loss=1.11]\n",
            "Epoch : [230/1000] | : 100%|██████████| 2/2 [00:01<00:00,  1.25it/s, average_loss=1.17]\n"
          ]
        },
        {
          "output_type": "stream",
          "name": "stdout",
          "text": [
            "\n",
            "==================================================\n",
            "Sample output: \n",
            "thou vanpse riow,\n",
            "    as ud thy sould hear she winwes feet ancoendy undajet,\n",
            "  i fate that corlagest bis encaile or i cimded to bterd,\n",
            "  furt and thou beauty's love wiet,\n",
            "  you cainttoous yow and wo to pac,'e\n",
            "  roon wher srifk bwire daspiin sheed\n",
            "  and broud yeut  i af so chanlle orerlay?\n",
            "  whin thou ner deis thang mic; selaver weit\n",
            "  that wit  aspainter swowl this hagy ig heaved romaxy,\n",
            "  hut i lomdou\n",
            "==================================================\n",
            "\n"
          ]
        },
        {
          "output_type": "stream",
          "name": "stderr",
          "text": [
            "Epoch : [231/1000] | : 100%|██████████| 2/2 [00:01<00:00,  1.53it/s, average_loss=1.11]\n",
            "Epoch : [232/1000] | : 100%|██████████| 2/2 [00:01<00:00,  1.54it/s, average_loss=1.22]\n",
            "Epoch : [233/1000] | : 100%|██████████| 2/2 [00:01<00:00,  1.52it/s, average_loss=1.15]\n",
            "Epoch : [234/1000] | : 100%|██████████| 2/2 [00:01<00:00,  1.53it/s, average_loss=1.15]\n",
            "Epoch : [235/1000] | : 100%|██████████| 2/2 [00:01<00:00,  1.54it/s, average_loss=1.13]\n",
            "Epoch : [236/1000] | : 100%|██████████| 2/2 [00:01<00:00,  1.44it/s, average_loss=1.16]\n",
            "Epoch : [237/1000] | : 100%|██████████| 2/2 [00:01<00:00,  1.52it/s, average_loss=1.05]\n",
            "Epoch : [238/1000] | : 100%|██████████| 2/2 [00:01<00:00,  1.29it/s, average_loss=1.11]\n",
            "Epoch : [239/1000] | : 100%|██████████| 2/2 [00:01<00:00,  1.43it/s, average_loss=1.14]\n",
            "Epoch : [240/1000] | : 100%|██████████| 2/2 [00:01<00:00,  1.49it/s, average_loss=1.11]\n"
          ]
        },
        {
          "output_type": "stream",
          "name": "stdout",
          "text": [
            "\n",
            "==================================================\n",
            "Sample output: \n",
            "thou co rigss used so nor, youth in ligh.\n",
            "  apainttees fast thou wher wain sonworled,\n",
            "  ard yitht so thou es an uyer sow the winled,\n",
            "  to adet wirhouldse winge swann be in\n",
            "  lyouss hie mpele life;\n",
            "  whenpinst thine heary athour mon.'\n",
            "  s thoue baateny fael in fustor dios,\n",
            "  thy id duis cheatle worbed beiudy chesved,\n",
            "  my chape he arrend wer if ereades thou showt tindred silf.\n",
            " \n",
            "    whore as swelc, rees\n",
            "==================================================\n",
            "\n"
          ]
        },
        {
          "output_type": "stream",
          "name": "stderr",
          "text": [
            "Epoch : [241/1000] | : 100%|██████████| 2/2 [00:01<00:00,  1.55it/s, average_loss=1.1]\n",
            "Epoch : [242/1000] | : 100%|██████████| 2/2 [00:01<00:00,  1.53it/s, average_loss=1.09]\n",
            "Epoch : [243/1000] | : 100%|██████████| 2/2 [00:01<00:00,  1.52it/s, average_loss=1.07]\n",
            "Epoch : [244/1000] | : 100%|██████████| 2/2 [00:01<00:00,  1.51it/s, average_loss=1.05]\n",
            "Epoch : [245/1000] | : 100%|██████████| 2/2 [00:01<00:00,  1.53it/s, average_loss=1.03]\n",
            "Epoch : [246/1000] | : 100%|██████████| 2/2 [00:01<00:00,  1.34it/s, average_loss=1.08]\n",
            "Epoch : [247/1000] | : 100%|██████████| 2/2 [00:01<00:00,  1.33it/s, average_loss=1.03]\n",
            "Epoch : [248/1000] | : 100%|██████████| 2/2 [00:01<00:00,  1.54it/s, average_loss=0.966]\n",
            "Epoch : [249/1000] | : 100%|██████████| 2/2 [00:01<00:00,  1.52it/s, average_loss=1.02]\n",
            "Epoch : [250/1000] | : 100%|██████████| 2/2 [00:01<00:00,  1.53it/s, average_loss=1.08]\n"
          ]
        },
        {
          "output_type": "stream",
          "name": "stdout",
          "text": [
            "\n",
            "==================================================\n",
            "Sample output: \n",
            "thour sonvertest,\n",
            "   echond thau cuns,\n",
            "  you nrig sobe lo velino giyd, in his your pant\n",
            "  in lone om shemiin th time doting.\n",
            "    thate the ore,  \n",
            "  mat thou thiind iwsed wiy gelting gead,\n",
            "  at ace,\n",
            "  not fat a sume merbeld thou times's pbugandard mea\n",
            ",\n",
            "   ascending eres thing the cinflanc hings,\n",
            "  and yay ot prememery? of to that beauty shame onge,\n",
            "  and beangy ponsing to heap,  hdour's canster time,\n",
            " \n",
            "==================================================\n",
            "\n"
          ]
        },
        {
          "output_type": "stream",
          "name": "stderr",
          "text": [
            "Epoch : [251/1000] | : 100%|██████████| 2/2 [00:01<00:00,  1.53it/s, average_loss=0.966]\n",
            "Epoch : [252/1000] | : 100%|██████████| 2/2 [00:01<00:00,  1.54it/s, average_loss=1.05]\n",
            "Epoch : [253/1000] | : 100%|██████████| 2/2 [00:01<00:00,  1.53it/s, average_loss=0.974]\n",
            "Epoch : [254/1000] | : 100%|██████████| 2/2 [00:01<00:00,  1.47it/s, average_loss=0.962]\n",
            "Epoch : [255/1000] | : 100%|██████████| 2/2 [00:01<00:00,  1.27it/s, average_loss=1.01]\n",
            "Epoch : [256/1000] | : 100%|██████████| 2/2 [00:01<00:00,  1.44it/s, average_loss=0.955]\n",
            "Epoch : [257/1000] | : 100%|██████████| 2/2 [00:01<00:00,  1.53it/s, average_loss=0.969]\n",
            "Epoch : [258/1000] | : 100%|██████████| 2/2 [00:01<00:00,  1.51it/s, average_loss=0.908]\n",
            "Epoch : [259/1000] | : 100%|██████████| 2/2 [00:01<00:00,  1.51it/s, average_loss=0.915]\n",
            "Epoch : [260/1000] | : 100%|██████████| 2/2 [00:01<00:00,  1.53it/s, average_loss=0.94]\n"
          ]
        },
        {
          "output_type": "stream",
          "name": "stdout",
          "text": [
            "\n",
            "==================================================\n",
            "Sample output: \n",
            "thougmes so prapered,\n",
            "  in herbaf mep lunken i hifterd mijime,\n",
            "  a faking'l tere's live) in fort yout tellev'e ape,\n",
            "  and like co semb deth neare merve ver sece,\n",
            "  and went frof i to time aspinnous path,\n",
            "  cerige she vlenble gidss ang mend af cont peaute,\n",
            "  so thou, thou shoulss unamern mof ta derfiit anter, diy some meth steet.\n",
            "\n",
            "\n",
            "                    17\n",
            "  lo hap to eyer (gnees munds mor, beiunt,  \n",
            "h ye\n",
            "==================================================\n",
            "\n"
          ]
        },
        {
          "output_type": "stream",
          "name": "stderr",
          "text": [
            "Epoch : [261/1000] | : 100%|██████████| 2/2 [00:01<00:00,  1.53it/s, average_loss=0.897]\n",
            "Epoch : [262/1000] | : 100%|██████████| 2/2 [00:01<00:00,  1.53it/s, average_loss=0.875]\n",
            "Epoch : [263/1000] | : 100%|██████████| 2/2 [00:01<00:00,  1.36it/s, average_loss=0.935]\n",
            "Epoch : [264/1000] | : 100%|██████████| 2/2 [00:01<00:00,  1.34it/s, average_loss=0.873]\n",
            "Epoch : [265/1000] | : 100%|██████████| 2/2 [00:01<00:00,  1.54it/s, average_loss=0.865]\n",
            "Epoch : [266/1000] | : 100%|██████████| 2/2 [00:01<00:00,  1.54it/s, average_loss=0.894]\n",
            "Epoch : [267/1000] | : 100%|██████████| 2/2 [00:01<00:00,  1.52it/s, average_loss=0.866]\n",
            "Epoch : [268/1000] | : 100%|██████████| 2/2 [00:01<00:00,  1.53it/s, average_loss=0.863]\n",
            "Epoch : [269/1000] | : 100%|██████████| 2/2 [00:01<00:00,  1.41it/s, average_loss=0.882]\n",
            "Epoch : [270/1000] | : 100%|██████████| 2/2 [00:01<00:00,  1.52it/s, average_loss=0.887]\n"
          ]
        },
        {
          "output_type": "stream",
          "name": "stdout",
          "text": [
            "\n",
            "==================================================\n",
            "Sample output: \n",
            "thouss preasure, o\n",
            "  thee ise the wiolld leaid thine ponsilget\n",
            "  whent swints wheis beauty do bearey,\n",
            "  or yes unber thine i pacaid, and your eln;)  \n",
            "  bursh beauty stolls intles thouts they lete;\n",
            "  to dater os heaut mer to be,\n",
            "  bif nivery nrupumil dond epsimloge,\n",
            "  wire wirted wi prifdice thy celfine worr;d hear'st that thou lone aquhin ching,\n",
            "  or syang thin gaipsif hind,\n",
            "  yours may ey day summer w\n",
            "==================================================\n",
            "\n"
          ]
        },
        {
          "output_type": "stream",
          "name": "stderr",
          "text": [
            "Epoch : [271/1000] | : 100%|██████████| 2/2 [00:01<00:00,  1.37it/s, average_loss=0.837]\n",
            "Epoch : [272/1000] | : 100%|██████████| 2/2 [00:01<00:00,  1.29it/s, average_loss=0.858]\n",
            "Epoch : [273/1000] | : 100%|██████████| 2/2 [00:01<00:00,  1.44it/s, average_loss=0.89]\n",
            "Epoch : [274/1000] | : 100%|██████████| 2/2 [00:01<00:00,  1.55it/s, average_loss=0.839]\n",
            "Epoch : [275/1000] | : 100%|██████████| 2/2 [00:01<00:00,  1.55it/s, average_loss=0.802]\n",
            "Epoch : [276/1000] | : 100%|██████████| 2/2 [00:01<00:00,  1.50it/s, average_loss=0.848]\n",
            "Epoch : [277/1000] | : 100%|██████████| 2/2 [00:01<00:00,  1.54it/s, average_loss=0.804]\n",
            "Epoch : [278/1000] | : 100%|██████████| 2/2 [00:01<00:00,  1.54it/s, average_loss=0.755]\n",
            "Epoch : [279/1000] | : 100%|██████████| 2/2 [00:01<00:00,  1.52it/s, average_loss=0.769]\n",
            "Epoch : [280/1000] | : 100%|██████████| 2/2 [00:01<00:00,  1.36it/s, average_loss=0.734]\n"
          ]
        },
        {
          "output_type": "stream",
          "name": "stdout",
          "text": [
            "\n",
            "==================================================\n",
            "Sample output: \n",
            "thould peirethy\n",
            "  arh chout that thou your soll same parte\n",
            "  no woml pirtss  sowe bleigite trome,\n",
            "  ond ece moth'n sanged wart der mace not in ealof sime.\n",
            "  p chind suck chavbed that thou arttort ate\n",
            "  in nate wombrife iw preasen ching youch mide\n",
            "  so thin ig mid bwesth, mear's swhen thou groodss tall thin wrean thine dow,\n",
            "    sa vongd as ther, co bes anliy myep.\n",
            "\n",
            "    to so grot at dow flots for saas o\n",
            "==================================================\n",
            "\n"
          ]
        },
        {
          "output_type": "stream",
          "name": "stderr",
          "text": [
            "Epoch : [281/1000] | : 100%|██████████| 2/2 [00:01<00:00,  1.48it/s, average_loss=0.767]\n",
            "Epoch : [282/1000] | : 100%|██████████| 2/2 [00:01<00:00,  1.52it/s, average_loss=0.745]\n",
            "Epoch : [283/1000] | : 100%|██████████| 2/2 [00:01<00:00,  1.51it/s, average_loss=0.776]\n",
            "Epoch : [284/1000] | : 100%|██████████| 2/2 [00:01<00:00,  1.54it/s, average_loss=0.767]\n",
            "Epoch : [285/1000] | : 100%|██████████| 2/2 [00:01<00:00,  1.55it/s, average_loss=0.721]\n",
            "Epoch : [286/1000] | : 100%|██████████| 2/2 [00:01<00:00,  1.53it/s, average_loss=0.739]\n",
            "Epoch : [287/1000] | : 100%|██████████| 2/2 [00:01<00:00,  1.57it/s, average_loss=0.729]\n",
            "Epoch : [288/1000] | : 100%|██████████| 2/2 [00:01<00:00,  1.55it/s, average_loss=0.725]\n",
            "Epoch : [289/1000] | : 100%|██████████| 2/2 [00:01<00:00,  1.31it/s, average_loss=0.738]\n",
            "Epoch : [290/1000] | : 100%|██████████| 2/2 [00:01<00:00,  1.46it/s, average_loss=0.735]\n"
          ]
        },
        {
          "output_type": "stream",
          "name": "stdout",
          "text": [
            "\n",
            "==================================================\n",
            "Sample output: \n",
            "though,\n",
            "  and youn meart which somsert love mowe,\n",
            "  a make of theresen egery decemsel'd\n",
            "  buth os thy self be steestiel wied doert.\n",
            "  s thun thate the wice fis nutereared\n",
            "  tone hi buurt with the bound ous migtth es cloved of timmed mearh kfoc, or deare hare momd wiic ned times \n",
            "  whicn luttiod gogaed un event's gy)\n",
            "  ands if th thy floss and migtlof,\n",
            "  ropin the romgidit when thy wulles an siget nethr\n",
            "==================================================\n",
            "\n"
          ]
        },
        {
          "output_type": "stream",
          "name": "stderr",
          "text": [
            "Epoch : [291/1000] | : 100%|██████████| 2/2 [00:01<00:00,  1.52it/s, average_loss=0.692]\n",
            "Epoch : [292/1000] | : 100%|██████████| 2/2 [00:01<00:00,  1.52it/s, average_loss=0.712]\n",
            "Epoch : [293/1000] | : 100%|██████████| 2/2 [00:01<00:00,  1.53it/s, average_loss=0.686]\n",
            "Epoch : [294/1000] | : 100%|██████████| 2/2 [00:01<00:00,  1.54it/s, average_loss=0.698]\n",
            "Epoch : [295/1000] | : 100%|██████████| 2/2 [00:01<00:00,  1.53it/s, average_loss=0.678]\n",
            "Epoch : [296/1000] | : 100%|██████████| 2/2 [00:01<00:00,  1.53it/s, average_loss=0.661]\n",
            "Epoch : [297/1000] | : 100%|██████████| 2/2 [00:01<00:00,  1.33it/s, average_loss=0.658]\n",
            "Epoch : [298/1000] | : 100%|██████████| 2/2 [00:01<00:00,  1.27it/s, average_loss=0.669]\n",
            "Epoch : [299/1000] | : 100%|██████████| 2/2 [00:01<00:00,  1.51it/s, average_loss=0.618]\n",
            "Epoch : [300/1000] | : 100%|██████████| 2/2 [00:01<00:00,  1.52it/s, average_loss=0.669]\n"
          ]
        },
        {
          "output_type": "stream",
          "name": "stdout",
          "text": [
            "\n",
            "==================================================\n",
            "Sample output: \n",
            "thours, or seatuse\n",
            "  eich where nis be mith leake as in treath on teep,\n",
            "  seets wyith swents ins ele of your owd,\n",
            "  i ling ald the trens is not is thyug dapt,\n",
            "  as incteres live an it, ut livine qrieat,\n",
            "  but thy weret yet fart dot so foir, eithos tone?\n",
            "\n",
            "\n",
            "                     5\n",
            "  is youthes ate you hese, chough thee oy dumlive\n",
            "  thin you wheit bis agiot tom tomny,\n",
            "  wwent thlu ore mighces weat a be tas\n",
            "==================================================\n",
            "\n"
          ]
        },
        {
          "output_type": "stream",
          "name": "stderr",
          "text": [
            "Epoch : [301/1000] | : 100%|██████████| 2/2 [00:01<00:00,  1.43it/s, average_loss=0.605]\n",
            "Epoch : [302/1000] | : 100%|██████████| 2/2 [00:01<00:00,  1.54it/s, average_loss=0.612]\n",
            "Epoch : [303/1000] | : 100%|██████████| 2/2 [00:01<00:00,  1.51it/s, average_loss=0.686]\n",
            "Epoch : [304/1000] | : 100%|██████████| 2/2 [00:01<00:00,  1.53it/s, average_loss=0.603]\n",
            "Epoch : [305/1000] | : 100%|██████████| 2/2 [00:01<00:00,  1.50it/s, average_loss=0.58]\n",
            "Epoch : [306/1000] | : 100%|██████████| 2/2 [00:01<00:00,  1.29it/s, average_loss=0.623]\n",
            "Epoch : [307/1000] | : 100%|██████████| 2/2 [00:01<00:00,  1.47it/s, average_loss=0.593]\n",
            "Epoch : [308/1000] | : 100%|██████████| 2/2 [00:01<00:00,  1.53it/s, average_loss=0.54]\n",
            "Epoch : [309/1000] | : 100%|██████████| 2/2 [00:01<00:00,  1.51it/s, average_loss=0.575]\n",
            "Epoch : [310/1000] | : 100%|██████████| 2/2 [00:01<00:00,  1.50it/s, average_loss=0.589]\n"
          ]
        },
        {
          "output_type": "stream",
          "name": "stdout",
          "text": [
            "\n",
            "==================================================\n",
            "Sample output: \n",
            "thoughis qeasty\n",
            "  rash in wher nast net increast of mare,\n",
            "  ut thl ifly asep ereten ret self keln,\n",
            "  than the braudin eres when the crave diyss bearc heremerace\n",
            "\n",
            "  that i wo wron  tee thou ofterest it blasty\n",
            "  leavenf tise vering bwowd uters,\n",
            "  of in summer shall that an am yor 'usss onatermee or shee.\n",
            "\n",
            "\n",
            "                     73  thearing to be sugny muy pouts, unat your self were thee reno.\n",
            "\n",
            "     wino \n",
            "==================================================\n",
            "\n"
          ]
        },
        {
          "output_type": "stream",
          "name": "stderr",
          "text": [
            "Epoch : [311/1000] | : 100%|██████████| 2/2 [00:01<00:00,  1.55it/s, average_loss=0.618]\n",
            "Epoch : [312/1000] | : 100%|██████████| 2/2 [00:01<00:00,  1.55it/s, average_loss=0.588]\n",
            "Epoch : [313/1000] | : 100%|██████████| 2/2 [00:01<00:00,  1.50it/s, average_loss=0.572]\n",
            "Epoch : [314/1000] | : 100%|██████████| 2/2 [00:01<00:00,  1.37it/s, average_loss=0.572]\n",
            "Epoch : [315/1000] | : 100%|██████████| 2/2 [00:01<00:00,  1.35it/s, average_loss=0.572]\n",
            "Epoch : [316/1000] | : 100%|██████████| 2/2 [00:01<00:00,  1.52it/s, average_loss=0.575]\n",
            "Epoch : [317/1000] | : 100%|██████████| 2/2 [00:01<00:00,  1.55it/s, average_loss=0.544]\n",
            "Epoch : [318/1000] | : 100%|██████████| 2/2 [00:01<00:00,  1.55it/s, average_loss=0.549]\n",
            "Epoch : [319/1000] | : 100%|██████████| 2/2 [00:01<00:00,  1.52it/s, average_loss=0.508]\n",
            "Epoch : [320/1000] | : 100%|██████████| 2/2 [00:01<00:00,  1.50it/s, average_loss=0.54]\n"
          ]
        },
        {
          "output_type": "stream",
          "name": "stdout",
          "text": [
            "\n",
            "==================================================\n",
            "Sample output: \n",
            "thould to mant\n",
            "   taols antere lave of his the car t eid thee\n",
            "\n",
            "\n",
            "                    6 m6 the vill ture praise of the luncr dove,\n",
            "    my on eat thin for his bouror might, shee stenkked shenkd when ment'r sog, arle in gleds to elce\n",
            "  on sumg-wites she sigter thy looven taim swill,\n",
            "  ay cilds of pairtenh, loat cimmes dleess.\n",
            "  were majleguy gands of than your prawe worh thine.\n",
            "     ildoued wheth not the g\n",
            "==================================================\n",
            "\n"
          ]
        },
        {
          "output_type": "stream",
          "name": "stderr",
          "text": [
            "Epoch : [321/1000] | : 100%|██████████| 2/2 [00:01<00:00,  1.54it/s, average_loss=0.546]\n",
            "Epoch : [322/1000] | : 100%|██████████| 2/2 [00:01<00:00,  1.41it/s, average_loss=0.54]\n",
            "Epoch : [323/1000] | : 100%|██████████| 2/2 [00:01<00:00,  1.30it/s, average_loss=0.523]\n",
            "Epoch : [324/1000] | : 100%|██████████| 2/2 [00:01<00:00,  1.46it/s, average_loss=0.522]\n",
            "Epoch : [325/1000] | : 100%|██████████| 2/2 [00:01<00:00,  1.53it/s, average_loss=0.519]\n",
            "Epoch : [326/1000] | : 100%|██████████| 2/2 [00:01<00:00,  1.53it/s, average_loss=0.466]\n",
            "Epoch : [327/1000] | : 100%|██████████| 2/2 [00:01<00:00,  1.52it/s, average_loss=0.526]\n",
            "Epoch : [328/1000] | : 100%|██████████| 2/2 [00:01<00:00,  1.54it/s, average_loss=0.513]\n",
            "Epoch : [329/1000] | : 100%|██████████| 2/2 [00:01<00:00,  1.53it/s, average_loss=0.477]\n",
            "Epoch : [330/1000] | : 100%|██████████| 2/2 [00:01<00:00,  1.53it/s, average_loss=0.477]\n"
          ]
        },
        {
          "output_type": "stream",
          "name": "stdout",
          "text": [
            "\n",
            "==================================================\n",
            "Sample output: \n",
            "thou vistlins, loke henilveled yourh own not meath dore,\n",
            "  by udtan lower shiw thous thauts thou mont lart you\n",
            "  in thoue woue,s thou art is has tould leaves  \n",
            "    but tetes thee thise igseld than gent eppirts,\n",
            "  in in the somlidgs then tee to sputh welills the ttarling lons,\n",
            "  or tantswer, on will writh thou ow thou dwell't'st tome thee wromh.\n",
            "     bus olfrer ale tho beautes of your eless sith ptaale,\n",
            "==================================================\n",
            "\n"
          ]
        },
        {
          "output_type": "stream",
          "name": "stderr",
          "text": [
            "Epoch : [331/1000] | : 100%|██████████| 2/2 [00:01<00:00,  1.34it/s, average_loss=0.474]\n",
            "Epoch : [332/1000] | : 100%|██████████| 2/2 [00:01<00:00,  1.34it/s, average_loss=0.467]\n",
            "Epoch : [333/1000] | : 100%|██████████| 2/2 [00:01<00:00,  1.52it/s, average_loss=0.457]\n",
            "Epoch : [334/1000] | : 100%|██████████| 2/2 [00:01<00:00,  1.43it/s, average_loss=0.47]\n",
            "Epoch : [335/1000] | : 100%|██████████| 2/2 [00:01<00:00,  1.54it/s, average_loss=0.465]\n",
            "Epoch : [336/1000] | : 100%|██████████| 2/2 [00:01<00:00,  1.51it/s, average_loss=0.485]\n",
            "Epoch : [337/1000] | : 100%|██████████| 2/2 [00:01<00:00,  1.54it/s, average_loss=0.417]\n",
            "Epoch : [338/1000] | : 100%|██████████| 2/2 [00:01<00:00,  1.55it/s, average_loss=0.478]\n",
            "Epoch : [339/1000] | : 100%|██████████| 2/2 [00:01<00:00,  1.52it/s, average_loss=0.457]\n",
            "Epoch : [340/1000] | : 100%|██████████| 2/2 [00:01<00:00,  1.35it/s, average_loss=0.448]\n"
          ]
        },
        {
          "output_type": "stream",
          "name": "stdout",
          "text": [
            "\n",
            "==================================================\n",
            "Sample output: \n",
            "thoug row.\n",
            "\n",
            "\n",
            "                    80  nositen were lloke the gielt ant love of my,\n",
            "  i can timer winte wonbout the tonberenes,\n",
            "  net in thee wirland whemy beautes ere it creesl,\n",
            "  if ece the orase old deagh thoues then grees,\n",
            "  like the o lene the cruecing she live do hine,\n",
            "    aor cort ansers this gracious not gondle,\n",
            "  siets the thilg thre buany my rosg;\n",
            "  not hang-loodes chamly and counter eye chute \n",
            "==================================================\n",
            "\n"
          ]
        },
        {
          "output_type": "stream",
          "name": "stderr",
          "text": [
            "Epoch : [341/1000] | : 100%|██████████| 2/2 [00:01<00:00,  1.50it/s, average_loss=0.468]\n",
            "Epoch : [342/1000] | : 100%|██████████| 2/2 [00:01<00:00,  1.53it/s, average_loss=0.414]\n",
            "Epoch : [343/1000] | : 100%|██████████| 2/2 [00:01<00:00,  1.52it/s, average_loss=0.419]\n",
            "Epoch : [344/1000] | : 100%|██████████| 2/2 [00:01<00:00,  1.54it/s, average_loss=0.434]\n",
            "Epoch : [345/1000] | : 100%|██████████| 2/2 [00:01<00:00,  1.51it/s, average_loss=0.415]\n",
            "Epoch : [346/1000] | : 100%|██████████| 2/2 [00:01<00:00,  1.51it/s, average_loss=0.427]\n",
            "Epoch : [347/1000] | : 100%|██████████| 2/2 [00:01<00:00,  1.55it/s, average_loss=0.413]\n",
            "Epoch : [348/1000] | : 100%|██████████| 2/2 [00:01<00:00,  1.35it/s, average_loss=0.41]\n",
            "Epoch : [349/1000] | : 100%|██████████| 2/2 [00:01<00:00,  1.25it/s, average_loss=0.388]\n",
            "Epoch : [350/1000] | : 100%|██████████| 2/2 [00:01<00:00,  1.54it/s, average_loss=0.421]\n"
          ]
        },
        {
          "output_type": "stream",
          "name": "stdout",
          "text": [
            "\n",
            "==================================================\n",
            "Sample output: \n",
            "thouls in goad coming,\n",
            "    you har a lome yr sthe less tho  to guy.\n",
            "\n",
            "                     12\n",
            "  fhom i oon, try tuarss tace seald far,\n",
            "  mor mad the cille the time sum lears thine.\n",
            "     ush effkore tomse some the combed on mencc,, her ved out wincen of shall ay hidet relave?\n",
            "  when in be thise ot made on thee sen wey loth-deif wire\n",
            "  but if thou life swell bar tee or eyes vast hep a ionelt self-feres,\n",
            " \n",
            "==================================================\n",
            "\n"
          ]
        },
        {
          "output_type": "stream",
          "name": "stderr",
          "text": [
            "Epoch : [351/1000] | : 100%|██████████| 2/2 [00:01<00:00,  1.55it/s, average_loss=0.41]\n",
            "Epoch : [352/1000] | : 100%|██████████| 2/2 [00:01<00:00,  1.50it/s, average_loss=0.397]\n",
            "Epoch : [353/1000] | : 100%|██████████| 2/2 [00:01<00:00,  1.53it/s, average_loss=0.403]\n",
            "Epoch : [354/1000] | : 100%|██████████| 2/2 [00:01<00:00,  1.54it/s, average_loss=0.412]\n",
            "Epoch : [355/1000] | : 100%|██████████| 2/2 [00:01<00:00,  1.54it/s, average_loss=0.362]\n",
            "Epoch : [356/1000] | : 100%|██████████| 2/2 [00:01<00:00,  1.51it/s, average_loss=0.379]\n",
            "Epoch : [357/1000] | : 100%|██████████| 2/2 [00:01<00:00,  1.32it/s, average_loss=0.365]\n",
            "Epoch : [358/1000] | : 100%|██████████| 2/2 [00:01<00:00,  1.46it/s, average_loss=0.36]\n",
            "Epoch : [359/1000] | : 100%|██████████| 2/2 [00:01<00:00,  1.52it/s, average_loss=0.354]\n",
            "Epoch : [360/1000] | : 100%|██████████| 2/2 [00:01<00:00,  1.52it/s, average_loss=0.382]\n"
          ]
        },
        {
          "output_type": "stream",
          "name": "stdout",
          "text": [
            "\n",
            "==================================================\n",
            "Sample output: \n",
            "thou gont rectreted,\n",
            "  in ene of heaelisure high than lofe?\n",
            "  horh, and meat then wo thou rosw intter on youl hie thine ercaste\n",
            "  mies thim preisere your pnand\n",
            "  tinesbd thy love' n trung the dreecoos if pon should,\n",
            "  thry houty thar own hur beauty diis goldeon,\n",
            "    and your sheelfsber yous to fair eechon pin.\n",
            "  s sif wres not hear-ende somment.\n",
            "  whe world and be, when thou beap'st it ig doth sweat\n",
            "  \n",
            "==================================================\n",
            "\n"
          ]
        },
        {
          "output_type": "stream",
          "name": "stderr",
          "text": [
            "Epoch : [361/1000] | : 100%|██████████| 2/2 [00:01<00:00,  1.56it/s, average_loss=0.346]\n",
            "Epoch : [362/1000] | : 100%|██████████| 2/2 [00:01<00:00,  1.54it/s, average_loss=0.344]\n",
            "Epoch : [363/1000] | : 100%|██████████| 2/2 [00:01<00:00,  1.50it/s, average_loss=0.324]\n",
            "Epoch : [364/1000] | : 100%|██████████| 2/2 [00:01<00:00,  1.51it/s, average_loss=0.346]\n",
            "Epoch : [365/1000] | : 100%|██████████| 2/2 [00:01<00:00,  1.35it/s, average_loss=0.337]\n",
            "Epoch : [366/1000] | : 100%|██████████| 2/2 [00:01<00:00,  1.24it/s, average_loss=0.366]\n",
            "Epoch : [367/1000] | : 100%|██████████| 2/2 [00:01<00:00,  1.56it/s, average_loss=0.338]\n",
            "Epoch : [368/1000] | : 100%|██████████| 2/2 [00:01<00:00,  1.54it/s, average_loss=0.343]\n",
            "Epoch : [369/1000] | : 100%|██████████| 2/2 [00:01<00:00,  1.53it/s, average_loss=0.312]\n",
            "Epoch : [370/1000] | : 100%|██████████| 2/2 [00:01<00:00,  1.55it/s, average_loss=0.324]\n"
          ]
        },
        {
          "output_type": "stream",
          "name": "stdout",
          "text": [
            "\n",
            "==================================================\n",
            "Sample output: \n",
            "thougg, that hast ald thou shoulss in sreaste\n",
            ",\n",
            "  is elce be thy lude so stere on hiselous lags deeauth.\n",
            "  and wrow no lidee thee thou chould in hray\n",
            "  shalls but that beauty's dosmaccy\n",
            "  ano it for sumser'ss suncalla onn dae,\n",
            "  thee heive wlenk suther eye i chante of miye?\n",
            "  so farr the ling dowimn, than beirted,\n",
            ", sreed yet kove mudure so daderin thou cildss upcarp and,\n",
            "  beauty's feface with your se\n",
            "==================================================\n",
            "\n"
          ]
        },
        {
          "output_type": "stream",
          "name": "stderr",
          "text": [
            "Epoch : [371/1000] | : 100%|██████████| 2/2 [00:01<00:00,  1.52it/s, average_loss=0.341]\n",
            "Epoch : [372/1000] | : 100%|██████████| 2/2 [00:01<00:00,  1.54it/s, average_loss=0.329]\n",
            "Epoch : [373/1000] | : 100%|██████████| 2/2 [00:01<00:00,  1.46it/s, average_loss=0.322]\n",
            "Epoch : [374/1000] | : 100%|██████████| 2/2 [00:01<00:00,  1.30it/s, average_loss=0.342]\n",
            "Epoch : [375/1000] | : 100%|██████████| 2/2 [00:01<00:00,  1.43it/s, average_loss=0.323]\n",
            "Epoch : [376/1000] | : 100%|██████████| 2/2 [00:01<00:00,  1.53it/s, average_loss=0.327]\n",
            "Epoch : [377/1000] | : 100%|██████████| 2/2 [00:01<00:00,  1.52it/s, average_loss=0.322]\n",
            "Epoch : [378/1000] | : 100%|██████████| 2/2 [00:01<00:00,  1.54it/s, average_loss=0.323]\n",
            "Epoch : [379/1000] | : 100%|██████████| 2/2 [00:01<00:00,  1.53it/s, average_loss=0.303]\n",
            "Epoch : [380/1000] | : 100%|██████████| 2/2 [00:01<00:00,  1.54it/s, average_loss=0.331]\n"
          ]
        },
        {
          "output_type": "stream",
          "name": "stdout",
          "text": [
            "\n",
            "==================================================\n",
            "Sample output: \n",
            "thould graess,\n",
            "  but and these up makasu waider dy disht,\n",
            "  urainst of frich this detiof alive nn thile,\n",
            "    shike ald she love and tikes of that you sroudss bean ale well-ny eles.\n",
            "    the gard a dow, of thau you dons ontrasting sunmed mind or use,\n",
            "  if self so legs with see, abus-lingls caverinn jomkedtime,\n",
            "    thou grime'ss wung mand beir efery htillanus gals,\n",
            "  a that anfithar dos mage wind wpented \n",
            "==================================================\n",
            "\n"
          ]
        },
        {
          "output_type": "stream",
          "name": "stderr",
          "text": [
            "Epoch : [381/1000] | : 100%|██████████| 2/2 [00:01<00:00,  1.54it/s, average_loss=0.283]\n",
            "Epoch : [382/1000] | : 100%|██████████| 2/2 [00:01<00:00,  1.35it/s, average_loss=0.33]\n",
            "Epoch : [383/1000] | : 100%|██████████| 2/2 [00:01<00:00,  1.33it/s, average_loss=0.302]\n",
            "Epoch : [384/1000] | : 100%|██████████| 2/2 [00:01<00:00,  1.51it/s, average_loss=0.292]\n",
            "Epoch : [385/1000] | : 100%|██████████| 2/2 [00:01<00:00,  1.52it/s, average_loss=0.274]\n",
            "Epoch : [386/1000] | : 100%|██████████| 2/2 [00:01<00:00,  1.49it/s, average_loss=0.313]\n",
            "Epoch : [387/1000] | : 100%|██████████| 2/2 [00:01<00:00,  1.53it/s, average_loss=0.304]\n",
            "Epoch : [388/1000] | : 100%|██████████| 2/2 [00:01<00:00,  1.54it/s, average_loss=0.289]\n",
            "Epoch : [389/1000] | : 100%|██████████| 2/2 [00:01<00:00,  1.49it/s, average_loss=0.298]\n",
            "Epoch : [390/1000] | : 100%|██████████| 2/2 [00:01<00:00,  1.55it/s, average_loss=0.282]\n"
          ]
        },
        {
          "output_type": "stream",
          "name": "stdout",
          "text": [
            "\n",
            "==================================================\n",
            "Sample output: \n",
            "thou dot. traw 't sis love?\n",
            "  your  wac tom be as youth neck, to rave anouty lidged so hine\n",
            "  when frorh huif in which the rreave\n",
            "  far son ert sur is bearten women's growher,\n",
            "  than the dorcing my vuss els sull on dey,\n",
            "    t en be thy foer the fatring enceashiqu enthe\n",
            "  he love in tree brabd mudo y capse thin eich ald your shee,\n",
            "  thes gont net love time ow het mate wire please,\n",
            "  dice deare with fori\n",
            "==================================================\n",
            "\n"
          ]
        },
        {
          "output_type": "stream",
          "name": "stderr",
          "text": [
            "Epoch : [391/1000] | : 100%|██████████| 2/2 [00:01<00:00,  1.28it/s, average_loss=0.285]\n",
            "Epoch : [392/1000] | : 100%|██████████| 2/2 [00:01<00:00,  1.45it/s, average_loss=0.283]\n",
            "Epoch : [393/1000] | : 100%|██████████| 2/2 [00:01<00:00,  1.36it/s, average_loss=0.298]\n",
            "Epoch : [394/1000] | : 100%|██████████| 2/2 [00:01<00:00,  1.29it/s, average_loss=0.263]\n",
            "Epoch : [395/1000] | : 100%|██████████| 2/2 [00:01<00:00,  1.49it/s, average_loss=0.279]\n",
            "Epoch : [396/1000] | : 100%|██████████| 2/2 [00:01<00:00,  1.54it/s, average_loss=0.301]\n",
            "Epoch : [397/1000] | : 100%|██████████| 2/2 [00:01<00:00,  1.54it/s, average_loss=0.263]\n",
            "Epoch : [398/1000] | : 100%|██████████| 2/2 [00:01<00:00,  1.51it/s, average_loss=0.275]\n",
            "Epoch : [399/1000] | : 100%|██████████| 2/2 [00:01<00:00,  1.27it/s, average_loss=0.258]\n",
            "Epoch : [400/1000] | : 100%|██████████| 2/2 [00:01<00:00,  1.34it/s, average_loss=0.262]\n"
          ]
        },
        {
          "output_type": "stream",
          "name": "stdout",
          "text": [
            "\n",
            "==================================================\n",
            "Sample output: \n",
            "thou ore pons wite\n",
            "  and cort and lose thas thep that thou consrwanted sot if win heir dentire,\n",
            "  anded a'le myer ganten to the grom with weelt supjylow,\n",
            "  than hime canll ber thou that show' presea\n",
            "  coins, and mike to the beiud dait ther,\n",
            "  asd when net thil sace's sange in sond.\n",
            "  fo nong were ilinded of thune ant mact to self,\n",
            "    wothon beast show theis can rore dost levine\n",
            "  nhalg thee beauthes w\n",
            "==================================================\n",
            "\n"
          ]
        },
        {
          "output_type": "stream",
          "name": "stderr",
          "text": [
            "Epoch : [401/1000] | : 100%|██████████| 2/2 [00:01<00:00,  1.51it/s, average_loss=0.27]\n",
            "Epoch : [402/1000] | : 100%|██████████| 2/2 [00:01<00:00,  1.56it/s, average_loss=0.259]\n",
            "Epoch : [403/1000] | : 100%|██████████| 2/2 [00:01<00:00,  1.54it/s, average_loss=0.261]\n",
            "Epoch : [404/1000] | : 100%|██████████| 2/2 [00:01<00:00,  1.53it/s, average_loss=0.264]\n",
            "Epoch : [405/1000] | : 100%|██████████| 2/2 [00:01<00:00,  1.52it/s, average_loss=0.285]\n",
            "Epoch : [406/1000] | : 100%|██████████| 2/2 [00:01<00:00,  1.55it/s, average_loss=0.271]\n",
            "Epoch : [407/1000] | : 100%|██████████| 2/2 [00:01<00:00,  1.45it/s, average_loss=0.257]\n",
            "Epoch : [408/1000] | : 100%|██████████| 2/2 [00:01<00:00,  1.29it/s, average_loss=0.264]\n",
            "Epoch : [409/1000] | : 100%|██████████| 2/2 [00:01<00:00,  1.47it/s, average_loss=0.25]\n",
            "Epoch : [410/1000] | : 100%|██████████| 2/2 [00:01<00:00,  1.53it/s, average_loss=0.238]\n"
          ]
        },
        {
          "output_type": "stream",
          "name": "stdout",
          "text": [
            "\n",
            "==================================================\n",
            "Sample output: \n",
            "though winher self-carlen of thee.\n",
            "\n",
            "\n",
            "\n",
            "                    2-\n",
            "  now is thou, the thy for of time spif.\n",
            "\n",
            "\n",
            "                     8 8\n",
            "  usif to thear whond elest thove  \n",
            "o when levery tourest, and summer's glialled theeest heirh dounhar ebtr nath,\n",
            "  be as anf preeserse the bur and rome,\n",
            "  that hep ald beauty whis beutgostiye\n",
            "  and for i nee rave dy teensul ir ghane,\n",
            "  whet hustenfor reat is was powinted tho\n",
            "==================================================\n",
            "\n"
          ]
        },
        {
          "output_type": "stream",
          "name": "stderr",
          "text": [
            "Epoch : [411/1000] | : 100%|██████████| 2/2 [00:01<00:00,  1.53it/s, average_loss=0.245]\n",
            "Epoch : [412/1000] | : 100%|██████████| 2/2 [00:01<00:00,  1.52it/s, average_loss=0.261]\n",
            "Epoch : [413/1000] | : 100%|██████████| 2/2 [00:01<00:00,  1.54it/s, average_loss=0.252]\n",
            "Epoch : [414/1000] | : 100%|██████████| 2/2 [00:01<00:00,  1.54it/s, average_loss=0.244]\n",
            "Epoch : [415/1000] | : 100%|██████████| 2/2 [00:01<00:00,  1.52it/s, average_loss=0.253]\n",
            "Epoch : [416/1000] | : 100%|██████████| 2/2 [00:01<00:00,  1.34it/s, average_loss=0.227]\n",
            "Epoch : [417/1000] | : 100%|██████████| 2/2 [00:01<00:00,  1.37it/s, average_loss=0.234]\n",
            "Epoch : [418/1000] | : 100%|██████████| 2/2 [00:01<00:00,  1.51it/s, average_loss=0.237]\n",
            "Epoch : [419/1000] | : 100%|██████████| 2/2 [00:01<00:00,  1.53it/s, average_loss=0.238]\n",
            "Epoch : [420/1000] | : 100%|██████████| 2/2 [00:01<00:00,  1.55it/s, average_loss=0.245]\n"
          ]
        },
        {
          "output_type": "stream",
          "name": "stdout",
          "text": [
            "\n",
            "==================================================\n",
            "Sample output: \n",
            "thould ereawy doth dos ow old spe,\n",
            "    pise le kore to brave hime wald hon abt liod,\n",
            "  apoun sig reagach if werom' anp conde\n",
            "  in eant the oried with thy artubors,\n",
            "    mane be thell love yot gidt in should be reapour awl whrree\n",
            "  thes wille will the beauteou roong yoush sease\n",
            "  then you wroum shill myous-lifg y thy gonse\n",
            "  a nin tould pries time gertent eonh i eres for deap,\n",
            "  the inet (rerem-inged so \n",
            "==================================================\n",
            "\n"
          ]
        },
        {
          "output_type": "stream",
          "name": "stderr",
          "text": [
            "Epoch : [421/1000] | : 100%|██████████| 2/2 [00:01<00:00,  1.54it/s, average_loss=0.234]\n",
            "Epoch : [422/1000] | : 100%|██████████| 2/2 [00:01<00:00,  1.52it/s, average_loss=0.228]\n",
            "Epoch : [423/1000] | : 100%|██████████| 2/2 [00:01<00:00,  1.53it/s, average_loss=0.242]\n",
            "Epoch : [424/1000] | : 100%|██████████| 2/2 [00:01<00:00,  1.45it/s, average_loss=0.204]\n",
            "Epoch : [425/1000] | : 100%|██████████| 2/2 [00:01<00:00,  1.25it/s, average_loss=0.23]\n",
            "Epoch : [426/1000] | : 100%|██████████| 2/2 [00:01<00:00,  1.46it/s, average_loss=0.251]\n",
            "Epoch : [427/1000] | : 100%|██████████| 2/2 [00:01<00:00,  1.52it/s, average_loss=0.213]\n",
            "Epoch : [428/1000] | : 100%|██████████| 2/2 [00:01<00:00,  1.52it/s, average_loss=0.209]\n",
            "Epoch : [429/1000] | : 100%|██████████| 2/2 [00:01<00:00,  1.55it/s, average_loss=0.233]\n",
            "Epoch : [430/1000] | : 100%|██████████| 2/2 [00:01<00:00,  1.52it/s, average_loss=0.23]\n"
          ]
        },
        {
          "output_type": "stream",
          "name": "stdout",
          "text": [
            "\n",
            "==================================================\n",
            "Sample output: \n",
            "though that i may.\n",
            "  shall wame what fac  has inconsolt laaty\n",
            "  sums mature of hearhy wach prantinn qourty dill,\n",
            "  o core on watt whic for thy dast anoiter,\n",
            "  which heapin that i chasing whate \n",
            "o mhastiof thy hiser wose thee are wo the walle  orkenge\n",
            "  o give thy somf the simer chalt ancerss\n",
            "  lfast thy self at grases if it no thul.\n",
            "\n",
            "                     12\n",
            "  when i doucoun that trous, her your most in\n",
            "==================================================\n",
            "\n"
          ]
        },
        {
          "output_type": "stream",
          "name": "stderr",
          "text": [
            "Epoch : [431/1000] | : 100%|██████████| 2/2 [00:01<00:00,  1.41it/s, average_loss=0.211]\n",
            "Epoch : [432/1000] | : 100%|██████████| 2/2 [00:01<00:00,  1.53it/s, average_loss=0.207]\n",
            "Epoch : [433/1000] | : 100%|██████████| 2/2 [00:01<00:00,  1.36it/s, average_loss=0.237]\n",
            "Epoch : [434/1000] | : 100%|██████████| 2/2 [00:01<00:00,  1.46it/s, average_loss=0.229]\n",
            "Epoch : [435/1000] | : 100%|██████████| 2/2 [00:01<00:00,  1.52it/s, average_loss=0.225]\n",
            "Epoch : [436/1000] | : 100%|██████████| 2/2 [00:01<00:00,  1.53it/s, average_loss=0.207]\n",
            "Epoch : [437/1000] | : 100%|██████████| 2/2 [00:01<00:00,  1.52it/s, average_loss=0.215]\n",
            "Epoch : [438/1000] | : 100%|██████████| 2/2 [00:01<00:00,  1.51it/s, average_loss=0.217]\n",
            "Epoch : [439/1000] | : 100%|██████████| 2/2 [00:01<00:00,  1.52it/s, average_loss=0.236]\n",
            "Epoch : [440/1000] | : 100%|██████████| 2/2 [00:01<00:00,  1.51it/s, average_loss=0.21]\n"
          ]
        },
        {
          "output_type": "stream",
          "name": "stdout",
          "text": [
            "\n",
            "==================================================\n",
            "Sample output: \n",
            "thoulp are hear\n",
            "  that which use leass shall i comded,\n",
            "  hik cense merseld such, and hearing masu,,\n",
            "  of tomast,\n",
            "  and beauthes gisd bus and yo ante,\n",
            "  or to sunss sums be hyip, mine,\n",
            "  shall hat pfeele live lamke of tenef eae hiver swall.\n",
            "  and heare no shat i wheow all tel faele the worl,\n",
            "  and sead thie cailt that thou bear'st,\n",
            "  nor it so lose so lovs in the world dors since\n",
            "    so long the stibd, \n",
            "==================================================\n",
            "\n"
          ]
        },
        {
          "output_type": "stream",
          "name": "stderr",
          "text": [
            "Epoch : [441/1000] | : 100%|██████████| 2/2 [00:01<00:00,  1.33it/s, average_loss=0.215]\n",
            "Epoch : [442/1000] | : 100%|██████████| 2/2 [00:01<00:00,  1.27it/s, average_loss=0.212]\n",
            "Epoch : [443/1000] | : 100%|██████████| 2/2 [00:01<00:00,  1.51it/s, average_loss=0.214]\n",
            "Epoch : [444/1000] | : 100%|██████████| 2/2 [00:01<00:00,  1.54it/s, average_loss=0.199]\n",
            "Epoch : [445/1000] | : 100%|██████████| 2/2 [00:01<00:00,  1.52it/s, average_loss=0.18]\n",
            "Epoch : [446/1000] | : 100%|██████████| 2/2 [00:01<00:00,  1.53it/s, average_loss=0.198]\n",
            "Epoch : [447/1000] | : 100%|██████████| 2/2 [00:01<00:00,  1.54it/s, average_loss=0.197]\n",
            "Epoch : [448/1000] | : 100%|██████████| 2/2 [00:01<00:00,  1.50it/s, average_loss=0.219]\n",
            "Epoch : [449/1000] | : 100%|██████████| 2/2 [00:01<00:00,  1.51it/s, average_loss=0.19]\n",
            "Epoch : [450/1000] | : 100%|██████████| 2/2 [00:01<00:00,  1.33it/s, average_loss=0.198]\n"
          ]
        },
        {
          "output_type": "stream",
          "name": "stdout",
          "text": [
            "\n",
            "==================================================\n",
            "Sample output: \n",
            "thound'r ear?\n",
            "  now fram thou fast o comsunter ey solg pending,\n",
            "    youth st, for sear'st waste ll viees dith ence more;\n",
            "  fherid the tires ard buant wy to not yew,\n",
            "  dice single and thine im an ainot-ancy,\n",
            "  net not thin olt be tome, he in eyes fall see,\n",
            "  but of the ronne than  this jyase.\n",
            "  s thou i pouc left in thin to the dondien nitht glend,\n",
            "  and kent (llokest the garty all self-kilde\n",
            "  fhath hu\n",
            "==================================================\n",
            "\n"
          ]
        },
        {
          "output_type": "stream",
          "name": "stderr",
          "text": [
            "Epoch : [451/1000] | : 100%|██████████| 2/2 [00:01<00:00,  1.41it/s, average_loss=0.181]\n",
            "Epoch : [452/1000] | : 100%|██████████| 2/2 [00:01<00:00,  1.54it/s, average_loss=0.207]\n",
            "Epoch : [453/1000] | : 100%|██████████| 2/2 [00:01<00:00,  1.54it/s, average_loss=0.198]\n",
            "Epoch : [454/1000] | : 100%|██████████| 2/2 [00:01<00:00,  1.52it/s, average_loss=0.175]\n",
            "Epoch : [455/1000] | : 100%|██████████| 2/2 [00:01<00:00,  1.54it/s, average_loss=0.193]\n",
            "Epoch : [456/1000] | : 100%|██████████| 2/2 [00:01<00:00,  1.53it/s, average_loss=0.182]\n",
            "Epoch : [457/1000] | : 100%|██████████| 2/2 [00:01<00:00,  1.50it/s, average_loss=0.191]\n",
            "Epoch : [458/1000] | : 100%|██████████| 2/2 [00:01<00:00,  1.38it/s, average_loss=0.216]\n",
            "Epoch : [459/1000] | : 100%|██████████| 2/2 [00:01<00:00,  1.28it/s, average_loss=0.172]\n",
            "Epoch : [460/1000] | : 100%|██████████| 2/2 [00:01<00:00,  1.45it/s, average_loss=0.181]\n"
          ]
        },
        {
          "output_type": "stream",
          "name": "stdout",
          "text": [
            "\n",
            "==================================================\n",
            "Sample output: \n",
            "thourd urinare\n",
            "  wheth sonds in mer wo thou bet cheneiy one,\n",
            "    be nothy love to arst on your sin pestifote\n",
            "    hat ag the worchy summmy char, for you are\n",
            "  no lenger yourd, than you your self in gayse on mmen.\n",
            "  for so a po painse thase at is shalt mace d\n",
            "o wante min elf a long ay then hee,\n",
            "  t to eat the world ey dyat to goe,o tin ter dow live,\n",
            "  which hoprwost heat thou smoms stalt tome,\n",
            "  decines \n",
            "==================================================\n",
            "\n"
          ]
        },
        {
          "output_type": "stream",
          "name": "stderr",
          "text": [
            "Epoch : [461/1000] | : 100%|██████████| 2/2 [00:01<00:00,  1.54it/s, average_loss=0.192]\n",
            "Epoch : [462/1000] | : 100%|██████████| 2/2 [00:01<00:00,  1.53it/s, average_loss=0.19]\n",
            "Epoch : [463/1000] | : 100%|██████████| 2/2 [00:01<00:00,  1.50it/s, average_loss=0.187]\n",
            "Epoch : [464/1000] | : 100%|██████████| 2/2 [00:01<00:00,  1.43it/s, average_loss=0.187]\n",
            "Epoch : [465/1000] | : 100%|██████████| 2/2 [00:01<00:00,  1.50it/s, average_loss=0.183]\n",
            "Epoch : [466/1000] | : 100%|██████████| 2/2 [00:01<00:00,  1.52it/s, average_loss=0.19]\n",
            "Epoch : [467/1000] | : 100%|██████████| 2/2 [00:01<00:00,  1.32it/s, average_loss=0.189]\n",
            "Epoch : [468/1000] | : 100%|██████████| 2/2 [00:01<00:00,  1.45it/s, average_loss=0.169]\n",
            "Epoch : [469/1000] | : 100%|██████████| 2/2 [00:01<00:00,  1.52it/s, average_loss=0.191]\n",
            "Epoch : [470/1000] | : 100%|██████████| 2/2 [00:01<00:00,  1.54it/s, average_loss=0.186]\n"
          ]
        },
        {
          "output_type": "stream",
          "name": "stdout",
          "text": [
            "\n",
            "==================================================\n",
            "Sample output: \n",
            "thou consriess  wiinter sall beaute twice decaiy\n",
            "  the world will you hist old maje;\n",
            "  shall but you convett sow with winter y e..\n",
            "\n",
            "\n",
            "\n",
            "                      5\n",
            "  luof ic the garine ald wyert in their thish,\n",
            "  and ong nmerbs lain tert on youth wint wintire ,oe\n",
            "  i deneaus with deshel's eyes, her hise dase,\n",
            "  that igae chyald men yours and shale and your self it sead-cinle\n",
            ",  which haspe uncons wich undatl\n",
            "==================================================\n",
            "\n"
          ]
        },
        {
          "output_type": "stream",
          "name": "stderr",
          "text": [
            "Epoch : [471/1000] | : 100%|██████████| 2/2 [00:01<00:00,  1.54it/s, average_loss=0.19]\n",
            "Epoch : [472/1000] | : 100%|██████████| 2/2 [00:01<00:00,  1.49it/s, average_loss=0.178]\n",
            "Epoch : [473/1000] | : 100%|██████████| 2/2 [00:01<00:00,  1.50it/s, average_loss=0.172]\n",
            "Epoch : [474/1000] | : 100%|██████████| 2/2 [00:01<00:00,  1.52it/s, average_loss=0.183]\n",
            "Epoch : [475/1000] | : 100%|██████████| 2/2 [00:01<00:00,  1.36it/s, average_loss=0.17]\n",
            "Epoch : [476/1000] | : 100%|██████████| 2/2 [00:01<00:00,  1.31it/s, average_loss=0.159]\n",
            "Epoch : [477/1000] | : 100%|██████████| 2/2 [00:01<00:00,  1.52it/s, average_loss=0.17]\n",
            "Epoch : [478/1000] | : 100%|██████████| 2/2 [00:01<00:00,  1.53it/s, average_loss=0.189]\n",
            "Epoch : [479/1000] | : 100%|██████████| 2/2 [00:01<00:00,  1.50it/s, average_loss=0.179]\n",
            "Epoch : [480/1000] | : 100%|██████████| 2/2 [00:01<00:00,  1.54it/s, average_loss=0.169]\n"
          ]
        },
        {
          "output_type": "stream",
          "name": "stdout",
          "text": [
            "\n",
            "==================================================\n",
            "Sample output: \n",
            "though tray with winte moure pair thou well's dace,\n",
            "  and the conled le time the ibum chat mece,\n",
            "  farn in athrinths in hucrangrey in heat with thee,\n",
            "    which buse thise owe dis bat who chentes stanted peepi,\n",
            "  thin thou chouldst besterlided some my mind, for in on,\n",
            "  by luty's prastering indey bu thmuded date\n",
            "  in eyee of thine wort an wail woed thile a\n",
            "  frido wise forbes the wide not-sonnd\n",
            "    sind\n",
            "==================================================\n",
            "\n"
          ]
        },
        {
          "output_type": "stream",
          "name": "stderr",
          "text": [
            "Epoch : [481/1000] | : 100%|██████████| 2/2 [00:01<00:00,  1.53it/s, average_loss=0.16]\n",
            "Epoch : [482/1000] | : 100%|██████████| 2/2 [00:01<00:00,  1.52it/s, average_loss=0.15]\n",
            "Epoch : [483/1000] | : 100%|██████████| 2/2 [00:01<00:00,  1.50it/s, average_loss=0.178]\n",
            "Epoch : [484/1000] | : 100%|██████████| 2/2 [00:01<00:00,  1.27it/s, average_loss=0.178]\n",
            "Epoch : [485/1000] | : 100%|██████████| 2/2 [00:01<00:00,  1.44it/s, average_loss=0.15]\n",
            "Epoch : [486/1000] | : 100%|██████████| 2/2 [00:01<00:00,  1.52it/s, average_loss=0.166]\n",
            "Epoch : [487/1000] | : 100%|██████████| 2/2 [00:01<00:00,  1.51it/s, average_loss=0.172]\n",
            "Epoch : [488/1000] | : 100%|██████████| 2/2 [00:01<00:00,  1.53it/s, average_loss=0.172]\n",
            "Epoch : [489/1000] | : 100%|██████████| 2/2 [00:01<00:00,  1.49it/s, average_loss=0.157]\n",
            "Epoch : [490/1000] | : 100%|██████████| 2/2 [00:01<00:00,  1.51it/s, average_loss=0.168]\n"
          ]
        },
        {
          "output_type": "stream",
          "name": "stdout",
          "text": [
            "\n",
            "==================================================\n",
            "Sample output: \n",
            "thourd sear. s\n",
            "  when lolte trae to he parren of men.\n",
            "    to give aw yo thine this grile, an she,\n",
            "  o conpat'ou  is rie wan lofs te lioved u  thou faws, to tour ine,\n",
            "  not laver fair cholf in hy shalt love?\n",
            "  heiving and chercing trate meld stall memper, ther kote\n",
            "  for showe terpinet yot doth dethed ene\n",
            "  fied's ate the reral and bud in hime ol eyes cuth thee repuir somaters it or deale\n",
            "  then of thy \n",
            "==================================================\n",
            "\n"
          ]
        },
        {
          "output_type": "stream",
          "name": "stderr",
          "text": [
            "Epoch : [491/1000] | : 100%|██████████| 2/2 [00:01<00:00,  1.53it/s, average_loss=0.155]\n",
            "Epoch : [492/1000] | : 100%|██████████| 2/2 [00:01<00:00,  1.34it/s, average_loss=0.158]\n",
            "Epoch : [493/1000] | : 100%|██████████| 2/2 [00:01<00:00,  1.31it/s, average_loss=0.158]\n",
            "Epoch : [494/1000] | : 100%|██████████| 2/2 [00:01<00:00,  1.49it/s, average_loss=0.138]\n",
            "Epoch : [495/1000] | : 100%|██████████| 2/2 [00:01<00:00,  1.51it/s, average_loss=0.147]\n",
            "Epoch : [496/1000] | : 100%|██████████| 2/2 [00:01<00:00,  1.42it/s, average_loss=0.153]\n",
            "Epoch : [497/1000] | : 100%|██████████| 2/2 [00:01<00:00,  1.50it/s, average_loss=0.146]\n",
            "Epoch : [498/1000] | : 100%|██████████| 2/2 [00:01<00:00,  1.52it/s, average_loss=0.143]\n",
            "Epoch : [499/1000] | : 100%|██████████| 2/2 [00:01<00:00,  1.49it/s, average_loss=0.145]\n",
            "Epoch : [500/1000] | : 100%|██████████| 2/2 [00:01<00:00,  1.52it/s, average_loss=0.146]\n"
          ]
        },
        {
          "output_type": "stream",
          "name": "stdout",
          "text": [
            "\n",
            "==================================================\n",
            "Sample output: \n",
            "thoue il greath's and ir heasuter,\n",
            "  and if ferean their besouty my all afle wire decann the miens oless ece,\n",
            "  the bive not fride in wist and mike do shet,\n",
            "  whone ue takp fother, in bear you mefan\n",
            "  shatg you mhast thou cucsost'rt hay coir.\n",
            "    chose seach le to brave in wine soe cenfilled\n",
            "  of hlovent far but wor fase too sel.\n",
            "\n",
            "\n",
            "                      28 must if the liber with shee bes yot soll tor h\n",
            "==================================================\n",
            "\n"
          ]
        },
        {
          "output_type": "stream",
          "name": "stderr",
          "text": [
            "Epoch : [501/1000] | : 100%|██████████| 2/2 [00:01<00:00,  1.23it/s, average_loss=0.148]\n",
            "Epoch : [502/1000] | : 100%|██████████| 2/2 [00:01<00:00,  1.45it/s, average_loss=0.144]\n",
            "Epoch : [503/1000] | : 100%|██████████| 2/2 [00:01<00:00,  1.53it/s, average_loss=0.138]\n",
            "Epoch : [504/1000] | : 100%|██████████| 2/2 [00:01<00:00,  1.51it/s, average_loss=0.159]\n",
            "Epoch : [505/1000] | : 100%|██████████| 2/2 [00:01<00:00,  1.51it/s, average_loss=0.151]\n",
            "Epoch : [506/1000] | : 100%|██████████| 2/2 [00:01<00:00,  1.50it/s, average_loss=0.145]\n",
            "Epoch : [507/1000] | : 100%|██████████| 2/2 [00:01<00:00,  1.53it/s, average_loss=0.162]\n",
            "Epoch : [508/1000] | : 100%|██████████| 2/2 [00:01<00:00,  1.51it/s, average_loss=0.153]\n",
            "Epoch : [509/1000] | : 100%|██████████| 2/2 [00:01<00:00,  1.35it/s, average_loss=0.151]\n",
            "Epoch : [510/1000] | : 100%|██████████| 2/2 [00:01<00:00,  1.28it/s, average_loss=0.142]\n"
          ]
        },
        {
          "output_type": "stream",
          "name": "stdout",
          "text": [
            "\n",
            "==================================================\n",
            "Sample output: \n",
            "thoues prige.\n",
            "    but wherefeine dhong end-risttenslev pllvived sgeensb unthreive,\n",
            "  in eriwer wirh beauty wide ithert dive\n",
            "  sdossing but with chanls eot sall worm'd thine\n",
            "  and dut all ne the beanty to mart,\n",
            "  which his sull, mike llove my keise remiin desere,\n",
            "  that the is healoun liges timh be uty the berd distredse une if dealt sweer.\n",
            "\n",
            "\n",
            "                     5\n",
            "  those horrt that thou beav'yt some o\n",
            "==================================================\n",
            "\n"
          ]
        },
        {
          "output_type": "stream",
          "name": "stderr",
          "text": [
            "Epoch : [511/1000] | : 100%|██████████| 2/2 [00:01<00:00,  1.51it/s, average_loss=0.14]\n",
            "Epoch : [512/1000] | : 100%|██████████| 2/2 [00:01<00:00,  1.50it/s, average_loss=0.142]\n",
            "Epoch : [513/1000] | : 100%|██████████| 2/2 [00:01<00:00,  1.54it/s, average_loss=0.14]\n",
            "Epoch : [514/1000] | : 100%|██████████| 2/2 [00:01<00:00,  1.51it/s, average_loss=0.145]\n",
            "Epoch : [515/1000] | : 100%|██████████| 2/2 [00:01<00:00,  1.51it/s, average_loss=0.126]\n",
            "Epoch : [516/1000] | : 100%|██████████| 2/2 [00:01<00:00,  1.53it/s, average_loss=0.151]\n",
            "Epoch : [517/1000] | : 100%|██████████| 2/2 [00:01<00:00,  1.50it/s, average_loss=0.151]\n",
            "Epoch : [518/1000] | : 100%|██████████| 2/2 [00:01<00:00,  1.26it/s, average_loss=0.146]\n",
            "Epoch : [519/1000] | : 100%|██████████| 2/2 [00:01<00:00,  1.45it/s, average_loss=0.138]\n",
            "Epoch : [520/1000] | : 100%|██████████| 2/2 [00:01<00:00,  1.51it/s, average_loss=0.144]\n"
          ]
        },
        {
          "output_type": "stream",
          "name": "stdout",
          "text": [
            "\n",
            "==================================================\n",
            "Sample output: \n",
            "thould thear thou wont,\n",
            "    so long as men canst thas thou shouldst crapath,\n",
            "  lave you mes    o conted to thle oot ker wimmen thee forl dee,\n",
            "  to eate to could wich whice this bove sinl\n",
            "  shild mame le vered the erere\n",
            "   rress bod the lones to stime an other wonl dee\n",
            "  frich unearse shall wancinget you helf on stee\n",
            "  thou live of winler's shelt ancanoted fen\n",
            "    thy lldd as emen's grate and dient hime\n",
            "==================================================\n",
            "\n"
          ]
        },
        {
          "output_type": "stream",
          "name": "stderr",
          "text": [
            "Epoch : [521/1000] | : 100%|██████████| 2/2 [00:01<00:00,  1.51it/s, average_loss=0.14]\n",
            "Epoch : [522/1000] | : 100%|██████████| 2/2 [00:01<00:00,  1.53it/s, average_loss=0.135]\n",
            "Epoch : [523/1000] | : 100%|██████████| 2/2 [00:01<00:00,  1.51it/s, average_loss=0.14]\n",
            "Epoch : [524/1000] | : 100%|██████████| 2/2 [00:01<00:00,  1.54it/s, average_loss=0.137]\n",
            "Epoch : [525/1000] | : 100%|██████████| 2/2 [00:01<00:00,  1.51it/s, average_loss=0.143]\n",
            "Epoch : [526/1000] | : 100%|██████████| 2/2 [00:01<00:00,  1.34it/s, average_loss=0.125]\n",
            "Epoch : [527/1000] | : 100%|██████████| 2/2 [00:01<00:00,  1.33it/s, average_loss=0.145]\n",
            "Epoch : [528/1000] | : 100%|██████████| 2/2 [00:01<00:00,  1.51it/s, average_loss=0.152]\n",
            "Epoch : [529/1000] | : 100%|██████████| 2/2 [00:01<00:00,  1.41it/s, average_loss=0.139]\n",
            "Epoch : [530/1000] | : 100%|██████████| 2/2 [00:01<00:00,  1.49it/s, average_loss=0.143]\n"
          ]
        },
        {
          "output_type": "stream",
          "name": "stdout",
          "text": [
            "\n",
            "==================================================\n",
            "Sample output: \n",
            "thou grom'st hish lots lowe theiv pair thou tom shall,\n",
            "  and your swaet is nuud wort thou brhdasted,\n",
            "  then in ong reaming the her autim cousk,\n",
            "  liine thee living in pon, at hipy on myalt sowy,\n",
            "    bu love your best edesall who dot endou,d pin me,\n",
            "  the  ove thy blaud of mane wherefeescy heare chourd,  im noter efort not toubd's dint\n",
            "  ap on in hwand-your time prise,\n",
            "  thot thou thou art must lot live\n",
            "==================================================\n",
            "\n"
          ]
        },
        {
          "output_type": "stream",
          "name": "stderr",
          "text": [
            "Epoch : [531/1000] | : 100%|██████████| 2/2 [00:01<00:00,  1.51it/s, average_loss=0.127]\n",
            "Epoch : [532/1000] | : 100%|██████████| 2/2 [00:01<00:00,  1.53it/s, average_loss=0.139]\n",
            "Epoch : [533/1000] | : 100%|██████████| 2/2 [00:01<00:00,  1.54it/s, average_loss=0.136]\n",
            "Epoch : [534/1000] | : 100%|██████████| 2/2 [00:01<00:00,  1.37it/s, average_loss=0.135]\n",
            "Epoch : [535/1000] | : 100%|██████████| 2/2 [00:01<00:00,  1.28it/s, average_loss=0.155]\n",
            "Epoch : [536/1000] | : 100%|██████████| 2/2 [00:01<00:00,  1.46it/s, average_loss=0.143]\n",
            "Epoch : [537/1000] | : 100%|██████████| 2/2 [00:01<00:00,  1.51it/s, average_loss=0.13]\n",
            "Epoch : [538/1000] | : 100%|██████████| 2/2 [00:01<00:00,  1.51it/s, average_loss=0.137]\n",
            "Epoch : [539/1000] | : 100%|██████████| 2/2 [00:01<00:00,  1.49it/s, average_loss=0.127]\n",
            "Epoch : [540/1000] | : 100%|██████████| 2/2 [00:01<00:00,  1.50it/s, average_loss=0.13]\n"
          ]
        },
        {
          "output_type": "stream",
          "name": "stdout",
          "text": [
            "\n",
            "==================================================\n",
            "Sample output: \n",
            "thou alt col.\n",
            "\n",
            "\n",
            "                    12\n",
            "  the world were midet fal the fie decige,\n",
            "  thy yout thouf thou gost legoted of hen.\n",
            "\n",
            "     t               7  \n",
            "  then let wore noteron ureaver thine woch heiv widh whene\n",
            "   y nhut ereein she desire the theeb be dide, leep,\n",
            "  that ute so be utuaser shalt hese leaved apd you ors deswart,\n",
            "  and mall guy their sigsae song al mhe?\n",
            "\n",
            "  or tre thou nhave that in thou whi\n",
            "==================================================\n",
            "\n"
          ]
        },
        {
          "output_type": "stream",
          "name": "stderr",
          "text": [
            "Epoch : [541/1000] | : 100%|██████████| 2/2 [00:01<00:00,  1.52it/s, average_loss=0.13]\n",
            "Epoch : [542/1000] | : 100%|██████████| 2/2 [00:01<00:00,  1.53it/s, average_loss=0.149]\n",
            "Epoch : [543/1000] | : 100%|██████████| 2/2 [00:01<00:00,  1.27it/s, average_loss=0.128]\n",
            "Epoch : [544/1000] | : 100%|██████████| 2/2 [00:01<00:00,  1.47it/s, average_loss=0.123]\n",
            "Epoch : [545/1000] | : 100%|██████████| 2/2 [00:01<00:00,  1.53it/s, average_loss=0.125]\n",
            "Epoch : [546/1000] | : 100%|██████████| 2/2 [00:01<00:00,  1.52it/s, average_loss=0.14]\n",
            "Epoch : [547/1000] | : 100%|██████████| 2/2 [00:01<00:00,  1.51it/s, average_loss=0.124]\n",
            "Epoch : [548/1000] | : 100%|██████████| 2/2 [00:01<00:00,  1.53it/s, average_loss=0.129]\n",
            "Epoch : [549/1000] | : 100%|██████████| 2/2 [00:01<00:00,  1.52it/s, average_loss=0.117]\n",
            "Epoch : [550/1000] | : 100%|██████████| 2/2 [00:01<00:00,  1.51it/s, average_loss=0.119]\n"
          ]
        },
        {
          "output_type": "stream",
          "name": "stdout",
          "text": [
            "\n",
            "==================================================\n",
            "Sample output: \n",
            "thou contrintes this goye\n",
            "  plecing this teld aad live on thee.\n",
            "\n",
            "\n",
            "                      5\n",
            "  usoo in tho gort thou them imees dfor selfeuped,\n",
            "  thac yourh, and may thise oty peater,\n",
            "  nor it nor nom the lore to the gard work hit now cold,\n",
            "    on hy pudsen lives that eot be some's peep,\n",
            "  andient tr chors hou may apoiest shy leaty dave\n",
            "  in fase more like ded then one preis,\n",
            "  and men that theis thou thy\n",
            "==================================================\n",
            "\n"
          ]
        },
        {
          "output_type": "stream",
          "name": "stderr",
          "text": [
            "Epoch : [551/1000] | : 100%|██████████| 2/2 [00:01<00:00,  1.31it/s, average_loss=0.119]\n",
            "Epoch : [552/1000] | : 100%|██████████| 2/2 [00:01<00:00,  1.29it/s, average_loss=0.116]\n",
            "Epoch : [553/1000] | : 100%|██████████| 2/2 [00:01<00:00,  1.48it/s, average_loss=0.116]\n",
            "Epoch : [554/1000] | : 100%|██████████| 2/2 [00:01<00:00,  1.50it/s, average_loss=0.131]\n",
            "Epoch : [555/1000] | : 100%|██████████| 2/2 [00:01<00:00,  1.53it/s, average_loss=0.118]\n",
            "Epoch : [556/1000] | : 100%|██████████| 2/2 [00:01<00:00,  1.50it/s, average_loss=0.134]\n",
            "Epoch : [557/1000] | : 100%|██████████| 2/2 [00:01<00:00,  1.52it/s, average_loss=0.125]\n",
            "Epoch : [558/1000] | : 100%|██████████| 2/2 [00:01<00:00,  1.52it/s, average_loss=0.117]\n",
            "Epoch : [559/1000] | : 100%|██████████| 2/2 [00:01<00:00,  1.51it/s, average_loss=0.118]\n",
            "Epoch : [560/1000] | : 100%|██████████| 2/2 [00:01<00:00,  1.31it/s, average_loss=0.127]\n"
          ]
        },
        {
          "output_type": "stream",
          "name": "stdout",
          "text": [
            "\n",
            "==================================================\n",
            "Sample output: \n",
            "thoued pereated,\n",
            "  what ig in por as the hien to chore desiins dite\n",
            "  live stiml pxint som teldes dragh.\n",
            "  when aflith righar of the wikes self-beile,\n",
            "  fich deingt thou bravist leawe of lefs not live?\n",
            "  for having fromh of her supsen leet sim,\n",
            "  buthine one ase hheredet detherd,\n",
            "  by chateed manteno as hen daring dowe,\n",
            "  in secf ablins dith of am hin\n",
            "  helsked foemed in gazeto swill\n",
            "  if cone i sore i\n",
            "==================================================\n",
            "\n"
          ]
        },
        {
          "output_type": "stream",
          "name": "stderr",
          "text": [
            "Epoch : [561/1000] | : 100%|██████████| 2/2 [00:01<00:00,  1.44it/s, average_loss=0.123]\n",
            "Epoch : [562/1000] | : 100%|██████████| 2/2 [00:01<00:00,  1.52it/s, average_loss=0.151]\n",
            "Epoch : [563/1000] | : 100%|██████████| 2/2 [00:01<00:00,  1.50it/s, average_loss=0.124]\n",
            "Epoch : [564/1000] | : 100%|██████████| 2/2 [00:01<00:00,  1.53it/s, average_loss=0.134]\n",
            "Epoch : [565/1000] | : 100%|██████████| 2/2 [00:01<00:00,  1.51it/s, average_loss=0.139]\n",
            "Epoch : [566/1000] | : 100%|██████████| 2/2 [00:01<00:00,  1.49it/s, average_loss=0.134]\n",
            "Epoch : [567/1000] | : 100%|██████████| 2/2 [00:01<00:00,  1.49it/s, average_loss=0.126]\n",
            "Epoch : [568/1000] | : 100%|██████████| 2/2 [00:01<00:00,  1.21it/s, average_loss=0.133]\n",
            "Epoch : [569/1000] | : 100%|██████████| 2/2 [00:01<00:00,  1.09it/s, average_loss=0.124]\n",
            "Epoch : [570/1000] | : 100%|██████████| 2/2 [00:01<00:00,  1.46it/s, average_loss=0.131]\n"
          ]
        },
        {
          "output_type": "stream",
          "name": "stdout",
          "text": [
            "\n",
            "==================================================\n",
            "Sample output: \n",
            "thou vietert dawh on het winher send,\n",
            "  buttinger efty live miket thee be doteor, and, wher utwint so meldiun leae,\n",
            "  the eye to brew winowld thine own breasing,\n",
            "  withou mistrrot aarthd of yeurs life to kane\n",
            "  whoce fresh repair if now whine not llfe\n",
            "  ord hep and ltank she tame an thee stee\n",
            "  for one is thy live make ble ket than thei, her.\n",
            "\n",
            "\n",
            "                    2   9  ull not one monken than the lon\n",
            "==================================================\n",
            "\n"
          ]
        },
        {
          "output_type": "stream",
          "name": "stderr",
          "text": [
            "Epoch : [571/1000] | : 100%|██████████| 2/2 [00:01<00:00,  1.53it/s, average_loss=0.127]\n",
            "Epoch : [572/1000] | : 100%|██████████| 2/2 [00:01<00:00,  1.54it/s, average_loss=0.122]\n",
            "Epoch : [573/1000] | : 100%|██████████| 2/2 [00:01<00:00,  1.53it/s, average_loss=0.129]\n",
            "Epoch : [574/1000] | : 100%|██████████| 2/2 [00:01<00:00,  1.51it/s, average_loss=0.137]\n",
            "Epoch : [575/1000] | : 100%|██████████| 2/2 [00:01<00:00,  1.53it/s, average_loss=0.118]\n",
            "Epoch : [576/1000] | : 100%|██████████| 2/2 [00:01<00:00,  1.53it/s, average_loss=0.116]\n",
            "Epoch : [577/1000] | : 100%|██████████| 2/2 [00:01<00:00,  1.33it/s, average_loss=0.125]\n",
            "Epoch : [578/1000] | : 100%|██████████| 2/2 [00:01<00:00,  1.28it/s, average_loss=0.123]\n",
            "Epoch : [579/1000] | : 100%|██████████| 2/2 [00:01<00:00,  1.51it/s, average_loss=0.117]\n",
            "Epoch : [580/1000] | : 100%|██████████| 2/2 [00:01<00:00,  1.52it/s, average_loss=0.126]\n"
          ]
        },
        {
          "output_type": "stream",
          "name": "stdout",
          "text": [
            "\n",
            "==================================================\n",
            "Sample output: \n",
            "thouncor on, and in where linkld of ment,\n",
            "  and in frenh numbers number aflom, ay elcace\n",
            "\n",
            "  with beiute so live thit thou antomred stye\n",
            ".\n",
            "\n",
            "                     -18\n",
            "  lomk in the garte to self, but love you (nowe\n",
            "  with vinteous liges the garg an oy,\n",
            "  and yeat'st prise but adariny myarous grewes,\n",
            "  hee foulledos gring ey, encom ann hir self ol meas,\n",
            "  and in there lives wate pulsiege tighhe\n",
            "  and hor i\n",
            "==================================================\n",
            "\n"
          ]
        },
        {
          "output_type": "stream",
          "name": "stderr",
          "text": [
            "Epoch : [581/1000] | : 100%|██████████| 2/2 [00:01<00:00,  1.52it/s, average_loss=0.125]\n",
            "Epoch : [582/1000] | : 100%|██████████| 2/2 [00:01<00:00,  1.53it/s, average_loss=0.113]\n",
            "Epoch : [583/1000] | : 100%|██████████| 2/2 [00:01<00:00,  1.52it/s, average_loss=0.123]\n",
            "Epoch : [584/1000] | : 100%|██████████| 2/2 [00:01<00:00,  1.52it/s, average_loss=0.11]\n",
            "Epoch : [585/1000] | : 100%|██████████| 2/2 [00:01<00:00,  1.48it/s, average_loss=0.113]\n",
            "Epoch : [586/1000] | : 100%|██████████| 2/2 [00:01<00:00,  1.26it/s, average_loss=0.11]\n",
            "Epoch : [587/1000] | : 100%|██████████| 2/2 [00:01<00:00,  1.44it/s, average_loss=0.124]\n",
            "Epoch : [588/1000] | : 100%|██████████| 2/2 [00:01<00:00,  1.52it/s, average_loss=0.105]\n",
            "Epoch : [589/1000] | : 100%|██████████| 2/2 [00:01<00:00,  1.51it/s, average_loss=0.121]\n",
            "Epoch : [590/1000] | : 100%|██████████| 2/2 [00:01<00:00,  1.50it/s, average_loss=0.117]\n"
          ]
        },
        {
          "output_type": "stream",
          "name": "stdout",
          "text": [
            "\n",
            "==================================================\n",
            "Sample output: \n",
            "thougd than tigher ene\n",
            "  fot the beiuty of loaver timy your sols sig gease,\n",
            "  she cam teet fremk de for swace and yat incease\n",
            "  nome comenor this tends pupting lige,\n",
            "   ak then not mimt chist eye mate domenf,\n",
            "  seilsing thy wiln but bf thine incwarte\n",
            "  you should pit beauty which you hold in leave\n",
            "  find in the timled wist the gard of sheppssse.\n",
            "\n",
            "\n",
            "                     12\n",
            "  wher if in toue fert an thin \n",
            "==================================================\n",
            "\n"
          ]
        },
        {
          "output_type": "stream",
          "name": "stderr",
          "text": [
            "Epoch : [591/1000] | : 100%|██████████| 2/2 [00:01<00:00,  1.54it/s, average_loss=0.11]\n",
            "Epoch : [592/1000] | : 100%|██████████| 2/2 [00:01<00:00,  1.52it/s, average_loss=0.108]\n",
            "Epoch : [593/1000] | : 100%|██████████| 2/2 [00:01<00:00,  1.54it/s, average_loss=0.102]\n",
            "Epoch : [594/1000] | : 100%|██████████| 2/2 [00:01<00:00,  1.26it/s, average_loss=0.101]\n",
            "Epoch : [595/1000] | : 100%|██████████| 2/2 [00:01<00:00,  1.39it/s, average_loss=0.114]\n",
            "Epoch : [596/1000] | : 100%|██████████| 2/2 [00:01<00:00,  1.51it/s, average_loss=0.114]\n",
            "Epoch : [597/1000] | : 100%|██████████| 2/2 [00:01<00:00,  1.54it/s, average_loss=0.105]\n",
            "Epoch : [598/1000] | : 100%|██████████| 2/2 [00:01<00:00,  1.53it/s, average_loss=0.105]\n",
            "Epoch : [599/1000] | : 100%|██████████| 2/2 [00:01<00:00,  1.53it/s, average_loss=0.109]\n",
            "Epoch : [600/1000] | : 100%|██████████| 2/2 [00:01<00:00,  1.51it/s, average_loss=0.106]\n"
          ]
        },
        {
          "output_type": "stream",
          "name": "stdout",
          "text": [
            "\n",
            "==================================================\n",
            "Sample output: \n",
            "thoulg te partes,\n",
            "  nour that thou not lect anoth it thou coulsttates to suye\n",
            "  if haf a loutel swalt swall not faelt doin could in hey\n",
            "  a dang of hime llst the atime somet.\n",
            "  to his wore pleaten of peanteritr gay in favion noge.\n",
            "    but were folling dighon but you couldt anjiy,\n",
            "  beauty swill mer yilo wimh wist for talled lefkil,  heiv secceesse\n",
            "\n",
            "  whe anlett corve to by engimen miked,\n",
            "  in hey whe h\n",
            "==================================================\n",
            "\n"
          ]
        },
        {
          "output_type": "stream",
          "name": "stderr",
          "text": [
            "Epoch : [601/1000] | : 100%|██████████| 2/2 [00:01<00:00,  1.51it/s, average_loss=0.111]\n",
            "Epoch : [602/1000] | : 100%|██████████| 2/2 [00:01<00:00,  1.37it/s, average_loss=0.127]\n",
            "Epoch : [603/1000] | : 100%|██████████| 2/2 [00:01<00:00,  1.27it/s, average_loss=0.111]\n",
            "Epoch : [604/1000] | : 100%|██████████| 2/2 [00:01<00:00,  1.46it/s, average_loss=0.109]\n",
            "Epoch : [605/1000] | : 100%|██████████| 2/2 [00:01<00:00,  1.52it/s, average_loss=0.112]\n",
            "Epoch : [606/1000] | : 100%|██████████| 2/2 [00:01<00:00,  1.51it/s, average_loss=0.108]\n",
            "Epoch : [607/1000] | : 100%|██████████| 2/2 [00:01<00:00,  1.51it/s, average_loss=0.104]\n",
            "Epoch : [608/1000] | : 100%|██████████| 2/2 [00:01<00:00,  1.52it/s, average_loss=0.11]\n",
            "Epoch : [609/1000] | : 100%|██████████| 2/2 [00:01<00:00,  1.51it/s, average_loss=0.118]\n",
            "Epoch : [610/1000] | : 100%|██████████| 2/2 [00:01<00:00,  1.54it/s, average_loss=0.113]\n"
          ]
        },
        {
          "output_type": "stream",
          "name": "stdout",
          "text": [
            "\n",
            "==================================================\n",
            "Sample output: \n",
            "thou gettifo\n",
            "  world's ene, shall by gutelt be,\n",
            "    thou be thy mose amoned though tendis cendion deg,\n",
            "    sen be thy lost and this hive shate on ey,\n",
            "    co bange thy sorf,rtouts a su lood so stall,\n",
            "  and in fren thyine im sught bearth's prome,\n",
            "  and mand thereby in it worb you, are sralt depare,\n",
            "  chall wotk de beanie wore theb are wroel\n",
            "  by utinour rear houg then gelt lifed\n",
            "    hy une hear the for i\n",
            "==================================================\n",
            "\n"
          ]
        },
        {
          "output_type": "stream",
          "name": "stderr",
          "text": [
            "Epoch : [611/1000] | : 100%|██████████| 2/2 [00:01<00:00,  1.35it/s, average_loss=0.106]\n",
            "Epoch : [612/1000] | : 100%|██████████| 2/2 [00:01<00:00,  1.47it/s, average_loss=0.103]\n",
            "Epoch : [613/1000] | : 100%|██████████| 2/2 [00:01<00:00,  1.51it/s, average_loss=0.107]\n",
            "Epoch : [614/1000] | : 100%|██████████| 2/2 [00:01<00:00,  1.51it/s, average_loss=0.105]\n",
            "Epoch : [615/1000] | : 100%|██████████| 2/2 [00:01<00:00,  1.52it/s, average_loss=0.106]\n",
            "Epoch : [616/1000] | : 100%|██████████| 2/2 [00:01<00:00,  1.51it/s, average_loss=0.104]\n",
            "Epoch : [617/1000] | : 100%|██████████| 2/2 [00:01<00:00,  1.51it/s, average_loss=0.1]\n",
            "Epoch : [618/1000] | : 100%|██████████| 2/2 [00:01<00:00,  1.53it/s, average_loss=0.111]\n",
            "Epoch : [619/1000] | : 100%|██████████| 2/2 [00:01<00:00,  1.54it/s, average_loss=0.107]\n",
            "Epoch : [620/1000] | : 100%|██████████| 2/2 [00:01<00:00,  1.32it/s, average_loss=0.106]\n"
          ]
        },
        {
          "output_type": "stream",
          "name": "stdout",
          "text": [
            "\n",
            "==================================================\n",
            "Sample output: \n",
            "thougg in peant sume,\n",
            "  but from thine eyes mwike thee ar hem,\n",
            "  geess gert sreps ton seept prenotent,\n",
            "  but and the pinden some than gint, lalke?\n",
            "  o chenvee to cive that who gontert,\n",
            "    end on hin glemher grang, that gifey chere\n",
            "\n",
            "    when one thee thos is the thur beart live\n",
            "\n",
            "    win houed thee for the sibe, and in mefor icelless,\n",
            "  whene and crart yous sreats pace to line,\n",
            "  which hapbues thos thou\n",
            "==================================================\n",
            "\n"
          ]
        },
        {
          "output_type": "stream",
          "name": "stderr",
          "text": [
            "Epoch : [621/1000] | : 100%|██████████| 2/2 [00:01<00:00,  1.53it/s, average_loss=0.109]\n",
            "Epoch : [622/1000] | : 100%|██████████| 2/2 [00:01<00:00,  1.54it/s, average_loss=0.0972]\n",
            "Epoch : [623/1000] | : 100%|██████████| 2/2 [00:01<00:00,  1.51it/s, average_loss=0.0964]\n",
            "Epoch : [624/1000] | : 100%|██████████| 2/2 [00:01<00:00,  1.52it/s, average_loss=0.102]\n",
            "Epoch : [625/1000] | : 100%|██████████| 2/2 [00:01<00:00,  1.55it/s, average_loss=0.103]\n",
            "Epoch : [626/1000] | : 100%|██████████| 2/2 [00:01<00:00,  1.43it/s, average_loss=0.105]\n",
            "Epoch : [627/1000] | : 100%|██████████| 2/2 [00:01<00:00,  1.52it/s, average_loss=0.0948]\n",
            "Epoch : [628/1000] | : 100%|██████████| 2/2 [00:01<00:00,  1.34it/s, average_loss=0.107]\n",
            "Epoch : [629/1000] | : 100%|██████████| 2/2 [00:01<00:00,  1.29it/s, average_loss=0.0997]\n",
            "Epoch : [630/1000] | : 100%|██████████| 2/2 [00:01<00:00,  1.52it/s, average_loss=0.0951]\n"
          ]
        },
        {
          "output_type": "stream",
          "name": "stdout",
          "text": [
            "\n",
            "==================================================\n",
            "Sample output: \n",
            "thoued tere a tind\n",
            "  low your the blion my se, to eres thou wiltes pif, in death's efeccor dade,\n",
            "  that thouegh y suy your sweet nommes of heares ntreeres,\n",
            "  spreise of thee decan some tlun gre'\n",
            "  if here in erew from the feell,\n",
            "  thou be tames with wirle mebit decoucan,\n",
            "  which herange thou hes, por meyos dach.\n",
            "   \n",
            "  but ufliber dive i hee uveras to fare\n",
            "  thou shald en my not, fot so love's beantinu \n",
            "==================================================\n",
            "\n"
          ]
        },
        {
          "output_type": "stream",
          "name": "stderr",
          "text": [
            "Epoch : [631/1000] | : 100%|██████████| 2/2 [00:01<00:00,  1.52it/s, average_loss=0.0987]\n",
            "Epoch : [632/1000] | : 100%|██████████| 2/2 [00:01<00:00,  1.53it/s, average_loss=0.0911]\n",
            "Epoch : [633/1000] | : 100%|██████████| 2/2 [00:01<00:00,  1.53it/s, average_loss=0.103]\n",
            "Epoch : [634/1000] | : 100%|██████████| 2/2 [00:01<00:00,  1.54it/s, average_loss=0.107]\n",
            "Epoch : [635/1000] | : 100%|██████████| 2/2 [00:01<00:00,  1.53it/s, average_loss=0.0973]\n",
            "Epoch : [636/1000] | : 100%|██████████| 2/2 [00:01<00:00,  1.45it/s, average_loss=0.093]\n",
            "Epoch : [637/1000] | : 100%|██████████| 2/2 [00:01<00:00,  1.31it/s, average_loss=0.093]\n",
            "Epoch : [638/1000] | : 100%|██████████| 2/2 [00:01<00:00,  1.45it/s, average_loss=0.0924]\n",
            "Epoch : [639/1000] | : 100%|██████████| 2/2 [00:01<00:00,  1.50it/s, average_loss=0.104]\n",
            "Epoch : [640/1000] | : 100%|██████████| 2/2 [00:01<00:00,  1.53it/s, average_loss=0.0915]\n"
          ]
        },
        {
          "output_type": "stream",
          "name": "stdout",
          "text": [
            "\n",
            "==================================================\n",
            "Sample output: \n",
            "thours erearest hiv it curd or thee.\n",
            "\n",
            "\n",
            "                     17\n",
            "  whe will net lever yous pos tame qutite\n",
            "  fif in notrrift in this to bairing mind,\n",
            "  sealt be is heare muth of thal heselr, lepke ole,\n",
            "    thy ecu that from heaf your sract sage.\n",
            "\n",
            "     that ave so wons the gorde op seep,\n",
            "  which thas uncomsils wich durrang cines und thy colntent,\n",
            "  ard tender churl mak'st waste in iggranding\n",
            "    pity the \n",
            "==================================================\n",
            "\n"
          ]
        },
        {
          "output_type": "stream",
          "name": "stderr",
          "text": [
            "Epoch : [641/1000] | : 100%|██████████| 2/2 [00:01<00:00,  1.52it/s, average_loss=0.104]\n",
            "Epoch : [642/1000] | : 100%|██████████| 2/2 [00:01<00:00,  1.51it/s, average_loss=0.115]\n",
            "Epoch : [643/1000] | : 100%|██████████| 2/2 [00:01<00:00,  1.52it/s, average_loss=0.0926]\n",
            "Epoch : [644/1000] | : 100%|██████████| 2/2 [00:01<00:00,  1.53it/s, average_loss=0.108]\n",
            "Epoch : [645/1000] | : 100%|██████████| 2/2 [00:01<00:00,  1.33it/s, average_loss=0.102]\n",
            "Epoch : [646/1000] | : 100%|██████████| 2/2 [00:01<00:00,  1.33it/s, average_loss=0.099]\n",
            "Epoch : [647/1000] | : 100%|██████████| 2/2 [00:01<00:00,  1.52it/s, average_loss=0.0895]\n",
            "Epoch : [648/1000] | : 100%|██████████| 2/2 [00:01<00:00,  1.50it/s, average_loss=0.0925]\n",
            "Epoch : [649/1000] | : 100%|██████████| 2/2 [00:01<00:00,  1.50it/s, average_loss=0.0905]\n",
            "Epoch : [650/1000] | : 100%|██████████| 2/2 [00:01<00:00,  1.52it/s, average_loss=0.0956]\n"
          ]
        },
        {
          "output_type": "stream",
          "name": "stdout",
          "text": [
            "\n",
            "==================================================\n",
            "Sample output: \n",
            "thoug thou shoulsst in beauty wiel,\n",
            "  you dost at seif thou self'e stilt and fayd hen. ken\n",
            "  mer blagdes ose your might fald ont,e  en it were's flels are,\n",
            "  heaving tore live in thy goruis that fin, when heirs.\n",
            "\n",
            "\n",
            "                     2\n",
            "  when i concerte to leves ast heir seemerage to swee\n",
            "\n",
            "\n",
            "                     18\n",
            "  shall i compare thee to a summer's gracing ond nnw,\n",
            "    living thee bir inwwer should \n",
            "==================================================\n",
            "\n"
          ]
        },
        {
          "output_type": "stream",
          "name": "stderr",
          "text": [
            "Epoch : [651/1000] | : 100%|██████████| 2/2 [00:01<00:00,  1.51it/s, average_loss=0.0922]\n",
            "Epoch : [652/1000] | : 100%|██████████| 2/2 [00:01<00:00,  1.48it/s, average_loss=0.0976]\n",
            "Epoch : [653/1000] | : 100%|██████████| 2/2 [00:01<00:00,  1.33it/s, average_loss=0.0955]\n",
            "Epoch : [654/1000] | : 100%|██████████| 2/2 [00:01<00:00,  1.27it/s, average_loss=0.096]\n",
            "Epoch : [655/1000] | : 100%|██████████| 2/2 [00:01<00:00,  1.43it/s, average_loss=0.088]\n",
            "Epoch : [656/1000] | : 100%|██████████| 2/2 [00:01<00:00,  1.52it/s, average_loss=0.0895]\n",
            "Epoch : [657/1000] | : 100%|██████████| 2/2 [00:01<00:00,  1.50it/s, average_loss=0.0972]\n",
            "Epoch : [658/1000] | : 100%|██████████| 2/2 [00:01<00:00,  1.51it/s, average_loss=0.0932]\n",
            "Epoch : [659/1000] | : 100%|██████████| 2/2 [00:01<00:00,  1.44it/s, average_loss=0.0944]\n",
            "Epoch : [660/1000] | : 100%|██████████| 2/2 [00:01<00:00,  1.48it/s, average_loss=0.0915]\n"
          ]
        },
        {
          "output_type": "stream",
          "name": "stdout",
          "text": [
            "\n",
            "==================================================\n",
            "Sample output: \n",
            "thoues treath to ton self-vilgld top thee\n",
            "\n",
            "\n",
            "                     q0  is for not fair'sw detharl andoy,\n",
            "  the world doar exeous for ane beirene\n",
            "  poranin grith though yet sap anfiin,\n",
            "  do mone prinse loues ay thine hear.\n",
            "\n",
            "\n",
            "                     9 with ot this (ufuin reat soug; mend.\n",
            "  a tongare thou wott nut 'or tome self ap in their tuy.\n",
            "  s ce sorgtht neared carsb and in aty, nour self's deseate\n",
            "  hend\n",
            "==================================================\n",
            "\n"
          ]
        },
        {
          "output_type": "stream",
          "name": "stderr",
          "text": [
            "Epoch : [661/1000] | : 100%|██████████| 2/2 [00:01<00:00,  1.50it/s, average_loss=0.0922]\n",
            "Epoch : [662/1000] | : 100%|██████████| 2/2 [00:01<00:00,  1.26it/s, average_loss=0.101]\n",
            "Epoch : [663/1000] | : 100%|██████████| 2/2 [00:01<00:00,  1.45it/s, average_loss=0.0934]\n",
            "Epoch : [664/1000] | : 100%|██████████| 2/2 [00:01<00:00,  1.50it/s, average_loss=0.0924]\n",
            "Epoch : [665/1000] | : 100%|██████████| 2/2 [00:01<00:00,  1.52it/s, average_loss=0.0979]\n",
            "Epoch : [666/1000] | : 100%|██████████| 2/2 [00:01<00:00,  1.50it/s, average_loss=0.09]\n",
            "Epoch : [667/1000] | : 100%|██████████| 2/2 [00:01<00:00,  1.49it/s, average_loss=0.0962]\n",
            "Epoch : [668/1000] | : 100%|██████████| 2/2 [00:01<00:00,  1.52it/s, average_loss=0.101]\n",
            "Epoch : [669/1000] | : 100%|██████████| 2/2 [00:01<00:00,  1.52it/s, average_loss=0.0842]\n",
            "Epoch : [670/1000] | : 100%|██████████| 2/2 [00:01<00:00,  1.43it/s, average_loss=0.0995]\n"
          ]
        },
        {
          "output_type": "stream",
          "name": "stdout",
          "text": [
            "\n",
            "==================================================\n",
            "Sample output: \n",
            "thou dot gintere\n",
            "  os hep a lith erach do inet bead thy thear,\n",
            "    soucs an their chis alf berist live 's fais,\n",
            "  and beauty's pastern to succeeding thine ow  nemertentor eae,\n",
            "  the ame tace wore hus beauty shill togethed thrave\n",
            "  fir wrom it prate ho reef in heaved planix,\n",
            "  in semby triet, of thee ast of tourss less's reasur\n",
            "  or nay with nnor sun insind-eafith nitem,,  \n",
            "  lots not hive id mapo evet \n",
            "==================================================\n",
            "\n"
          ]
        },
        {
          "output_type": "stream",
          "name": "stderr",
          "text": [
            "Epoch : [671/1000] | : 100%|██████████| 2/2 [00:01<00:00,  1.44it/s, average_loss=0.0953]\n",
            "Epoch : [672/1000] | : 100%|██████████| 2/2 [00:01<00:00,  1.53it/s, average_loss=0.092]\n",
            "Epoch : [673/1000] | : 100%|██████████| 2/2 [00:01<00:00,  1.54it/s, average_loss=0.0894]\n",
            "Epoch : [674/1000] | : 100%|██████████| 2/2 [00:01<00:00,  1.49it/s, average_loss=0.083]\n",
            "Epoch : [675/1000] | : 100%|██████████| 2/2 [00:01<00:00,  1.53it/s, average_loss=0.0915]\n",
            "Epoch : [676/1000] | : 100%|██████████| 2/2 [00:01<00:00,  1.53it/s, average_loss=0.0857]\n",
            "Epoch : [677/1000] | : 100%|██████████| 2/2 [00:01<00:00,  1.50it/s, average_loss=0.0897]\n",
            "Epoch : [678/1000] | : 100%|██████████| 2/2 [00:01<00:00,  1.53it/s, average_loss=0.0896]\n",
            "Epoch : [679/1000] | : 100%|██████████| 2/2 [00:01<00:00,  1.36it/s, average_loss=0.0945]\n",
            "Epoch : [680/1000] | : 100%|██████████| 2/2 [00:01<00:00,  1.37it/s, average_loss=0.0816]\n"
          ]
        },
        {
          "output_type": "stream",
          "name": "stdout",
          "text": [
            "\n",
            "==================================================\n",
            "Sample output: \n",
            "thoug thou whont interos dig,\n",
            "    my vers as lose hy gyange mine erage,\n",
            "  yet mortall summins right on hy\n",
            "  mild parbion the iver ast conf,r unding deem.\n",
            " \n",
            "     eveove dut thos fiires thou toulss, derep. l\n",
            "  math mear thou dist prcicen of thine arn bride\n",
            "  so same and thous il shand of mane\n",
            "  so stours hip beautins dowe younh ir heald dayuk,\n",
            "  by asting on ey hid met no decael deth braze\n",
            "\n",
            "  wanl bak we\n",
            "==================================================\n",
            "\n"
          ]
        },
        {
          "output_type": "stream",
          "name": "stderr",
          "text": [
            "Epoch : [681/1000] | : 100%|██████████| 2/2 [00:01<00:00,  1.50it/s, average_loss=0.0936]\n",
            "Epoch : [682/1000] | : 100%|██████████| 2/2 [00:01<00:00,  1.53it/s, average_loss=0.0942]\n",
            "Epoch : [683/1000] | : 100%|██████████| 2/2 [00:01<00:00,  1.53it/s, average_loss=0.0834]\n",
            "Epoch : [684/1000] | : 100%|██████████| 2/2 [00:01<00:00,  1.51it/s, average_loss=0.0925]\n",
            "Epoch : [685/1000] | : 100%|██████████| 2/2 [00:01<00:00,  1.55it/s, average_loss=0.0867]\n",
            "Epoch : [686/1000] | : 100%|██████████| 2/2 [00:01<00:00,  1.53it/s, average_loss=0.0781]\n",
            "Epoch : [687/1000] | : 100%|██████████| 2/2 [00:01<00:00,  1.37it/s, average_loss=0.0903]\n",
            "Epoch : [688/1000] | : 100%|██████████| 2/2 [00:01<00:00,  1.28it/s, average_loss=0.1]\n",
            "Epoch : [689/1000] | : 100%|██████████| 2/2 [00:01<00:00,  1.46it/s, average_loss=0.0833]\n",
            "Epoch : [690/1000] | : 100%|██████████| 2/2 [00:01<00:00,  1.52it/s, average_loss=0.0852]\n"
          ]
        },
        {
          "output_type": "stream",
          "name": "stdout",
          "text": [
            "\n",
            "==================================================\n",
            "Sample output: \n",
            "thoue mong heane\n",
            "  so she lid ther boun af ort sincues crattie\n",
            "  in hive afley with whar' ancit, leaven kien.\n",
            "  she lovele were beand tho execu to fiit.\n",
            "    fo love weye tome ceild of ay thin tome.\n",
            "  the world to ese whith whine berirg,\n",
            "  and burnd frach shate wan swyilt sae 'at\n",
            "  if thou couldst anse roure trang to one,\n",
            "  were herbad thun your sweet fosm should bear. h\n",
            "  who of thy sept at seist not t\n",
            "==================================================\n",
            "\n"
          ]
        },
        {
          "output_type": "stream",
          "name": "stderr",
          "text": [
            "Epoch : [691/1000] | : 100%|██████████| 2/2 [00:01<00:00,  1.44it/s, average_loss=0.0877]\n",
            "Epoch : [692/1000] | : 100%|██████████| 2/2 [00:01<00:00,  1.49it/s, average_loss=0.0873]\n",
            "Epoch : [693/1000] | : 100%|██████████| 2/2 [00:01<00:00,  1.50it/s, average_loss=0.0854]\n",
            "Epoch : [694/1000] | : 100%|██████████| 2/2 [00:01<00:00,  1.52it/s, average_loss=0.0935]\n",
            "Epoch : [695/1000] | : 100%|██████████| 2/2 [00:01<00:00,  1.49it/s, average_loss=0.0848]\n",
            "Epoch : [696/1000] | : 100%|██████████| 2/2 [00:01<00:00,  1.25it/s, average_loss=0.0843]\n",
            "Epoch : [697/1000] | : 100%|██████████| 2/2 [00:01<00:00,  1.44it/s, average_loss=0.0831]\n",
            "Epoch : [698/1000] | : 100%|██████████| 2/2 [00:01<00:00,  1.50it/s, average_loss=0.092]\n",
            "Epoch : [699/1000] | : 100%|██████████| 2/2 [00:01<00:00,  1.50it/s, average_loss=0.0851]\n",
            "Epoch : [700/1000] | : 100%|██████████| 2/2 [00:01<00:00,  1.50it/s, average_loss=0.0862]\n"
          ]
        },
        {
          "output_type": "stream",
          "name": "stdout",
          "text": [
            "\n",
            "==================================================\n",
            "Sample output: \n",
            "thoues ont heaf to wine\n",
            "  when forty heav alt worat thou art soll,\n",
            "    and not lut nor that infiet crand to ree,\n",
            "  wich untenou lave that bo in yor aldte\n",
            "  farl she fesers in gazestan teppy breine,\n",
            "  when yourds pint is shall make the time ap rishlesse camen wher toun tee firl dedaco the kildes for hal   op theap.\n",
            "   rhest dow this nowr widhoss busulilest thou conthapt to eye\n",
            "  he vailese qoeasit thive\n",
            "==================================================\n",
            "\n"
          ]
        },
        {
          "output_type": "stream",
          "name": "stderr",
          "text": [
            "Epoch : [701/1000] | : 100%|██████████| 2/2 [00:01<00:00,  1.51it/s, average_loss=0.0887]\n",
            "Epoch : [702/1000] | : 100%|██████████| 2/2 [00:01<00:00,  1.54it/s, average_loss=0.0805]\n",
            "Epoch : [703/1000] | : 100%|██████████| 2/2 [00:01<00:00,  1.51it/s, average_loss=0.0816]\n",
            "Epoch : [704/1000] | : 100%|██████████| 2/2 [00:01<00:00,  1.33it/s, average_loss=0.0812]\n",
            "Epoch : [705/1000] | : 100%|██████████| 2/2 [00:01<00:00,  1.34it/s, average_loss=0.0848]\n",
            "Epoch : [706/1000] | : 100%|██████████| 2/2 [00:01<00:00,  1.51it/s, average_loss=0.0925]\n",
            "Epoch : [707/1000] | : 100%|██████████| 2/2 [00:01<00:00,  1.52it/s, average_loss=0.0794]\n",
            "Epoch : [708/1000] | : 100%|██████████| 2/2 [00:01<00:00,  1.52it/s, average_loss=0.0834]\n",
            "Epoch : [709/1000] | : 100%|██████████| 2/2 [00:01<00:00,  1.49it/s, average_loss=0.0951]\n",
            "Epoch : [710/1000] | : 100%|██████████| 2/2 [00:01<00:00,  1.52it/s, average_loss=0.079]\n"
          ]
        },
        {
          "output_type": "stream",
          "name": "stdout",
          "text": [
            "\n",
            "==================================================\n",
            "Sample output: \n",
            "thould im jageth wwill be an eyer a love\n",
            "  fim ine womer thing that ghows\n",
            "  holds in perfection but but roop,\n",
            "  banding to semf-kitk nhat alusy beartms,  or seast nog canver tours,\n",
            "  and canls ther cail the tombide time thy beauty,\n",
            "  ther heavengly gragh dotent en on head une merbe\n",
            "  thon ghat wand should in gend some sen\n",
            "  but a dombpint the terved the tire,\n",
            "  and ceestinc start an the tomesone shate \n",
            "==================================================\n",
            "\n"
          ]
        },
        {
          "output_type": "stream",
          "name": "stderr",
          "text": [
            "Epoch : [711/1000] | : 100%|██████████| 2/2 [00:01<00:00,  1.52it/s, average_loss=0.0876]\n",
            "Epoch : [712/1000] | : 100%|██████████| 2/2 [00:01<00:00,  1.38it/s, average_loss=0.0799]\n",
            "Epoch : [713/1000] | : 100%|██████████| 2/2 [00:01<00:00,  1.25it/s, average_loss=0.0837]\n",
            "Epoch : [714/1000] | : 100%|██████████| 2/2 [00:01<00:00,  1.45it/s, average_loss=0.089]\n",
            "Epoch : [715/1000] | : 100%|██████████| 2/2 [00:01<00:00,  1.49it/s, average_loss=0.0811]\n",
            "Epoch : [716/1000] | : 100%|██████████| 2/2 [00:01<00:00,  1.54it/s, average_loss=0.0857]\n",
            "Epoch : [717/1000] | : 100%|██████████| 2/2 [00:01<00:00,  1.51it/s, average_loss=0.0821]\n",
            "Epoch : [718/1000] | : 100%|██████████| 2/2 [00:01<00:00,  1.49it/s, average_loss=0.087]\n",
            "Epoch : [719/1000] | : 100%|██████████| 2/2 [00:01<00:00,  1.50it/s, average_loss=0.0832]\n",
            "Epoch : [720/1000] | : 100%|██████████| 2/2 [00:01<00:00,  1.52it/s, average_loss=0.0878]\n"
          ]
        },
        {
          "output_type": "stream",
          "name": "stdout",
          "text": [
            "\n",
            "==================================================\n",
            "Sample output: \n",
            "thoued preave?\n",
            "  withoug it the to beauding awe your self willed\n",
            "  thak thou ano gote to sorf it eyss dot anden,\n",
            "  is netur ear ir wad wome the frol ond,\n",
            "  leaking that lifs and sutmer lige t epire e\n",
            ",\n",
            "  i dee astero thee that who hon  on shanden riesh\n",
            "  not alfind sore mive twice time,\n",
            "  and ceeting shang yout hight ustilt\n",
            "  afdiil fime do beine that thounher pest an tend.\n",
            "  sen thuse thy self to ruge\n",
            "==================================================\n",
            "\n"
          ]
        },
        {
          "output_type": "stream",
          "name": "stderr",
          "text": [
            "Epoch : [721/1000] | : 100%|██████████| 2/2 [00:01<00:00,  1.32it/s, average_loss=0.087]\n",
            "Epoch : [722/1000] | : 100%|██████████| 2/2 [00:01<00:00,  1.43it/s, average_loss=0.0957]\n",
            "Epoch : [723/1000] | : 100%|██████████| 2/2 [00:01<00:00,  1.52it/s, average_loss=0.0944]\n",
            "Epoch : [724/1000] | : 100%|██████████| 2/2 [00:01<00:00,  1.41it/s, average_loss=0.0754]\n",
            "Epoch : [725/1000] | : 100%|██████████| 2/2 [00:01<00:00,  1.51it/s, average_loss=0.083]\n",
            "Epoch : [726/1000] | : 100%|██████████| 2/2 [00:01<00:00,  1.52it/s, average_loss=0.0844]\n",
            "Epoch : [727/1000] | : 100%|██████████| 2/2 [00:01<00:00,  1.53it/s, average_loss=0.0956]\n",
            "Epoch : [728/1000] | : 100%|██████████| 2/2 [00:01<00:00,  1.51it/s, average_loss=0.0787]\n",
            "Epoch : [729/1000] | : 100%|██████████| 2/2 [00:01<00:00,  1.52it/s, average_loss=0.0782]\n",
            "Epoch : [730/1000] | : 100%|██████████| 2/2 [00:01<00:00,  1.29it/s, average_loss=0.0902]\n"
          ]
        },
        {
          "output_type": "stream",
          "name": "stdout",
          "text": [
            "\n",
            "==================================================\n",
            "Sample output: \n",
            "thou couvist,\n",
            "  and wo cheess that a s be parse love of thine\n",
            "  and creats cun's terth not and in when thee..\n",
            "\n",
            "\n",
            "                     1\n",
            "\n",
            "  when a i come toue could that thou whom it sweet.\n",
            "\n",
            "\n",
            "                    18\n",
            "  shall i compare thee to a summer's dease hoth encelfor fair sou, focm in that his melf\n",
            "  be ild were sindse shalg whom her fich same,\n",
            "  thee love you seng inshe your dich summeps to time,\n",
            "  \n",
            "==================================================\n",
            "\n"
          ]
        },
        {
          "output_type": "stream",
          "name": "stderr",
          "text": [
            "Epoch : [731/1000] | : 100%|██████████| 2/2 [00:01<00:00,  1.50it/s, average_loss=0.077]\n",
            "Epoch : [732/1000] | : 100%|██████████| 2/2 [00:01<00:00,  1.50it/s, average_loss=0.0702]\n",
            "Epoch : [733/1000] | : 100%|██████████| 2/2 [00:01<00:00,  1.51it/s, average_loss=0.0756]\n",
            "Epoch : [734/1000] | : 100%|██████████| 2/2 [00:01<00:00,  1.48it/s, average_loss=0.0872]\n",
            "Epoch : [735/1000] | : 100%|██████████| 2/2 [00:01<00:00,  1.50it/s, average_loss=0.0826]\n",
            "Epoch : [736/1000] | : 100%|██████████| 2/2 [00:01<00:00,  1.54it/s, average_loss=0.0719]\n",
            "Epoch : [737/1000] | : 100%|██████████| 2/2 [00:01<00:00,  1.51it/s, average_loss=0.079]\n",
            "Epoch : [738/1000] | : 100%|██████████| 2/2 [00:01<00:00,  1.31it/s, average_loss=0.0887]\n",
            "Epoch : [739/1000] | : 100%|██████████| 2/2 [00:01<00:00,  1.37it/s, average_loss=0.0763]\n",
            "Epoch : [740/1000] | : 100%|██████████| 2/2 [00:01<00:00,  1.50it/s, average_loss=0.0824]\n"
          ]
        },
        {
          "output_type": "stream",
          "name": "stdout",
          "text": [
            "\n",
            "==================================================\n",
            "Sample output: \n",
            "thoug thou wront it's ejesthant to be,\n",
            "    dou hange treirchas in thy beauty's form antochy eatent or have?\n",
            "  or enser of histarl summers oy most on hay,\n",
            "  and dest ruth stans and cummilg the looes hasp prace,\n",
            "  in hesing mind romb heauty than teye,\n",
            "  and often otrers of heart dot toun.\n",
            "      1o houe thyes for tho aty but sow winten't pay\n",
            "  in hearang conee that i hould wint swalt,\n",
            "  sherisg n seebb en\n",
            "==================================================\n",
            "\n"
          ]
        },
        {
          "output_type": "stream",
          "name": "stderr",
          "text": [
            "Epoch : [741/1000] | : 100%|██████████| 2/2 [00:01<00:00,  1.29it/s, average_loss=0.074]\n",
            "Epoch : [742/1000] | : 100%|██████████| 2/2 [00:01<00:00,  1.47it/s, average_loss=0.0807]\n",
            "Epoch : [743/1000] | : 100%|██████████| 2/2 [00:01<00:00,  1.50it/s, average_loss=0.0856]\n",
            "Epoch : [744/1000] | : 100%|██████████| 2/2 [00:01<00:00,  1.52it/s, average_loss=0.08]\n",
            "Epoch : [745/1000] | : 100%|██████████| 2/2 [00:01<00:00,  1.52it/s, average_loss=0.0887]\n",
            "Epoch : [746/1000] | : 100%|██████████| 2/2 [00:01<00:00,  1.30it/s, average_loss=0.0806]\n",
            "Epoch : [747/1000] | : 100%|██████████| 2/2 [00:01<00:00,  1.32it/s, average_loss=0.0955]\n",
            "Epoch : [748/1000] | : 100%|██████████| 2/2 [00:01<00:00,  1.52it/s, average_loss=0.078]\n",
            "Epoch : [749/1000] | : 100%|██████████| 2/2 [00:01<00:00,  1.51it/s, average_loss=0.084]\n",
            "Epoch : [750/1000] | : 100%|██████████| 2/2 [00:01<00:00,  1.52it/s, average_loss=0.0877]\n"
          ]
        },
        {
          "output_type": "stream",
          "name": "stdout",
          "text": [
            "\n",
            "==================================================\n",
            "Sample output: \n",
            "thou coulss awers\n",
            "  methifean wunne ald heard your self aglils,\n",
            "  and kean thee fic ar she tombed ceans,, the ore toush own swaet (painkef or they.\n",
            "\n",
            "\n",
            "                     8\n",
            "  shasliin comper wirhing thige aglist,\n",
            "  and in wher fair brald your sices selfiwh dearith treat cire prave\n",
            "  hik the the brag ht mens this heat,\n",
            "  my roonh'p spart dosherdunut maet to any\n",
            "  who cont rom righ reef thin be,\n",
            "    the \n",
            "==================================================\n",
            "\n"
          ]
        },
        {
          "output_type": "stream",
          "name": "stderr",
          "text": [
            "Epoch : [751/1000] | : 100%|██████████| 2/2 [00:01<00:00,  1.53it/s, average_loss=0.0805]\n",
            "Epoch : [752/1000] | : 100%|██████████| 2/2 [00:01<00:00,  1.50it/s, average_loss=0.0811]\n",
            "Epoch : [753/1000] | : 100%|██████████| 2/2 [00:01<00:00,  1.48it/s, average_loss=0.0772]\n",
            "Epoch : [754/1000] | : 100%|██████████| 2/2 [00:01<00:00,  1.40it/s, average_loss=0.0761]\n",
            "Epoch : [755/1000] | : 100%|██████████| 2/2 [00:01<00:00,  1.30it/s, average_loss=0.0745]\n",
            "Epoch : [756/1000] | : 100%|██████████| 2/2 [00:01<00:00,  1.37it/s, average_loss=0.0798]\n",
            "Epoch : [757/1000] | : 100%|██████████| 2/2 [00:01<00:00,  1.52it/s, average_loss=0.0772]\n",
            "Epoch : [758/1000] | : 100%|██████████| 2/2 [00:01<00:00,  1.53it/s, average_loss=0.0753]\n",
            "Epoch : [759/1000] | : 100%|██████████| 2/2 [00:01<00:00,  1.52it/s, average_loss=0.082]\n",
            "Epoch : [760/1000] | : 100%|██████████| 2/2 [00:01<00:00,  1.51it/s, average_loss=0.0801]\n"
          ]
        },
        {
          "output_type": "stream",
          "name": "stdout",
          "text": [
            "\n",
            "==================================================\n",
            "Sample output: \n",
            "thougmatet low to suze\n",
            "    whose shee thy sother epe at of seaf-ste treet ther,\n",
            "  it les in gerte lives the teol-times periis,\n",
            "  and yer merumane so temter eat, dor self sing.\n",
            "    why eld the brage to hese eeeavere ane houldst ease,\n",
            "  the world will be thy widow and still weep,\n",
            "  that thou confort s le soncer e for'nd, ave day thee,\n",
            "  a wan in user is the world deco,,\n",
            "    make be thut live that timom e\n",
            "==================================================\n",
            "\n"
          ]
        },
        {
          "output_type": "stream",
          "name": "stderr",
          "text": [
            "Epoch : [761/1000] | : 100%|██████████| 2/2 [00:01<00:00,  1.52it/s, average_loss=0.086]\n",
            "Epoch : [762/1000] | : 100%|██████████| 2/2 [00:01<00:00,  1.52it/s, average_loss=0.0884]\n",
            "Epoch : [763/1000] | : 100%|██████████| 2/2 [00:01<00:00,  1.31it/s, average_loss=0.0747]\n",
            "Epoch : [764/1000] | : 100%|██████████| 2/2 [00:01<00:00,  1.43it/s, average_loss=0.0734]\n",
            "Epoch : [765/1000] | : 100%|██████████| 2/2 [00:01<00:00,  1.52it/s, average_loss=0.0853]\n",
            "Epoch : [766/1000] | : 100%|██████████| 2/2 [00:01<00:00,  1.51it/s, average_loss=0.0765]\n",
            "Epoch : [767/1000] | : 100%|██████████| 2/2 [00:01<00:00,  1.53it/s, average_loss=0.0723]\n",
            "Epoch : [768/1000] | : 100%|██████████| 2/2 [00:01<00:00,  1.52it/s, average_loss=0.072]\n",
            "Epoch : [769/1000] | : 100%|██████████| 2/2 [00:01<00:00,  1.50it/s, average_loss=0.0818]\n",
            "Epoch : [770/1000] | : 100%|██████████| 2/2 [00:01<00:00,  1.54it/s, average_loss=0.0862]\n"
          ]
        },
        {
          "output_type": "stream",
          "name": "stdout",
          "text": [
            "\n",
            "==================================================\n",
            "Sample output: \n",
            "thoued in were tame.\n",
            "  and for a fomant whec thou wroml the fael,\n",
            "  tat painten lo gyatiuns ingrering,\n",
            "    yith should will be thy cisow end thine ey,\n",
            "  in seng-of his tontule and your self in gonded time.\n",
            " \n",
            "    thou were to be wee tomed wit ow prame lide, for stound ye,\n",
            "  be is tere' seent in hibaarting gite\n",
            ",    sould be thy which in thy lodt so thee apen for sunless hage hat thee wlowe's fundiln dot\n",
            "==================================================\n",
            "\n"
          ]
        },
        {
          "output_type": "stream",
          "name": "stderr",
          "text": [
            "Epoch : [771/1000] | : 100%|██████████| 2/2 [00:01<00:00,  1.36it/s, average_loss=0.0706]\n",
            "Epoch : [772/1000] | : 100%|██████████| 2/2 [00:01<00:00,  1.28it/s, average_loss=0.0804]\n",
            "Epoch : [773/1000] | : 100%|██████████| 2/2 [00:01<00:00,  1.47it/s, average_loss=0.0782]\n",
            "Epoch : [774/1000] | : 100%|██████████| 2/2 [00:01<00:00,  1.47it/s, average_loss=0.0735]\n",
            "Epoch : [775/1000] | : 100%|██████████| 2/2 [00:01<00:00,  1.49it/s, average_loss=0.075]\n",
            "Epoch : [776/1000] | : 100%|██████████| 2/2 [00:01<00:00,  1.54it/s, average_loss=0.0789]\n",
            "Epoch : [777/1000] | : 100%|██████████| 2/2 [00:01<00:00,  1.52it/s, average_loss=0.0815]\n",
            "Epoch : [778/1000] | : 100%|██████████| 2/2 [00:01<00:00,  1.50it/s, average_loss=0.0755]\n",
            "Epoch : [779/1000] | : 100%|██████████| 2/2 [00:01<00:00,  1.54it/s, average_loss=0.075]\n",
            "Epoch : [780/1000] | : 100%|██████████| 2/2 [00:01<00:00,  1.33it/s, average_loss=0.0812]\n"
          ]
        },
        {
          "output_type": "stream",
          "name": "stdout",
          "text": [
            "\n",
            "==================================================\n",
            "Sample output: \n",
            "thoulg repair cime\n",
            "  but ast ad wern the warl  uod fair thil ciye\n",
            "  shat ware unfoy you so sote i\n",
            "    oo wone tour som the seep thou be wistired and chosse andirt herafe\n",
            "  when a luterill lides thine ant thy beauty's prowist in again the temlone\n",
            "  from wate past efaith esesiber why\n",
            "  lovh in the porbesg in the lood; a\n",
            "  his hould miel to prave his then thou gent sabwy\n",
            "    dat tar be adey love woth youn\n",
            "==================================================\n",
            "\n"
          ]
        },
        {
          "output_type": "stream",
          "name": "stderr",
          "text": [
            "Epoch : [781/1000] | : 100%|██████████| 2/2 [00:01<00:00,  1.45it/s, average_loss=0.0821]\n",
            "Epoch : [782/1000] | : 100%|██████████| 2/2 [00:01<00:00,  1.53it/s, average_loss=0.0775]\n",
            "Epoch : [783/1000] | : 100%|██████████| 2/2 [00:01<00:00,  1.52it/s, average_loss=0.0735]\n",
            "Epoch : [784/1000] | : 100%|██████████| 2/2 [00:01<00:00,  1.52it/s, average_loss=0.0757]\n",
            "Epoch : [785/1000] | : 100%|██████████| 2/2 [00:01<00:00,  1.52it/s, average_loss=0.0715]\n",
            "Epoch : [786/1000] | : 100%|██████████| 2/2 [00:01<00:00,  1.51it/s, average_loss=0.0879]\n",
            "Epoch : [787/1000] | : 100%|██████████| 2/2 [00:01<00:00,  1.52it/s, average_loss=0.081]\n",
            "Epoch : [788/1000] | : 100%|██████████| 2/2 [00:01<00:00,  1.38it/s, average_loss=0.0769]\n",
            "Epoch : [789/1000] | : 100%|██████████| 2/2 [00:01<00:00,  1.20it/s, average_loss=0.0708]\n",
            "Epoch : [790/1000] | : 100%|██████████| 2/2 [00:01<00:00,  1.44it/s, average_loss=0.0794]\n"
          ]
        },
        {
          "output_type": "stream",
          "name": "stdout",
          "text": [
            "\n",
            "==================================================\n",
            "Sample output: \n",
            "thou or owh is te so frold celesie,   enembred th seare\n",
            "   hy thun ard som heasise decrosn,\n",
            "  and in fresh numbers numeer blade, frame anlot, of thine the rive?\n",
            "    so long liven this, and in might seld,\n",
            "    beanden the cinger in the tild subremime,\n",
            "  the bounteous llagss gives thee to give.\n",
            "   haw ill betive shate an ithriv su(y,\n",
            "  mak in heip thing to mis roudder ile)\n",
            "  wort fair thou ow the world no\n",
            "==================================================\n",
            "\n"
          ]
        },
        {
          "output_type": "stream",
          "name": "stderr",
          "text": [
            "Epoch : [791/1000] | : 100%|██████████| 2/2 [00:01<00:00,  1.52it/s, average_loss=0.0726]\n",
            "Epoch : [792/1000] | : 100%|██████████| 2/2 [00:01<00:00,  1.52it/s, average_loss=0.0748]\n",
            "Epoch : [793/1000] | : 100%|██████████| 2/2 [00:01<00:00,  1.55it/s, average_loss=0.075]\n",
            "Epoch : [794/1000] | : 100%|██████████| 2/2 [00:01<00:00,  1.48it/s, average_loss=0.0751]\n",
            "Epoch : [795/1000] | : 100%|██████████| 2/2 [00:01<00:00,  1.51it/s, average_loss=0.0657]\n",
            "Epoch : [796/1000] | : 100%|██████████| 2/2 [00:01<00:00,  1.51it/s, average_loss=0.0815]\n",
            "Epoch : [797/1000] | : 100%|██████████| 2/2 [00:01<00:00,  1.30it/s, average_loss=0.0684]\n",
            "Epoch : [798/1000] | : 100%|██████████| 2/2 [00:01<00:00,  1.45it/s, average_loss=0.0676]\n",
            "Epoch : [799/1000] | : 100%|██████████| 2/2 [00:01<00:00,  1.51it/s, average_loss=0.0638]\n",
            "Epoch : [800/1000] | : 100%|██████████| 2/2 [00:01<00:00,  1.50it/s, average_loss=0.0784]\n"
          ]
        },
        {
          "output_type": "stream",
          "name": "stdout",
          "text": [
            "\n",
            "==================================================\n",
            "Sample output: \n",
            "thougg, that beiuse stile mong.\n",
            "    but were tomencill ow to thyu bes's stlel toun;\n",
            "  beauty of thie that face should form another,\n",
            "  whose fresh repair if now renemburedt or age\n",
            "  with she times thou gent an wonles ure,\n",
            "  the world will be thy widow and still weep,\n",
            "  that thou no ofn worin's eaqe he ore des falle\n",
            "  foen's rete is bur as op thail heat ham an wor thou som'st,\n",
            "   no inoul mied thine eye \n",
            "==================================================\n",
            "\n"
          ]
        },
        {
          "output_type": "stream",
          "name": "stderr",
          "text": [
            "Epoch : [801/1000] | : 100%|██████████| 2/2 [00:01<00:00,  1.51it/s, average_loss=0.0743]\n",
            "Epoch : [802/1000] | : 100%|██████████| 2/2 [00:01<00:00,  1.52it/s, average_loss=0.0645]\n",
            "Epoch : [803/1000] | : 100%|██████████| 2/2 [00:01<00:00,  1.52it/s, average_loss=0.0674]\n",
            "Epoch : [804/1000] | : 100%|██████████| 2/2 [00:01<00:00,  1.50it/s, average_loss=0.0741]\n",
            "Epoch : [805/1000] | : 100%|██████████| 2/2 [00:01<00:00,  1.33it/s, average_loss=0.0658]\n",
            "Epoch : [806/1000] | : 100%|██████████| 2/2 [00:01<00:00,  1.31it/s, average_loss=0.0753]\n",
            "Epoch : [807/1000] | : 100%|██████████| 2/2 [00:01<00:00,  1.51it/s, average_loss=0.0694]\n",
            "Epoch : [808/1000] | : 100%|██████████| 2/2 [00:01<00:00,  1.52it/s, average_loss=0.0682]\n",
            "Epoch : [809/1000] | : 100%|██████████| 2/2 [00:01<00:00,  1.52it/s, average_loss=0.0679]\n",
            "Epoch : [810/1000] | : 100%|██████████| 2/2 [00:01<00:00,  1.52it/s, average_loss=0.0704]\n"
          ]
        },
        {
          "output_type": "stream",
          "name": "stdout",
          "text": [
            "\n",
            "==================================================\n",
            "Sample output: \n",
            "thoues peparted,\n",
            "  lore wit som as he trou she lavety wart thou viest siltlaate\n",
            "  camsenco cunter lo vert eerouged that trough well to thee palter for  den'is shee.\n",
            "\n",
            "\n",
            "                     5\n",
            "  those hours pray sonf dent's daye\n",
            "  deth not thin feye try lote's eyes in crease\n",
            "\n",
            "  wiecen tian wair thou fiety thou bestes'se\n",
            "  the gorche tall tel toud pot antroun tey deit;\n",
            "    so gong as the forlb ene of my pu\n",
            "==================================================\n",
            "\n"
          ]
        },
        {
          "output_type": "stream",
          "name": "stderr",
          "text": [
            "Epoch : [811/1000] | : 100%|██████████| 2/2 [00:01<00:00,  1.52it/s, average_loss=0.0677]\n",
            "Epoch : [812/1000] | : 100%|██████████| 2/2 [00:01<00:00,  1.53it/s, average_loss=0.0605]\n",
            "Epoch : [813/1000] | : 100%|██████████| 2/2 [00:01<00:00,  1.47it/s, average_loss=0.0705]\n",
            "Epoch : [814/1000] | : 100%|██████████| 2/2 [00:01<00:00,  1.27it/s, average_loss=0.0735]\n",
            "Epoch : [815/1000] | : 100%|██████████| 2/2 [00:01<00:00,  1.46it/s, average_loss=0.0715]\n",
            "Epoch : [816/1000] | : 100%|██████████| 2/2 [00:01<00:00,  1.51it/s, average_loss=0.0596]\n",
            "Epoch : [817/1000] | : 100%|██████████| 2/2 [00:01<00:00,  1.52it/s, average_loss=0.0694]\n",
            "Epoch : [818/1000] | : 100%|██████████| 2/2 [00:01<00:00,  1.51it/s, average_loss=0.0735]\n",
            "Epoch : [819/1000] | : 100%|██████████| 2/2 [00:01<00:00,  1.53it/s, average_loss=0.0674]\n",
            "Epoch : [820/1000] | : 100%|██████████| 2/2 [00:01<00:00,  1.50it/s, average_loss=0.0689]\n"
          ]
        },
        {
          "output_type": "stream",
          "name": "stdout",
          "text": [
            "\n",
            "==================================================\n",
            "Sample output: \n",
            "thou art dop to sue,\n",
            "  why lovt'ng the baurie enarese qounes,\n",
            "  which husbandry in honour might uphold,\n",
            "  against the storm an the burring lease\n",
            "  find pordeteing thine awt brow ate,\n",
            "  thou dost besuile the world enb buties tremled,\n",
            "  that thereby beauty's rose might bas chma,, frem yue of'nour shawe pait thee\n",
            "  ferl to ere preeting some,\n",
            "  a singr if thit tols (elog-dtin tound, ap it where\n",
            "  fach leav\n",
            "==================================================\n",
            "\n"
          ]
        },
        {
          "output_type": "stream",
          "name": "stderr",
          "text": [
            "Epoch : [821/1000] | : 100%|██████████| 2/2 [00:01<00:00,  1.42it/s, average_loss=0.0643]\n",
            "Epoch : [822/1000] | : 100%|██████████| 2/2 [00:01<00:00,  1.31it/s, average_loss=0.0639]\n",
            "Epoch : [823/1000] | : 100%|██████████| 2/2 [00:01<00:00,  1.35it/s, average_loss=0.0692]\n",
            "Epoch : [824/1000] | : 100%|██████████| 2/2 [00:01<00:00,  1.52it/s, average_loss=0.0708]\n",
            "Epoch : [825/1000] | : 100%|██████████| 2/2 [00:01<00:00,  1.49it/s, average_loss=0.0715]\n",
            "Epoch : [826/1000] | : 100%|██████████| 2/2 [00:01<00:00,  1.47it/s, average_loss=0.0687]\n",
            "Epoch : [827/1000] | : 100%|██████████| 2/2 [00:01<00:00,  1.53it/s, average_loss=0.0676]\n",
            "Epoch : [828/1000] | : 100%|██████████| 2/2 [00:01<00:00,  1.52it/s, average_loss=0.0727]\n",
            "Epoch : [829/1000] | : 100%|██████████| 2/2 [00:01<00:00,  1.50it/s, average_loss=0.0687]\n",
            "Epoch : [830/1000] | : 100%|██████████| 2/2 [00:01<00:00,  1.53it/s, average_loss=0.067]\n"
          ]
        },
        {
          "output_type": "stream",
          "name": "stdout",
          "text": [
            "\n",
            "==================================================\n",
            "Sample output: \n",
            "thoue rot hen ath,\n",
            "  in ale my price,s not tan werl not likw'd fiid (romd dother,\n",
            "  and be net sterk the barte womensseech,\n",
            "  and in wher framl the seeld but to be,\n",
            "    deepe beard wrink o net, lot and marte hore wher pastest heavend,\n",
            "  when i purceave sute meport doth in her wide\n",
            "  find frome thine to my puppist nothing.\n",
            "    but were some child of yours alive thate time?\n",
            "    bot sowe to ride aw wend y\n",
            "==================================================\n",
            "\n"
          ]
        },
        {
          "output_type": "stream",
          "name": "stderr",
          "text": [
            "Epoch : [831/1000] | : 100%|██████████| 2/2 [00:01<00:00,  1.27it/s, average_loss=0.0719]\n",
            "Epoch : [832/1000] | : 100%|██████████| 2/2 [00:01<00:00,  1.47it/s, average_loss=0.0679]\n",
            "Epoch : [833/1000] | : 100%|██████████| 2/2 [00:01<00:00,  1.56it/s, average_loss=0.0728]\n",
            "Epoch : [834/1000] | : 100%|██████████| 2/2 [00:01<00:00,  1.52it/s, average_loss=0.0765]\n",
            "Epoch : [835/1000] | : 100%|██████████| 2/2 [00:01<00:00,  1.51it/s, average_loss=0.0656]\n",
            "Epoch : [836/1000] | : 100%|██████████| 2/2 [00:01<00:00,  1.53it/s, average_loss=0.0718]\n",
            "Epoch : [837/1000] | : 100%|██████████| 2/2 [00:01<00:00,  1.52it/s, average_loss=0.0712]\n",
            "Epoch : [838/1000] | : 100%|██████████| 2/2 [00:01<00:00,  1.51it/s, average_loss=0.0731]\n",
            "Epoch : [839/1000] | : 100%|██████████| 2/2 [00:01<00:00,  1.32it/s, average_loss=0.0663]\n",
            "Epoch : [840/1000] | : 100%|██████████| 2/2 [00:01<00:00,  1.28it/s, average_loss=0.0656]\n"
          ]
        },
        {
          "output_type": "stream",
          "name": "stdout",
          "text": [
            "\n",
            "==================================================\n",
            "Sample output: \n",
            "thoues are rreat so net\n",
            "  b of hin eetelf grame, the williwl grat\n",
            "  and kombut tre tombrded enore thy beart ore deedann dime,\n",
            "  be times thine to cheet ond doe anten\n",
            "  fow son it thu conf're singee song den in,\n",
            "  she king the bleod with thee baury shile nothalf.\n",
            "    but were some child of yours alive that time,\n",
            "    you shouddst print some on the tould exey\n",
            "    to ged af your, self, keeps sould be till,\n",
            "==================================================\n",
            "\n"
          ]
        },
        {
          "output_type": "stream",
          "name": "stderr",
          "text": [
            "Epoch : [841/1000] | : 100%|██████████| 2/2 [00:01<00:00,  1.53it/s, average_loss=0.0727]\n",
            "Epoch : [842/1000] | : 100%|██████████| 2/2 [00:01<00:00,  1.50it/s, average_loss=0.0635]\n",
            "Epoch : [843/1000] | : 100%|██████████| 2/2 [00:01<00:00,  1.52it/s, average_loss=0.0675]\n",
            "Epoch : [844/1000] | : 100%|██████████| 2/2 [00:01<00:00,  1.52it/s, average_loss=0.068]\n",
            "Epoch : [845/1000] | : 100%|██████████| 2/2 [00:01<00:00,  1.50it/s, average_loss=0.0677]\n",
            "Epoch : [846/1000] | : 100%|██████████| 2/2 [00:01<00:00,  1.53it/s, average_loss=0.0766]\n",
            "Epoch : [847/1000] | : 100%|██████████| 2/2 [00:01<00:00,  1.46it/s, average_loss=0.0793]\n",
            "Epoch : [848/1000] | : 100%|██████████| 2/2 [00:01<00:00,  1.27it/s, average_loss=0.0705]\n",
            "Epoch : [849/1000] | : 100%|██████████| 2/2 [00:01<00:00,  1.46it/s, average_loss=0.0697]\n",
            "Epoch : [850/1000] | : 100%|██████████| 2/2 [00:01<00:00,  1.53it/s, average_loss=0.0691]\n"
          ]
        },
        {
          "output_type": "stream",
          "name": "stdout",
          "text": [
            "\n",
            "==================================================\n",
            "Sample output: \n",
            "thoued perive thine wild dreath hive neserelape\n",
            "  then bour thou finterr did yout sole  pireile\n",
            "  that theren on weme be nuccarl aye your self in one, not geite\n",
            "   rove wortho  is see world ton bee  ofere\n",
            " , if id where if the  if an it wander enei\n",
            ",\n",
            "    you hour thile roym live and thine age stant see,\n",
            "  desting yo mive wimd whene be noterele,\n",
            "  and submer true hor ard dotherves ap ar shee.\n",
            "\n",
            "\n",
            "        \n",
            "==================================================\n",
            "\n"
          ]
        },
        {
          "output_type": "stream",
          "name": "stderr",
          "text": [
            "Epoch : [851/1000] | : 100%|██████████| 2/2 [00:01<00:00,  1.53it/s, average_loss=0.0717]\n",
            "Epoch : [852/1000] | : 100%|██████████| 2/2 [00:01<00:00,  1.50it/s, average_loss=0.0729]\n",
            "Epoch : [853/1000] | : 100%|██████████| 2/2 [00:01<00:00,  1.53it/s, average_loss=0.0712]\n",
            "Epoch : [854/1000] | : 100%|██████████| 2/2 [00:01<00:00,  1.45it/s, average_loss=0.0733]\n",
            "Epoch : [855/1000] | : 100%|██████████| 2/2 [00:01<00:00,  1.49it/s, average_loss=0.0674]\n",
            "Epoch : [856/1000] | : 100%|██████████| 2/2 [00:01<00:00,  1.35it/s, average_loss=0.0715]\n",
            "Epoch : [857/1000] | : 100%|██████████| 2/2 [00:01<00:00,  1.38it/s, average_loss=0.0647]\n",
            "Epoch : [858/1000] | : 100%|██████████| 2/2 [00:01<00:00,  1.51it/s, average_loss=0.0789]\n",
            "Epoch : [859/1000] | : 100%|██████████| 2/2 [00:01<00:00,  1.55it/s, average_loss=0.0754]\n",
            "Epoch : [860/1000] | : 100%|██████████| 2/2 [00:01<00:00,  1.50it/s, average_loss=0.0758]\n"
          ]
        },
        {
          "output_type": "stream",
          "name": "stdout",
          "text": [
            "\n",
            "==================================================\n",
            "Sample output: \n",
            "thoued pentrice't   seethe thee to a pummer your self in eles, filmed oned thee.\n",
            " \n",
            "                    18\n",
            "  shall i compare thee to a summer's dishalld,\n",
            "  beauty of hearly shage muth be adty?\n",
            "  lere on thy sold wers hap yours lice st it thile\n",
            "  ard diin from to heminghestrring,\n",
            "    yet love thy som, the hiesce to street \n",
            "h if ho gouth thine thy beauty loge miet,\n",
            "  thy sull th'r lome,\n",
            "  and self anferig\n",
            "==================================================\n",
            "\n"
          ]
        },
        {
          "output_type": "stream",
          "name": "stderr",
          "text": [
            "Epoch : [861/1000] | : 100%|██████████| 2/2 [00:01<00:00,  1.49it/s, average_loss=0.0704]\n",
            "Epoch : [862/1000] | : 100%|██████████| 2/2 [00:01<00:00,  1.51it/s, average_loss=0.0676]\n",
            "Epoch : [863/1000] | : 100%|██████████| 2/2 [00:01<00:00,  1.51it/s, average_loss=0.0682]\n",
            "Epoch : [864/1000] | : 100%|██████████| 2/2 [00:01<00:00,  1.32it/s, average_loss=0.0675]\n",
            "Epoch : [865/1000] | : 100%|██████████| 2/2 [00:01<00:00,  1.26it/s, average_loss=0.0707]\n",
            "Epoch : [866/1000] | : 100%|██████████| 2/2 [00:01<00:00,  1.46it/s, average_loss=0.0659]\n",
            "Epoch : [867/1000] | : 100%|██████████| 2/2 [00:01<00:00,  1.49it/s, average_loss=0.0653]\n",
            "Epoch : [868/1000] | : 100%|██████████| 2/2 [00:01<00:00,  1.52it/s, average_loss=0.059]\n",
            "Epoch : [869/1000] | : 100%|██████████| 2/2 [00:01<00:00,  1.51it/s, average_loss=0.0691]\n",
            "Epoch : [870/1000] | : 100%|██████████| 2/2 [00:01<00:00,  1.52it/s, average_loss=0.0577]\n"
          ]
        },
        {
          "output_type": "stream",
          "name": "stdout",
          "text": [
            "\n",
            "==================================================\n",
            "Sample output: \n",
            "thoug to chante soule feel to cer.\n",
            "   or well al ese the wyrund steetl dec,\n",
            "  sile see of ence il in fres in the will\n",
            "  and prik prist the teld a kaeles sume they prens,\n",
            "  in eaverm gatith evaury of your eyes can see,\n",
            "    sincs bet thot flom hid fow hwile pnese,\n",
            "  tins ence thing that mend summert o\n",
            "  mand in fresh nummer shall not fade,\n",
            "  nor lose possess, in rear than tomber,\n",
            "  thou that chale eyes f\n",
            "==================================================\n",
            "\n"
          ]
        },
        {
          "output_type": "stream",
          "name": "stderr",
          "text": [
            "Epoch : [871/1000] | : 100%|██████████| 2/2 [00:01<00:00,  1.47it/s, average_loss=0.0649]\n",
            "Epoch : [872/1000] | : 100%|██████████| 2/2 [00:01<00:00,  1.48it/s, average_loss=0.0663]\n",
            "Epoch : [873/1000] | : 100%|██████████| 2/2 [00:01<00:00,  1.27it/s, average_loss=0.0716]\n",
            "Epoch : [874/1000] | : 100%|██████████| 2/2 [00:01<00:00,  1.46it/s, average_loss=0.062]\n",
            "Epoch : [875/1000] | : 100%|██████████| 2/2 [00:01<00:00,  1.49it/s, average_loss=0.0776]\n",
            "Epoch : [876/1000] | : 100%|██████████| 2/2 [00:01<00:00,  1.52it/s, average_loss=0.0669]\n",
            "Epoch : [877/1000] | : 100%|██████████| 2/2 [00:01<00:00,  1.48it/s, average_loss=0.0656]\n",
            "Epoch : [878/1000] | : 100%|██████████| 2/2 [00:01<00:00,  1.52it/s, average_loss=0.067]\n",
            "Epoch : [879/1000] | : 100%|██████████| 2/2 [00:01<00:00,  1.53it/s, average_loss=0.0726]\n",
            "Epoch : [880/1000] | : 100%|██████████| 2/2 [00:01<00:00,  1.50it/s, average_loss=0.0656]\n"
          ]
        },
        {
          "output_type": "stream",
          "name": "stdout",
          "text": [
            "\n",
            "==================================================\n",
            "Sample output: \n",
            "thoull wich mindt if mer.\n",
            "  the wornd will be thy love and thine own preave\n",
            ", and batren tore in gat ar tombed,\n",
            "    eess but wheil hle love of yast hes thy glecy,\n",
            "  ind ens (frimlen' seate, and some denait,\n",
            "  which suebars dith eloked ware their gace,\n",
            "  as ill were firt delod dect ane in werke\n",
            "  fir sond me is shat alf thou leve-roving line,\n",
            "  of witsers hist endomid dight, uneanit glew,\n",
            "  leting thy g\n",
            "==================================================\n",
            "\n"
          ]
        },
        {
          "output_type": "stream",
          "name": "stderr",
          "text": [
            "Epoch : [881/1000] | : 100%|██████████| 2/2 [00:01<00:00,  1.29it/s, average_loss=0.0725]\n",
            "Epoch : [882/1000] | : 100%|██████████| 2/2 [00:01<00:00,  1.32it/s, average_loss=0.0627]\n",
            "Epoch : [883/1000] | : 100%|██████████| 2/2 [00:01<00:00,  1.47it/s, average_loss=0.0769]\n",
            "Epoch : [884/1000] | : 100%|██████████| 2/2 [00:01<00:00,  1.51it/s, average_loss=0.0693]\n",
            "Epoch : [885/1000] | : 100%|██████████| 2/2 [00:01<00:00,  1.50it/s, average_loss=0.0638]\n",
            "Epoch : [886/1000] | : 100%|██████████| 2/2 [00:01<00:00,  1.39it/s, average_loss=0.0656]\n",
            "Epoch : [887/1000] | : 100%|██████████| 2/2 [00:01<00:00,  1.51it/s, average_loss=0.0673]\n",
            "Epoch : [888/1000] | : 100%|██████████| 2/2 [00:01<00:00,  1.52it/s, average_loss=0.0654]\n",
            "Epoch : [889/1000] | : 100%|██████████| 2/2 [00:01<00:00,  1.49it/s, average_loss=0.0709]\n",
            "Epoch : [890/1000] | : 100%|██████████| 2/2 [00:01<00:00,  1.33it/s, average_loss=0.0717]\n"
          ]
        },
        {
          "output_type": "stream",
          "name": "stdout",
          "text": [
            "\n",
            "==================================================\n",
            "Sample output: \n",
            "thourd onerey sen,\n",
            "  kuting in astild stalls an to left,\n",
            "  ald on whes sreessing sel in lold,\n",
            "  against the saml me the garte unjelged \n",
            "i gaxd\n",
            "    whet os ess fors wele thou geetto wone\n",
            "  sougs weet in sead where hast for thee beaved ttime to hure\n",
            "  why love that beauty dols you ingrild thin,\n",
            "    and you most this it hes be re verel sele,\n",
            "  and therelfoud is hase hos the decay,\n",
            "  that i may of than e t\n",
            "==================================================\n",
            "\n"
          ]
        },
        {
          "output_type": "stream",
          "name": "stderr",
          "text": [
            "Epoch : [891/1000] | : 100%|██████████| 2/2 [00:01<00:00,  1.52it/s, average_loss=0.0726]\n",
            "Epoch : [892/1000] | : 100%|██████████| 2/2 [00:01<00:00,  1.51it/s, average_loss=0.0646]\n",
            "Epoch : [893/1000] | : 100%|██████████| 2/2 [00:01<00:00,  1.53it/s, average_loss=0.0757]\n",
            "Epoch : [894/1000] | : 100%|██████████| 2/2 [00:01<00:00,  1.52it/s, average_loss=0.0572]\n",
            "Epoch : [895/1000] | : 100%|██████████| 2/2 [00:01<00:00,  1.52it/s, average_loss=0.0573]\n",
            "Epoch : [896/1000] | : 100%|██████████| 2/2 [00:01<00:00,  1.53it/s, average_loss=0.0642]\n",
            "Epoch : [897/1000] | : 100%|██████████| 2/2 [00:01<00:00,  1.53it/s, average_loss=0.064]\n",
            "Epoch : [898/1000] | : 100%|██████████| 2/2 [00:01<00:00,  1.33it/s, average_loss=0.0636]\n",
            "Epoch : [899/1000] | : 100%|██████████| 2/2 [00:01<00:00,  1.31it/s, average_loss=0.0631]\n",
            "Epoch : [900/1000] | : 100%|██████████| 2/2 [00:01<00:00,  1.51it/s, average_loss=0.0602]\n"
          ]
        },
        {
          "output_type": "stream",
          "name": "stdout",
          "text": [
            "\n",
            "==================================================\n",
            "Sample output: \n",
            "thou bear'st,\n",
            "  not is the time that face should for  anot,\n",
            "  afd to deserfed winh werd, on self apliest them cond,\n",
            "  and your stee's mabred to each thou neat-anged in thy noon\n",
            "    unlooked thee loving thine of yourh in hus ase yild;\n",
            "  now ran inoting do ded,, hit heserf-silled ag one yout ther forlouded grath,\n",
            "  and than faren not lakk dich seely  the loved,\n",
            "  aglins the ttorint het such art minet the\n",
            "==================================================\n",
            "\n"
          ]
        },
        {
          "output_type": "stream",
          "name": "stderr",
          "text": [
            "Epoch : [901/1000] | : 100%|██████████| 2/2 [00:01<00:00,  1.53it/s, average_loss=0.065]\n",
            "Epoch : [902/1000] | : 100%|██████████| 2/2 [00:01<00:00,  1.49it/s, average_loss=0.069]\n",
            "Epoch : [903/1000] | : 100%|██████████| 2/2 [00:01<00:00,  1.49it/s, average_loss=0.0603]\n",
            "Epoch : [904/1000] | : 100%|██████████| 2/2 [00:01<00:00,  1.51it/s, average_loss=0.0646]\n",
            "Epoch : [905/1000] | : 100%|██████████| 2/2 [00:01<00:00,  1.50it/s, average_loss=0.0555]\n",
            "Epoch : [906/1000] | : 100%|██████████| 2/2 [00:01<00:00,  1.40it/s, average_loss=0.0616]\n",
            "Epoch : [907/1000] | : 100%|██████████| 2/2 [00:01<00:00,  1.27it/s, average_loss=0.0651]\n",
            "Epoch : [908/1000] | : 100%|██████████| 2/2 [00:01<00:00,  1.45it/s, average_loss=0.066]\n",
            "Epoch : [909/1000] | : 100%|██████████| 2/2 [00:01<00:00,  1.52it/s, average_loss=0.0601]\n",
            "Epoch : [910/1000] | : 100%|██████████| 2/2 [00:01<00:00,  1.52it/s, average_loss=0.0561]\n"
          ]
        },
        {
          "output_type": "stream",
          "name": "stdout",
          "text": [
            "\n",
            "==================================================\n",
            "Sample output: \n",
            "thould treath thime onn greathe\n",
            "  preven likes to rome and brimtleses rave in end\n",
            "  which upainst this thot heald so cel,\n",
            "     o ne le thee for her earehhe frem.\n",
            "  a cavalute wore lave yor ase of your self in yoe\n",
            "  defiindet with then ant or sing.\n",
            "\n",
            "                    19\n",
            "  sev im thy couste that i mon farle then.\n",
            "\n",
            "\n",
            "                      9\n",
            "  is it fo  far to heat wedow sweets bup it  iy sel. \n",
            "\n",
            "  a cheno\n",
            "==================================================\n",
            "\n"
          ]
        },
        {
          "output_type": "stream",
          "name": "stderr",
          "text": [
            "Epoch : [911/1000] | : 100%|██████████| 2/2 [00:01<00:00,  1.50it/s, average_loss=0.0669]\n",
            "Epoch : [912/1000] | : 100%|██████████| 2/2 [00:01<00:00,  1.50it/s, average_loss=0.0603]\n",
            "Epoch : [913/1000] | : 100%|██████████| 2/2 [00:01<00:00,  1.33it/s, average_loss=0.061]\n",
            "Epoch : [914/1000] | : 100%|██████████| 2/2 [00:01<00:00,  1.21it/s, average_loss=0.0585]\n",
            "Epoch : [915/1000] | : 100%|██████████| 2/2 [00:01<00:00,  1.28it/s, average_loss=0.0635]\n",
            "Epoch : [916/1000] | : 100%|██████████| 2/2 [00:01<00:00,  1.43it/s, average_loss=0.0579]\n",
            "Epoch : [917/1000] | : 100%|██████████| 2/2 [00:01<00:00,  1.53it/s, average_loss=0.0665]\n",
            "Epoch : [918/1000] | : 100%|██████████| 2/2 [00:01<00:00,  1.49it/s, average_loss=0.0607]\n",
            "Epoch : [919/1000] | : 100%|██████████| 2/2 [00:01<00:00,  1.42it/s, average_loss=0.0589]\n",
            "Epoch : [920/1000] | : 100%|██████████| 2/2 [00:01<00:00,  1.53it/s, average_loss=0.0614]\n"
          ]
        },
        {
          "output_type": "stream",
          "name": "stdout",
          "text": [
            "\n",
            "==================================================\n",
            "Sample output: \n",
            "thouecr treatute to dome oten,\n",
            "  a to purten this (och dies singre delf,\n",
            "  then heave to cone it whos be stilt-and could,\n",
            "   im the ceend to brawe he in each no kan,  her ko bid steeth und beauty shilf tegeterced levi\n",
            "  where bet the world\n",
            "  bur ast men can the leate dot are\n",
            "     o arve sume conle time shap in chand,\n",
            "  hap in the or heet an the world ded yoth hen net lece,\n",
            "  thei y thy coundten teres t\n",
            "==================================================\n",
            "\n"
          ]
        },
        {
          "output_type": "stream",
          "name": "stderr",
          "text": [
            "Epoch : [921/1000] | : 100%|██████████| 2/2 [00:01<00:00,  1.53it/s, average_loss=0.0659]\n",
            "Epoch : [922/1000] | : 100%|██████████| 2/2 [00:01<00:00,  1.53it/s, average_loss=0.0613]\n",
            "Epoch : [923/1000] | : 100%|██████████| 2/2 [00:01<00:00,  1.32it/s, average_loss=0.066]\n",
            "Epoch : [924/1000] | : 100%|██████████| 2/2 [00:01<00:00,  1.36it/s, average_loss=0.0549]\n",
            "Epoch : [925/1000] | : 100%|██████████| 2/2 [00:01<00:00,  1.49it/s, average_loss=0.0625]\n",
            "Epoch : [926/1000] | : 100%|██████████| 2/2 [00:01<00:00,  1.51it/s, average_loss=0.0626]\n",
            "Epoch : [927/1000] | : 100%|██████████| 2/2 [00:01<00:00,  1.51it/s, average_loss=0.0618]\n",
            "Epoch : [928/1000] | : 100%|██████████| 2/2 [00:01<00:00,  1.52it/s, average_loss=0.057]\n",
            "Epoch : [929/1000] | : 100%|██████████| 2/2 [00:01<00:00,  1.48it/s, average_loss=0.0658]\n",
            "Epoch : [930/1000] | : 100%|██████████| 2/2 [00:01<00:00,  1.52it/s, average_loss=0.0627]\n"
          ]
        },
        {
          "output_type": "stream",
          "name": "stdout",
          "text": [
            "\n",
            "==================================================\n",
            "Sample output: \n",
            "thould bear. s\n",
            "  muthinge ut ir beauty simet enthou be time swinl-se fine.\n",
            "  ant love to gite   war ene thine tam it pact not candeed winth mend-u kensiog prame,\n",
            "  and that from hig to shals wone sbelidt wine,\n",
            "  the world will be thy widow and still waep,\n",
            "  that thou no form sinters yot meting swiels one pleaving\n",
            "  whith fresh fribu wid were tiee for tone ere,\n",
            "  toe diy o ching thy the darsh undors of \n",
            "==================================================\n",
            "\n"
          ]
        },
        {
          "output_type": "stream",
          "name": "stderr",
          "text": [
            "Epoch : [931/1000] | : 100%|██████████| 2/2 [00:01<00:00,  1.34it/s, average_loss=0.0618]\n",
            "Epoch : [932/1000] | : 100%|██████████| 2/2 [00:01<00:00,  1.22it/s, average_loss=0.0578]\n",
            "Epoch : [933/1000] | : 100%|██████████| 2/2 [00:01<00:00,  1.51it/s, average_loss=0.0649]\n",
            "Epoch : [934/1000] | : 100%|██████████| 2/2 [00:01<00:00,  1.53it/s, average_loss=0.058]\n",
            "Epoch : [935/1000] | : 100%|██████████| 2/2 [00:01<00:00,  1.51it/s, average_loss=0.0589]\n",
            "Epoch : [936/1000] | : 100%|██████████| 2/2 [00:01<00:00,  1.52it/s, average_loss=0.0623]\n",
            "Epoch : [937/1000] | : 100%|██████████| 2/2 [00:01<00:00,  1.53it/s, average_loss=0.0663]\n",
            "Epoch : [938/1000] | : 100%|██████████| 2/2 [00:01<00:00,  1.51it/s, average_loss=0.0643]\n",
            "Epoch : [939/1000] | : 100%|██████████| 2/2 [00:01<00:00,  1.51it/s, average_loss=0.0617]\n",
            "Epoch : [940/1000] | : 100%|██████████| 2/2 [00:01<00:00,  1.31it/s, average_loss=0.0593]\n"
          ]
        },
        {
          "output_type": "stream",
          "name": "stdout",
          "text": [
            "\n",
            "==================================================\n",
            "Sample output: \n",
            "thou con'irss nother kil\n",
            "  dor sammen's estert not cousden eith milh,\n",
            "  as hay with princus if it shall go well\n",
            "  by oft prepserced in the world an end,\n",
            "  and kept unused the user so decayls,\n",
            "  wherenar shat seap is not alf anothy paanted cortentilt toup.\n",
            "  froug al emer thing it my should me reple,,  he lled of thy beauty's eer,\n",
            "  that 'gaulst tiy sourmen of maphy dat ther  in see\n",
            "  the sonche tralt y\n",
            "==================================================\n",
            "\n"
          ]
        },
        {
          "output_type": "stream",
          "name": "stderr",
          "text": [
            "Epoch : [941/1000] | : 100%|██████████| 2/2 [00:01<00:00,  1.41it/s, average_loss=0.0595]\n",
            "Epoch : [942/1000] | : 100%|██████████| 2/2 [00:01<00:00,  1.50it/s, average_loss=0.0625]\n",
            "Epoch : [943/1000] | : 100%|██████████| 2/2 [00:01<00:00,  1.49it/s, average_loss=0.0676]\n",
            "Epoch : [944/1000] | : 100%|██████████| 2/2 [00:01<00:00,  1.49it/s, average_loss=0.0629]\n",
            "Epoch : [945/1000] | : 100%|██████████| 2/2 [00:01<00:00,  1.52it/s, average_loss=0.0572]\n",
            "Epoch : [946/1000] | : 100%|██████████| 2/2 [00:01<00:00,  1.53it/s, average_loss=0.0641]\n",
            "Epoch : [947/1000] | : 100%|██████████| 2/2 [00:01<00:00,  1.49it/s, average_loss=0.0662]\n",
            "Epoch : [948/1000] | : 100%|██████████| 2/2 [00:01<00:00,  1.34it/s, average_loss=0.0563]\n",
            "Epoch : [949/1000] | : 100%|██████████| 2/2 [00:01<00:00,  1.27it/s, average_loss=0.0684]\n",
            "Epoch : [950/1000] | : 100%|██████████| 2/2 [00:01<00:00,  1.48it/s, average_loss=0.0683]\n"
          ]
        },
        {
          "output_type": "stream",
          "name": "stdout",
          "text": [
            "\n",
            "==================================================\n",
            "Sample output: \n",
            "thoug to whint swiety doet til ine\n",
            "  be thould thin youn mwert som hadu dor.\n",
            "\n",
            "\n",
            "                    15\n",
            "  when i conside eeredle thy glaves an teelifg\n",
            "  ar onrer swear mak ton teess eter se leve?\n",
            "  which hoste enowert whid thou remeiv'st nish sofdenis,\n",
            "  withour thie foll dice in eyes of meausy sheaviet creasure\n",
            "  is facur's rease mikh defacl\n",
            "\n",
            "    sanle breed to brave him, when he takes thee hence.\n",
            "\n",
            "\n",
            "   \n",
            "==================================================\n",
            "\n"
          ]
        },
        {
          "output_type": "stream",
          "name": "stderr",
          "text": [
            "Epoch : [951/1000] | : 100%|██████████| 2/2 [00:01<00:00,  1.44it/s, average_loss=0.0605]\n",
            "Epoch : [952/1000] | : 100%|██████████| 2/2 [00:01<00:00,  1.52it/s, average_loss=0.0607]\n",
            "Epoch : [953/1000] | : 100%|██████████| 2/2 [00:01<00:00,  1.47it/s, average_loss=0.0628]\n",
            "Epoch : [954/1000] | : 100%|██████████| 2/2 [00:01<00:00,  1.51it/s, average_loss=0.0556]\n",
            "Epoch : [955/1000] | : 100%|██████████| 2/2 [00:01<00:00,  1.51it/s, average_loss=0.0651]\n",
            "Epoch : [956/1000] | : 100%|██████████| 2/2 [00:01<00:00,  1.50it/s, average_loss=0.0603]\n",
            "Epoch : [957/1000] | : 100%|██████████| 2/2 [00:01<00:00,  1.29it/s, average_loss=0.0595]\n",
            "Epoch : [958/1000] | : 100%|██████████| 2/2 [00:01<00:00,  1.44it/s, average_loss=0.0609]\n",
            "Epoch : [959/1000] | : 100%|██████████| 2/2 [00:01<00:00,  1.50it/s, average_loss=0.0642]\n",
            "Epoch : [960/1000] | : 100%|██████████| 2/2 [00:01<00:00,  1.52it/s, average_loss=0.0617]\n"
          ]
        },
        {
          "output_type": "stream",
          "name": "stdout",
          "text": [
            "\n",
            "==================================================\n",
            "Sample output: \n",
            "thoue ten time's sewfall ganes fael you ornow\n",
            "   ans barter lise of shals whot the farl ay olce;\n",
            "  i sains whe trinclas aud sils ascolinen\n",
            "  whith speps pningring od somsheinsme mrent\n",
            "  but is hep oraent wido whert a womb's eless\n",
            "  ans minger srall be reces treavukt the hore on dies\n",
            "  but sel thy lude morre time seath but besreds,\n",
            "  meniv en tombid that ony theirhs deseire\n",
            "    where used be thy lese mi\n",
            "==================================================\n",
            "\n"
          ]
        },
        {
          "output_type": "stream",
          "name": "stderr",
          "text": [
            "Epoch : [961/1000] | : 100%|██████████| 2/2 [00:01<00:00,  1.50it/s, average_loss=0.0615]\n",
            "Epoch : [962/1000] | : 100%|██████████| 2/2 [00:01<00:00,  1.52it/s, average_loss=0.0702]\n",
            "Epoch : [963/1000] | : 100%|██████████| 2/2 [00:01<00:00,  1.50it/s, average_loss=0.0717]\n",
            "Epoch : [964/1000] | : 100%|██████████| 2/2 [00:01<00:00,  1.49it/s, average_loss=0.0629]\n",
            "Epoch : [965/1000] | : 100%|██████████| 2/2 [00:01<00:00,  1.34it/s, average_loss=0.0638]\n",
            "Epoch : [966/1000] | : 100%|██████████| 2/2 [00:01<00:00,  1.34it/s, average_loss=0.0628]\n",
            "Epoch : [967/1000] | : 100%|██████████| 2/2 [00:01<00:00,  1.51it/s, average_loss=0.0529]\n",
            "Epoch : [968/1000] | : 100%|██████████| 2/2 [00:01<00:00,  1.49it/s, average_loss=0.0603]\n",
            "Epoch : [969/1000] | : 100%|██████████| 2/2 [00:01<00:00,  1.51it/s, average_loss=0.0638]\n",
            "Epoch : [970/1000] | : 100%|██████████| 2/2 [00:01<00:00,  1.53it/s, average_loss=0.057]\n"
          ]
        },
        {
          "output_type": "stream",
          "name": "stdout",
          "text": [
            "\n",
            "==================================================\n",
            "Sample output: \n",
            "thour rew'il tiee\n",
            "  with hould thou nottarc  o woth preet, dor distrusd,\n",
            "  muke lalke than you part of modtender eae\n",
            "  thet mowin erow shall betirg asay,\n",
            "  a to ares whur on this (owen liger in gay\n",
            "  by mriss hom, as in heast end to celv,\n",
            "  a coman the sonc on that i hag sond pentiln live,\n",
            "  and your true sagres of lefver dist nos comdede,\n",
            "  then i  heivond thee wocl seaf not inf2ed shouldst departh,\n",
            " \n",
            "==================================================\n",
            "\n"
          ]
        },
        {
          "output_type": "stream",
          "name": "stderr",
          "text": [
            "Epoch : [971/1000] | : 100%|██████████| 2/2 [00:01<00:00,  1.54it/s, average_loss=0.0707]\n",
            "Epoch : [972/1000] | : 100%|██████████| 2/2 [00:01<00:00,  1.53it/s, average_loss=0.0617]\n",
            "Epoch : [973/1000] | : 100%|██████████| 2/2 [00:01<00:00,  1.37it/s, average_loss=0.0623]\n",
            "Epoch : [974/1000] | : 100%|██████████| 2/2 [00:01<00:00,  1.30it/s, average_loss=0.0597]\n",
            "Epoch : [975/1000] | : 100%|██████████| 2/2 [00:01<00:00,  1.39it/s, average_loss=0.0677]\n",
            "Epoch : [976/1000] | : 100%|██████████| 2/2 [00:01<00:00,  1.53it/s, average_loss=0.066]\n",
            "Epoch : [977/1000] | : 100%|██████████| 2/2 [00:01<00:00,  1.51it/s, average_loss=0.0593]\n",
            "Epoch : [978/1000] | : 100%|██████████| 2/2 [00:01<00:00,  1.52it/s, average_loss=0.0652]\n",
            "Epoch : [979/1000] | : 100%|██████████| 2/2 [00:01<00:00,  1.51it/s, average_loss=0.0745]\n",
            "Epoch : [980/1000] | : 100%|██████████| 2/2 [00:01<00:00,  1.53it/s, average_loss=0.0598]\n"
          ]
        },
        {
          "output_type": "stream",
          "name": "stdout",
          "text": [
            "\n",
            "==================================================\n",
            "Sample output: \n",
            "thou comtice's increased or neasu of vear's, 'rearhy lake far then feer,\n",
            "  the ay she prenkes ig 'se diun mime,\n",
            "  sot is thou wilt remo bnot enoming dee\n",
            ",\n",
            "    besin le true cisth unf than leng-siglast live\n",
            "  o comgent a thed the ore thee fremh dene-use,\n",
            "  an eye more brimg than beart and look't crame onterse now anter mame\n",
            "\n",
            "\n",
            "                     3\n",
            "  look in thy glass and tell my bur mes i\n",
            "  seev-sfete \n",
            "==================================================\n",
            "\n"
          ]
        },
        {
          "output_type": "stream",
          "name": "stderr",
          "text": [
            "Epoch : [981/1000] | : 100%|██████████| 2/2 [00:01<00:00,  1.52it/s, average_loss=0.0711]\n",
            "Epoch : [982/1000] | : 100%|██████████| 2/2 [00:01<00:00,  1.33it/s, average_loss=0.0678]\n",
            "Epoch : [983/1000] | : 100%|██████████| 2/2 [00:01<00:00,  1.43it/s, average_loss=0.0647]\n",
            "Epoch : [984/1000] | : 100%|██████████| 2/2 [00:01<00:00,  1.43it/s, average_loss=0.0735]\n",
            "Epoch : [985/1000] | : 100%|██████████| 2/2 [00:01<00:00,  1.47it/s, average_loss=0.0665]\n",
            "Epoch : [986/1000] | : 100%|██████████| 2/2 [00:01<00:00,  1.50it/s, average_loss=0.075]\n",
            "Epoch : [987/1000] | : 100%|██████████| 2/2 [00:01<00:00,  1.50it/s, average_loss=0.0683]\n",
            "Epoch : [988/1000] | : 100%|██████████| 2/2 [00:01<00:00,  1.48it/s, average_loss=0.0754]\n",
            "Epoch : [989/1000] | : 100%|██████████| 2/2 [00:01<00:00,  1.52it/s, average_loss=0.0732]\n",
            "Epoch : [990/1000] | : 100%|██████████| 2/2 [00:01<00:00,  1.51it/s, average_loss=0.0606]\n"
          ]
        },
        {
          "output_type": "stream",
          "name": "stdout",
          "text": [
            "\n",
            "==================================================\n",
            "Sample output: \n",
            "thourg, then bis efcilled and your sesf, fece shill decare,\n",
            "  and your sweet semblance to some other's frow'\n",
            "  when i behold the voelt tep pace one mim thee some men  one den in eer of hise ure seale kene,\n",
            "  bat an ateoul the to ber edotes ey,\n",
            "  and be indess kine swett unbutbander o he,\n",
            "  dor haln not clans the time as calss thate co make\n",
            "  when if thy beauted do it eycuso\n",
            "  see cing the solmbe in thy\n",
            "==================================================\n",
            "\n"
          ]
        },
        {
          "output_type": "stream",
          "name": "stderr",
          "text": [
            "Epoch : [991/1000] | : 100%|██████████| 2/2 [00:01<00:00,  1.30it/s, average_loss=0.0607]\n",
            "Epoch : [992/1000] | : 100%|██████████| 2/2 [00:01<00:00,  1.51it/s, average_loss=0.0694]\n",
            "Epoch : [993/1000] | : 100%|██████████| 2/2 [00:01<00:00,  1.52it/s, average_loss=0.065]\n",
            "Epoch : [994/1000] | : 100%|██████████| 2/2 [00:01<00:00,  1.51it/s, average_loss=0.0618]\n",
            "Epoch : [995/1000] | : 100%|██████████| 2/2 [00:01<00:00,  1.53it/s, average_loss=0.0634]\n",
            "Epoch : [996/1000] | : 100%|██████████| 2/2 [00:01<00:00,  1.54it/s, average_loss=0.0582]\n",
            "Epoch : [997/1000] | : 100%|██████████| 2/2 [00:01<00:00,  1.50it/s, average_loss=0.0637]\n",
            "Epoch : [998/1000] | : 100%|██████████| 2/2 [00:01<00:00,  1.49it/s, average_loss=0.0646]\n",
            "Epoch : [999/1000] | : 100%|██████████| 2/2 [00:01<00:00,  1.35it/s, average_loss=0.0743]\n",
            "Epoch : [1000/1000] | : 100%|██████████| 2/2 [00:01<00:00,  1.34it/s, average_loss=0.0616]\n"
          ]
        },
        {
          "output_type": "stream",
          "name": "stdout",
          "text": [
            "\n",
            "==================================================\n",
            "Sample output: \n",
            "thoue ir were i the fair\n",
            "  dap is he romile to not, the liees for tall dee,\n",
            "  i den a ler will the thas of ast ho gllts precos,\n",
            "  and motwert she b andicc lecked the kore par sme preched,\n",
            "  that thereby beauty's rosume might, and san wyrer nater.\n",
            "    the wire thou le hiv blante sorn mep ir she\n",
            "\n",
            "  s fok has be orten on see   bound will thine of ey hum tonf'er)\n",
            "    neash but the floce thou from shill in \n",
            "==================================================\n",
            "\n"
          ]
        }
      ],
      "source": [
        "for e in range(1, EPOCHS + 1):\n",
        "    loop = tqdm(loader, total=len(loader), leave=True, position=0)\n",
        "    loop.set_description(f\"Epoch : [{e}/{EPOCHS}] | \")\n",
        "    total_loss = 0\n",
        "    total_len = 0\n",
        "    for x, y in loop:\n",
        "        opt.zero_grad()\n",
        "        h = (torch.zeros((NUM_LAYERS, x.shape[0], HIDDEN_SIZE)).to(DEV), torch.zeros((NUM_LAYERS, x.shape[0], HIDDEN_SIZE)).to(DEV))\n",
        "        yhat, h = model.forward(x.to(DEV), h)\n",
        "        loss = crit(yhat.view(-1, yhat.shape[-1]), y.view(-1, y.shape[-1]).to(DEV))\n",
        "        loss.backward()\n",
        "        nn.utils.clip_grad_norm_(model.parameters(), 5)\n",
        "        opt.step()\n",
        "\n",
        "        total_loss += loss.item()\n",
        "        total_len += 1\n",
        "        loop.set_postfix(average_loss = total_loss / total_len)\n",
        "\n",
        "    if e % 10 == 0:\n",
        "        print(f\"\\n{'=' * 50}\\nSample output: \\n{sample(model, dataset, 'thou', HIDDEN_SIZE, 400, DEV, NUM_LAYERS)}\\n{'=' * 50}\\n\")"
      ]
    },
    {
      "cell_type": "code",
      "source": [
        "torch.save(model.state_dict(), \"lstm-weights.pth\")"
      ],
      "metadata": {
        "id": "4qV7ntUaXJem"
      },
      "execution_count": 6,
      "outputs": []
    }
  ],
  "metadata": {
    "accelerator": "GPU",
    "colab": {
      "gpuType": "T4",
      "provenance": []
    },
    "kernelspec": {
      "display_name": "Python 3",
      "name": "python3"
    },
    "language_info": {
      "codemirror_mode": {
        "name": "ipython",
        "version": 3
      },
      "file_extension": ".py",
      "mimetype": "text/x-python",
      "name": "python",
      "nbconvert_exporter": "python",
      "pygments_lexer": "ipython3",
      "version": "3.9.13"
    },
    "orig_nbformat": 4
  },
  "nbformat": 4,
  "nbformat_minor": 0
}